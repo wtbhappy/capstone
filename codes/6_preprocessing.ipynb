{
 "cells": [
  {
   "cell_type": "markdown",
   "metadata": {},
   "source": [
    "# Preprocessing\n",
    "\n",
    "\n",
    "- Remove remaining non-numeric features\n",
    "- Remove highly correlated features\n",
    "- Check for for Homoscedasticity, skewness and outliers\n",
    "- Model selection "
   ]
  },
  {
   "cell_type": "code",
   "execution_count": 57,
   "metadata": {},
   "outputs": [],
   "source": [
    "import pandas as pd\n",
    "import numpy as np\n",
    "import scipy.stats as sps\n",
    "from scipy.special import boxcox, inv_boxcox\n",
    "from scipy.stats import skew\n",
    "import seaborn as sns\n",
    "import time\n",
    "import datetime\n",
    "import matplotlib.pyplot as plt\n",
    "from statsmodels.stats.outliers_influence import variance_inflation_factor\n",
    "from sklearn.preprocessing import StandardScaler\n",
    "from sklearn.model_selection import train_test_split\n",
    "from sklearn.linear_model import LinearRegression\n",
    "from sklearn.metrics import mean_squared_error\n",
    "import statsmodels.formula.api as sm\n",
    "from sklearn.model_selection import cross_val_score\n",
    "from sklearn.model_selection import KFold\n",
    "from pycaret.regression import *"
   ]
  },
  {
   "cell_type": "code",
   "execution_count": 23,
   "metadata": {},
   "outputs": [],
   "source": [
    "# import HDB resale transaction records from 2015 to 2019 as training and validation dataset\n",
    "trainval_df = pd.read_csv(\"../datasets/combined/combined_2015_2019_featured.csv\")\n",
    "\n",
    "# import HDB resale transaction records from 2020 (up to May) as test dataset\n",
    "test_df = pd.read_csv(\"../datasets/combined/combined_2020_featured.csv\")"
   ]
  },
  {
   "cell_type": "markdown",
   "metadata": {},
   "source": [
    "### Consolidate Flat Models\n",
    "\n",
    "There are 24 flat models in the datasets. Most buyers find them confusing, and it will be difficulat for them to select the flat model when they use my web application to predict prices. \n",
    "\n",
    "For that reaon I will reduce number of models from 20 to 6, retaining only dbss, terrace, maisonette, apartment, model_type_s1 and model_type_s2. They are one-hot-coded and \"apartment\" is represented by all zeros. \n",
    "\n",
    "Buyers only need to consider the flat types (4 room, 5 room, etc) and 4 models, as advised by HDB at this link\n",
    "https://www.hdb.gov.sg/cs/infoweb/residential/buying-a-flat/new/types-of-flats"
   ]
  },
  {
   "cell_type": "code",
   "execution_count": 38,
   "metadata": {
    "scrolled": true
   },
   "outputs": [
    {
     "data": {
      "text/plain": [
       "Index(['sale_date', 'town', 'flat_type', 'storey_range', 'floor_area_sqm',\n",
       "       'flat_model', 'lease_commence_date', 'remaining_lease', 'resale_price',\n",
       "       'address', 'floor_range', 'bedok', 'bishan', 'bukit_batok',\n",
       "       'bukit_merah', 'bukit_panjang', 'bukit_timah', 'central_area',\n",
       "       'choa_chu_kang', 'clementi', 'geylang', 'hougang', 'jurong_east',\n",
       "       'jurong_west', 'kallang_whampoa', 'marine_parade', 'pasir_ris',\n",
       "       'punggol', 'queenstown', 'sembawang', 'sengkang', 'serangoon',\n",
       "       'tampines', 'toa_payoh', 'woodlands', 'yishun', 'model_adjoined_flat',\n",
       "       'model_apartment', 'model_dbss', 'model_improved',\n",
       "       'model_improved_maisonette', 'model_maisonette', 'model_model_a',\n",
       "       'model_model_a2', 'model_model_a_maisonette', 'model_multi_generation',\n",
       "       'model_new_generation', 'model_premium_apartment',\n",
       "       'model_premium_apartment_loft', 'model_premium_maisonette',\n",
       "       'model_simplified', 'model_standard', 'model_terrace', 'model_type_s1',\n",
       "       'model_type_s2', 'type_2_room', 'type_3_room', 'type_4_room',\n",
       "       'type_5_room', 'type_executive', 'type_multi_generation', 'lat', 'lng',\n",
       "       'cli', 'pmi', 'cpf_rate', 'cpi', 'gdp_growth', 'unemployed_rate',\n",
       "       'sibor_3m', 'married', 'mth_income', 'hdb_index', 'condo_index',\n",
       "       'pte_index', 'total_residents', 'new_flat_offered',\n",
       "       'new_pte_home_offered', 'dist_mrt', 'dist_mall', 'dist_market',\n",
       "       'dist_park', 'dist_attraction', 'dist_sport', 'dist_library',\n",
       "       'dist_school', 'dist_core'],\n",
       "      dtype='object')"
      ]
     },
     "execution_count": 38,
     "metadata": {},
     "output_type": "execute_result"
    }
   ],
   "source": [
    "test_df.columns"
   ]
  },
  {
   "cell_type": "code",
   "execution_count": 24,
   "metadata": {},
   "outputs": [],
   "source": [
    "# merge 4 maisonette columns into one and drop all othe columns for flat models\n",
    "\n",
    "for i in trainval_df[trainval_df['model_improved_maisonette']==1].index:\n",
    "    trainval_df.iloc[i,41]=1\n",
    "\n",
    "for i in trainval_df[trainval_df['model_model_a_maisonette']==1].index:\n",
    "    trainval_df.iloc[i,41]=1\n",
    "    \n",
    "for i in trainval_df[trainval_df['model_premium_maisonette']==1].index:\n",
    "    trainval_df.iloc[i,41]=1\n",
    "    \n",
    "for i in test_df[test_df['model_improved_maisonette']==1].index:\n",
    "    test_df.iloc[i,41]=1\n",
    "\n",
    "for i in test_df[test_df['model_model_a_maisonette']==1].index:\n",
    "    test_df.iloc[i,41]=1\n",
    "    \n",
    "for i in test_df[test_df['model_premium_maisonette']==1].index:\n",
    "    test_df.iloc[i,41]=1\n",
    "\n",
    "trainval_df.drop(columns=['model_adjoined_flat','model_apartment','model_improved','model_model_a',\n",
    "                         'model_model_a2','model_multi_generation','model_new_generation', \n",
    "                          'model_premium_apartment','model_premium_apartment_loft', \n",
    "                         'model_simplified', 'model_standard', \n",
    "                         'model_improved_maisonette','model_model_a_maisonette','model_premium_maisonette'\n",
    "                         ],inplace=True)\n",
    "\n",
    "\n",
    "test_df.drop(columns=['model_adjoined_flat','model_apartment','model_improved','model_model_a',\n",
    "                         'model_model_a2','model_multi_generation','model_new_generation', \n",
    "                          'model_premium_apartment','model_premium_apartment_loft', \n",
    "                         'model_simplified', 'model_standard', \n",
    "                         'model_improved_maisonette','model_model_a_maisonette','model_premium_maisonette'\n",
    "                         ],inplace=True)"
   ]
  },
  {
   "cell_type": "code",
   "execution_count": 25,
   "metadata": {},
   "outputs": [],
   "source": [
    "# drop non-numeric columns\n",
    "\n",
    "trainval_df.drop(columns=['town','address','sale_date','flat_type','flat_model','storey_range'],inplace=True)\n",
    "test_df.drop(columns=['town','address','sale_date','flat_type','flat_model','storey_range'],inplace=True)\n",
    "\n",
    "# Drop redundant columns\n",
    "\n",
    "# 1. lat and lng became redundant after distances from point of interest were added\n",
    "\n",
    "# 2. Both 'lease commence date' and 'remaining lease' tell us the age of the flat, but the latter is more relevant \n",
    "# because it reflects the change in value based on when the flat is purchased. For example if a flat was built in 1990\n",
    "# its 'lease commence date' remains the same regardless of whether it is sold in 2000 or 2010, but 'remaining lease'\n",
    "# will decrease over that period\n",
    "\n",
    "\n",
    "trainval_df.drop(columns=['lat','lng','lease_commence_date'],inplace=True)\n",
    "test_df.drop(columns=['lat','lng','lease_commence_date'],inplace=True)"
   ]
  },
  {
   "cell_type": "markdown",
   "metadata": {},
   "source": [
    "## Feature reduction - Remove towns"
   ]
  },
  {
   "cell_type": "code",
   "execution_count": 26,
   "metadata": {},
   "outputs": [],
   "source": [
    "trainval_df.drop(columns=['bedok', 'bishan', 'bukit_batok',\n",
    "       'bukit_merah', 'bukit_panjang', 'bukit_timah', 'central_area',\n",
    "       'choa_chu_kang', 'clementi', 'geylang', 'hougang', 'jurong_east',\n",
    "       'jurong_west', 'kallang_whampoa', 'marine_parade', 'pasir_ris',\n",
    "       'punggol', 'queenstown', 'sembawang', 'sengkang', 'serangoon',\n",
    "       'tampines', 'toa_payoh', 'woodlands', 'yishun', 'dist_attraction'],inplace=True)\n",
    "\n",
    "\n",
    "test_df.drop(columns=['bedok', 'bishan', 'bukit_batok',\n",
    "       'bukit_merah', 'bukit_panjang', 'bukit_timah', 'central_area',\n",
    "       'choa_chu_kang', 'clementi', 'geylang', 'hougang', 'jurong_east',\n",
    "       'jurong_west', 'kallang_whampoa', 'marine_parade', 'pasir_ris',\n",
    "       'punggol', 'queenstown', 'sembawang', 'sengkang', 'serangoon',\n",
    "       'tampines', 'toa_payoh', 'woodlands', 'yishun','dist_attraction'],inplace=True)"
   ]
  },
  {
   "cell_type": "code",
   "execution_count": 27,
   "metadata": {},
   "outputs": [],
   "source": [
    "# remove any spaces\n",
    "trainval_df.replace(' ','',regex=True,inplace=True)\n",
    "test_df.replace(' ','',regex=True,inplace=True)"
   ]
  },
  {
   "cell_type": "code",
   "execution_count": 28,
   "metadata": {},
   "outputs": [
    {
     "data": {
      "text/plain": [
       "False"
      ]
     },
     "execution_count": 28,
     "metadata": {},
     "output_type": "execute_result"
    }
   ],
   "source": [
    "# check for nan\n",
    "trainval_df.isna().values.any()"
   ]
  },
  {
   "cell_type": "code",
   "execution_count": 29,
   "metadata": {
    "scrolled": false
   },
   "outputs": [
    {
     "data": {
      "text/plain": [
       "False"
      ]
     },
     "execution_count": 29,
     "metadata": {},
     "output_type": "execute_result"
    }
   ],
   "source": [
    "test_df.isna().values.any()"
   ]
  },
  {
   "cell_type": "code",
   "execution_count": 30,
   "metadata": {},
   "outputs": [
    {
     "data": {
      "text/html": [
       "<div>\n",
       "<style scoped>\n",
       "    .dataframe tbody tr th:only-of-type {\n",
       "        vertical-align: middle;\n",
       "    }\n",
       "\n",
       "    .dataframe tbody tr th {\n",
       "        vertical-align: top;\n",
       "    }\n",
       "\n",
       "    .dataframe thead th {\n",
       "        text-align: right;\n",
       "    }\n",
       "</style>\n",
       "<table border=\"1\" class=\"dataframe\">\n",
       "  <thead>\n",
       "    <tr style=\"text-align: right;\">\n",
       "      <th></th>\n",
       "      <th>duplicate</th>\n",
       "    </tr>\n",
       "  </thead>\n",
       "  <tbody>\n",
       "  </tbody>\n",
       "</table>\n",
       "</div>"
      ],
      "text/plain": [
       "Empty DataFrame\n",
       "Columns: [duplicate]\n",
       "Index: []"
      ]
     },
     "execution_count": 30,
     "metadata": {},
     "output_type": "execute_result"
    }
   ],
   "source": [
    "# check for duplicated rows\n",
    "df = pd.DataFrame()\n",
    "df['duplicate'] = trainval_df.duplicated()\n",
    "df[df.duplicate==True]"
   ]
  },
  {
   "cell_type": "code",
   "execution_count": 31,
   "metadata": {},
   "outputs": [
    {
     "data": {
      "text/html": [
       "<div>\n",
       "<style scoped>\n",
       "    .dataframe tbody tr th:only-of-type {\n",
       "        vertical-align: middle;\n",
       "    }\n",
       "\n",
       "    .dataframe tbody tr th {\n",
       "        vertical-align: top;\n",
       "    }\n",
       "\n",
       "    .dataframe thead th {\n",
       "        text-align: right;\n",
       "    }\n",
       "</style>\n",
       "<table border=\"1\" class=\"dataframe\">\n",
       "  <thead>\n",
       "    <tr style=\"text-align: right;\">\n",
       "      <th></th>\n",
       "      <th>duplicate</th>\n",
       "    </tr>\n",
       "  </thead>\n",
       "  <tbody>\n",
       "  </tbody>\n",
       "</table>\n",
       "</div>"
      ],
      "text/plain": [
       "Empty DataFrame\n",
       "Columns: [duplicate]\n",
       "Index: []"
      ]
     },
     "execution_count": 31,
     "metadata": {},
     "output_type": "execute_result"
    }
   ],
   "source": [
    "# check duplicated rows\n",
    "df = pd.DataFrame()\n",
    "df['duplicate'] = test_df.duplicated()\n",
    "df[df.duplicate==True]"
   ]
  },
  {
   "cell_type": "markdown",
   "metadata": {},
   "source": [
    "### Check for Collinearity"
   ]
  },
  {
   "cell_type": "code",
   "execution_count": 32,
   "metadata": {},
   "outputs": [],
   "source": [
    "# I wrote this function to loop through all features to check for pairwise correlation\n",
    "\n",
    "def high_corr_features(df,pos_thres,neg_thres):\n",
    "    \n",
    "    # drop target variable\n",
    "    df = df.drop(columns=['resale_price'])\n",
    "        \n",
    "    # get the pairwise correlation of oll features in the dataframes\n",
    "    corr = df.corr()\n",
    "\n",
    "    # loop through the dataframe to find the lowest and higher correlation numbers \n",
    "    # Correlation between the same feature will be Ones, so those will be skipped\n",
    "\n",
    "    maxx=0\n",
    "    minn=0\n",
    "    for i in range(len(corr)):\n",
    "        for j in range(len(corr)):\n",
    "            if i != j:\n",
    "                if corr.iloc[i,j]>0:\n",
    "                    if corr.iloc[i,j]>maxx:\n",
    "                        maxx=corr.iloc[i,j]\n",
    "                        if maxx >= pos_thres:\n",
    "                            print('Features that are highly positve correlated:',corr.index[i],corr.columns[j],maxx)\n",
    "                else:\n",
    "                    if corr.iloc[i,j]<minn:\n",
    "                        minn=corr.iloc[i,j]\n",
    "                        if minn <= neg_thres:\n",
    "                            print('Features that are highly negative correlated:',corr.index[i],corr.columns[j],minn)\n",
    "\n",
    "\n",
    "    print('Lowest negative correlation between features:',minn)\n",
    "    print('Highest positive correlation between features:',maxx)"
   ]
  },
  {
   "cell_type": "code",
   "execution_count": 33,
   "metadata": {
    "scrolled": false
   },
   "outputs": [
    {
     "name": "stdout",
     "output_type": "stream",
     "text": [
      "Features that are highly positve correlated: cpi mth_income 0.8033530638302419\n",
      "Features that are highly positve correlated: cpi condo_index 0.8325817903756152\n",
      "Features that are highly negative correlated: gdp_growth condo_index -0.8740304765493228\n",
      "Features that are highly positve correlated: sibor_3m mth_income 0.9119435809915178\n",
      "Features that are highly negative correlated: sibor_3m hdb_index -0.9217577479217779\n",
      "Features that are highly positve correlated: married mth_income 0.975389183268293\n",
      "Features that are highly negative correlated: married hdb_index -0.9421162518560051\n",
      "Features that are highly positve correlated: married total_residents 0.9854907613148901\n",
      "Features that are highly negative correlated: mth_income hdb_index -0.9711252621439082\n",
      "Features that are highly positve correlated: mth_income total_residents 0.9964384379732519\n",
      "Lowest negative correlation between features: -0.9711252621439082\n",
      "Highest positive correlation between features: 0.9964384379732519\n"
     ]
    }
   ],
   "source": [
    "# Find features with correlation greater than 0.8 or less than -0.8\n",
    "high_corr_features(trainval_df,0.8,-0.8)"
   ]
  },
  {
   "cell_type": "code",
   "execution_count": 34,
   "metadata": {},
   "outputs": [],
   "source": [
    "# Drop columns with high correlation and those that have little influence on prediction outcome\n",
    "\n",
    "trainval_df.drop(columns=['sibor_3m','total_residents','married','pte_index','condo_index',\n",
    "                          'new_flat_offered', 'new_pte_home_offered','mth_income','hdb_index',\n",
    "                          'dist_school','dist_library'],inplace=True)\n",
    "\n",
    "test_df.drop(columns=['sibor_3m','total_residents','married','pte_index','condo_index',\n",
    "                          'new_flat_offered', 'new_pte_home_offered','mth_income','hdb_index',\n",
    "                     'dist_school','dist_library'],inplace=True)"
   ]
  },
  {
   "cell_type": "code",
   "execution_count": 36,
   "metadata": {
    "scrolled": false
   },
   "outputs": [
    {
     "data": {
      "image/png": "[encoded data removed]",
      "text/plain": [
       "<Figure size 1008x576 with 2 Axes>"
      ]
     },
     "metadata": {},
     "output_type": "display_data"
    }
   ],
   "source": [
    "# Visualization of collinearity using Heatmap\n",
    "\n",
    "sns.set(style=\"white\")\n",
    "        \n",
    "corr = trainval_df[['floor_area_sqm', 'remaining_lease', 'floor_range', \\\n",
    "        'pmi', 'cpi', 'gdp_growth', 'cli', 'dist_mrt', \\\n",
    "        'dist_market', 'dist_sport', 'dist_park', 'dist_mall', \\\n",
    "        'dist_core']].corr()\n",
    "fig,ax = plt.subplots(figsize=(14,8))\n",
    "\n",
    "cmap = sns.color_palette(\"cubehelix\", 8)\n",
    "\n",
    "\n",
    "mask = np.zeros_like(corr)\n",
    "mask[np.triu_indices_from(mask)] = True\n",
    "ax = sns.heatmap(corr,mask=mask,cbar=True,annot=True,linewidths=0.5,cmap=cmap,square=False,vmax=.15, center=0)"
   ]
  },
  {
   "cell_type": "markdown",
   "metadata": {},
   "source": [
    "The figures in the heatmap look good - nothing below -0.8 or above 0.8. With the Collinearity issue resolved I will look into Multilinearity. Both of them are about correlation between predictors, but Collinearity is between 2 predictors, whereas Multicollinearity is about more than 2 predictors.\n",
    "\n",
    "\n",
    "### Check for Multilinearity\n",
    "\n",
    "- Use Variance Inflation Factor to check for mulitlinearity among predictors\n",
    "\n",
    "I will only be checking non-categorical features, because Multicollinearity for Dummy variables can be ignored, according to [Professor Paul Allison.](https://statisticalhorizons.com/multicollinearity)"
   ]
  },
  {
   "cell_type": "code",
   "execution_count": 37,
   "metadata": {},
   "outputs": [],
   "source": [
    "vif_cols = ['floor_area_sqm', 'remaining_lease', 'resale_price', 'floor_range',\n",
    "        'pmi', 'cpf_rate', 'cpi', 'gdp_growth', 'cli',\n",
    "        'dist_mrt', 'dist_market', \n",
    "        'dist_sport', 'dist_park', 'dist_mall']\n",
    "\n",
    "df = trainval_df[vif_cols]"
   ]
  },
  {
   "cell_type": "code",
   "execution_count": 38,
   "metadata": {
    "scrolled": true
   },
   "outputs": [
    {
     "data": {
      "text/html": [
       "<div>\n",
       "<style scoped>\n",
       "    .dataframe tbody tr th:only-of-type {\n",
       "        vertical-align: middle;\n",
       "    }\n",
       "\n",
       "    .dataframe tbody tr th {\n",
       "        vertical-align: top;\n",
       "    }\n",
       "\n",
       "    .dataframe thead th {\n",
       "        text-align: right;\n",
       "    }\n",
       "</style>\n",
       "<table border=\"1\" class=\"dataframe\">\n",
       "  <thead>\n",
       "    <tr style=\"text-align: right;\">\n",
       "      <th></th>\n",
       "      <th>VIF_value</th>\n",
       "    </tr>\n",
       "  </thead>\n",
       "  <tbody>\n",
       "    <tr>\n",
       "      <th>cpf_rate</th>\n",
       "      <td>67784.472386</td>\n",
       "    </tr>\n",
       "    <tr>\n",
       "      <th>cpi</th>\n",
       "      <td>3.223655</td>\n",
       "    </tr>\n",
       "    <tr>\n",
       "      <th>resale_price</th>\n",
       "      <td>3.136913</td>\n",
       "    </tr>\n",
       "    <tr>\n",
       "      <th>gdp_growth</th>\n",
       "      <td>2.653764</td>\n",
       "    </tr>\n",
       "    <tr>\n",
       "      <th>cli</th>\n",
       "      <td>2.573914</td>\n",
       "    </tr>\n",
       "    <tr>\n",
       "      <th>floor_area_sqm</th>\n",
       "      <td>2.409354</td>\n",
       "    </tr>\n",
       "    <tr>\n",
       "      <th>pmi</th>\n",
       "      <td>2.018024</td>\n",
       "    </tr>\n",
       "    <tr>\n",
       "      <th>remaining_lease</th>\n",
       "      <td>1.839468</td>\n",
       "    </tr>\n",
       "    <tr>\n",
       "      <th>dist_market</th>\n",
       "      <td>1.671270</td>\n",
       "    </tr>\n",
       "    <tr>\n",
       "      <th>dist_sport</th>\n",
       "      <td>1.485909</td>\n",
       "    </tr>\n",
       "    <tr>\n",
       "      <th>floor_range</th>\n",
       "      <td>1.353378</td>\n",
       "    </tr>\n",
       "    <tr>\n",
       "      <th>dist_mrt</th>\n",
       "      <td>1.309874</td>\n",
       "    </tr>\n",
       "    <tr>\n",
       "      <th>dist_park</th>\n",
       "      <td>1.199434</td>\n",
       "    </tr>\n",
       "    <tr>\n",
       "      <th>dist_mall</th>\n",
       "      <td>1.152856</td>\n",
       "    </tr>\n",
       "  </tbody>\n",
       "</table>\n",
       "</div>"
      ],
      "text/plain": [
       "                    VIF_value\n",
       "cpf_rate         67784.472386\n",
       "cpi                  3.223655\n",
       "resale_price         3.136913\n",
       "gdp_growth           2.653764\n",
       "cli                  2.573914\n",
       "floor_area_sqm       2.409354\n",
       "pmi                  2.018024\n",
       "remaining_lease      1.839468\n",
       "dist_market          1.671270\n",
       "dist_sport           1.485909\n",
       "floor_range          1.353378\n",
       "dist_mrt             1.309874\n",
       "dist_park            1.199434\n",
       "dist_mall            1.152856"
      ]
     },
     "execution_count": 38,
     "metadata": {},
     "output_type": "execute_result"
    }
   ],
   "source": [
    "# Calculate VIF for selected features\n",
    "\n",
    "vif = pd.DataFrame(\n",
    "    (variance_inflation_factor(df.values, i) \n",
    "     for i in range(df.shape[1])), \n",
    "    index=df.columns, columns=['VIF_value']\n",
    "     )\n",
    "\n",
    "vif.sort_values(by=['VIF_value'],ascending=False).head(30)"
   ]
  },
  {
   "cell_type": "markdown",
   "metadata": {},
   "source": [
    "The result shows cpf_rate has ultra high VIF, so I will be dropping cpf_rate"
   ]
  },
  {
   "cell_type": "code",
   "execution_count": 39,
   "metadata": {
    "scrolled": true
   },
   "outputs": [],
   "source": [
    "trainval_df.drop(columns=['cpf_rate'],inplace=True)\n",
    "test_df.drop(columns=['cpf_rate'],inplace=True)"
   ]
  },
  {
   "cell_type": "markdown",
   "metadata": {},
   "source": [
    "### Check for Outliers with Cook's Distance"
   ]
  },
  {
   "cell_type": "code",
   "execution_count": 40,
   "metadata": {},
   "outputs": [],
   "source": [
    "# First I will split each dataset into target and features\n",
    "\n",
    "X = trainval_df.drop(columns=['resale_price'])\n",
    "y = trainval_df['resale_price']\n",
    "X_test = test_df.drop(columns=['resale_price'])\n",
    "y_test = test_df['resale_price']"
   ]
  },
  {
   "cell_type": "markdown",
   "metadata": {},
   "source": [
    "## Note: The codes below take hours to run\n",
    "\n",
    "If you want to run, please uncomment all the codes below"
   ]
  },
  {
   "cell_type": "code",
   "execution_count": 18,
   "metadata": {
    "scrolled": false
   },
   "outputs": [
    {
     "name": "stderr",
     "output_type": "stream",
     "text": [
      "C:\\Users\\user\\anaconda3\\lib\\site-packages\\sklearn\\utils\\deprecation.py:144: FutureWarning: The sklearn.metrics.classification module is  deprecated in version 0.22 and will be removed in version 0.24. The corresponding classes / functions should instead be imported from sklearn.metrics. Anything that cannot be imported from sklearn.metrics is now part of the private API.\n",
      "  warnings.warn(message, FutureWarning)\n"
     ]
    }
   ],
   "source": [
    "from yellowbrick.regressor import CooksDistance\n",
    "\n",
    "# Instantiate and fit the visualizer\n",
    "# visualizer = CooksDistance()\n",
    "# visualizer.fit(X, y)\n",
    "# visualizer.show()"
   ]
  },
  {
   "cell_type": "code",
   "execution_count": 19,
   "metadata": {},
   "outputs": [],
   "source": [
    "# outliers = pd.DataFrame({'index':visualizer.distance_.index,'distance':visualizer.distance_})\n",
    "# outliers"
   ]
  },
  {
   "cell_type": "code",
   "execution_count": 20,
   "metadata": {},
   "outputs": [],
   "source": [
    "# for i in range(len(outliers)):\n",
    "#     if outliers.iloc[i,1]>0.005:\n",
    "#         print(outliers.iloc[i,0],outliers.iloc[i,1])"
   ]
  },
  {
   "cell_type": "code",
   "execution_count": 21,
   "metadata": {},
   "outputs": [],
   "source": [
    "# X[X.index==3116]['model_terrace']"
   ]
  },
  {
   "cell_type": "code",
   "execution_count": 22,
   "metadata": {
    "scrolled": true
   },
   "outputs": [],
   "source": [
    "# X[X.index==7905]['model_terrace']"
   ]
  },
  {
   "cell_type": "code",
   "execution_count": 23,
   "metadata": {
    "scrolled": true
   },
   "outputs": [],
   "source": [
    "# X[X.index==44056]['model_terrace']"
   ]
  },
  {
   "cell_type": "code",
   "execution_count": 24,
   "metadata": {},
   "outputs": [],
   "source": [
    "# X[X.index==45910]['model_terrace']"
   ]
  },
  {
   "cell_type": "code",
   "execution_count": 25,
   "metadata": {},
   "outputs": [],
   "source": [
    "# X[X.index==56639]['model_terrace']"
   ]
  },
  {
   "cell_type": "markdown",
   "metadata": {},
   "source": [
    "All of them are terrace houses, which HDB has stopped building since the early 1970s because they of Singapore's land constraint and HDB's vision of providing affordable housing.\n",
    "\n",
    "Due to rarity they fetch high prices even though they have low floor and low remaining lease.\n",
    "\n",
    "It is not surprising that they were marked as potential outliers but I will not remove because these are not data entry or data collection error. I would keep them so that the model can learn about their existence."
   ]
  },
  {
   "cell_type": "markdown",
   "metadata": {},
   "source": [
    "### Handle skewness\n",
    "\n",
    "Skewness is a measure of symmetry in a distribution. Many prediction algorithims require the variables to be symmetrical (or normally distributed). A perfectly normal distribution has skewness of zero, but in practise the following is the guidelines:\n",
    "- Between -0.5 and 0.5 is considered Symmetrical\n",
    "- Between -1 and -0.5 or between 0.5 and 1 is considered Moderately Skewed\n",
    "- Below -1 or above 1 is considered Highly Skewed\n",
    "\n",
    "I will use 0.7 as the threshold to determine whether to apply normalization\n",
    "\n",
    "Normally it is necessary to normalize variables that are skewed, but according to Tianqi Chen (creator of XGBoost), it is not necessary to do so for XGBoost. (Source: [TQ Chen's answer on Github](https://github.com/dmlc/xgboost/issues/357) and [TQ Chen's article).](https://homes.cs.washington.edu/~tqchen/pdf/BoostedTree.pdf)\n",
    "\n",
    "However, he did not mention target variable, so I will setup different models to compare the effect of normalization for independent and dependent variables. "
   ]
  },
  {
   "cell_type": "code",
   "execution_count": 41,
   "metadata": {},
   "outputs": [
    {
     "data": {
      "text/plain": [
       "floor_range        1.564996\n",
       "dist_market        1.434065\n",
       "resale_price       1.192974\n",
       "dist_mrt           1.059301\n",
       "dist_park          1.049563\n",
       "dist_mall          0.990779\n",
       "dist_sport         0.984625\n",
       "pmi                0.912983\n",
       "cpi                0.355781\n",
       "floor_area_sqm     0.275802\n",
       "cli                0.084624\n",
       "remaining_lease    0.073329\n",
       "gdp_growth        -0.228348\n",
       "dtype: float64"
      ]
     },
     "execution_count": 41,
     "metadata": {},
     "output_type": "execute_result"
    }
   ],
   "source": [
    "# check for data skewness (dummy variables are excluded)\n",
    "trainval_df[['floor_area_sqm', 'remaining_lease', 'floor_range',\n",
    "                 'pmi', 'cpi', 'gdp_growth','cli',  \n",
    "                 'resale_price', \n",
    "                 'dist_mrt', 'dist_market','dist_sport', 'dist_park', 'dist_mall'\n",
    "            ]].skew(axis = 0, skipna = True).sort_values(ascending=False)"
   ]
  },
  {
   "cell_type": "code",
   "execution_count": 47,
   "metadata": {},
   "outputs": [],
   "source": [
    "# Train/test split based on normalized y\n",
    "X_train, X_val, y_train, y_val = train_test_split(X,\n",
    "                                                    y,\n",
    "                                                    test_size = 0.2,\n",
    "                                                    random_state = 42)\n",
    "\n",
    "ss = StandardScaler()\n",
    "ss.fit(X_train)\n",
    "X_train_ss = ss.transform(X_train)\n",
    "X_val_ss = ss.transform(X_val)\n",
    "X_test_ss = ss.transform(X_test)"
   ]
  },
  {
   "cell_type": "code",
   "execution_count": 48,
   "metadata": {},
   "outputs": [],
   "source": [
    "# normalize target variable\n",
    "ylog_train = boxcox(y_train,-0.6)\n",
    "ylog_val = boxcox(y_val,-0.6)\n",
    "ylog_test = boxcox(y_test,-0.6)"
   ]
  },
  {
   "cell_type": "code",
   "execution_count": 49,
   "metadata": {},
   "outputs": [],
   "source": [
    "# Make copies of datasets\n",
    "Xlog_train = X_train.copy(deep=True)\n",
    "Xlog_val = X_val.copy(deep=True)\n",
    "Xlog_test = X_test.copy(deep=True)\n",
    "\n",
    "# Select features to be considered for normalization (dummy variables are not included)\n",
    "numeric_cols = pd.Index(['floor_area_sqm', 'remaining_lease', 'floor_range',\n",
    "                 'pmi', 'cpi', 'gdp_growth','cli',\n",
    "                  'dist_mrt', 'dist_market'])\n",
    "\n",
    "skewed_cols = Xlog_train[numeric_cols].apply(lambda x: skew(x.dropna())) \n",
    "skewed_cols = skewed_cols[skewed_cols > 0.7]\n",
    "skewed_cols = skewed_cols.index\n",
    "\n",
    "# Between -0.5 and 0.5 are considered sysmterical\n",
    "# Between -1 and -0.5 or between 0.5 and 1 are considered moderately skewed\n",
    "# Below -1 or above 1 is considered highly skewed\n",
    "# I decided to use 0.7 as the threshold to determine whether to apply normalization\n",
    "\n",
    "for s in skewed_cols:\n",
    "    Xlog_train[s] = boxcox(X_train[s],-0.6)\n",
    "    Xlog_val[s] = boxcox(X_val[s],-0.6)\n",
    "    Xlog_test[s] = boxcox(X_test[s],-0.6)"
   ]
  },
  {
   "cell_type": "code",
   "execution_count": 50,
   "metadata": {},
   "outputs": [
    {
     "data": {
      "text/plain": [
       "Index(['floor_area_sqm', 'remaining_lease', 'floor_range', 'model_dbss',\n",
       "       'model_maisonette', 'model_terrace', 'model_type_s1', 'model_type_s2',\n",
       "       'type_2_room', 'type_3_room', 'type_4_room', 'type_5_room',\n",
       "       'type_executive', 'type_multi_generation', 'cli', 'pmi', 'cpi',\n",
       "       'gdp_growth', 'unemployed_rate', 'dist_mrt', 'dist_mall', 'dist_market',\n",
       "       'dist_park', 'dist_sport', 'dist_core'],\n",
       "      dtype='object')"
      ]
     },
     "execution_count": 50,
     "metadata": {},
     "output_type": "execute_result"
    }
   ],
   "source": [
    "X_train.columns"
   ]
  },
  {
   "cell_type": "markdown",
   "metadata": {},
   "source": [
    "### Comparing Log and Boxcox\n",
    "\n",
    "Boxcox adjust the transformation according to the data rather than having a one-size-fix-all approach and so always provide better results than the simple log. Below are 2 examples to illustrate their differences. "
   ]
  },
  {
   "cell_type": "code",
   "execution_count": 30,
   "metadata": {},
   "outputs": [
    {
     "name": "stdout",
     "output_type": "stream",
     "text": [
      "org skewness: 1.1929519051388626\n",
      "skewness of y_train after log: 0.3669071051008628\n",
      "skewness of y_train after boxcox : -0.10716185173286544\n",
      "skewness of y_val after boxcox: -0.12164591534043204\n",
      "skewness of y_test after boxcox: -0.36599718014328664\n"
     ]
    },
    {
     "data": {
      "image/png": "[encoded data removed]",
      "text/plain": [
       "<Figure size 1080x576 with 6 Axes>"
      ]
     },
     "metadata": {},
     "output_type": "display_data"
    }
   ],
   "source": [
    "print('org skewness:',skew(trainval_df['resale_price']))\n",
    "print('skewness of y_train after log:',skew(np.log(trainval_df['resale_price'])))\n",
    "print('skewness of y_train after boxcox :',skew(ylog_train))\n",
    "print('skewness of y_val after boxcox:',skew(ylog_val))\n",
    "print('skewness of y_test after boxcox:',skew(ylog_test))\n",
    "\n",
    "# Visualize the difference between before and after log transformation of target variable  \n",
    "# creating axes to draw plots \n",
    "fig, ax = plt.subplots(2, 3) \n",
    "  \n",
    "# plotting the original data(non-normal) and  \n",
    "# fitted data (normal) \n",
    "sns.distplot(trainval_df['resale_price'], hist = False, kde = True, \n",
    "            kde_kws = {'shade': True, 'linewidth': 2},  \n",
    "            label = \"Original\", color =\"green\", ax = ax[0,0]) \n",
    "  \n",
    "sns.distplot(np.log(trainval_df['resale_price']), hist = False, kde = True, \n",
    "            kde_kws = {'shade': True, 'linewidth': 2},  \n",
    "            label = \"Log transformed y_train\", color =\"green\", ax = ax[0,1])\n",
    "\n",
    "sns.distplot(ylog_train, hist = False, kde = True, \n",
    "            kde_kws = {'shade': True, 'linewidth': 2},  \n",
    "            label = \"Boxcox y_train\", color =\"green\", ax = ax[0,2]) \n",
    "\n",
    "\n",
    "sns.distplot(ylog_val, hist = False, kde = True, \n",
    "            kde_kws = {'shade': True, 'linewidth': 2},  \n",
    "            label = \"Boxcox y_val\", color =\"green\", ax = ax[1,0]) \n",
    "\n",
    "\n",
    "sns.distplot(ylog_test, hist = False, kde = True, \n",
    "            kde_kws = {'shade': True, 'linewidth': 2},  \n",
    "            label = \"Boxcox y_test\", color =\"green\", ax = ax[1,1]) \n",
    "\n",
    "   \n",
    "# rescaling the subplots \n",
    "fig.set_figheight(8) \n",
    "fig.set_figwidth(15) "
   ]
  },
  {
   "cell_type": "markdown",
   "metadata": {},
   "source": [
    "## Baseline Linear Regression\n",
    "\n",
    "- Ordinary Least Square Linear Regression as baseline\n",
    "- Metrics used are RMSE (the lower the better) and R2 (the higher the better)\n",
    "\n",
    "The objective of a regression model is to minimize the difference between predicted values and observed data values, and I used RMSE and R2 (R-squared) to measure the difference (aka error). The difference is R2 is a relative measure of fit, wheras RMSE is an absolute measure of fit. The advantage of RMSE is that it is in the same unit as as the target variable, which makes it easier for interpretation. For this reason I am using RMSE to measure the performance of my regression models."
   ]
  },
  {
   "cell_type": "code",
   "execution_count": 52,
   "metadata": {},
   "outputs": [
    {
     "name": "stdout",
     "output_type": "stream",
     "text": [
      "RMSE train: 57110.4380386\n",
      "RMSE validation: 56682.4173964\n",
      "R2 Score: 0.8442501\n"
     ]
    }
   ],
   "source": [
    "# instantiate an instance of linear regression model and fit it with X_train and y_train values\n",
    "reg = LinearRegression().fit(X_train, y_train)\n",
    "\n",
    "# Calculate predictions for training and validation sets\n",
    "pred_val = reg.predict(X_val)\n",
    "pred_train = reg.predict(X_train)\n",
    "\n",
    "# Get the scores for both metrics\n",
    "rmse_val = np.sqrt(mean_squared_error(y_val, pred_val))\n",
    "rmse_train = np.sqrt(mean_squared_error(y_train, pred_train))\n",
    "print(\"RMSE train: %.7f\" % (rmse_train))\n",
    "print(\"RMSE validation: %.7f\" % (rmse_val))\n",
    "print('R2 Score: %.7f' % reg.score(X_train,y_train))"
   ]
  },
  {
   "cell_type": "code",
   "execution_count": 53,
   "metadata": {},
   "outputs": [
    {
     "name": "stdout",
     "output_type": "stream",
     "text": [
      "CV Average R2 Score: 0.8440584\n"
     ]
    }
   ],
   "source": [
    "# Perform cross validation for more reliable score\n",
    "results = cross_val_score(reg, X_train, y_train, cv=KFold(n_splits=5))\n",
    "print('CV Average R2 Score: %.7f' % results.mean())"
   ]
  },
  {
   "cell_type": "markdown",
   "metadata": {},
   "source": [
    "### Homoscedasticity check\n",
    "\n",
    "I will plot Predictions vs. residuals to check for Homoscedasticity\n",
    "\n",
    "Data are homoscedastic if the residuals have no clear relationship with predictions and has a normal distribution "
   ]
  },
  {
   "cell_type": "code",
   "execution_count": 54,
   "metadata": {},
   "outputs": [
    {
     "data": {
      "image/png": "[encoded data removed]",
      "text/plain": [
       "<Figure size 864x432 with 2 Axes>"
      ]
     },
     "metadata": {},
     "output_type": "display_data"
    }
   ],
   "source": [
    "# specify the plot size\n",
    "fig = plt.figure(figsize=(12, 6))\n",
    "\n",
    "# Predictions vs Residuals\n",
    "plt.subplot(1,2,1)\n",
    "sns.regplot(pred_val, y_val-pred_val,ci=None, data=trainval_df, scatter_kws={\"color\": \"blue\"}, line_kws={\"color\": \"red\"})\n",
    "plt.xlabel('Predicted Prices',fontsize=18)\n",
    "plt.ylabel('Residuals',fontsize=18)\n",
    "plt.xticks(fontsize=10,rotation=45)\n",
    "plt.title('Predictions vs Residuals',fontsize=18)\n",
    "plt.yticks(fontsize=10);\n",
    "\n",
    "# Residual Distribution\n",
    "plt.subplot(1,2,2)\n",
    "plt.hist(y_val-pred_val,bins=200);\n",
    "plt.xlabel('Residuals',fontsize=18)\n",
    "plt.ylabel('Frequency',fontsize=18)\n",
    "plt.xticks(fontsize=10,rotation=45)\n",
    "plt.title('Distribution of Residuals',fontsize=18)\n",
    "plt.yticks(fontsize=10);\n",
    "\n"
   ]
  },
  {
   "cell_type": "markdown",
   "metadata": {},
   "source": [
    "The above plots show the residuals have no clear relationship with predictions and has a normal distribution, which means the data has homoscedasticity and meets the requirement of linear regression.\n",
    "\n",
    "For linear regression it is important for normality of residuals, not the dependent variable. Many experts have weighed in on this subject.\n",
    "https://www.researchgate.net/post/Is_linear_regression_valid_when_the_outcome_dependant_variable_not_normally_distributed"
   ]
  },
  {
   "cell_type": "code",
   "execution_count": 55,
   "metadata": {},
   "outputs": [],
   "source": [
    "# save the final version of data before modeling\n",
    "trainval_df.to_csv(\"../datasets/final/trainval.csv\",index=False)\n",
    "test_df.to_csv(\"../datasets/final/test.csv\",index=False)"
   ]
  },
  {
   "cell_type": "code",
   "execution_count": 58,
   "metadata": {},
   "outputs": [
    {
     "name": "stdout",
     "output_type": "stream",
     "text": [
      " \n",
      "Setup Succesfully Completed.\n"
     ]
    },
    {
     "data": {
      "text/html": [
       "<style  type=\"text/css\" >\n",
       "</style><table id=\"T_620b1fcc_db3a_11ea_a32c_4851b7de7a9b\" ><thead>    <tr>        <th class=\"blank level0\" ></th>        <th class=\"col_heading level0 col0\" >Description</th>        <th class=\"col_heading level0 col1\" >Value</th>    </tr></thead><tbody>\n",
       "                <tr>\n",
       "                        <th id=\"T_620b1fcc_db3a_11ea_a32c_4851b7de7a9blevel0_row0\" class=\"row_heading level0 row0\" >0</th>\n",
       "                        <td id=\"T_620b1fcc_db3a_11ea_a32c_4851b7de7a9brow0_col0\" class=\"data row0 col0\" >session_id</td>\n",
       "                        <td id=\"T_620b1fcc_db3a_11ea_a32c_4851b7de7a9brow0_col1\" class=\"data row0 col1\" >123</td>\n",
       "            </tr>\n",
       "            <tr>\n",
       "                        <th id=\"T_620b1fcc_db3a_11ea_a32c_4851b7de7a9blevel0_row1\" class=\"row_heading level0 row1\" >1</th>\n",
       "                        <td id=\"T_620b1fcc_db3a_11ea_a32c_4851b7de7a9brow1_col0\" class=\"data row1 col0\" >Transform Target </td>\n",
       "                        <td id=\"T_620b1fcc_db3a_11ea_a32c_4851b7de7a9brow1_col1\" class=\"data row1 col1\" >False</td>\n",
       "            </tr>\n",
       "            <tr>\n",
       "                        <th id=\"T_620b1fcc_db3a_11ea_a32c_4851b7de7a9blevel0_row2\" class=\"row_heading level0 row2\" >2</th>\n",
       "                        <td id=\"T_620b1fcc_db3a_11ea_a32c_4851b7de7a9brow2_col0\" class=\"data row2 col0\" >Transform Target Method</td>\n",
       "                        <td id=\"T_620b1fcc_db3a_11ea_a32c_4851b7de7a9brow2_col1\" class=\"data row2 col1\" >None</td>\n",
       "            </tr>\n",
       "            <tr>\n",
       "                        <th id=\"T_620b1fcc_db3a_11ea_a32c_4851b7de7a9blevel0_row3\" class=\"row_heading level0 row3\" >3</th>\n",
       "                        <td id=\"T_620b1fcc_db3a_11ea_a32c_4851b7de7a9brow3_col0\" class=\"data row3 col0\" >Original Data</td>\n",
       "                        <td id=\"T_620b1fcc_db3a_11ea_a32c_4851b7de7a9brow3_col1\" class=\"data row3 col1\" >(80897, 26)</td>\n",
       "            </tr>\n",
       "            <tr>\n",
       "                        <th id=\"T_620b1fcc_db3a_11ea_a32c_4851b7de7a9blevel0_row4\" class=\"row_heading level0 row4\" >4</th>\n",
       "                        <td id=\"T_620b1fcc_db3a_11ea_a32c_4851b7de7a9brow4_col0\" class=\"data row4 col0\" >Missing Values </td>\n",
       "                        <td id=\"T_620b1fcc_db3a_11ea_a32c_4851b7de7a9brow4_col1\" class=\"data row4 col1\" >False</td>\n",
       "            </tr>\n",
       "            <tr>\n",
       "                        <th id=\"T_620b1fcc_db3a_11ea_a32c_4851b7de7a9blevel0_row5\" class=\"row_heading level0 row5\" >5</th>\n",
       "                        <td id=\"T_620b1fcc_db3a_11ea_a32c_4851b7de7a9brow5_col0\" class=\"data row5 col0\" >Numeric Features </td>\n",
       "                        <td id=\"T_620b1fcc_db3a_11ea_a32c_4851b7de7a9brow5_col1\" class=\"data row5 col1\" >13</td>\n",
       "            </tr>\n",
       "            <tr>\n",
       "                        <th id=\"T_620b1fcc_db3a_11ea_a32c_4851b7de7a9blevel0_row6\" class=\"row_heading level0 row6\" >6</th>\n",
       "                        <td id=\"T_620b1fcc_db3a_11ea_a32c_4851b7de7a9brow6_col0\" class=\"data row6 col0\" >Categorical Features </td>\n",
       "                        <td id=\"T_620b1fcc_db3a_11ea_a32c_4851b7de7a9brow6_col1\" class=\"data row6 col1\" >12</td>\n",
       "            </tr>\n",
       "            <tr>\n",
       "                        <th id=\"T_620b1fcc_db3a_11ea_a32c_4851b7de7a9blevel0_row7\" class=\"row_heading level0 row7\" >7</th>\n",
       "                        <td id=\"T_620b1fcc_db3a_11ea_a32c_4851b7de7a9brow7_col0\" class=\"data row7 col0\" >Ordinal Features </td>\n",
       "                        <td id=\"T_620b1fcc_db3a_11ea_a32c_4851b7de7a9brow7_col1\" class=\"data row7 col1\" >False</td>\n",
       "            </tr>\n",
       "            <tr>\n",
       "                        <th id=\"T_620b1fcc_db3a_11ea_a32c_4851b7de7a9blevel0_row8\" class=\"row_heading level0 row8\" >8</th>\n",
       "                        <td id=\"T_620b1fcc_db3a_11ea_a32c_4851b7de7a9brow8_col0\" class=\"data row8 col0\" >High Cardinality Features </td>\n",
       "                        <td id=\"T_620b1fcc_db3a_11ea_a32c_4851b7de7a9brow8_col1\" class=\"data row8 col1\" >False</td>\n",
       "            </tr>\n",
       "            <tr>\n",
       "                        <th id=\"T_620b1fcc_db3a_11ea_a32c_4851b7de7a9blevel0_row9\" class=\"row_heading level0 row9\" >9</th>\n",
       "                        <td id=\"T_620b1fcc_db3a_11ea_a32c_4851b7de7a9brow9_col0\" class=\"data row9 col0\" >High Cardinality Method </td>\n",
       "                        <td id=\"T_620b1fcc_db3a_11ea_a32c_4851b7de7a9brow9_col1\" class=\"data row9 col1\" >None</td>\n",
       "            </tr>\n",
       "            <tr>\n",
       "                        <th id=\"T_620b1fcc_db3a_11ea_a32c_4851b7de7a9blevel0_row10\" class=\"row_heading level0 row10\" >10</th>\n",
       "                        <td id=\"T_620b1fcc_db3a_11ea_a32c_4851b7de7a9brow10_col0\" class=\"data row10 col0\" >Sampled Data</td>\n",
       "                        <td id=\"T_620b1fcc_db3a_11ea_a32c_4851b7de7a9brow10_col1\" class=\"data row10 col1\" >(16179, 26)</td>\n",
       "            </tr>\n",
       "            <tr>\n",
       "                        <th id=\"T_620b1fcc_db3a_11ea_a32c_4851b7de7a9blevel0_row11\" class=\"row_heading level0 row11\" >11</th>\n",
       "                        <td id=\"T_620b1fcc_db3a_11ea_a32c_4851b7de7a9brow11_col0\" class=\"data row11 col0\" >Transformed Train Set</td>\n",
       "                        <td id=\"T_620b1fcc_db3a_11ea_a32c_4851b7de7a9brow11_col1\" class=\"data row11 col1\" >(11325, 52)</td>\n",
       "            </tr>\n",
       "            <tr>\n",
       "                        <th id=\"T_620b1fcc_db3a_11ea_a32c_4851b7de7a9blevel0_row12\" class=\"row_heading level0 row12\" >12</th>\n",
       "                        <td id=\"T_620b1fcc_db3a_11ea_a32c_4851b7de7a9brow12_col0\" class=\"data row12 col0\" >Transformed Test Set</td>\n",
       "                        <td id=\"T_620b1fcc_db3a_11ea_a32c_4851b7de7a9brow12_col1\" class=\"data row12 col1\" >(4854, 52)</td>\n",
       "            </tr>\n",
       "            <tr>\n",
       "                        <th id=\"T_620b1fcc_db3a_11ea_a32c_4851b7de7a9blevel0_row13\" class=\"row_heading level0 row13\" >13</th>\n",
       "                        <td id=\"T_620b1fcc_db3a_11ea_a32c_4851b7de7a9brow13_col0\" class=\"data row13 col0\" >Numeric Imputer </td>\n",
       "                        <td id=\"T_620b1fcc_db3a_11ea_a32c_4851b7de7a9brow13_col1\" class=\"data row13 col1\" >mean</td>\n",
       "            </tr>\n",
       "            <tr>\n",
       "                        <th id=\"T_620b1fcc_db3a_11ea_a32c_4851b7de7a9blevel0_row14\" class=\"row_heading level0 row14\" >14</th>\n",
       "                        <td id=\"T_620b1fcc_db3a_11ea_a32c_4851b7de7a9brow14_col0\" class=\"data row14 col0\" >Categorical Imputer </td>\n",
       "                        <td id=\"T_620b1fcc_db3a_11ea_a32c_4851b7de7a9brow14_col1\" class=\"data row14 col1\" >constant</td>\n",
       "            </tr>\n",
       "            <tr>\n",
       "                        <th id=\"T_620b1fcc_db3a_11ea_a32c_4851b7de7a9blevel0_row15\" class=\"row_heading level0 row15\" >15</th>\n",
       "                        <td id=\"T_620b1fcc_db3a_11ea_a32c_4851b7de7a9brow15_col0\" class=\"data row15 col0\" >Normalize </td>\n",
       "                        <td id=\"T_620b1fcc_db3a_11ea_a32c_4851b7de7a9brow15_col1\" class=\"data row15 col1\" >False</td>\n",
       "            </tr>\n",
       "            <tr>\n",
       "                        <th id=\"T_620b1fcc_db3a_11ea_a32c_4851b7de7a9blevel0_row16\" class=\"row_heading level0 row16\" >16</th>\n",
       "                        <td id=\"T_620b1fcc_db3a_11ea_a32c_4851b7de7a9brow16_col0\" class=\"data row16 col0\" >Normalize Method </td>\n",
       "                        <td id=\"T_620b1fcc_db3a_11ea_a32c_4851b7de7a9brow16_col1\" class=\"data row16 col1\" >None</td>\n",
       "            </tr>\n",
       "            <tr>\n",
       "                        <th id=\"T_620b1fcc_db3a_11ea_a32c_4851b7de7a9blevel0_row17\" class=\"row_heading level0 row17\" >17</th>\n",
       "                        <td id=\"T_620b1fcc_db3a_11ea_a32c_4851b7de7a9brow17_col0\" class=\"data row17 col0\" >Transformation </td>\n",
       "                        <td id=\"T_620b1fcc_db3a_11ea_a32c_4851b7de7a9brow17_col1\" class=\"data row17 col1\" >False</td>\n",
       "            </tr>\n",
       "            <tr>\n",
       "                        <th id=\"T_620b1fcc_db3a_11ea_a32c_4851b7de7a9blevel0_row18\" class=\"row_heading level0 row18\" >18</th>\n",
       "                        <td id=\"T_620b1fcc_db3a_11ea_a32c_4851b7de7a9brow18_col0\" class=\"data row18 col0\" >Transformation Method </td>\n",
       "                        <td id=\"T_620b1fcc_db3a_11ea_a32c_4851b7de7a9brow18_col1\" class=\"data row18 col1\" >None</td>\n",
       "            </tr>\n",
       "            <tr>\n",
       "                        <th id=\"T_620b1fcc_db3a_11ea_a32c_4851b7de7a9blevel0_row19\" class=\"row_heading level0 row19\" >19</th>\n",
       "                        <td id=\"T_620b1fcc_db3a_11ea_a32c_4851b7de7a9brow19_col0\" class=\"data row19 col0\" >PCA </td>\n",
       "                        <td id=\"T_620b1fcc_db3a_11ea_a32c_4851b7de7a9brow19_col1\" class=\"data row19 col1\" >False</td>\n",
       "            </tr>\n",
       "            <tr>\n",
       "                        <th id=\"T_620b1fcc_db3a_11ea_a32c_4851b7de7a9blevel0_row20\" class=\"row_heading level0 row20\" >20</th>\n",
       "                        <td id=\"T_620b1fcc_db3a_11ea_a32c_4851b7de7a9brow20_col0\" class=\"data row20 col0\" >PCA Method </td>\n",
       "                        <td id=\"T_620b1fcc_db3a_11ea_a32c_4851b7de7a9brow20_col1\" class=\"data row20 col1\" >None</td>\n",
       "            </tr>\n",
       "            <tr>\n",
       "                        <th id=\"T_620b1fcc_db3a_11ea_a32c_4851b7de7a9blevel0_row21\" class=\"row_heading level0 row21\" >21</th>\n",
       "                        <td id=\"T_620b1fcc_db3a_11ea_a32c_4851b7de7a9brow21_col0\" class=\"data row21 col0\" >PCA Components </td>\n",
       "                        <td id=\"T_620b1fcc_db3a_11ea_a32c_4851b7de7a9brow21_col1\" class=\"data row21 col1\" >None</td>\n",
       "            </tr>\n",
       "            <tr>\n",
       "                        <th id=\"T_620b1fcc_db3a_11ea_a32c_4851b7de7a9blevel0_row22\" class=\"row_heading level0 row22\" >22</th>\n",
       "                        <td id=\"T_620b1fcc_db3a_11ea_a32c_4851b7de7a9brow22_col0\" class=\"data row22 col0\" >Ignore Low Variance </td>\n",
       "                        <td id=\"T_620b1fcc_db3a_11ea_a32c_4851b7de7a9brow22_col1\" class=\"data row22 col1\" >False</td>\n",
       "            </tr>\n",
       "            <tr>\n",
       "                        <th id=\"T_620b1fcc_db3a_11ea_a32c_4851b7de7a9blevel0_row23\" class=\"row_heading level0 row23\" >23</th>\n",
       "                        <td id=\"T_620b1fcc_db3a_11ea_a32c_4851b7de7a9brow23_col0\" class=\"data row23 col0\" >Combine Rare Levels </td>\n",
       "                        <td id=\"T_620b1fcc_db3a_11ea_a32c_4851b7de7a9brow23_col1\" class=\"data row23 col1\" >False</td>\n",
       "            </tr>\n",
       "            <tr>\n",
       "                        <th id=\"T_620b1fcc_db3a_11ea_a32c_4851b7de7a9blevel0_row24\" class=\"row_heading level0 row24\" >24</th>\n",
       "                        <td id=\"T_620b1fcc_db3a_11ea_a32c_4851b7de7a9brow24_col0\" class=\"data row24 col0\" >Rare Level Threshold </td>\n",
       "                        <td id=\"T_620b1fcc_db3a_11ea_a32c_4851b7de7a9brow24_col1\" class=\"data row24 col1\" >None</td>\n",
       "            </tr>\n",
       "            <tr>\n",
       "                        <th id=\"T_620b1fcc_db3a_11ea_a32c_4851b7de7a9blevel0_row25\" class=\"row_heading level0 row25\" >25</th>\n",
       "                        <td id=\"T_620b1fcc_db3a_11ea_a32c_4851b7de7a9brow25_col0\" class=\"data row25 col0\" >Numeric Binning </td>\n",
       "                        <td id=\"T_620b1fcc_db3a_11ea_a32c_4851b7de7a9brow25_col1\" class=\"data row25 col1\" >False</td>\n",
       "            </tr>\n",
       "            <tr>\n",
       "                        <th id=\"T_620b1fcc_db3a_11ea_a32c_4851b7de7a9blevel0_row26\" class=\"row_heading level0 row26\" >26</th>\n",
       "                        <td id=\"T_620b1fcc_db3a_11ea_a32c_4851b7de7a9brow26_col0\" class=\"data row26 col0\" >Remove Outliers </td>\n",
       "                        <td id=\"T_620b1fcc_db3a_11ea_a32c_4851b7de7a9brow26_col1\" class=\"data row26 col1\" >False</td>\n",
       "            </tr>\n",
       "            <tr>\n",
       "                        <th id=\"T_620b1fcc_db3a_11ea_a32c_4851b7de7a9blevel0_row27\" class=\"row_heading level0 row27\" >27</th>\n",
       "                        <td id=\"T_620b1fcc_db3a_11ea_a32c_4851b7de7a9brow27_col0\" class=\"data row27 col0\" >Outliers Threshold </td>\n",
       "                        <td id=\"T_620b1fcc_db3a_11ea_a32c_4851b7de7a9brow27_col1\" class=\"data row27 col1\" >None</td>\n",
       "            </tr>\n",
       "            <tr>\n",
       "                        <th id=\"T_620b1fcc_db3a_11ea_a32c_4851b7de7a9blevel0_row28\" class=\"row_heading level0 row28\" >28</th>\n",
       "                        <td id=\"T_620b1fcc_db3a_11ea_a32c_4851b7de7a9brow28_col0\" class=\"data row28 col0\" >Remove Multicollinearity </td>\n",
       "                        <td id=\"T_620b1fcc_db3a_11ea_a32c_4851b7de7a9brow28_col1\" class=\"data row28 col1\" >False</td>\n",
       "            </tr>\n",
       "            <tr>\n",
       "                        <th id=\"T_620b1fcc_db3a_11ea_a32c_4851b7de7a9blevel0_row29\" class=\"row_heading level0 row29\" >29</th>\n",
       "                        <td id=\"T_620b1fcc_db3a_11ea_a32c_4851b7de7a9brow29_col0\" class=\"data row29 col0\" >Multicollinearity Threshold </td>\n",
       "                        <td id=\"T_620b1fcc_db3a_11ea_a32c_4851b7de7a9brow29_col1\" class=\"data row29 col1\" >None</td>\n",
       "            </tr>\n",
       "            <tr>\n",
       "                        <th id=\"T_620b1fcc_db3a_11ea_a32c_4851b7de7a9blevel0_row30\" class=\"row_heading level0 row30\" >30</th>\n",
       "                        <td id=\"T_620b1fcc_db3a_11ea_a32c_4851b7de7a9brow30_col0\" class=\"data row30 col0\" >Clustering </td>\n",
       "                        <td id=\"T_620b1fcc_db3a_11ea_a32c_4851b7de7a9brow30_col1\" class=\"data row30 col1\" >False</td>\n",
       "            </tr>\n",
       "            <tr>\n",
       "                        <th id=\"T_620b1fcc_db3a_11ea_a32c_4851b7de7a9blevel0_row31\" class=\"row_heading level0 row31\" >31</th>\n",
       "                        <td id=\"T_620b1fcc_db3a_11ea_a32c_4851b7de7a9brow31_col0\" class=\"data row31 col0\" >Clustering Iteration </td>\n",
       "                        <td id=\"T_620b1fcc_db3a_11ea_a32c_4851b7de7a9brow31_col1\" class=\"data row31 col1\" >None</td>\n",
       "            </tr>\n",
       "            <tr>\n",
       "                        <th id=\"T_620b1fcc_db3a_11ea_a32c_4851b7de7a9blevel0_row32\" class=\"row_heading level0 row32\" >32</th>\n",
       "                        <td id=\"T_620b1fcc_db3a_11ea_a32c_4851b7de7a9brow32_col0\" class=\"data row32 col0\" >Polynomial Features </td>\n",
       "                        <td id=\"T_620b1fcc_db3a_11ea_a32c_4851b7de7a9brow32_col1\" class=\"data row32 col1\" >False</td>\n",
       "            </tr>\n",
       "            <tr>\n",
       "                        <th id=\"T_620b1fcc_db3a_11ea_a32c_4851b7de7a9blevel0_row33\" class=\"row_heading level0 row33\" >33</th>\n",
       "                        <td id=\"T_620b1fcc_db3a_11ea_a32c_4851b7de7a9brow33_col0\" class=\"data row33 col0\" >Polynomial Degree </td>\n",
       "                        <td id=\"T_620b1fcc_db3a_11ea_a32c_4851b7de7a9brow33_col1\" class=\"data row33 col1\" >None</td>\n",
       "            </tr>\n",
       "            <tr>\n",
       "                        <th id=\"T_620b1fcc_db3a_11ea_a32c_4851b7de7a9blevel0_row34\" class=\"row_heading level0 row34\" >34</th>\n",
       "                        <td id=\"T_620b1fcc_db3a_11ea_a32c_4851b7de7a9brow34_col0\" class=\"data row34 col0\" >Trignometry Features </td>\n",
       "                        <td id=\"T_620b1fcc_db3a_11ea_a32c_4851b7de7a9brow34_col1\" class=\"data row34 col1\" >False</td>\n",
       "            </tr>\n",
       "            <tr>\n",
       "                        <th id=\"T_620b1fcc_db3a_11ea_a32c_4851b7de7a9blevel0_row35\" class=\"row_heading level0 row35\" >35</th>\n",
       "                        <td id=\"T_620b1fcc_db3a_11ea_a32c_4851b7de7a9brow35_col0\" class=\"data row35 col0\" >Polynomial Threshold </td>\n",
       "                        <td id=\"T_620b1fcc_db3a_11ea_a32c_4851b7de7a9brow35_col1\" class=\"data row35 col1\" >None</td>\n",
       "            </tr>\n",
       "            <tr>\n",
       "                        <th id=\"T_620b1fcc_db3a_11ea_a32c_4851b7de7a9blevel0_row36\" class=\"row_heading level0 row36\" >36</th>\n",
       "                        <td id=\"T_620b1fcc_db3a_11ea_a32c_4851b7de7a9brow36_col0\" class=\"data row36 col0\" >Group Features </td>\n",
       "                        <td id=\"T_620b1fcc_db3a_11ea_a32c_4851b7de7a9brow36_col1\" class=\"data row36 col1\" >False</td>\n",
       "            </tr>\n",
       "            <tr>\n",
       "                        <th id=\"T_620b1fcc_db3a_11ea_a32c_4851b7de7a9blevel0_row37\" class=\"row_heading level0 row37\" >37</th>\n",
       "                        <td id=\"T_620b1fcc_db3a_11ea_a32c_4851b7de7a9brow37_col0\" class=\"data row37 col0\" >Feature Selection </td>\n",
       "                        <td id=\"T_620b1fcc_db3a_11ea_a32c_4851b7de7a9brow37_col1\" class=\"data row37 col1\" >False</td>\n",
       "            </tr>\n",
       "            <tr>\n",
       "                        <th id=\"T_620b1fcc_db3a_11ea_a32c_4851b7de7a9blevel0_row38\" class=\"row_heading level0 row38\" >38</th>\n",
       "                        <td id=\"T_620b1fcc_db3a_11ea_a32c_4851b7de7a9brow38_col0\" class=\"data row38 col0\" >Features Selection Threshold </td>\n",
       "                        <td id=\"T_620b1fcc_db3a_11ea_a32c_4851b7de7a9brow38_col1\" class=\"data row38 col1\" >None</td>\n",
       "            </tr>\n",
       "            <tr>\n",
       "                        <th id=\"T_620b1fcc_db3a_11ea_a32c_4851b7de7a9blevel0_row39\" class=\"row_heading level0 row39\" >39</th>\n",
       "                        <td id=\"T_620b1fcc_db3a_11ea_a32c_4851b7de7a9brow39_col0\" class=\"data row39 col0\" >Feature Interaction </td>\n",
       "                        <td id=\"T_620b1fcc_db3a_11ea_a32c_4851b7de7a9brow39_col1\" class=\"data row39 col1\" >False</td>\n",
       "            </tr>\n",
       "            <tr>\n",
       "                        <th id=\"T_620b1fcc_db3a_11ea_a32c_4851b7de7a9blevel0_row40\" class=\"row_heading level0 row40\" >40</th>\n",
       "                        <td id=\"T_620b1fcc_db3a_11ea_a32c_4851b7de7a9brow40_col0\" class=\"data row40 col0\" >Feature Ratio </td>\n",
       "                        <td id=\"T_620b1fcc_db3a_11ea_a32c_4851b7de7a9brow40_col1\" class=\"data row40 col1\" >False</td>\n",
       "            </tr>\n",
       "            <tr>\n",
       "                        <th id=\"T_620b1fcc_db3a_11ea_a32c_4851b7de7a9blevel0_row41\" class=\"row_heading level0 row41\" >41</th>\n",
       "                        <td id=\"T_620b1fcc_db3a_11ea_a32c_4851b7de7a9brow41_col0\" class=\"data row41 col0\" >Interaction Threshold </td>\n",
       "                        <td id=\"T_620b1fcc_db3a_11ea_a32c_4851b7de7a9brow41_col1\" class=\"data row41 col1\" >None</td>\n",
       "            </tr>\n",
       "    </tbody></table>"
      ],
      "text/plain": [
       "<pandas.io.formats.style.Styler at 0x1f8f3355048>"
      ]
     },
     "metadata": {},
     "output_type": "display_data"
    }
   ],
   "source": [
    "exp_reg101 = setup(data = trainval_df, target = 'resale_price', session_id=123)"
   ]
  },
  {
   "cell_type": "code",
   "execution_count": 59,
   "metadata": {},
   "outputs": [
    {
     "data": {
      "text/html": [
       "<style  type=\"text/css\" >\n",
       "    #T_0a508fb4_db3b_11ea_900a_4851b7de7a9b th {\n",
       "          text-align: left;\n",
       "    }#T_0a508fb4_db3b_11ea_900a_4851b7de7a9brow0_col0,#T_0a508fb4_db3b_11ea_900a_4851b7de7a9brow1_col0,#T_0a508fb4_db3b_11ea_900a_4851b7de7a9brow1_col1,#T_0a508fb4_db3b_11ea_900a_4851b7de7a9brow1_col2,#T_0a508fb4_db3b_11ea_900a_4851b7de7a9brow1_col3,#T_0a508fb4_db3b_11ea_900a_4851b7de7a9brow1_col4,#T_0a508fb4_db3b_11ea_900a_4851b7de7a9brow1_col5,#T_0a508fb4_db3b_11ea_900a_4851b7de7a9brow1_col6,#T_0a508fb4_db3b_11ea_900a_4851b7de7a9brow2_col0,#T_0a508fb4_db3b_11ea_900a_4851b7de7a9brow2_col1,#T_0a508fb4_db3b_11ea_900a_4851b7de7a9brow2_col2,#T_0a508fb4_db3b_11ea_900a_4851b7de7a9brow2_col3,#T_0a508fb4_db3b_11ea_900a_4851b7de7a9brow2_col4,#T_0a508fb4_db3b_11ea_900a_4851b7de7a9brow2_col5,#T_0a508fb4_db3b_11ea_900a_4851b7de7a9brow2_col6,#T_0a508fb4_db3b_11ea_900a_4851b7de7a9brow3_col0,#T_0a508fb4_db3b_11ea_900a_4851b7de7a9brow3_col1,#T_0a508fb4_db3b_11ea_900a_4851b7de7a9brow3_col2,#T_0a508fb4_db3b_11ea_900a_4851b7de7a9brow3_col3,#T_0a508fb4_db3b_11ea_900a_4851b7de7a9brow3_col4,#T_0a508fb4_db3b_11ea_900a_4851b7de7a9brow3_col5,#T_0a508fb4_db3b_11ea_900a_4851b7de7a9brow3_col6,#T_0a508fb4_db3b_11ea_900a_4851b7de7a9brow4_col0,#T_0a508fb4_db3b_11ea_900a_4851b7de7a9brow4_col1,#T_0a508fb4_db3b_11ea_900a_4851b7de7a9brow4_col2,#T_0a508fb4_db3b_11ea_900a_4851b7de7a9brow4_col3,#T_0a508fb4_db3b_11ea_900a_4851b7de7a9brow4_col4,#T_0a508fb4_db3b_11ea_900a_4851b7de7a9brow4_col5,#T_0a508fb4_db3b_11ea_900a_4851b7de7a9brow4_col6,#T_0a508fb4_db3b_11ea_900a_4851b7de7a9brow5_col0,#T_0a508fb4_db3b_11ea_900a_4851b7de7a9brow5_col1,#T_0a508fb4_db3b_11ea_900a_4851b7de7a9brow5_col2,#T_0a508fb4_db3b_11ea_900a_4851b7de7a9brow5_col3,#T_0a508fb4_db3b_11ea_900a_4851b7de7a9brow5_col4,#T_0a508fb4_db3b_11ea_900a_4851b7de7a9brow5_col5,#T_0a508fb4_db3b_11ea_900a_4851b7de7a9brow5_col6,#T_0a508fb4_db3b_11ea_900a_4851b7de7a9brow6_col0,#T_0a508fb4_db3b_11ea_900a_4851b7de7a9brow6_col1,#T_0a508fb4_db3b_11ea_900a_4851b7de7a9brow6_col2,#T_0a508fb4_db3b_11ea_900a_4851b7de7a9brow6_col3,#T_0a508fb4_db3b_11ea_900a_4851b7de7a9brow6_col4,#T_0a508fb4_db3b_11ea_900a_4851b7de7a9brow6_col5,#T_0a508fb4_db3b_11ea_900a_4851b7de7a9brow6_col6,#T_0a508fb4_db3b_11ea_900a_4851b7de7a9brow7_col0,#T_0a508fb4_db3b_11ea_900a_4851b7de7a9brow7_col1,#T_0a508fb4_db3b_11ea_900a_4851b7de7a9brow7_col2,#T_0a508fb4_db3b_11ea_900a_4851b7de7a9brow7_col3,#T_0a508fb4_db3b_11ea_900a_4851b7de7a9brow7_col4,#T_0a508fb4_db3b_11ea_900a_4851b7de7a9brow7_col5,#T_0a508fb4_db3b_11ea_900a_4851b7de7a9brow7_col6,#T_0a508fb4_db3b_11ea_900a_4851b7de7a9brow8_col0,#T_0a508fb4_db3b_11ea_900a_4851b7de7a9brow8_col1,#T_0a508fb4_db3b_11ea_900a_4851b7de7a9brow8_col2,#T_0a508fb4_db3b_11ea_900a_4851b7de7a9brow8_col3,#T_0a508fb4_db3b_11ea_900a_4851b7de7a9brow8_col4,#T_0a508fb4_db3b_11ea_900a_4851b7de7a9brow8_col5,#T_0a508fb4_db3b_11ea_900a_4851b7de7a9brow8_col6{\n",
       "            text-align:  left;\n",
       "        }#T_0a508fb4_db3b_11ea_900a_4851b7de7a9brow0_col1,#T_0a508fb4_db3b_11ea_900a_4851b7de7a9brow0_col2,#T_0a508fb4_db3b_11ea_900a_4851b7de7a9brow0_col3,#T_0a508fb4_db3b_11ea_900a_4851b7de7a9brow0_col4,#T_0a508fb4_db3b_11ea_900a_4851b7de7a9brow0_col5,#T_0a508fb4_db3b_11ea_900a_4851b7de7a9brow0_col6{\n",
       "            background-color:  yellow;\n",
       "            text-align:  left;\n",
       "        }#T_0a508fb4_db3b_11ea_900a_4851b7de7a9brow0_col7,#T_0a508fb4_db3b_11ea_900a_4851b7de7a9brow1_col7,#T_0a508fb4_db3b_11ea_900a_4851b7de7a9brow2_col7,#T_0a508fb4_db3b_11ea_900a_4851b7de7a9brow3_col7,#T_0a508fb4_db3b_11ea_900a_4851b7de7a9brow4_col7,#T_0a508fb4_db3b_11ea_900a_4851b7de7a9brow5_col7,#T_0a508fb4_db3b_11ea_900a_4851b7de7a9brow6_col7,#T_0a508fb4_db3b_11ea_900a_4851b7de7a9brow7_col7,#T_0a508fb4_db3b_11ea_900a_4851b7de7a9brow8_col7{\n",
       "            background-color:  lightgrey;\n",
       "            text-align:  left;\n",
       "        }</style><table id=\"T_0a508fb4_db3b_11ea_900a_4851b7de7a9b\" ><thead>    <tr>        <th class=\"blank level0\" ></th>        <th class=\"col_heading level0 col0\" >Model</th>        <th class=\"col_heading level0 col1\" >MAE</th>        <th class=\"col_heading level0 col2\" >MSE</th>        <th class=\"col_heading level0 col3\" >RMSE</th>        <th class=\"col_heading level0 col4\" >R2</th>        <th class=\"col_heading level0 col5\" >RMSLE</th>        <th class=\"col_heading level0 col6\" >MAPE</th>        <th class=\"col_heading level0 col7\" >TT (Sec)</th>    </tr></thead><tbody>\n",
       "                <tr>\n",
       "                        <th id=\"T_0a508fb4_db3b_11ea_900a_4851b7de7a9blevel0_row0\" class=\"row_heading level0 row0\" >0</th>\n",
       "                        <td id=\"T_0a508fb4_db3b_11ea_900a_4851b7de7a9brow0_col0\" class=\"data row0 col0\" >Extreme Gradient Boosting</td>\n",
       "                        <td id=\"T_0a508fb4_db3b_11ea_900a_4851b7de7a9brow0_col1\" class=\"data row0 col1\" >24225.5680</td>\n",
       "                        <td id=\"T_0a508fb4_db3b_11ea_900a_4851b7de7a9brow0_col2\" class=\"data row0 col2\" >1156853225.3277</td>\n",
       "                        <td id=\"T_0a508fb4_db3b_11ea_900a_4851b7de7a9brow0_col3\" class=\"data row0 col3\" >33979.9424</td>\n",
       "                        <td id=\"T_0a508fb4_db3b_11ea_900a_4851b7de7a9brow0_col4\" class=\"data row0 col4\" >0.9449</td>\n",
       "                        <td id=\"T_0a508fb4_db3b_11ea_900a_4851b7de7a9brow0_col5\" class=\"data row0 col5\" >0.0722</td>\n",
       "                        <td id=\"T_0a508fb4_db3b_11ea_900a_4851b7de7a9brow0_col6\" class=\"data row0 col6\" >0.0551</td>\n",
       "                        <td id=\"T_0a508fb4_db3b_11ea_900a_4851b7de7a9brow0_col7\" class=\"data row0 col7\" >2.1213</td>\n",
       "            </tr>\n",
       "            <tr>\n",
       "                        <th id=\"T_0a508fb4_db3b_11ea_900a_4851b7de7a9blevel0_row1\" class=\"row_heading level0 row1\" >1</th>\n",
       "                        <td id=\"T_0a508fb4_db3b_11ea_900a_4851b7de7a9brow1_col0\" class=\"data row1 col0\" >Random Forest</td>\n",
       "                        <td id=\"T_0a508fb4_db3b_11ea_900a_4851b7de7a9brow1_col1\" class=\"data row1 col1\" >24489.3859</td>\n",
       "                        <td id=\"T_0a508fb4_db3b_11ea_900a_4851b7de7a9brow1_col2\" class=\"data row1 col2\" >1255150336.2973</td>\n",
       "                        <td id=\"T_0a508fb4_db3b_11ea_900a_4851b7de7a9brow1_col3\" class=\"data row1 col3\" >35401.1190</td>\n",
       "                        <td id=\"T_0a508fb4_db3b_11ea_900a_4851b7de7a9brow1_col4\" class=\"data row1 col4\" >0.9401</td>\n",
       "                        <td id=\"T_0a508fb4_db3b_11ea_900a_4851b7de7a9brow1_col5\" class=\"data row1 col5\" >0.0737</td>\n",
       "                        <td id=\"T_0a508fb4_db3b_11ea_900a_4851b7de7a9brow1_col6\" class=\"data row1 col6\" >0.0552</td>\n",
       "                        <td id=\"T_0a508fb4_db3b_11ea_900a_4851b7de7a9brow1_col7\" class=\"data row1 col7\" >3.9671</td>\n",
       "            </tr>\n",
       "            <tr>\n",
       "                        <th id=\"T_0a508fb4_db3b_11ea_900a_4851b7de7a9blevel0_row2\" class=\"row_heading level0 row2\" >2</th>\n",
       "                        <td id=\"T_0a508fb4_db3b_11ea_900a_4851b7de7a9brow2_col0\" class=\"data row2 col0\" >Gradient Boosting Regressor</td>\n",
       "                        <td id=\"T_0a508fb4_db3b_11ea_900a_4851b7de7a9brow2_col1\" class=\"data row2 col1\" >31464.0878</td>\n",
       "                        <td id=\"T_0a508fb4_db3b_11ea_900a_4851b7de7a9brow2_col2\" class=\"data row2 col2\" >1931329392.5213</td>\n",
       "                        <td id=\"T_0a508fb4_db3b_11ea_900a_4851b7de7a9brow2_col3\" class=\"data row2 col3\" >43928.6677</td>\n",
       "                        <td id=\"T_0a508fb4_db3b_11ea_900a_4851b7de7a9brow2_col4\" class=\"data row2 col4\" >0.9079</td>\n",
       "                        <td id=\"T_0a508fb4_db3b_11ea_900a_4851b7de7a9brow2_col5\" class=\"data row2 col5\" >0.0918</td>\n",
       "                        <td id=\"T_0a508fb4_db3b_11ea_900a_4851b7de7a9brow2_col6\" class=\"data row2 col6\" >0.0710</td>\n",
       "                        <td id=\"T_0a508fb4_db3b_11ea_900a_4851b7de7a9brow2_col7\" class=\"data row2 col7\" >2.8600</td>\n",
       "            </tr>\n",
       "            <tr>\n",
       "                        <th id=\"T_0a508fb4_db3b_11ea_900a_4851b7de7a9blevel0_row3\" class=\"row_heading level0 row3\" >3</th>\n",
       "                        <td id=\"T_0a508fb4_db3b_11ea_900a_4851b7de7a9brow3_col0\" class=\"data row3 col0\" >Decision Tree</td>\n",
       "                        <td id=\"T_0a508fb4_db3b_11ea_900a_4851b7de7a9brow3_col1\" class=\"data row3 col1\" >34070.6299</td>\n",
       "                        <td id=\"T_0a508fb4_db3b_11ea_900a_4851b7de7a9brow3_col2\" class=\"data row3 col2\" >2489908054.1498</td>\n",
       "                        <td id=\"T_0a508fb4_db3b_11ea_900a_4851b7de7a9brow3_col3\" class=\"data row3 col3\" >49875.3743</td>\n",
       "                        <td id=\"T_0a508fb4_db3b_11ea_900a_4851b7de7a9brow3_col4\" class=\"data row3 col4\" >0.8812</td>\n",
       "                        <td id=\"T_0a508fb4_db3b_11ea_900a_4851b7de7a9brow3_col5\" class=\"data row3 col5\" >0.1048</td>\n",
       "                        <td id=\"T_0a508fb4_db3b_11ea_900a_4851b7de7a9brow3_col6\" class=\"data row3 col6\" >0.0770</td>\n",
       "                        <td id=\"T_0a508fb4_db3b_11ea_900a_4851b7de7a9brow3_col7\" class=\"data row3 col7\" >0.1484</td>\n",
       "            </tr>\n",
       "            <tr>\n",
       "                        <th id=\"T_0a508fb4_db3b_11ea_900a_4851b7de7a9blevel0_row4\" class=\"row_heading level0 row4\" >4</th>\n",
       "                        <td id=\"T_0a508fb4_db3b_11ea_900a_4851b7de7a9brow4_col0\" class=\"data row4 col0\" >Lasso Regression</td>\n",
       "                        <td id=\"T_0a508fb4_db3b_11ea_900a_4851b7de7a9brow4_col1\" class=\"data row4 col1\" >43319.5980</td>\n",
       "                        <td id=\"T_0a508fb4_db3b_11ea_900a_4851b7de7a9brow4_col2\" class=\"data row4 col2\" >3282409674.6619</td>\n",
       "                        <td id=\"T_0a508fb4_db3b_11ea_900a_4851b7de7a9brow4_col3\" class=\"data row4 col3\" >57261.9983</td>\n",
       "                        <td id=\"T_0a508fb4_db3b_11ea_900a_4851b7de7a9brow4_col4\" class=\"data row4 col4\" >0.8436</td>\n",
       "                        <td id=\"T_0a508fb4_db3b_11ea_900a_4851b7de7a9brow4_col5\" class=\"data row4 col5\" >0.1430</td>\n",
       "                        <td id=\"T_0a508fb4_db3b_11ea_900a_4851b7de7a9brow4_col6\" class=\"data row4 col6\" >0.1028</td>\n",
       "                        <td id=\"T_0a508fb4_db3b_11ea_900a_4851b7de7a9brow4_col7\" class=\"data row4 col7\" >0.8388</td>\n",
       "            </tr>\n",
       "            <tr>\n",
       "                        <th id=\"T_0a508fb4_db3b_11ea_900a_4851b7de7a9blevel0_row5\" class=\"row_heading level0 row5\" >5</th>\n",
       "                        <td id=\"T_0a508fb4_db3b_11ea_900a_4851b7de7a9brow5_col0\" class=\"data row5 col0\" >Linear Regression</td>\n",
       "                        <td id=\"T_0a508fb4_db3b_11ea_900a_4851b7de7a9brow5_col1\" class=\"data row5 col1\" >43316.0337</td>\n",
       "                        <td id=\"T_0a508fb4_db3b_11ea_900a_4851b7de7a9brow5_col2\" class=\"data row5 col2\" >3283047255.0277</td>\n",
       "                        <td id=\"T_0a508fb4_db3b_11ea_900a_4851b7de7a9brow5_col3\" class=\"data row5 col3\" >57267.9454</td>\n",
       "                        <td id=\"T_0a508fb4_db3b_11ea_900a_4851b7de7a9brow5_col4\" class=\"data row5 col4\" >0.8436</td>\n",
       "                        <td id=\"T_0a508fb4_db3b_11ea_900a_4851b7de7a9brow5_col5\" class=\"data row5 col5\" >0.1429</td>\n",
       "                        <td id=\"T_0a508fb4_db3b_11ea_900a_4851b7de7a9brow5_col6\" class=\"data row5 col6\" >0.1027</td>\n",
       "                        <td id=\"T_0a508fb4_db3b_11ea_900a_4851b7de7a9brow5_col7\" class=\"data row5 col7\" >0.0189</td>\n",
       "            </tr>\n",
       "            <tr>\n",
       "                        <th id=\"T_0a508fb4_db3b_11ea_900a_4851b7de7a9blevel0_row6\" class=\"row_heading level0 row6\" >6</th>\n",
       "                        <td id=\"T_0a508fb4_db3b_11ea_900a_4851b7de7a9brow6_col0\" class=\"data row6 col0\" >AdaBoost Regressor</td>\n",
       "                        <td id=\"T_0a508fb4_db3b_11ea_900a_4851b7de7a9brow6_col1\" class=\"data row6 col1\" >64055.0453</td>\n",
       "                        <td id=\"T_0a508fb4_db3b_11ea_900a_4851b7de7a9brow6_col2\" class=\"data row6 col2\" >5680762817.4945</td>\n",
       "                        <td id=\"T_0a508fb4_db3b_11ea_900a_4851b7de7a9brow6_col3\" class=\"data row6 col3\" >75340.7956</td>\n",
       "                        <td id=\"T_0a508fb4_db3b_11ea_900a_4851b7de7a9brow6_col4\" class=\"data row6 col4\" >0.7290</td>\n",
       "                        <td id=\"T_0a508fb4_db3b_11ea_900a_4851b7de7a9brow6_col5\" class=\"data row6 col5\" >0.1805</td>\n",
       "                        <td id=\"T_0a508fb4_db3b_11ea_900a_4851b7de7a9brow6_col6\" class=\"data row6 col6\" >0.1655</td>\n",
       "                        <td id=\"T_0a508fb4_db3b_11ea_900a_4851b7de7a9brow6_col7\" class=\"data row6 col7\" >1.6875</td>\n",
       "            </tr>\n",
       "            <tr>\n",
       "                        <th id=\"T_0a508fb4_db3b_11ea_900a_4851b7de7a9blevel0_row7\" class=\"row_heading level0 row7\" >7</th>\n",
       "                        <td id=\"T_0a508fb4_db3b_11ea_900a_4851b7de7a9brow7_col0\" class=\"data row7 col0\" >K Neighbors Regressor</td>\n",
       "                        <td id=\"T_0a508fb4_db3b_11ea_900a_4851b7de7a9brow7_col1\" class=\"data row7 col1\" >65191.2434</td>\n",
       "                        <td id=\"T_0a508fb4_db3b_11ea_900a_4851b7de7a9brow7_col2\" class=\"data row7 col2\" >8487477976.2419</td>\n",
       "                        <td id=\"T_0a508fb4_db3b_11ea_900a_4851b7de7a9brow7_col3\" class=\"data row7 col3\" >92055.2397</td>\n",
       "                        <td id=\"T_0a508fb4_db3b_11ea_900a_4851b7de7a9brow7_col4\" class=\"data row7 col4\" >0.5959</td>\n",
       "                        <td id=\"T_0a508fb4_db3b_11ea_900a_4851b7de7a9brow7_col5\" class=\"data row7 col5\" >0.2007</td>\n",
       "                        <td id=\"T_0a508fb4_db3b_11ea_900a_4851b7de7a9brow7_col6\" class=\"data row7 col6\" >0.1529</td>\n",
       "                        <td id=\"T_0a508fb4_db3b_11ea_900a_4851b7de7a9brow7_col7\" class=\"data row7 col7\" >0.1666</td>\n",
       "            </tr>\n",
       "            <tr>\n",
       "                        <th id=\"T_0a508fb4_db3b_11ea_900a_4851b7de7a9blevel0_row8\" class=\"row_heading level0 row8\" >8</th>\n",
       "                        <td id=\"T_0a508fb4_db3b_11ea_900a_4851b7de7a9brow8_col0\" class=\"data row8 col0\" >Support Vector Machine</td>\n",
       "                        <td id=\"T_0a508fb4_db3b_11ea_900a_4851b7de7a9brow8_col1\" class=\"data row8 col1\" >107474.9656</td>\n",
       "                        <td id=\"T_0a508fb4_db3b_11ea_900a_4851b7de7a9brow8_col2\" class=\"data row8 col2\" >21947988686.4867</td>\n",
       "                        <td id=\"T_0a508fb4_db3b_11ea_900a_4851b7de7a9brow8_col3\" class=\"data row8 col3\" >148057.2739</td>\n",
       "                        <td id=\"T_0a508fb4_db3b_11ea_900a_4851b7de7a9brow8_col4\" class=\"data row8 col4\" >-0.0440</td>\n",
       "                        <td id=\"T_0a508fb4_db3b_11ea_900a_4851b7de7a9brow8_col5\" class=\"data row8 col5\" >0.3098</td>\n",
       "                        <td id=\"T_0a508fb4_db3b_11ea_900a_4851b7de7a9brow8_col6\" class=\"data row8 col6\" >0.2412</td>\n",
       "                        <td id=\"T_0a508fb4_db3b_11ea_900a_4851b7de7a9brow8_col7\" class=\"data row8 col7\" >10.2419</td>\n",
       "            </tr>\n",
       "    </tbody></table>"
      ],
      "text/plain": [
       "<pandas.io.formats.style.Styler at 0x1f8eb59c548>"
      ]
     },
     "metadata": {},
     "output_type": "display_data"
    },
    {
     "data": {
      "text/plain": [
       "XGBRegressor(base_score=0.5, booster='gbtree', colsample_bylevel=1,\n",
       "             colsample_bynode=1, colsample_bytree=1, gamma=0, gpu_id=-1,\n",
       "             importance_type='gain', interaction_constraints='',\n",
       "             learning_rate=0.300000012, max_delta_step=0, max_depth=6,\n",
       "             min_child_weight=1, missing=nan, monotone_constraints='()',\n",
       "             n_estimators=100, n_jobs=-1, num_parallel_tree=1,\n",
       "             objective='reg:squarederror', random_state=123, reg_alpha=0,\n",
       "             reg_lambda=1, scale_pos_weight=1, subsample=1, tree_method='exact',\n",
       "             validate_parameters=1, verbosity=0)"
      ]
     },
     "execution_count": 59,
     "metadata": {},
     "output_type": "execute_result"
    }
   ],
   "source": [
    "compare_models(whitelist=['ada','gbr','knn','lasso','lr','dt','rf','svm','xgboost'])"
   ]
  },
  {
   "cell_type": "markdown",
   "metadata": {},
   "source": [
    "### XGBoost emerges as the winner\n",
    "\n",
    "Tensorfold Keras was not part of the comparison, so I will evaluate Keras manually in the next notebook"
   ]
  },
  {
   "cell_type": "code",
   "execution_count": 56,
   "metadata": {},
   "outputs": [
    {
     "name": "stdout",
     "output_type": "stream",
     "text": [
      "Stored 'X_train' (DataFrame)\n",
      "Stored 'X_val' (DataFrame)\n",
      "Stored 'X_test' (DataFrame)\n",
      "Stored 'y_train' (Series)\n",
      "Stored 'y_val' (Series)\n",
      "Stored 'y_test' (Series)\n",
      "Stored 'X_train_ss' (ndarray)\n",
      "Stored 'X_val_ss' (ndarray)\n",
      "Stored 'X_test_ss' (ndarray)\n",
      "Stored 'ylog_train' (Series)\n",
      "Stored 'ylog_val' (Series)\n",
      "Stored 'ylog_test' (Series)\n",
      "Stored 'Xlog_train' (DataFrame)\n",
      "Stored 'Xlog_val' (DataFrame)\n",
      "Stored 'Xlog_test' (DataFrame)\n",
      "Stored 'X' (DataFrame)\n",
      "Stored 'y' (Series)\n"
     ]
    }
   ],
   "source": [
    "# Store variables for use in modeling\n",
    "\n",
    "%store X_train\n",
    "%store X_val\n",
    "%store X_test\n",
    "%store y_train\n",
    "%store y_val\n",
    "%store y_test\n",
    "\n",
    "%store X_train_ss\n",
    "%store X_val_ss\n",
    "%store X_test_ss\n",
    "\n",
    "%store ylog_train\n",
    "%store ylog_val\n",
    "%store ylog_test\n",
    "\n",
    "%store Xlog_train\n",
    "%store Xlog_val\n",
    "%store Xlog_test\n",
    "\n",
    "%store X\n",
    "%store y"
   ]
  },
  {
   "cell_type": "code",
   "execution_count": null,
   "metadata": {},
   "outputs": [],
   "source": []
  }
 ],
 "metadata": {
  "kernelspec": {
   "display_name": "Python 3",
   "language": "python",
   "name": "python3"
  },
  "language_info": {
   "codemirror_mode": {
    "name": "ipython",
    "version": 3
   },
   "file_extension": ".py",
   "mimetype": "text/x-python",
   "name": "python",
   "nbconvert_exporter": "python",
   "pygments_lexer": "ipython3",
   "version": "3.7.6"
  }
 },
 "nbformat": 4,
 "nbformat_minor": 4
}
