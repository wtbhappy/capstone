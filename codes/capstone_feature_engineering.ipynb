{
 "cells": [
  {
   "cell_type": "markdown",
   "metadata": {},
   "source": [
    "# Feature Engineering Part 2\n",
    "\n",
    "- Create features based on the macroeconomic and supply/demand data\n",
    "- Create features based on the distances of HDB flats from points of interests"
   ]
  },
  {
   "cell_type": "code",
   "execution_count": 2,
   "metadata": {},
   "outputs": [],
   "source": [
    "import pandas as pd\n",
    "import numpy as np\n",
    "import scipy.stats as sps\n",
    "import seaborn as sns\n",
    "import time\n",
    "import datetime\n",
    "import matplotlib.pyplot as plt"
   ]
  },
  {
   "cell_type": "markdown",
   "metadata": {},
   "source": [
    "### Populate hdb_df with feature values from the corresponding year and month in feature df"
   ]
  },
  {
   "cell_type": "code",
   "execution_count": 50,
   "metadata": {},
   "outputs": [],
   "source": [
    "# feature df is assumed to have date and feature columns\n",
    "\n",
    "def add_feature(df_house,df_feature,feature,colnum,mthly):\n",
    "    \n",
    "    for i in range(len(df_house)):\n",
    "\n",
    "        # get year and month from hdb_Df\n",
    "        year = df_house.iloc[i,0].year\n",
    "        mth = df_house.iloc[i,0].month\n",
    "        \n",
    "        #print(year,mth,feature)\n",
    "\n",
    "        if mthly:\n",
    "            df_feature['date'] = pd.to_datetime(df_feature['date'])\n",
    "            df_house.iloc[i,colnum] = df_feature[(df_feature.date.dt.year==year) & (df_feature.date.dt.month==mth)][feature].values[0]\n",
    "        else:\n",
    "            df_house.iloc[i,colnum] = df_feature[(df_feature.year==year)][feature].values[0]\n"
   ]
  },
  {
   "cell_type": "code",
   "execution_count": null,
   "metadata": {},
   "outputs": [],
   "source": []
  },
  {
   "cell_type": "code",
   "execution_count": 51,
   "metadata": {},
   "outputs": [],
   "source": [
    "def add_factors(hdb_df):\n",
    "    # add composite leading index feature\n",
    "    cli_df = pd.read_csv(\"../datasets/output/cli_processed.csv\")\n",
    "    hdb_df['cli'] = 0\n",
    "    add_feature(hdb_df,cli_df,'cli',hdb_df.shape[1]-1,True)\n",
    "\n",
    "    # add pmi feature\n",
    "    pmi_df = pd.read_csv(\"../datasets/output/pmi_processed.csv\")\n",
    "    hdb_df['pmi'] = 0\n",
    "    add_feature(hdb_df,pmi_df,'pmi',hdb_df.shape[1]-1,True)\n",
    "\n",
    "    # add cpf interest rate feature\n",
    "    cpf_df = pd.read_csv(\"../datasets/output/cpf_processed.csv\")\n",
    "    hdb_df['cpf_rate'] = 0\n",
    "    add_feature(hdb_df,cpf_df,'cpf_rate',hdb_df.shape[1]-1,True)\n",
    "\n",
    "    # add cpi feature\n",
    "    cpi_df = pd.read_csv(\"../datasets/output/cpi_processed.csv\")\n",
    "    hdb_df['cpi'] = 0\n",
    "    add_feature(hdb_df,cpi_df,'cpi',hdb_df.shape[1]-1,True)\n",
    "\n",
    "    # add gdp growth rate feature\n",
    "    gdp_df = pd.read_csv(\"../datasets/output/gdp_processed.csv\")\n",
    "    hdb_df['gdp_growth'] = 0\n",
    "    add_feature(hdb_df,gdp_df,'gdp_growth',hdb_df.shape[1]-1,True)\n",
    "\n",
    "    # add unemployment rate feature\n",
    "    unemployed_df = pd.read_csv(\"../datasets/output/unemployed_processed.csv\")\n",
    "    hdb_df['unemployed_rate'] = 0\n",
    "    add_feature(hdb_df,unemployed_df,'unemployed_rate',hdb_df.shape[1]-1,True)\n",
    "    \n",
    "    # add sibor feature\n",
    "    sibor_df = pd.read_csv(\"../datasets/output/sibor_processed.csv\")\n",
    "    hdb_df['sibor_3m'] = 0\n",
    "    add_feature(hdb_df,sibor_df,'sibor_3m',hdb_df.shape[1]-1,True)\n",
    "\n",
    "    # add married feature\n",
    "    married_df = pd.read_csv(\"../datasets/output/married_processed.csv\")\n",
    "    hdb_df['married'] = 0\n",
    "    add_feature(hdb_df,married_df,'married',hdb_df.shape[1]-1,False)\n",
    "\n",
    "    # add income feature\n",
    "    income_df = pd.read_csv(\"../datasets/output/income_processed.csv\")\n",
    "    hdb_df['mth_income'] = 0\n",
    "    add_feature(hdb_df,income_df,'mth_income',hdb_df.shape[1]-1,False)\n",
    "\n",
    "    # add hdb price index feature\n",
    "    hdb_index_df = pd.read_csv(\"../datasets/output/hdb_index_processed.csv\")\n",
    "    hdb_df['hdb_index'] = 0\n",
    "    add_feature(hdb_df,hdb_index_df,'hdb_index',hdb_df.shape[1]-1,True)\n",
    "\n",
    "    # add condo price index feature\n",
    "    condo_index_df = pd.read_csv(\"../datasets/output/condo_index_processed.csv\")\n",
    "    hdb_df['condo_index'] = 0\n",
    "    add_feature(hdb_df,condo_index_df,'condo_index',hdb_df.shape[1]-1,True)\n",
    "\n",
    "    # add overall pte property price index feature\n",
    "    pte_index_df = pd.read_csv(\"../datasets/output/pte_index_processed.csv\")\n",
    "    hdb_df['pte_index'] = 0\n",
    "    add_feature(hdb_df,pte_index_df,'pte_index',hdb_df.shape[1]-1,True)\n",
    "\n",
    "    # add total residents feature\n",
    "    pop_df = pd.read_csv(\"../datasets/output/pop_processed.csv\")\n",
    "    hdb_df['total_residents'] = 0\n",
    "    add_feature(hdb_df,pop_df,'total_residents',hdb_df.shape[1]-1,False)\n",
    "\n",
    "    # add new flat offered feature\n",
    "    bto_flat_df = pd.read_csv(\"../datasets/output/bto_flat_processed.csv\")\n",
    "    hdb_df['new_flat_offered'] = 0\n",
    "    add_feature(hdb_df,bto_flat_df,'new_flat_offered',hdb_df.shape[1]-1,False)\n",
    "\n",
    "    # add new private home offered feature\n",
    "    pte_home_df = pd.read_csv(\"../datasets/output/new_pte_home_processed.csv\")\n",
    "    hdb_df['new_pte_home_offered'] = 0\n",
    "    add_feature(hdb_df,pte_home_df,'new_pte_home_offered',hdb_df.shape[1]-1,True)"
   ]
  },
  {
   "cell_type": "markdown",
   "metadata": {},
   "source": [
    "### Calculate distances\n",
    "\n",
    "Based on Haversine Law\n",
    "\n",
    "https://towardsdatascience.com/heres-how-to-calculate-distance-between-2-geolocations-in-python-93ecab5bbba4"
   ]
  },
  {
   "cell_type": "code",
   "execution_count": 6,
   "metadata": {},
   "outputs": [],
   "source": [
    "def haversine_distance(lat1, lon1, lat2, lon2):\n",
    "   r = 6371\n",
    "   phi1 = np.radians(lat1)\n",
    "   phi2 = np.radians(lat2)\n",
    "   delta_phi = np.radians(lat2 - lat1)\n",
    "   delta_lambda = np.radians(lon2 - lon1)\n",
    "   a = np.sin(delta_phi / 2)**2 + np.cos(phi1) * np.cos(phi2) *   np.sin(delta_lambda / 2)**2\n",
    "   res = r * (2 * np.arctan2(np.sqrt(a), np.sqrt(1 - a)))\n",
    "   return np.round(res*1000, 2)"
   ]
  },
  {
   "cell_type": "code",
   "execution_count": 7,
   "metadata": {},
   "outputs": [],
   "source": [
    "# dataframe is assumed to be lat, long and feature columns\n",
    "\n",
    "def nearest_point(df,lat,lng):\n",
    "    distances = []\n",
    "    \n",
    "    for h in range(len(df)):\n",
    "        distances.append(\n",
    "            haversine_distance(lat, lng, df.iloc[h,1], df.iloc[h,2])\n",
    "        )\n",
    "        \n",
    "    distances.sort()\n",
    "    \n",
    "    return distances[:1][0]\n"
   ]
  },
  {
   "cell_type": "code",
   "execution_count": 16,
   "metadata": {},
   "outputs": [],
   "source": [
    "def add_poi_dist(df):\n",
    "        \n",
    "    station_df = pd.read_csv('../datasets/poi/mrt_cleaned.csv')\n",
    "    df['dist_mrt'] = 0\n",
    "    for h in range(len(df)):\n",
    "        df.iloc[h,df.shape[1]-1] = nearest_point(station_df,df.iloc[h,61],df.iloc[h,62])\n",
    "\n",
    "    print('MRT station completed')\n",
    "\n",
    "    mall_df = pd.read_csv('../datasets/poi/mall_geocoded.csv')\n",
    "    df['dist_mall'] = 0\n",
    "    for h in range(len(df)):\n",
    "        df.iloc[h,df.shape[1]-1] = nearest_point(mall_df,df.iloc[h,61],df.iloc[h,62])\n",
    "\n",
    "    print('Malls completed')\n",
    "\n",
    "    hawker_df = pd.read_csv('../datasets/poi/hawker_centre_cleaned.csv')\n",
    "    df['dist_hawker'] = 0\n",
    "    for h in range(len(df)):\n",
    "        df.iloc[h,df.shape[1]-1] = nearest_point(hawker_df,df.iloc[h,61],df.iloc[h,62])\n",
    "\n",
    "    print('Hawker centre completed')\n",
    "\n",
    "    park_df = pd.read_csv('../datasets/poi/park_cleaned.csv')\n",
    "    df['dist_park'] = 0\n",
    "    for h in range(len(df)):\n",
    "        df.iloc[h,df.shape[1]-1] = nearest_point(park_df,df.iloc[h,61],df.iloc[h,62])\n",
    "\n",
    "    print('Park completed')\n",
    "\n",
    "    after_death_df = pd.read_csv('../datasets/poi/after_death_cleaned.csv')\n",
    "    df['dist_after_death'] = 0\n",
    "    for h in range(len(df)):\n",
    "        df.iloc[h,df.shape[1]-1] = nearest_point(after_death_df,df.iloc[h,61],df.iloc[h,62])\n",
    "\n",
    "    print('After death completed')\n",
    "\n",
    "    attraction_df = pd.read_csv('../datasets/poi/attraction_cleaned.csv')\n",
    "    df['dist_attraction'] = 0\n",
    "    for h in range(len(df)):\n",
    "        df.iloc[h,df.shape[1]-1] = nearest_point(attraction_df,df.iloc[h,61],df.iloc[h,62])\n",
    "\n",
    "    print('attraction completed')\n",
    "\n",
    "    sport_df = pd.read_csv('../datasets/poi/sport_cleaned.csv')\n",
    "\n",
    "    # choose the 5 most commmon/popular sports facilities to measure distances\n",
    "    df['dist_pool'] = 0\n",
    "    for h in range(len(df)):\n",
    "        df.iloc[h,df.shape[1]-1] = nearest_point(sport_df[sport_df.swimming_complex==1],\n",
    "                        df.iloc[h,61],df.iloc[h,62])\n",
    "\n",
    "    print('Pool completed')\n",
    "\n",
    "    df['dist_gym'] = 0\n",
    "    for h in range(len(df)):\n",
    "        df.iloc[h,df.shape[1]-1] = nearest_point(sport_df[sport_df.gym==1],\n",
    "                                                    df.iloc[h,61],df.iloc[h,62])\n",
    "\n",
    "    print('gym completed')\n",
    "\n",
    "    df['dist_tennis'] = 0\n",
    "    for h in range(len(df)):\n",
    "        df.iloc[h,df.shape[1]-1] = nearest_point(sport_df[sport_df.tennis_centre==1],\n",
    "                                                         df.iloc[h,61],df.iloc[h,62])\n",
    "    print('tennis completed')\n",
    "\n",
    "    df['dist_stadium'] = 0\n",
    "    for h in range(len(df)):\n",
    "        df.iloc[h,df.shape[1]-1] = nearest_point(sport_df[sport_df.stadium==1],\n",
    "                                                    df.iloc[h,61],df.iloc[h,62])\n",
    "\n",
    "    print('stadium completed')\n",
    "\n",
    "    df['dist_sports_hall'] = 0\n",
    "    for h in range(len(df)):\n",
    "        df.iloc[h,df.shape[1]-1] = nearest_point(sport_df[sport_df.sports_hall==1],\n",
    "                                                         df.iloc[h,61],df.iloc[h,62])\n",
    "    print('sports hall completed')\n",
    "\n",
    "    library_df = pd.read_csv('../datasets/poi/library_cleaned.csv')\n",
    "    df['dist_library'] = 0\n",
    "    for h in range(len(df)):\n",
    "        df.iloc[h,df.shape[1]-1] = nearest_point(library_df,df.iloc[h,61],df.iloc[h,62])\n",
    "\n",
    "    print('library completed')\n",
    "\n",
    "    school_df = pd.read_csv('../datasets/poi/school_geocoded.csv')\n",
    "    df['dist_school'] = 0\n",
    "    for h in range(len(df)):\n",
    "        df.iloc[h,df.shape[1]-1] = nearest_point(school_df,df.iloc[h,61],df.iloc[h,62])\n",
    "        \n",
    "    print('school completed')"
   ]
  },
  {
   "cell_type": "code",
   "execution_count": 17,
   "metadata": {},
   "outputs": [],
   "source": [
    "five = pd.read_csv(\"../datasets/hdb/555.csv\")"
   ]
  },
  {
   "cell_type": "code",
   "execution_count": null,
   "metadata": {},
   "outputs": [],
   "source": [
    "school_df = pd.read_csv('../datasets/poi/school_geocoded.csv')\n",
    "new['dist_school'] = 0\n",
    "for h in range(len(new)):\n",
    "    new.iloc[h,new.shape[1]-1] = nearest_point(school_df,new.iloc[h,61],new.iloc[h,62])"
   ]
  },
  {
   "cell_type": "code",
   "execution_count": 9,
   "metadata": {},
   "outputs": [
    {
     "data": {
      "text/plain": [
       "'lat'"
      ]
     },
     "execution_count": 9,
     "metadata": {},
     "output_type": "execute_result"
    }
   ],
   "source": []
  },
  {
   "cell_type": "code",
   "execution_count": 51,
   "metadata": {},
   "outputs": [
    {
     "name": "stdout",
     "output_type": "stream",
     "text": [
      "MRT station completed\n",
      "Malls completed\n",
      "Hawker centre completed\n",
      "Park completed\n",
      "After death completed\n",
      "attraction completed\n",
      "Pool completed\n",
      "gym completed\n",
      "tennis completed\n",
      "stadium completed\n",
      "sports hall completed\n",
      "library completed\n",
      "school completed\n"
     ]
    }
   ],
   "source": [
    "add_poi_dist(six)"
   ]
  },
  {
   "cell_type": "code",
   "execution_count": 19,
   "metadata": {},
   "outputs": [
    {
     "name": "stdout",
     "output_type": "stream",
     "text": [
      "MRT station completed\n",
      "Malls completed\n",
      "Hawker centre completed\n",
      "Park completed\n",
      "After death completed\n",
      "attraction completed\n",
      "Pool completed\n",
      "gym completed\n",
      "tennis completed\n",
      "stadium completed\n",
      "sports hall completed\n",
      "library completed\n",
      "school completed\n"
     ]
    }
   ],
   "source": [
    "add_poi_dist(five)"
   ]
  },
  {
   "cell_type": "code",
   "execution_count": 20,
   "metadata": {},
   "outputs": [],
   "source": [
    "# save as file\n",
    "five.to_csv(\"../datasets/combined/555.csv\")"
   ]
  },
  {
   "cell_type": "code",
   "execution_count": 21,
   "metadata": {},
   "outputs": [],
   "source": [
    "combined = pd.read_csv(\"../datasets/combined/combined_2015_2018.csv\")"
   ]
  },
  {
   "cell_type": "code",
   "execution_count": 23,
   "metadata": {},
   "outputs": [
    {
     "data": {
      "text/plain": [
       "(80405, 91)"
      ]
     },
     "execution_count": 23,
     "metadata": {},
     "output_type": "execute_result"
    }
   ],
   "source": [
    "combined.shape"
   ]
  },
  {
   "cell_type": "code",
   "execution_count": 52,
   "metadata": {},
   "outputs": [],
   "source": [
    "five = five.drop(columns='dist_school')"
   ]
  },
  {
   "cell_type": "code",
   "execution_count": 53,
   "metadata": {},
   "outputs": [],
   "source": [
    "six = six.drop(columns='dist_school')"
   ]
  },
  {
   "cell_type": "code",
   "execution_count": 54,
   "metadata": {},
   "outputs": [
    {
     "data": {
      "text/plain": [
       "(103, 91)"
      ]
     },
     "execution_count": 54,
     "metadata": {},
     "output_type": "execute_result"
    }
   ],
   "source": [
    "five.shape"
   ]
  },
  {
   "cell_type": "code",
   "execution_count": 55,
   "metadata": {},
   "outputs": [
    {
     "data": {
      "text/plain": [
       "(1, 91)"
      ]
     },
     "execution_count": 55,
     "metadata": {},
     "output_type": "execute_result"
    }
   ],
   "source": [
    "six.shape"
   ]
  },
  {
   "cell_type": "code",
   "execution_count": 58,
   "metadata": {
    "scrolled": true
   },
   "outputs": [],
   "source": [
    "base = combined[combined['dist_mrt']<100000].copy(deep=True)"
   ]
  },
  {
   "cell_type": "code",
   "execution_count": 59,
   "metadata": {},
   "outputs": [
    {
     "data": {
      "text/plain": [
       "(80301, 91)"
      ]
     },
     "execution_count": 59,
     "metadata": {},
     "output_type": "execute_result"
    }
   ],
   "source": [
    "base.shape"
   ]
  },
  {
   "cell_type": "code",
   "execution_count": 68,
   "metadata": {},
   "outputs": [],
   "source": [
    "new = pd.concat([base,five,six],ignore_index=True)"
   ]
  },
  {
   "cell_type": "code",
   "execution_count": null,
   "metadata": {},
   "outputs": [],
   "source": [
    "new.head()"
   ]
  },
  {
   "cell_type": "code",
   "execution_count": 66,
   "metadata": {},
   "outputs": [
    {
     "name": "stderr",
     "output_type": "stream",
     "text": [
      "C:\\Users\\wtbha\\anaconda3\\lib\\site-packages\\pandas\\core\\frame.py:4133: SettingWithCopyWarning: \n",
      "A value is trying to be set on a copy of a slice from a DataFrame\n",
      "\n",
      "See the caveats in the documentation: https://pandas.pydata.org/pandas-docs/stable/user_guide/indexing.html#returning-a-view-versus-a-copy\n",
      "  errors=errors,\n"
     ]
    }
   ],
   "source": [
    "base.rename(columns={'hawker':'dist_hawker'},inplace=True)"
   ]
  },
  {
   "cell_type": "code",
   "execution_count": null,
   "metadata": {},
   "outputs": [],
   "source": [
    "1.32505,103.85476"
   ]
  },
  {
   "cell_type": "code",
   "execution_count": 46,
   "metadata": {},
   "outputs": [
    {
     "data": {
      "text/plain": [
       "'dist_mrt'"
      ]
     },
     "execution_count": 46,
     "metadata": {},
     "output_type": "execute_result"
    }
   ],
   "source": [
    "combined.columns[79]"
   ]
  },
  {
   "cell_type": "code",
   "execution_count": 40,
   "metadata": {},
   "outputs": [],
   "source": [
    "combined.iloc[65624,62]=103.85476"
   ]
  },
  {
   "cell_type": "code",
   "execution_count": 43,
   "metadata": {},
   "outputs": [],
   "source": [
    "six = combined[combined.index==65624]"
   ]
  },
  {
   "cell_type": "code",
   "execution_count": 35,
   "metadata": {},
   "outputs": [
    {
     "data": {
      "text/plain": [
       "186.92"
      ]
     },
     "execution_count": 35,
     "metadata": {},
     "output_type": "execute_result"
    }
   ],
   "source": [
    "nearest_point(hawker_df,1.32505,103.85476)"
   ]
  },
  {
   "cell_type": "code",
   "execution_count": 49,
   "metadata": {},
   "outputs": [],
   "source": [
    "six = six.iloc[:,:79]"
   ]
  },
  {
   "cell_type": "code",
   "execution_count": 50,
   "metadata": {},
   "outputs": [
    {
     "data": {
      "text/html": [
       "<div>\n",
       "<style scoped>\n",
       "    .dataframe tbody tr th:only-of-type {\n",
       "        vertical-align: middle;\n",
       "    }\n",
       "\n",
       "    .dataframe tbody tr th {\n",
       "        vertical-align: top;\n",
       "    }\n",
       "\n",
       "    .dataframe thead th {\n",
       "        text-align: right;\n",
       "    }\n",
       "</style>\n",
       "<table border=\"1\" class=\"dataframe\">\n",
       "  <thead>\n",
       "    <tr style=\"text-align: right;\">\n",
       "      <th></th>\n",
       "      <th>sale_date</th>\n",
       "      <th>town</th>\n",
       "      <th>flat_type</th>\n",
       "      <th>storey_range</th>\n",
       "      <th>floor_area_sqm</th>\n",
       "      <th>flat_model</th>\n",
       "      <th>lease_commence_date</th>\n",
       "      <th>remaining_lease</th>\n",
       "      <th>resale_price</th>\n",
       "      <th>address</th>\n",
       "      <th>...</th>\n",
       "      <th>sibor_1m</th>\n",
       "      <th>sibor_3m</th>\n",
       "      <th>married</th>\n",
       "      <th>mth_income</th>\n",
       "      <th>hdb_index</th>\n",
       "      <th>condo_index</th>\n",
       "      <th>pte_index</th>\n",
       "      <th>total_residents</th>\n",
       "      <th>new_flat_offered</th>\n",
       "      <th>new_pte_home_offered</th>\n",
       "    </tr>\n",
       "  </thead>\n",
       "  <tbody>\n",
       "    <tr>\n",
       "      <th>65624</th>\n",
       "      <td>5/1/2018</td>\n",
       "      <td>kallang_whampoa</td>\n",
       "      <td>3_room</td>\n",
       "      <td>10 TO 12</td>\n",
       "      <td>59.0</td>\n",
       "      <td>improved</td>\n",
       "      <td>1973</td>\n",
       "      <td>54</td>\n",
       "      <td>235000.0</td>\n",
       "      <td>77 lorong limau</td>\n",
       "      <td>...</td>\n",
       "      <td>1.385845</td>\n",
       "      <td>1.509458</td>\n",
       "      <td>2026800</td>\n",
       "      <td>4437</td>\n",
       "      <td>131.7</td>\n",
       "      <td>146.1</td>\n",
       "      <td>149.0</td>\n",
       "      <td>3994283</td>\n",
       "      <td>15811</td>\n",
       "      <td>2437</td>\n",
       "    </tr>\n",
       "  </tbody>\n",
       "</table>\n",
       "<p>1 rows × 79 columns</p>\n",
       "</div>"
      ],
      "text/plain": [
       "      sale_date             town flat_type storey_range  floor_area_sqm  \\\n",
       "65624  5/1/2018  kallang_whampoa    3_room     10 TO 12            59.0   \n",
       "\n",
       "      flat_model  lease_commence_date  remaining_lease  resale_price  \\\n",
       "65624   improved                 1973               54      235000.0   \n",
       "\n",
       "               address  ...  sibor_1m  sibor_3m  married  mth_income  \\\n",
       "65624  77 lorong limau  ...  1.385845  1.509458  2026800        4437   \n",
       "\n",
       "       hdb_index  condo_index  pte_index  total_residents  new_flat_offered  \\\n",
       "65624      131.7        146.1      149.0          3994283             15811   \n",
       "\n",
       "       new_pte_home_offered  \n",
       "65624                  2437  \n",
       "\n",
       "[1 rows x 79 columns]"
      ]
     },
     "execution_count": 50,
     "metadata": {},
     "output_type": "execute_result"
    }
   ],
   "source": [
    "six"
   ]
  },
  {
   "cell_type": "code",
   "execution_count": 34,
   "metadata": {},
   "outputs": [
    {
     "data": {
      "text/plain": [
       "Index(['sale_date', 'town', 'flat_type', 'storey_range', 'floor_area_sqm',\n",
       "       'flat_model', 'lease_commence_date', 'remaining_lease', 'resale_price',\n",
       "       'address', 'floor_range', 'bedok', 'bishan', 'bukit_batok',\n",
       "       'bukit_merah', 'bukit_panjang', 'bukit_timah', 'central_area',\n",
       "       'choa_chu_kang', 'clementi', 'geylang', 'hougang', 'jurong_east',\n",
       "       'jurong_west', 'kallang_whampoa', 'marine_parade', 'pasir_ris',\n",
       "       'punggol', 'queenstown', 'sembawang', 'sengkang', 'serangoon',\n",
       "       'tampines', 'toa_payoh', 'woodlands', 'yishun', 'model_adjoined_flat',\n",
       "       'model_apartment', 'model_dbss', 'model_improved',\n",
       "       'model_improved_maisonette', 'model_maisonette', 'model_model_a',\n",
       "       'model_model_a2', 'model_model_a_maisonette', 'model_multi_generation',\n",
       "       'model_new_generation', 'model_premium_apartment',\n",
       "       'model_premium_apartment_loft', 'model_premium_maisonette',\n",
       "       'model_simplified', 'model_standard', 'model_terrace', 'model_type_s1',\n",
       "       'model_type_s2', 'type_2_room', 'type_3_room', 'type_4_room',\n",
       "       'type_5_room', 'type_executive', 'type_multi_generation', 'lat', 'lng',\n",
       "       'cli', 'pmi', 'cpf_rate', 'cpi', 'gdp_growth', 'unemployed_rate',\n",
       "       'sibor_1m', 'sibor_3m', 'married', 'mth_income', 'hdb_index',\n",
       "       'condo_index', 'pte_index', 'total_residents', 'new_flat_offered',\n",
       "       'new_pte_home_offered', 'dist_mrt', 'dist_mall', 'hawker', 'dist_park',\n",
       "       'dist_after_death', 'dist_attraction', 'dist_pool', 'dist_gym',\n",
       "       'dist_tennis', 'dist_stadium', 'dist_sports_hall', 'dist_library'],\n",
       "      dtype='object')"
      ]
     },
     "execution_count": 34,
     "metadata": {},
     "output_type": "execute_result"
    }
   ],
   "source": [
    "combined.columns"
   ]
  },
  {
   "cell_type": "code",
   "execution_count": 142,
   "metadata": {},
   "outputs": [],
   "source": [
    "# Open the files saved in Feature Engineering Part 1 (Geocoding)\n",
    "\n",
    "hdb_2015 = pd.read_csv(\"../datasets/hdb/hdb_resale_2015_geocoded.csv\")\n",
    "hdb_2016 = pd.read_csv(\"../datasets/hdb/hdb_resale_2016_geocoded.csv\")\n",
    "hdb_2017 = pd.read_csv(\"../datasets/hdb/hdb_resale_2017_geocoded.csv\")\n",
    "hdb_2018 = pd.read_csv(\"../datasets/hdb/hdb_resale_2018_geocoded.csv\")"
   ]
  },
  {
   "cell_type": "markdown",
   "metadata": {},
   "source": [
    "### Add features to HDB datasets\n",
    "\n",
    "This will take hours. I processed one year at a time"
   ]
  },
  {
   "cell_type": "code",
   "execution_count": null,
   "metadata": {},
   "outputs": [],
   "source": [
    "# Add macroecnomic factors as new features to HDB flat datasets\n",
    "add_factors(hdb_2015)\n",
    "\n",
    "# Calculate distances between POI and HDB flat and add the as features to HDB flat datasets\n",
    "add_poi_dist(hdb_2015)\n",
    "\n",
    "# save as file\n",
    "hdb_2015.to_csv(\"../datasets/combined/data_2015.csv\")"
   ]
  },
  {
   "cell_type": "markdown",
   "metadata": {},
   "source": [
    "### Combine the 4 datasets\n",
    "\n",
    "After features have been added to all datasets it is time to combine them for preprocessing work"
   ]
  },
  {
   "cell_type": "code",
   "execution_count": 15,
   "metadata": {},
   "outputs": [],
   "source": [
    "data_2015 = pd.read_csv(\"../datasets/combined/data_2015.csv\")\n",
    "data_2016 = pd.read_csv(\"../datasets/combined/data_2016.csv\")\n",
    "data_2017 = pd.read_csv(\"../datasets/combined/data_2017.csv\")\n",
    "data_2018 = pd.read_csv(\"../datasets/combined/data_2018.csv\")"
   ]
  },
  {
   "cell_type": "code",
   "execution_count": 16,
   "metadata": {},
   "outputs": [],
   "source": [
    "# merge the datasets into one\n",
    "combined = pd.concat([data_2015,data_2016,data_2017,data_2018],ignore_index=True)\n",
    "combined.to_csv(\"../datasets/combined/combined_2015_2018.csv\",index=False)"
   ]
  },
  {
   "cell_type": "code",
   "execution_count": 17,
   "metadata": {},
   "outputs": [
    {
     "data": {
      "text/html": [
       "<div>\n",
       "<style scoped>\n",
       "    .dataframe tbody tr th:only-of-type {\n",
       "        vertical-align: middle;\n",
       "    }\n",
       "\n",
       "    .dataframe tbody tr th {\n",
       "        vertical-align: top;\n",
       "    }\n",
       "\n",
       "    .dataframe thead th {\n",
       "        text-align: right;\n",
       "    }\n",
       "</style>\n",
       "<table border=\"1\" class=\"dataframe\">\n",
       "  <thead>\n",
       "    <tr style=\"text-align: right;\">\n",
       "      <th></th>\n",
       "      <th>floor_area_sqm</th>\n",
       "      <th>lease_commence_date</th>\n",
       "      <th>remaining_lease</th>\n",
       "      <th>resale_price</th>\n",
       "      <th>floor_range</th>\n",
       "      <th>bedok</th>\n",
       "      <th>bishan</th>\n",
       "      <th>bukit_batok</th>\n",
       "      <th>bukit_merah</th>\n",
       "      <th>bukit_panjang</th>\n",
       "      <th>...</th>\n",
       "      <th>dist_hawker</th>\n",
       "      <th>dist_park</th>\n",
       "      <th>dist_after_death</th>\n",
       "      <th>dist_attraction</th>\n",
       "      <th>dist_pool</th>\n",
       "      <th>dist_gym</th>\n",
       "      <th>dist_tennis</th>\n",
       "      <th>dist_stadium</th>\n",
       "      <th>dist_sports_hall</th>\n",
       "      <th>dist_library</th>\n",
       "    </tr>\n",
       "  </thead>\n",
       "  <tbody>\n",
       "    <tr>\n",
       "      <th>count</th>\n",
       "      <td>80405.000000</td>\n",
       "      <td>80405.000000</td>\n",
       "      <td>80405.000000</td>\n",
       "      <td>8.040500e+04</td>\n",
       "      <td>80405.000000</td>\n",
       "      <td>80405.000000</td>\n",
       "      <td>80405.000000</td>\n",
       "      <td>80405.000000</td>\n",
       "      <td>80405.000000</td>\n",
       "      <td>80405.000000</td>\n",
       "      <td>...</td>\n",
       "      <td>80405.000000</td>\n",
       "      <td>8.040500e+04</td>\n",
       "      <td>8.040500e+04</td>\n",
       "      <td>8.040500e+04</td>\n",
       "      <td>8.040500e+04</td>\n",
       "      <td>8.040500e+04</td>\n",
       "      <td>8.040500e+04</td>\n",
       "      <td>8.040500e+04</td>\n",
       "      <td>8.040500e+04</td>\n",
       "      <td>8.040500e+04</td>\n",
       "    </tr>\n",
       "    <tr>\n",
       "      <th>mean</th>\n",
       "      <td>97.581557</td>\n",
       "      <td>1992.077197</td>\n",
       "      <td>74.015546</td>\n",
       "      <td>4.399488e+05</td>\n",
       "      <td>7.430794</td>\n",
       "      <td>0.060058</td>\n",
       "      <td>0.019551</td>\n",
       "      <td>0.039077</td>\n",
       "      <td>0.038816</td>\n",
       "      <td>0.035296</td>\n",
       "      <td>...</td>\n",
       "      <td>1153.316828</td>\n",
       "      <td>1.556909e+04</td>\n",
       "      <td>1.939036e+04</td>\n",
       "      <td>1.743459e+04</td>\n",
       "      <td>1.615173e+04</td>\n",
       "      <td>1.637717e+04</td>\n",
       "      <td>1.819368e+04</td>\n",
       "      <td>1.665706e+04</td>\n",
       "      <td>1.638795e+04</td>\n",
       "      <td>1.596172e+04</td>\n",
       "    </tr>\n",
       "    <tr>\n",
       "      <th>std</th>\n",
       "      <td>24.242844</td>\n",
       "      <td>11.547896</td>\n",
       "      <td>11.518088</td>\n",
       "      <td>1.457353e+05</td>\n",
       "      <td>5.602465</td>\n",
       "      <td>0.237597</td>\n",
       "      <td>0.138452</td>\n",
       "      <td>0.193780</td>\n",
       "      <td>0.193157</td>\n",
       "      <td>0.184529</td>\n",
       "      <td>...</td>\n",
       "      <td>1816.462424</td>\n",
       "      <td>4.123750e+05</td>\n",
       "      <td>4.122225e+05</td>\n",
       "      <td>4.122466e+05</td>\n",
       "      <td>4.123578e+05</td>\n",
       "      <td>4.123500e+05</td>\n",
       "      <td>4.122894e+05</td>\n",
       "      <td>4.123405e+05</td>\n",
       "      <td>4.123497e+05</td>\n",
       "      <td>4.124073e+05</td>\n",
       "    </tr>\n",
       "    <tr>\n",
       "      <th>min</th>\n",
       "      <td>31.000000</td>\n",
       "      <td>1966.000000</td>\n",
       "      <td>47.000000</td>\n",
       "      <td>1.600000e+05</td>\n",
       "      <td>1.000000</td>\n",
       "      <td>0.000000</td>\n",
       "      <td>0.000000</td>\n",
       "      <td>0.000000</td>\n",
       "      <td>0.000000</td>\n",
       "      <td>0.000000</td>\n",
       "      <td>...</td>\n",
       "      <td>0.000000</td>\n",
       "      <td>3.311000e+01</td>\n",
       "      <td>6.104000e+01</td>\n",
       "      <td>1.507000e+01</td>\n",
       "      <td>1.226000e+01</td>\n",
       "      <td>1.226000e+01</td>\n",
       "      <td>3.022000e+01</td>\n",
       "      <td>3.022000e+01</td>\n",
       "      <td>1.226000e+01</td>\n",
       "      <td>2.037000e+01</td>\n",
       "    </tr>\n",
       "    <tr>\n",
       "      <th>25%</th>\n",
       "      <td>76.000000</td>\n",
       "      <td>1984.000000</td>\n",
       "      <td>66.000000</td>\n",
       "      <td>3.380000e+05</td>\n",
       "      <td>4.000000</td>\n",
       "      <td>0.000000</td>\n",
       "      <td>0.000000</td>\n",
       "      <td>0.000000</td>\n",
       "      <td>0.000000</td>\n",
       "      <td>0.000000</td>\n",
       "      <td>...</td>\n",
       "      <td>359.750000</td>\n",
       "      <td>4.812400e+02</td>\n",
       "      <td>2.196710e+03</td>\n",
       "      <td>1.473330e+03</td>\n",
       "      <td>8.153400e+02</td>\n",
       "      <td>9.404300e+02</td>\n",
       "      <td>1.608110e+03</td>\n",
       "      <td>1.000470e+03</td>\n",
       "      <td>9.502500e+02</td>\n",
       "      <td>7.358400e+02</td>\n",
       "    </tr>\n",
       "    <tr>\n",
       "      <th>50%</th>\n",
       "      <td>96.000000</td>\n",
       "      <td>1992.000000</td>\n",
       "      <td>73.000000</td>\n",
       "      <td>4.090000e+05</td>\n",
       "      <td>7.000000</td>\n",
       "      <td>0.000000</td>\n",
       "      <td>0.000000</td>\n",
       "      <td>0.000000</td>\n",
       "      <td>0.000000</td>\n",
       "      <td>0.000000</td>\n",
       "      <td>...</td>\n",
       "      <td>763.220000</td>\n",
       "      <td>7.187000e+02</td>\n",
       "      <td>3.461760e+03</td>\n",
       "      <td>2.402940e+03</td>\n",
       "      <td>1.229430e+03</td>\n",
       "      <td>1.427180e+03</td>\n",
       "      <td>3.109950e+03</td>\n",
       "      <td>1.645840e+03</td>\n",
       "      <td>1.435150e+03</td>\n",
       "      <td>1.100520e+03</td>\n",
       "    </tr>\n",
       "    <tr>\n",
       "      <th>75%</th>\n",
       "      <td>112.000000</td>\n",
       "      <td>2001.000000</td>\n",
       "      <td>83.000000</td>\n",
       "      <td>5.050000e+05</td>\n",
       "      <td>10.000000</td>\n",
       "      <td>0.000000</td>\n",
       "      <td>0.000000</td>\n",
       "      <td>0.000000</td>\n",
       "      <td>0.000000</td>\n",
       "      <td>0.000000</td>\n",
       "      <td>...</td>\n",
       "      <td>1576.650000</td>\n",
       "      <td>9.998100e+02</td>\n",
       "      <td>6.762180e+03</td>\n",
       "      <td>3.518610e+03</td>\n",
       "      <td>1.798950e+03</td>\n",
       "      <td>2.083290e+03</td>\n",
       "      <td>5.102270e+03</td>\n",
       "      <td>2.629330e+03</td>\n",
       "      <td>2.098440e+03</td>\n",
       "      <td>1.611450e+03</td>\n",
       "    </tr>\n",
       "    <tr>\n",
       "      <th>max</th>\n",
       "      <td>280.000000</td>\n",
       "      <td>2016.000000</td>\n",
       "      <td>97.000000</td>\n",
       "      <td>1.185000e+06</td>\n",
       "      <td>49.000000</td>\n",
       "      <td>1.000000</td>\n",
       "      <td>1.000000</td>\n",
       "      <td>1.000000</td>\n",
       "      <td>1.000000</td>\n",
       "      <td>1.000000</td>\n",
       "      <td>...</td>\n",
       "      <td>417372.390000</td>\n",
       "      <td>1.152970e+07</td>\n",
       "      <td>1.152890e+07</td>\n",
       "      <td>1.152791e+07</td>\n",
       "      <td>1.152979e+07</td>\n",
       "      <td>1.152979e+07</td>\n",
       "      <td>1.152979e+07</td>\n",
       "      <td>1.152979e+07</td>\n",
       "      <td>1.152979e+07</td>\n",
       "      <td>1.153099e+07</td>\n",
       "    </tr>\n",
       "  </tbody>\n",
       "</table>\n",
       "<p>8 rows × 85 columns</p>\n",
       "</div>"
      ],
      "text/plain": [
       "       floor_area_sqm  lease_commence_date  remaining_lease  resale_price  \\\n",
       "count    80405.000000         80405.000000     80405.000000  8.040500e+04   \n",
       "mean        97.581557          1992.077197        74.015546  4.399488e+05   \n",
       "std         24.242844            11.547896        11.518088  1.457353e+05   \n",
       "min         31.000000          1966.000000        47.000000  1.600000e+05   \n",
       "25%         76.000000          1984.000000        66.000000  3.380000e+05   \n",
       "50%         96.000000          1992.000000        73.000000  4.090000e+05   \n",
       "75%        112.000000          2001.000000        83.000000  5.050000e+05   \n",
       "max        280.000000          2016.000000        97.000000  1.185000e+06   \n",
       "\n",
       "        floor_range         bedok        bishan   bukit_batok   bukit_merah  \\\n",
       "count  80405.000000  80405.000000  80405.000000  80405.000000  80405.000000   \n",
       "mean       7.430794      0.060058      0.019551      0.039077      0.038816   \n",
       "std        5.602465      0.237597      0.138452      0.193780      0.193157   \n",
       "min        1.000000      0.000000      0.000000      0.000000      0.000000   \n",
       "25%        4.000000      0.000000      0.000000      0.000000      0.000000   \n",
       "50%        7.000000      0.000000      0.000000      0.000000      0.000000   \n",
       "75%       10.000000      0.000000      0.000000      0.000000      0.000000   \n",
       "max       49.000000      1.000000      1.000000      1.000000      1.000000   \n",
       "\n",
       "       bukit_panjang  ...    dist_hawker     dist_park  dist_after_death  \\\n",
       "count   80405.000000  ...   80405.000000  8.040500e+04      8.040500e+04   \n",
       "mean        0.035296  ...    1153.316828  1.556909e+04      1.939036e+04   \n",
       "std         0.184529  ...    1816.462424  4.123750e+05      4.122225e+05   \n",
       "min         0.000000  ...       0.000000  3.311000e+01      6.104000e+01   \n",
       "25%         0.000000  ...     359.750000  4.812400e+02      2.196710e+03   \n",
       "50%         0.000000  ...     763.220000  7.187000e+02      3.461760e+03   \n",
       "75%         0.000000  ...    1576.650000  9.998100e+02      6.762180e+03   \n",
       "max         1.000000  ...  417372.390000  1.152970e+07      1.152890e+07   \n",
       "\n",
       "       dist_attraction     dist_pool      dist_gym   dist_tennis  \\\n",
       "count     8.040500e+04  8.040500e+04  8.040500e+04  8.040500e+04   \n",
       "mean      1.743459e+04  1.615173e+04  1.637717e+04  1.819368e+04   \n",
       "std       4.122466e+05  4.123578e+05  4.123500e+05  4.122894e+05   \n",
       "min       1.507000e+01  1.226000e+01  1.226000e+01  3.022000e+01   \n",
       "25%       1.473330e+03  8.153400e+02  9.404300e+02  1.608110e+03   \n",
       "50%       2.402940e+03  1.229430e+03  1.427180e+03  3.109950e+03   \n",
       "75%       3.518610e+03  1.798950e+03  2.083290e+03  5.102270e+03   \n",
       "max       1.152791e+07  1.152979e+07  1.152979e+07  1.152979e+07   \n",
       "\n",
       "       dist_stadium  dist_sports_hall  dist_library  \n",
       "count  8.040500e+04      8.040500e+04  8.040500e+04  \n",
       "mean   1.665706e+04      1.638795e+04  1.596172e+04  \n",
       "std    4.123405e+05      4.123497e+05  4.124073e+05  \n",
       "min    3.022000e+01      1.226000e+01  2.037000e+01  \n",
       "25%    1.000470e+03      9.502500e+02  7.358400e+02  \n",
       "50%    1.645840e+03      1.435150e+03  1.100520e+03  \n",
       "75%    2.629330e+03      2.098440e+03  1.611450e+03  \n",
       "max    1.152979e+07      1.152979e+07  1.153099e+07  \n",
       "\n",
       "[8 rows x 85 columns]"
      ]
     },
     "execution_count": 17,
     "metadata": {},
     "output_type": "execute_result"
    }
   ],
   "source": [
    "combined.describe()"
   ]
  },
  {
   "cell_type": "code",
   "execution_count": 33,
   "metadata": {},
   "outputs": [
    {
     "data": {
      "text/html": [
       "<div>\n",
       "<style scoped>\n",
       "    .dataframe tbody tr th:only-of-type {\n",
       "        vertical-align: middle;\n",
       "    }\n",
       "\n",
       "    .dataframe tbody tr th {\n",
       "        vertical-align: top;\n",
       "    }\n",
       "\n",
       "    .dataframe thead th {\n",
       "        text-align: right;\n",
       "    }\n",
       "</style>\n",
       "<table border=\"1\" class=\"dataframe\">\n",
       "  <thead>\n",
       "    <tr style=\"text-align: right;\">\n",
       "      <th></th>\n",
       "      <th>sale_date</th>\n",
       "      <th>address</th>\n",
       "      <th>lat</th>\n",
       "      <th>lng</th>\n",
       "    </tr>\n",
       "  </thead>\n",
       "  <tbody>\n",
       "    <tr>\n",
       "      <th>65624</th>\n",
       "      <td>5/1/2018</td>\n",
       "      <td>77 lorong limau</td>\n",
       "      <td>3.985081</td>\n",
       "      <td>101.011362</td>\n",
       "    </tr>\n",
       "  </tbody>\n",
       "</table>\n",
       "</div>"
      ],
      "text/plain": [
       "      sale_date          address       lat         lng\n",
       "65624  5/1/2018  77 lorong limau  3.985081  101.011362"
      ]
     },
     "execution_count": 33,
     "metadata": {},
     "output_type": "execute_result"
    }
   ],
   "source": [
    "combined[combined['dist_hawker']>5000][['sale_date','address','lat','lng']]"
   ]
  },
  {
   "cell_type": "code",
   "execution_count": null,
   "metadata": {},
   "outputs": [],
   "source": [
    "hawker_df = pd.read_csv('../datasets/output/hawker_centre_processed.csv')\n",
    "\n",
    "for h in range(len(df)):\n",
    "    df.iloc[h,df.shape[1]-1] = nearest_point(hawker_df,df.iloc[h,61],df.iloc[h,62])"
   ]
  },
  {
   "cell_type": "code",
   "execution_count": 24,
   "metadata": {},
   "outputs": [],
   "source": [
    "hawker_df = pd.read_csv('../datasets/poi/hawker_centre_cleaned.csv')"
   ]
  },
  {
   "cell_type": "code",
   "execution_count": 35,
   "metadata": {},
   "outputs": [
    {
     "data": {
      "text/plain": [
       "186.92"
      ]
     },
     "execution_count": 35,
     "metadata": {},
     "output_type": "execute_result"
    }
   ],
   "source": [
    "nearest_point(hawker_df,1.32505,103.85476)"
   ]
  },
  {
   "cell_type": "code",
   "execution_count": 36,
   "metadata": {},
   "outputs": [
    {
     "name": "stdout",
     "output_type": "stream",
     "text": [
      "Adam Road Food Centre 4514.11\n",
      "Aljunied Ave 2 Blk 117 (Blk 117 Aljunied Market and Food Centre) 3626.52\n",
      "Ang Mo Kio Ave 1 Blk 226D (Kebun Baru Market and Food Centre) 4970.28\n",
      "Ang Mo Kio Ave 1 Blk 341 (Teck Ghee Court) 4408.46\n",
      "Ang Mo Kio Ave 10 Blk 409 (Teck Ghee Square) 4190.39\n",
      "Ang Mo Kio Ave 10 Blk 453A (Chong Boon Market and Food Centre) 4812.79\n",
      "Hougang Street 21 Blk 209 (Kovan Hougang Market and Food Centre) 5130.31\n",
      "Jalan Batu Blk 4A (Blk 4A Jalan Batu Hawker Centre/Market) 4108.21\n",
      "Jalan Bukit Merah Blk 112 (Blk 112 Jalan Bukit Merah Market and Food Centre) 5931.75\n",
      "Ang Mo Kio Ave 6 Blk 724 (Blk 724 Ang Mo Kio Market) 5305.19\n",
      "Beo Crescent Market 5087.48\n",
      "Buffalo Road Blk 665 (Tekka Centre/Zhu Jiao Market) 2145.86\n",
      "Bukit Merah Central Blk 163 (Bukit Merah Central Food Centre) 6214.43\n",
      "Bukit Merah View Blk 115 (Blk 115 Bukit Merah View Market and Food Centre) 5705.98\n",
      "Bukit Panjang Hawker Centre 10898.46\n",
      "Bukit Timah Market 8926.06\n",
      "Amoy Street Food Centre (Telok Ayer Food Centre) 5178.82\n",
      "Bedok South Road Blk 16 8994.57\n",
      "Berseh Food Centre 1983.47\n",
      "Boon Lay Place Blk 221A/B (Boon Lay Place Market and Food Village) 15934.69\n",
      "Bukit Merah Lane 1 Blk 120 (Alexandra Village Food Centre) 7047.19\n",
      "Chomp Chomp Food Centre 4548.68\n",
      "Circuit Road Blk 89 3423.13\n",
      "Clementi Ave 3 Blk 448 10108.15\n",
      "Commonwealth Drive Blk 1A/2A/3A (Tanglin Halt Food Centre/Commonwealth Drive Food Centre) 6915.62\n",
      "Kampung Admiralty Hawker Centre 14134.39\n",
      "Telok Blangah Crescent Blk 11 (11 Telok Blangah Crescent Market and Food Centre) 6638.23\n",
      "Toa Payoh Lorong 7 Blk 22 (Kim Keat Palm Market and Food Centre) 1167.07\n",
      "Upper Cross Street Blk 531A (Hong Lim Food Centre and Market) 4619.41\n",
      "Ang Mo Kio Street 22 Blk 226H (Kebun Baru Food Centre) 4974.8\n",
      "Bedok North Street 4 Blk 85 (85 Fengshan Centre) 9376.13\n",
      "Circuit Road Blk 80 (80 Circuit Road Market and Food Centre) 3614.96\n",
      "Clementi Ave 2 Blk 353 (Clementi Ave 2 Market/Cooked Food Centre) 9411.93\n",
      "Jalan Bukit Merah Blk 6 (ABC Brickworks Market/Food Centre) 6685.34\n",
      "Tampines Street 11 Blk 137 (Tampines Round Market and Food Centre) 10244.51\n",
      "Toa Payoh Lorong 5 Blk 75 1244.24\n",
      "Zion Riverside Food Centre 4483.05\n",
      "Bedok Reservoir Road Blk 630 6667.05\n",
      "Bendemeer Road Blk 29 (Bendemeer Market and Food Centre) 1126.6\n",
      "Teban Gardens Road Blk 37A (Teban Gardens Market and Food Centre) 12536.16\n",
      "Haig Road Blk 13/14 (Haig Road Market and Cooked Food Centre) 4676.21\n",
      "Havelock Road Blk 22A/B (Havelock Road Cooked Food Centre) 4970.26\n",
      "Holland Drive Blk 44 (Holland Drive Market and Food Centre) 7134.2\n",
      "Holland Village Market and Food Centre 6827.87\n",
      "Hougang Ave 1 Blk 105 (Hougang 105 Hainanese Village Centre) 5095.04\n",
      "Cambridge Road Blk 41A (Pek Kio Market and Food Centre) 1101.73\n",
      "Changi Village Blk 2 and 3 16483.0\n",
      "Ci Yuan Hawker Centre 6371.05\n",
      "Our Tampines Hub 9996.14\n",
      "Tiong Bahru Market 5129.4\n",
      "Toa Payoh Lorong 1 Blk 127 (Toa Payoh West Market and Food Court) 1831.41\n",
      "Toa Payoh Lorong 4 Blk 74 (Toa Payoh Vista Market) 1105.7\n",
      "Toa Payoh Lorong 4 Blk 93 1607.1\n",
      "Geylang Bahru Blk 69 (Blk 69 Geylang Bahru Market and Food Centre) 1746.52\n",
      "Pasir Panjang Food Centre 8917.8\n",
      "Pasir Ris Central Hawker Centre 12005.43\n",
      "Queen Street Blk 270 (Albert Centre) 2661.78\n",
      "Golden Mile Food Centre 2665.99\n",
      "Yishun Park Hawker Centre 11157.0\n",
      "Yishun Ring Road Blk 104/105 (Chong Pang Market and Food Centre) 12219.88\n",
      "Jalan Kukoh Blk 1 (Kukoh 21 Food Centre) 4401.62\n",
      "Jurong East Ave 1 Blk 347 (Yuhua Market and Hawker Centre) 13877.97\n",
      "Jurong East Street 24 Blk 254 (Yuhua Village Market and Food Centre) 13174.03\n",
      "Jurong West Hawker Centre 17587.97\n",
      "Jurong West Street 52 Blk 505 15397.65\n",
      "Redhill Lane Blk 79 (Redhill Market) 5778.85\n",
      "Bedok Food Centre 11208.18\n",
      "Bedok North Street 1 Blk 216 8733.52\n",
      "Bedok North Street 3 Blk 511 (Kaki Bukit 511 Market and Food Centre) 8490.25\n",
      "Bedok North Street 3 Blk 538 7816.6\n",
      "Telok Blangah Rise Blk 36 (Telok Blangah Rise Market) 6862.62\n",
      "Geylang Serai Market 4827.01\n",
      "Ghim Moh Road Blk 20 7550.94\n",
      "Toa Payoh Lorong 8 Blk 210 1699.38\n",
      "Taman Jurong Market and Food Centre 14839.34\n",
      "Tanglin Halt Market 6891.96\n",
      "Tanjong Pagar Plaza Blk 6 (Blk 6 Tanjong Pagar Plaza Market and Food Centre) 5529.09\n",
      "Telok Blangah Drive Blk 79 (Telok Blangah Food Centre) 7767.89\n",
      "Telok Blangah Drive Blk 82 (Telok Blangah Market) 7698.7\n",
      "Upper Boon Keng Road Blk 17 (Blk 17 Upper Boon Keng Market and Food Centre) 2182.87\n",
      "Redhill Lane Blk 85 (Redhill Food Centre) 5819.51\n",
      "Sembawang Hills Food Centre (Jalan Leban Food Centre) 5993.63\n",
      "Serangoon Garden Market 4490.36\n",
      "Shunfu Road Blk 320 (Shunfu Mart) 3570.15\n",
      "Sims Place Blk 49 (Sims Vista Market and Food Centre) 2876.04\n",
      "Smith Street Blk 335 (Chinatown Complex Market) 4933.62\n",
      "Ang Mo Kio Ave 10 Blk 527 (Cheng San Market and Cooked Food Centre) 5299.66\n",
      "Ang Mo Kio Ave 4 Blk 160/162 (Mayflower Market) 5773.48\n",
      "Ang Mo Kio Ave 4 Blk 628 (Ang Mo Kio 628 Market) 6376.91\n",
      "Clementi West Street 2 Blk 726 10340.44\n",
      "Commonwealth Crescent Market 6451.91\n",
      "Dunman Food Centre 5513.4\n",
      "East Coast Lagoon Food Village 9049.78\n",
      "Empress Road Blk 7 (Empress Road Market and Food Centre) 5541.11\n",
      "Eunos Crescent Blk 4A 5523.7\n",
      "West Coast Drive Blk 502 (Ayer Rajah Market) 10733.03\n",
      "West Coast Drive Blk 503 (Ayer Rajah Food Centre) 10657.1\n",
      "Whampoa Drive Blk 90 (Whampoa Drive Makan Place/Whampoa Food Centre) 214.67\n",
      "Whampoa Drive Blk 91/92 (Whampoa Drive Makan Place/Whampoa Market) 186.92\n",
      "Kallang Estate Fresh Market and Food Centre 3827.64\n",
      "Marine Parade Central Blk 84 (84 Marine Parade Central Market and Food Centre) 6270.62\n",
      "Marine Terrace Blk 50A (50A Marine Terrace) 7113.41\n",
      "Market Street Interim Hawker Centre 4879.46\n",
      "Marsiling Lane Blk 20/21 15784.0\n",
      "Marsiling Mall Hawker Centre 14656.8\n",
      "Maxwell Food Centre (Kim Hua Market) 5078.83\n",
      "Mei Chin Road Blk 159 (Mei Chin Road Market) 6754.17\n",
      "New Market Road Blk 32 (People's Park Food Centre) 4668.04\n",
      "New Upper Changi Road Blk 208B 8417.23\n",
      "New Upper Changi Road Blk 58 9492.96\n",
      "Newton Food Centre 2196.72\n",
      "North Bridge Road Market 2362.83\n",
      "Old Airport Road Blk 51 (51 Old Airport Road Food Centre and Shopping Mall) 3926.26\n",
      "Circuit Road Blk 79/79A 3379.34\n"
     ]
    }
   ],
   "source": [
    "for h in range(len(hawker_df)):\n",
    "    print(hawker_df.iloc[h,0],haversine_distance(1.32505,103.85476, hawker_df.iloc[h,1], hawker_df.iloc[h,2]))\n"
   ]
  },
  {
   "cell_type": "code",
   "execution_count": 4,
   "metadata": {},
   "outputs": [],
   "source": [
    "df = pd.read_csv(\"../datasets/final/combined_all_columns.csv\")"
   ]
  },
  {
   "cell_type": "code",
   "execution_count": null,
   "metadata": {},
   "outputs": [],
   "source": []
  },
  {
   "cell_type": "code",
   "execution_count": null,
   "metadata": {},
   "outputs": [],
   "source": []
  },
  {
   "cell_type": "code",
   "execution_count": null,
   "metadata": {},
   "outputs": [],
   "source": []
  },
  {
   "cell_type": "code",
   "execution_count": 8,
   "metadata": {},
   "outputs": [],
   "source": [
    "df['sale_date'] = pd.to_datetime(df['sale_date'])"
   ]
  },
  {
   "cell_type": "code",
   "execution_count": 2,
   "metadata": {},
   "outputs": [
    {
     "ename": "NameError",
     "evalue": "name 'hdb_df' is not defined",
     "output_type": "error",
     "traceback": [
      "\u001b[1;31m---------------------------------------------------------------------------\u001b[0m",
      "\u001b[1;31mNameError\u001b[0m                                 Traceback (most recent call last)",
      "\u001b[1;32m<ipython-input-2-6d53c1811f10>\u001b[0m in \u001b[0;36m<module>\u001b[1;34m\u001b[0m\n\u001b[1;32m----> 1\u001b[1;33m \u001b[0mhdb_df\u001b[0m\u001b[1;33m.\u001b[0m\u001b[0mshape\u001b[0m\u001b[1;33m\u001b[0m\u001b[1;33m\u001b[0m\u001b[0m\n\u001b[0m",
      "\u001b[1;31mNameError\u001b[0m: name 'hdb_df' is not defined"
     ]
    }
   ],
   "source": [
    "hdb_df.shape"
   ]
  },
  {
   "cell_type": "code",
   "execution_count": 70,
   "metadata": {},
   "outputs": [],
   "source": [
    "test_df.to_csv(\"../datasets/hdb/test_df.csv\",index=False)\n",
    "\n",
    "test_df['sale_date'] = pd.to_datetime(test_df['sale_date'])"
   ]
  },
  {
   "cell_type": "code",
   "execution_count": 69,
   "metadata": {
    "scrolled": true
   },
   "outputs": [
    {
     "name": "stdout",
     "output_type": "stream",
     "text": [
      "MRT station completed\n",
      "Malls completed\n",
      "Hawker centre completed\n",
      "Park completed\n",
      "After death completed\n",
      "attraction completed\n",
      "Pool completed\n",
      "gym completed\n",
      "tennis completed\n",
      "stadium completed\n",
      "sports hall completed\n",
      "library completed\n"
     ]
    }
   ],
   "source": [
    "add_poi_dist(test_df)"
   ]
  },
  {
   "cell_type": "code",
   "execution_count": 143,
   "metadata": {},
   "outputs": [
    {
     "data": {
      "text/plain": [
       "(80405, 63)"
      ]
     },
     "execution_count": 143,
     "metadata": {},
     "output_type": "execute_result"
    }
   ],
   "source": [
    "hdb_df.shape"
   ]
  },
  {
   "cell_type": "code",
   "execution_count": 4,
   "metadata": {},
   "outputs": [],
   "source": [
    "hdb_df.to_csv(\"../datasets/hdb/hdb_2015_2018_addedfeature.csv\",index=False)"
   ]
  },
  {
   "cell_type": "code",
   "execution_count": 144,
   "metadata": {},
   "outputs": [
    {
     "data": {
      "text/html": [
       "<div>\n",
       "<style scoped>\n",
       "    .dataframe tbody tr th:only-of-type {\n",
       "        vertical-align: middle;\n",
       "    }\n",
       "\n",
       "    .dataframe tbody tr th {\n",
       "        vertical-align: top;\n",
       "    }\n",
       "\n",
       "    .dataframe thead th {\n",
       "        text-align: right;\n",
       "    }\n",
       "</style>\n",
       "<table border=\"1\" class=\"dataframe\">\n",
       "  <thead>\n",
       "    <tr style=\"text-align: right;\">\n",
       "      <th></th>\n",
       "      <th>sale_date</th>\n",
       "      <th>town</th>\n",
       "      <th>flat_type</th>\n",
       "      <th>storey_range</th>\n",
       "      <th>floor_area_sqm</th>\n",
       "      <th>flat_model</th>\n",
       "      <th>lease_commence_date</th>\n",
       "      <th>remaining_lease</th>\n",
       "      <th>resale_price</th>\n",
       "      <th>address</th>\n",
       "      <th>...</th>\n",
       "      <th>model_type_s1</th>\n",
       "      <th>model_type_s2</th>\n",
       "      <th>type_2_room</th>\n",
       "      <th>type_3_room</th>\n",
       "      <th>type_4_room</th>\n",
       "      <th>type_5_room</th>\n",
       "      <th>type_executive</th>\n",
       "      <th>type_multi_generation</th>\n",
       "      <th>lat</th>\n",
       "      <th>lng</th>\n",
       "    </tr>\n",
       "  </thead>\n",
       "  <tbody>\n",
       "    <tr>\n",
       "      <th>0</th>\n",
       "      <td>1/1/2015</td>\n",
       "      <td>bukit_merah</td>\n",
       "      <td>4_room</td>\n",
       "      <td>04 TO 06</td>\n",
       "      <td>91.0</td>\n",
       "      <td>model_a</td>\n",
       "      <td>2001</td>\n",
       "      <td>85</td>\n",
       "      <td>680000.0</td>\n",
       "      <td>120 kim tian place</td>\n",
       "      <td>...</td>\n",
       "      <td>0</td>\n",
       "      <td>0</td>\n",
       "      <td>0</td>\n",
       "      <td>0</td>\n",
       "      <td>1</td>\n",
       "      <td>0</td>\n",
       "      <td>0</td>\n",
       "      <td>0</td>\n",
       "      <td>1.282926</td>\n",
       "      <td>103.827921</td>\n",
       "    </tr>\n",
       "    <tr>\n",
       "      <th>1</th>\n",
       "      <td>1/1/2015</td>\n",
       "      <td>bukit_merah</td>\n",
       "      <td>5_room</td>\n",
       "      <td>16 TO 18</td>\n",
       "      <td>115.0</td>\n",
       "      <td>improved</td>\n",
       "      <td>2001</td>\n",
       "      <td>85</td>\n",
       "      <td>842000.0</td>\n",
       "      <td>121 kim tian place</td>\n",
       "      <td>...</td>\n",
       "      <td>0</td>\n",
       "      <td>0</td>\n",
       "      <td>0</td>\n",
       "      <td>0</td>\n",
       "      <td>0</td>\n",
       "      <td>1</td>\n",
       "      <td>0</td>\n",
       "      <td>0</td>\n",
       "      <td>1.282776</td>\n",
       "      <td>103.828555</td>\n",
       "    </tr>\n",
       "    <tr>\n",
       "      <th>2</th>\n",
       "      <td>1/1/2015</td>\n",
       "      <td>woodlands</td>\n",
       "      <td>5_room</td>\n",
       "      <td>04 TO 06</td>\n",
       "      <td>110.0</td>\n",
       "      <td>premium_apartment</td>\n",
       "      <td>2004</td>\n",
       "      <td>88</td>\n",
       "      <td>418000.0</td>\n",
       "      <td>689c woodlands drive 75</td>\n",
       "      <td>...</td>\n",
       "      <td>0</td>\n",
       "      <td>0</td>\n",
       "      <td>0</td>\n",
       "      <td>0</td>\n",
       "      <td>0</td>\n",
       "      <td>1</td>\n",
       "      <td>0</td>\n",
       "      <td>0</td>\n",
       "      <td>1.444873</td>\n",
       "      <td>103.808449</td>\n",
       "    </tr>\n",
       "    <tr>\n",
       "      <th>3</th>\n",
       "      <td>1/1/2015</td>\n",
       "      <td>woodlands</td>\n",
       "      <td>5_room</td>\n",
       "      <td>10 TO 12</td>\n",
       "      <td>110.0</td>\n",
       "      <td>premium_apartment</td>\n",
       "      <td>2004</td>\n",
       "      <td>88</td>\n",
       "      <td>433000.0</td>\n",
       "      <td>689c woodlands drive 75</td>\n",
       "      <td>...</td>\n",
       "      <td>0</td>\n",
       "      <td>0</td>\n",
       "      <td>0</td>\n",
       "      <td>0</td>\n",
       "      <td>0</td>\n",
       "      <td>1</td>\n",
       "      <td>0</td>\n",
       "      <td>0</td>\n",
       "      <td>1.444873</td>\n",
       "      <td>103.808449</td>\n",
       "    </tr>\n",
       "    <tr>\n",
       "      <th>4</th>\n",
       "      <td>1/1/2015</td>\n",
       "      <td>woodlands</td>\n",
       "      <td>5_room</td>\n",
       "      <td>10 TO 12</td>\n",
       "      <td>110.0</td>\n",
       "      <td>premium_apartment</td>\n",
       "      <td>2004</td>\n",
       "      <td>88</td>\n",
       "      <td>440000.0</td>\n",
       "      <td>689d woodlands drive 75</td>\n",
       "      <td>...</td>\n",
       "      <td>0</td>\n",
       "      <td>0</td>\n",
       "      <td>0</td>\n",
       "      <td>0</td>\n",
       "      <td>0</td>\n",
       "      <td>1</td>\n",
       "      <td>0</td>\n",
       "      <td>0</td>\n",
       "      <td>1.444284</td>\n",
       "      <td>103.808721</td>\n",
       "    </tr>\n",
       "  </tbody>\n",
       "</table>\n",
       "<p>5 rows × 63 columns</p>\n",
       "</div>"
      ],
      "text/plain": [
       "  sale_date         town flat_type storey_range  floor_area_sqm  \\\n",
       "0  1/1/2015  bukit_merah    4_room     04 TO 06            91.0   \n",
       "1  1/1/2015  bukit_merah    5_room     16 TO 18           115.0   \n",
       "2  1/1/2015    woodlands    5_room     04 TO 06           110.0   \n",
       "3  1/1/2015    woodlands    5_room     10 TO 12           110.0   \n",
       "4  1/1/2015    woodlands    5_room     10 TO 12           110.0   \n",
       "\n",
       "          flat_model  lease_commence_date  remaining_lease  resale_price  \\\n",
       "0            model_a                 2001               85      680000.0   \n",
       "1           improved                 2001               85      842000.0   \n",
       "2  premium_apartment                 2004               88      418000.0   \n",
       "3  premium_apartment                 2004               88      433000.0   \n",
       "4  premium_apartment                 2004               88      440000.0   \n",
       "\n",
       "                   address  ...  model_type_s1  model_type_s2  type_2_room  \\\n",
       "0       120 kim tian place  ...              0              0            0   \n",
       "1       121 kim tian place  ...              0              0            0   \n",
       "2  689c woodlands drive 75  ...              0              0            0   \n",
       "3  689c woodlands drive 75  ...              0              0            0   \n",
       "4  689d woodlands drive 75  ...              0              0            0   \n",
       "\n",
       "   type_3_room  type_4_room  type_5_room  type_executive  \\\n",
       "0            0            1            0               0   \n",
       "1            0            0            1               0   \n",
       "2            0            0            1               0   \n",
       "3            0            0            1               0   \n",
       "4            0            0            1               0   \n",
       "\n",
       "   type_multi_generation       lat         lng  \n",
       "0                      0  1.282926  103.827921  \n",
       "1                      0  1.282776  103.828555  \n",
       "2                      0  1.444873  103.808449  \n",
       "3                      0  1.444873  103.808449  \n",
       "4                      0  1.444284  103.808721  \n",
       "\n",
       "[5 rows x 63 columns]"
      ]
     },
     "execution_count": 144,
     "metadata": {},
     "output_type": "execute_result"
    }
   ],
   "source": [
    "hdb_df.head()"
   ]
  },
  {
   "cell_type": "code",
   "execution_count": 7,
   "metadata": {},
   "outputs": [],
   "source": [
    "hdb_df = pd.read_csv(\"../datasets/final/hdb_2015_2018_final.csv\")"
   ]
  },
  {
   "cell_type": "markdown",
   "metadata": {},
   "source": [
    "### Final Preprocessing before Modeling\n",
    "\n",
    "- Remove remaining non-numeric features\n",
    "- Remove highly correlated features"
   ]
  },
  {
   "cell_type": "code",
   "execution_count": 77,
   "metadata": {},
   "outputs": [],
   "source": [
    "def high_corr_features(df,pos_thres,neg_thres):\n",
    "    # get the pairwise correlation of oll columns in the dataframes\n",
    "    corr = df.corr()\n",
    "\n",
    "    # loop through the dataframe to find the lowest and higher correlation numbers \n",
    "    # Correlation between the same feature will be Ones, so those will be skipped\n",
    "\n",
    "    maxx=0\n",
    "    minn=0\n",
    "    for i in range(len(corr)):\n",
    "        for j in range(len(corr)):\n",
    "            if i != j:\n",
    "                if corr.iloc[i,j]>0:\n",
    "                    if corr.iloc[i,j]>maxx:\n",
    "                        maxx=corr.iloc[i,j]\n",
    "                        if maxx >= pos_thres:\n",
    "                            print('Features that are highly positve correlated:',corr.index[i],corr.columns[j],maxx)\n",
    "                else:\n",
    "                    if corr.iloc[i,j]<minn:\n",
    "                        minn=corr.iloc[i,j]\n",
    "                        if minn <= neg_thres:\n",
    "                            print('Features that are highly negative correlated:',corr.index[i],corr.columns[j],minn)\n",
    "\n",
    "\n",
    "    print('Lowest negative correlation between features:',minn)\n",
    "    print('Highest positive correlation between features:',maxx)"
   ]
  },
  {
   "cell_type": "code",
   "execution_count": 74,
   "metadata": {},
   "outputs": [
    {
     "name": "stdout",
     "output_type": "stream",
     "text": [
      "Words that are highly negative correlated: floor_area_sqm type_3_room -0.7054084688676528\n",
      "Words that are highly positve correlated: model_multi_generation type_multi_generation 1.0\n",
      "Words that are highly negative correlated: cli hdb_index -0.9249408742429931\n",
      "Words that are highly negative correlated: mth_income hdb_index -0.9611379557892475\n",
      "Lowest negative correlation between features: -0.9611379557892475\n",
      "Highest positive correlation between features: 1.0\n"
     ]
    }
   ],
   "source": [
    "high_corr_features(hdb_df,0.7,-0.7)"
   ]
  },
  {
   "cell_type": "code",
   "execution_count": 75,
   "metadata": {},
   "outputs": [],
   "source": [
    "hdb_df.drop(columns=['type_multi_generation','type_3_room','hdb_index'],inplace=True)"
   ]
  },
  {
   "cell_type": "code",
   "execution_count": null,
   "metadata": {},
   "outputs": [],
   "source": [
    "hdb_df.drop(columns=['address','sale_date','lat','lng','lease_commence_date'],inplace=True)"
   ]
  },
  {
   "cell_type": "code",
   "execution_count": 138,
   "metadata": {},
   "outputs": [
    {
     "name": "stdout",
     "output_type": "stream",
     "text": [
      "Features that are highly positve correlated: cli pmi 0.781899351591748\n",
      "Features that are highly positve correlated: cli married 0.9170597173856827\n",
      "Features that are highly positve correlated: cli mth_income 0.9189507036096709\n",
      "Features that are highly positve correlated: married mth_income 0.9435676445598832\n",
      "Features that are highly positve correlated: married total_residents 0.9760573732865355\n",
      "Features that are highly positve correlated: mth_income total_residents 0.9887014992479315\n",
      "Features that are highly positve correlated: dist_mrt dist_mall 0.9999990569500034\n",
      "Features that are highly positve correlated: dist_mrt dist_park 0.9999990960597162\n",
      "Lowest negative correlation between features: -0.49820018564741436\n",
      "Highest positive correlation between features: 0.9999990960597162\n"
     ]
    }
   ],
   "source": [
    "high_corr_features(hdb_df,0.7,-0.7)"
   ]
  },
  {
   "cell_type": "code",
   "execution_count": 118,
   "metadata": {},
   "outputs": [],
   "source": [
    "from statsmodels.stats.outliers_influence import variance_inflation_factor"
   ]
  },
  {
   "cell_type": "code",
   "execution_count": 120,
   "metadata": {},
   "outputs": [
    {
     "name": "stderr",
     "output_type": "stream",
     "text": [
      "C:\\Users\\wtbha\\anaconda3\\lib\\site-packages\\statsmodels\\regression\\linear_model.py:1685: RuntimeWarning: divide by zero encountered in double_scalars\n",
      "  return 1 - self.ssr/self.centered_tss\n",
      "C:\\Users\\wtbha\\anaconda3\\lib\\site-packages\\statsmodels\\stats\\outliers_influence.py:193: RuntimeWarning: divide by zero encountered in double_scalars\n",
      "  vif = 1. / (1. - r_squared_i)\n"
     ]
    }
   ],
   "source": [
    "vif = pd.DataFrame(\n",
    "    (variance_inflation_factor(hdb_df.values, i) for i in range(hdb_df.shape[1])), index=hdb_df.columns, columns=['VIF_value']\n",
    "     )"
   ]
  },
  {
   "cell_type": "code",
   "execution_count": 91,
   "metadata": {},
   "outputs": [
    {
     "data": {
      "text/html": [
       "<div>\n",
       "<style scoped>\n",
       "    .dataframe tbody tr th:only-of-type {\n",
       "        vertical-align: middle;\n",
       "    }\n",
       "\n",
       "    .dataframe tbody tr th {\n",
       "        vertical-align: top;\n",
       "    }\n",
       "\n",
       "    .dataframe thead th {\n",
       "        text-align: right;\n",
       "    }\n",
       "</style>\n",
       "<table border=\"1\" class=\"dataframe\">\n",
       "  <thead>\n",
       "    <tr style=\"text-align: right;\">\n",
       "      <th></th>\n",
       "      <th>VIF_value</th>\n",
       "    </tr>\n",
       "  </thead>\n",
       "  <tbody>\n",
       "    <tr>\n",
       "      <th>mth_income</th>\n",
       "      <td>inf</td>\n",
       "    </tr>\n",
       "    <tr>\n",
       "      <th>married</th>\n",
       "      <td>inf</td>\n",
       "    </tr>\n",
       "    <tr>\n",
       "      <th>new_flat_offered</th>\n",
       "      <td>inf</td>\n",
       "    </tr>\n",
       "    <tr>\n",
       "      <th>total_residents</th>\n",
       "      <td>inf</td>\n",
       "    </tr>\n",
       "    <tr>\n",
       "      <th>dist_gym</th>\n",
       "      <td>3.133686e+07</td>\n",
       "    </tr>\n",
       "    <tr>\n",
       "      <th>dist_sports_hall</th>\n",
       "      <td>3.040172e+07</td>\n",
       "    </tr>\n",
       "    <tr>\n",
       "      <th>dist_mrt</th>\n",
       "      <td>2.057260e+06</td>\n",
       "    </tr>\n",
       "    <tr>\n",
       "      <th>dist_pool</th>\n",
       "      <td>1.988389e+06</td>\n",
       "    </tr>\n",
       "    <tr>\n",
       "      <th>dist_stadium</th>\n",
       "      <td>1.818571e+06</td>\n",
       "    </tr>\n",
       "    <tr>\n",
       "      <th>dist_mall</th>\n",
       "      <td>1.398093e+06</td>\n",
       "    </tr>\n",
       "  </tbody>\n",
       "</table>\n",
       "</div>"
      ],
      "text/plain": [
       "                     VIF_value\n",
       "mth_income                 inf\n",
       "married                    inf\n",
       "new_flat_offered           inf\n",
       "total_residents            inf\n",
       "dist_gym          3.133686e+07\n",
       "dist_sports_hall  3.040172e+07\n",
       "dist_mrt          2.057260e+06\n",
       "dist_pool         1.988389e+06\n",
       "dist_stadium      1.818571e+06\n",
       "dist_mall         1.398093e+06"
      ]
     },
     "execution_count": 91,
     "metadata": {},
     "output_type": "execute_result"
    }
   ],
   "source": [
    "vif.sort_values(by=['VIF_value'],ascending=False).head(10)"
   ]
  },
  {
   "cell_type": "code",
   "execution_count": 128,
   "metadata": {},
   "outputs": [],
   "source": [
    "X = hdb_df.drop(columns=['resale_price'])\n",
    "y = hdb_df['resale_price']"
   ]
  },
  {
   "cell_type": "code",
   "execution_count": 134,
   "metadata": {},
   "outputs": [],
   "source": [
    "from sklearn.preprocessing import StandardScaler\n",
    "ss = StandardScaler()\n",
    "ss.fit(X)\n",
    "X_ss = ss.transform(X)"
   ]
  },
  {
   "cell_type": "code",
   "execution_count": 113,
   "metadata": {},
   "outputs": [
    {
     "data": {
      "text/plain": [
       "pandas.core.frame.DataFrame"
      ]
     },
     "execution_count": 113,
     "metadata": {},
     "output_type": "execute_result"
    }
   ],
   "source": [
    "type(X)"
   ]
  },
  {
   "cell_type": "code",
   "execution_count": 110,
   "metadata": {},
   "outputs": [
    {
     "data": {
      "text/plain": [
       "numpy.ndarray"
      ]
     },
     "execution_count": 110,
     "metadata": {},
     "output_type": "execute_result"
    }
   ],
   "source": [
    "type(hdb_df.values)"
   ]
  },
  {
   "cell_type": "code",
   "execution_count": 121,
   "metadata": {},
   "outputs": [
    {
     "name": "stderr",
     "output_type": "stream",
     "text": [
      "C:\\Users\\wtbha\\anaconda3\\lib\\site-packages\\statsmodels\\regression\\linear_model.py:1687: RuntimeWarning: invalid value encountered in double_scalars\n",
      "  return 1 - self.ssr/self.uncentered_tss\n"
     ]
    }
   ],
   "source": [
    "vif = pd.DataFrame(\n",
    "    (variance_inflation_factor(X_ss, i) for i in range(X.shape[1])), index=X.columns, columns=['VIF_value']\n",
    "     )"
   ]
  },
  {
   "cell_type": "code",
   "execution_count": 126,
   "metadata": {},
   "outputs": [
    {
     "data": {
      "text/html": [
       "<div>\n",
       "<style scoped>\n",
       "    .dataframe tbody tr th:only-of-type {\n",
       "        vertical-align: middle;\n",
       "    }\n",
       "\n",
       "    .dataframe tbody tr th {\n",
       "        vertical-align: top;\n",
       "    }\n",
       "\n",
       "    .dataframe thead th {\n",
       "        text-align: right;\n",
       "    }\n",
       "</style>\n",
       "<table border=\"1\" class=\"dataframe\">\n",
       "  <thead>\n",
       "    <tr style=\"text-align: right;\">\n",
       "      <th></th>\n",
       "      <th>VIF_value</th>\n",
       "    </tr>\n",
       "  </thead>\n",
       "  <tbody>\n",
       "    <tr>\n",
       "      <th>new_flat_offered</th>\n",
       "      <td>inf</td>\n",
       "    </tr>\n",
       "    <tr>\n",
       "      <th>married</th>\n",
       "      <td>inf</td>\n",
       "    </tr>\n",
       "    <tr>\n",
       "      <th>mth_income</th>\n",
       "      <td>inf</td>\n",
       "    </tr>\n",
       "    <tr>\n",
       "      <th>total_residents</th>\n",
       "      <td>inf</td>\n",
       "    </tr>\n",
       "    <tr>\n",
       "      <th>dist_sports_hall</th>\n",
       "      <td>2.027377e+06</td>\n",
       "    </tr>\n",
       "    <tr>\n",
       "      <th>dist_library</th>\n",
       "      <td>7.194033e+05</td>\n",
       "    </tr>\n",
       "    <tr>\n",
       "      <th>dist_stadium</th>\n",
       "      <td>4.520773e+05</td>\n",
       "    </tr>\n",
       "    <tr>\n",
       "      <th>dist_after_death</th>\n",
       "      <td>3.595944e+05</td>\n",
       "    </tr>\n",
       "    <tr>\n",
       "      <th>dist_gym</th>\n",
       "      <td>1.605786e+05</td>\n",
       "    </tr>\n",
       "    <tr>\n",
       "      <th>dist_tennis</th>\n",
       "      <td>1.479357e+05</td>\n",
       "    </tr>\n",
       "    <tr>\n",
       "      <th>dist_pool</th>\n",
       "      <td>1.080866e+05</td>\n",
       "    </tr>\n",
       "    <tr>\n",
       "      <th>dist_park</th>\n",
       "      <td>7.508063e+04</td>\n",
       "    </tr>\n",
       "    <tr>\n",
       "      <th>dist_mrt</th>\n",
       "      <td>7.446381e+04</td>\n",
       "    </tr>\n",
       "    <tr>\n",
       "      <th>dist_attraction</th>\n",
       "      <td>6.296199e+04</td>\n",
       "    </tr>\n",
       "    <tr>\n",
       "      <th>dist_mall</th>\n",
       "      <td>4.095423e+04</td>\n",
       "    </tr>\n",
       "    <tr>\n",
       "      <th>model_improved</th>\n",
       "      <td>1.471400e+04</td>\n",
       "    </tr>\n",
       "    <tr>\n",
       "      <th>model_model_a</th>\n",
       "      <td>1.104089e+04</td>\n",
       "    </tr>\n",
       "    <tr>\n",
       "      <th>model_new_generation</th>\n",
       "      <td>1.024632e+04</td>\n",
       "    </tr>\n",
       "    <tr>\n",
       "      <th>model_premium_apartment</th>\n",
       "      <td>6.706850e+03</td>\n",
       "    </tr>\n",
       "    <tr>\n",
       "      <th>model_simplified</th>\n",
       "      <td>3.592104e+03</td>\n",
       "    </tr>\n",
       "    <tr>\n",
       "      <th>model_apartment</th>\n",
       "      <td>3.165369e+03</td>\n",
       "    </tr>\n",
       "    <tr>\n",
       "      <th>model_standard</th>\n",
       "      <td>2.315039e+03</td>\n",
       "    </tr>\n",
       "    <tr>\n",
       "      <th>model_maisonette</th>\n",
       "      <td>2.054554e+03</td>\n",
       "    </tr>\n",
       "    <tr>\n",
       "      <th>model_model_a2</th>\n",
       "      <td>1.197676e+03</td>\n",
       "    </tr>\n",
       "    <tr>\n",
       "      <th>model_dbss</th>\n",
       "      <td>8.280860e+02</td>\n",
       "    </tr>\n",
       "    <tr>\n",
       "      <th>condo_index</th>\n",
       "      <td>5.040707e+02</td>\n",
       "    </tr>\n",
       "    <tr>\n",
       "      <th>model_type_s1</th>\n",
       "      <td>2.192243e+02</td>\n",
       "    </tr>\n",
       "    <tr>\n",
       "      <th>model_model_a_maisonette</th>\n",
       "      <td>1.380619e+02</td>\n",
       "    </tr>\n",
       "    <tr>\n",
       "      <th>model_adjoined_flat</th>\n",
       "      <td>1.280797e+02</td>\n",
       "    </tr>\n",
       "    <tr>\n",
       "      <th>model_type_s2</th>\n",
       "      <td>1.043741e+02</td>\n",
       "    </tr>\n",
       "  </tbody>\n",
       "</table>\n",
       "</div>"
      ],
      "text/plain": [
       "                             VIF_value\n",
       "new_flat_offered                   inf\n",
       "married                            inf\n",
       "mth_income                         inf\n",
       "total_residents                    inf\n",
       "dist_sports_hall          2.027377e+06\n",
       "dist_library              7.194033e+05\n",
       "dist_stadium              4.520773e+05\n",
       "dist_after_death          3.595944e+05\n",
       "dist_gym                  1.605786e+05\n",
       "dist_tennis               1.479357e+05\n",
       "dist_pool                 1.080866e+05\n",
       "dist_park                 7.508063e+04\n",
       "dist_mrt                  7.446381e+04\n",
       "dist_attraction           6.296199e+04\n",
       "dist_mall                 4.095423e+04\n",
       "model_improved            1.471400e+04\n",
       "model_model_a             1.104089e+04\n",
       "model_new_generation      1.024632e+04\n",
       "model_premium_apartment   6.706850e+03\n",
       "model_simplified          3.592104e+03\n",
       "model_apartment           3.165369e+03\n",
       "model_standard            2.315039e+03\n",
       "model_maisonette          2.054554e+03\n",
       "model_model_a2            1.197676e+03\n",
       "model_dbss                8.280860e+02\n",
       "condo_index               5.040707e+02\n",
       "model_type_s1             2.192243e+02\n",
       "model_model_a_maisonette  1.380619e+02\n",
       "model_adjoined_flat       1.280797e+02\n",
       "model_type_s2             1.043741e+02"
      ]
     },
     "execution_count": 126,
     "metadata": {},
     "output_type": "execute_result"
    }
   ],
   "source": [
    "vif.sort_values(by=['VIF_value'],ascending=False).head(30)"
   ]
  },
  {
   "cell_type": "code",
   "execution_count": 127,
   "metadata": {},
   "outputs": [],
   "source": [
    "hdb_df.drop(columns=['dist_sports_hall','dist_library','dist_stadium','dist_after_death',\n",
    "                    'dist_gym','dist_tennis','dist_pool'\n",
    "                    ],inplace=True)"
   ]
  },
  {
   "cell_type": "code",
   "execution_count": 130,
   "metadata": {},
   "outputs": [
    {
     "name": "stderr",
     "output_type": "stream",
     "text": [
      "C:\\Users\\wtbha\\anaconda3\\lib\\site-packages\\statsmodels\\regression\\linear_model.py:1687: RuntimeWarning: invalid value encountered in double_scalars\n",
      "  return 1 - self.ssr/self.uncentered_tss\n",
      "C:\\Users\\wtbha\\anaconda3\\lib\\site-packages\\statsmodels\\stats\\outliers_influence.py:193: RuntimeWarning: divide by zero encountered in double_scalars\n",
      "  vif = 1. / (1. - r_squared_i)\n"
     ]
    }
   ],
   "source": [
    "vif = pd.DataFrame(\n",
    "    (variance_inflation_factor(X_ss, i) for i in range(X.shape[1])), index=X.columns, columns=['VIF_value']\n",
    "     )"
   ]
  },
  {
   "cell_type": "code",
   "execution_count": 131,
   "metadata": {},
   "outputs": [
    {
     "data": {
      "text/html": [
       "<div>\n",
       "<style scoped>\n",
       "    .dataframe tbody tr th:only-of-type {\n",
       "        vertical-align: middle;\n",
       "    }\n",
       "\n",
       "    .dataframe tbody tr th {\n",
       "        vertical-align: top;\n",
       "    }\n",
       "\n",
       "    .dataframe thead th {\n",
       "        text-align: right;\n",
       "    }\n",
       "</style>\n",
       "<table border=\"1\" class=\"dataframe\">\n",
       "  <thead>\n",
       "    <tr style=\"text-align: right;\">\n",
       "      <th></th>\n",
       "      <th>VIF_value</th>\n",
       "    </tr>\n",
       "  </thead>\n",
       "  <tbody>\n",
       "    <tr>\n",
       "      <th>married</th>\n",
       "      <td>inf</td>\n",
       "    </tr>\n",
       "    <tr>\n",
       "      <th>new_flat_offered</th>\n",
       "      <td>inf</td>\n",
       "    </tr>\n",
       "    <tr>\n",
       "      <th>total_residents</th>\n",
       "      <td>inf</td>\n",
       "    </tr>\n",
       "    <tr>\n",
       "      <th>mth_income</th>\n",
       "      <td>inf</td>\n",
       "    </tr>\n",
       "    <tr>\n",
       "      <th>dist_attraction</th>\n",
       "      <td>4.473051e+05</td>\n",
       "    </tr>\n",
       "    <tr>\n",
       "      <th>dist_mall</th>\n",
       "      <td>4.402220e+05</td>\n",
       "    </tr>\n",
       "    <tr>\n",
       "      <th>dist_park</th>\n",
       "      <td>3.791118e+05</td>\n",
       "    </tr>\n",
       "    <tr>\n",
       "      <th>dist_mrt</th>\n",
       "      <td>1.152295e+05</td>\n",
       "    </tr>\n",
       "    <tr>\n",
       "      <th>model_model_a</th>\n",
       "      <td>1.523954e+04</td>\n",
       "    </tr>\n",
       "    <tr>\n",
       "      <th>model_improved</th>\n",
       "      <td>1.371625e+04</td>\n",
       "    </tr>\n",
       "    <tr>\n",
       "      <th>model_new_generation</th>\n",
       "      <td>8.040951e+03</td>\n",
       "    </tr>\n",
       "    <tr>\n",
       "      <th>model_premium_apartment</th>\n",
       "      <td>6.978906e+03</td>\n",
       "    </tr>\n",
       "    <tr>\n",
       "      <th>model_simplified</th>\n",
       "      <td>3.526902e+03</td>\n",
       "    </tr>\n",
       "    <tr>\n",
       "      <th>model_apartment</th>\n",
       "      <td>3.166041e+03</td>\n",
       "    </tr>\n",
       "    <tr>\n",
       "      <th>model_standard</th>\n",
       "      <td>2.321247e+03</td>\n",
       "    </tr>\n",
       "    <tr>\n",
       "      <th>model_maisonette</th>\n",
       "      <td>2.243296e+03</td>\n",
       "    </tr>\n",
       "    <tr>\n",
       "      <th>model_model_a2</th>\n",
       "      <td>1.203353e+03</td>\n",
       "    </tr>\n",
       "    <tr>\n",
       "      <th>model_dbss</th>\n",
       "      <td>8.282182e+02</td>\n",
       "    </tr>\n",
       "    <tr>\n",
       "      <th>model_type_s1</th>\n",
       "      <td>2.193652e+02</td>\n",
       "    </tr>\n",
       "    <tr>\n",
       "      <th>model_model_a_maisonette</th>\n",
       "      <td>1.380423e+02</td>\n",
       "    </tr>\n",
       "    <tr>\n",
       "      <th>model_adjoined_flat</th>\n",
       "      <td>1.280823e+02</td>\n",
       "    </tr>\n",
       "    <tr>\n",
       "      <th>condo_index</th>\n",
       "      <td>1.146285e+02</td>\n",
       "    </tr>\n",
       "    <tr>\n",
       "      <th>pte_index</th>\n",
       "      <td>1.054596e+02</td>\n",
       "    </tr>\n",
       "    <tr>\n",
       "      <th>model_type_s2</th>\n",
       "      <td>1.043271e+02</td>\n",
       "    </tr>\n",
       "    <tr>\n",
       "      <th>model_terrace</th>\n",
       "      <td>4.910678e+01</td>\n",
       "    </tr>\n",
       "    <tr>\n",
       "      <th>cli</th>\n",
       "      <td>2.562751e+01</td>\n",
       "    </tr>\n",
       "    <tr>\n",
       "      <th>model_multi_generation</th>\n",
       "      <td>2.511436e+01</td>\n",
       "    </tr>\n",
       "    <tr>\n",
       "      <th>type_5_room</th>\n",
       "      <td>2.082438e+01</td>\n",
       "    </tr>\n",
       "    <tr>\n",
       "      <th>type_executive</th>\n",
       "      <td>1.981866e+01</td>\n",
       "    </tr>\n",
       "    <tr>\n",
       "      <th>floor_area_sqm</th>\n",
       "      <td>1.918677e+01</td>\n",
       "    </tr>\n",
       "  </tbody>\n",
       "</table>\n",
       "</div>"
      ],
      "text/plain": [
       "                             VIF_value\n",
       "married                            inf\n",
       "new_flat_offered                   inf\n",
       "total_residents                    inf\n",
       "mth_income                         inf\n",
       "dist_attraction           4.473051e+05\n",
       "dist_mall                 4.402220e+05\n",
       "dist_park                 3.791118e+05\n",
       "dist_mrt                  1.152295e+05\n",
       "model_model_a             1.523954e+04\n",
       "model_improved            1.371625e+04\n",
       "model_new_generation      8.040951e+03\n",
       "model_premium_apartment   6.978906e+03\n",
       "model_simplified          3.526902e+03\n",
       "model_apartment           3.166041e+03\n",
       "model_standard            2.321247e+03\n",
       "model_maisonette          2.243296e+03\n",
       "model_model_a2            1.203353e+03\n",
       "model_dbss                8.282182e+02\n",
       "model_type_s1             2.193652e+02\n",
       "model_model_a_maisonette  1.380423e+02\n",
       "model_adjoined_flat       1.280823e+02\n",
       "condo_index               1.146285e+02\n",
       "pte_index                 1.054596e+02\n",
       "model_type_s2             1.043271e+02\n",
       "model_terrace             4.910678e+01\n",
       "cli                       2.562751e+01\n",
       "model_multi_generation    2.511436e+01\n",
       "type_5_room               2.082438e+01\n",
       "type_executive            1.981866e+01\n",
       "floor_area_sqm            1.918677e+01"
      ]
     },
     "execution_count": 131,
     "metadata": {},
     "output_type": "execute_result"
    }
   ],
   "source": [
    "vif.sort_values(by=['VIF_value'],ascending=False).head(30)"
   ]
  },
  {
   "cell_type": "code",
   "execution_count": 133,
   "metadata": {},
   "outputs": [],
   "source": [
    "X.drop(columns=['model_model_a','model_improved','model_new_generation','model_premium_apartment',\n",
    "                     'model_simplified','model_apartment','model_standard','model_maisonette','model_model_a2',\n",
    "                     'model_dbss','model_type_s1','model_model_a_maisonette','model_adjoined_flat','condo_index',\n",
    "                     'pte_index','model_type_s2','model_terrace'\n",
    "                    ],inplace=True)"
   ]
  },
  {
   "cell_type": "code",
   "execution_count": 136,
   "metadata": {},
   "outputs": [
    {
     "name": "stderr",
     "output_type": "stream",
     "text": [
      "C:\\Users\\wtbha\\anaconda3\\lib\\site-packages\\statsmodels\\regression\\linear_model.py:1687: RuntimeWarning: invalid value encountered in double_scalars\n",
      "  return 1 - self.ssr/self.uncentered_tss\n",
      "C:\\Users\\wtbha\\anaconda3\\lib\\site-packages\\statsmodels\\stats\\outliers_influence.py:193: RuntimeWarning: divide by zero encountered in double_scalars\n",
      "  vif = 1. / (1. - r_squared_i)\n"
     ]
    }
   ],
   "source": [
    "vif = pd.DataFrame(\n",
    "    (variance_inflation_factor(X_ss, i) for i in range(X.shape[1])), index=X.columns, columns=['VIF_value']\n",
    "     )"
   ]
  },
  {
   "cell_type": "code",
   "execution_count": 137,
   "metadata": {},
   "outputs": [
    {
     "data": {
      "text/html": [
       "<div>\n",
       "<style scoped>\n",
       "    .dataframe tbody tr th:only-of-type {\n",
       "        vertical-align: middle;\n",
       "    }\n",
       "\n",
       "    .dataframe tbody tr th {\n",
       "        vertical-align: top;\n",
       "    }\n",
       "\n",
       "    .dataframe thead th {\n",
       "        text-align: right;\n",
       "    }\n",
       "</style>\n",
       "<table border=\"1\" class=\"dataframe\">\n",
       "  <thead>\n",
       "    <tr style=\"text-align: right;\">\n",
       "      <th></th>\n",
       "      <th>VIF_value</th>\n",
       "    </tr>\n",
       "  </thead>\n",
       "  <tbody>\n",
       "    <tr>\n",
       "      <th>new_flat_offered</th>\n",
       "      <td>inf</td>\n",
       "    </tr>\n",
       "    <tr>\n",
       "      <th>total_residents</th>\n",
       "      <td>inf</td>\n",
       "    </tr>\n",
       "    <tr>\n",
       "      <th>mth_income</th>\n",
       "      <td>inf</td>\n",
       "    </tr>\n",
       "    <tr>\n",
       "      <th>married</th>\n",
       "      <td>inf</td>\n",
       "    </tr>\n",
       "    <tr>\n",
       "      <th>dist_park</th>\n",
       "      <td>6.756079e+05</td>\n",
       "    </tr>\n",
       "    <tr>\n",
       "      <th>dist_mrt</th>\n",
       "      <td>5.080632e+05</td>\n",
       "    </tr>\n",
       "    <tr>\n",
       "      <th>dist_mall</th>\n",
       "      <td>6.118023e+04</td>\n",
       "    </tr>\n",
       "    <tr>\n",
       "      <th>dist_attraction</th>\n",
       "      <td>4.845074e+04</td>\n",
       "    </tr>\n",
       "    <tr>\n",
       "      <th>cli</th>\n",
       "      <td>1.483317e+01</td>\n",
       "    </tr>\n",
       "    <tr>\n",
       "      <th>floor_area_sqm</th>\n",
       "      <td>1.187962e+01</td>\n",
       "    </tr>\n",
       "    <tr>\n",
       "      <th>type_5_room</th>\n",
       "      <td>1.146839e+01</td>\n",
       "    </tr>\n",
       "    <tr>\n",
       "      <th>type_executive</th>\n",
       "      <td>9.816533e+00</td>\n",
       "    </tr>\n",
       "    <tr>\n",
       "      <th>sibor_3m</th>\n",
       "      <td>6.834706e+00</td>\n",
       "    </tr>\n",
       "    <tr>\n",
       "      <th>type_4_room</th>\n",
       "      <td>5.931009e+00</td>\n",
       "    </tr>\n",
       "    <tr>\n",
       "      <th>pmi</th>\n",
       "      <td>4.360074e+00</td>\n",
       "    </tr>\n",
       "    <tr>\n",
       "      <th>punggol</th>\n",
       "      <td>4.119342e+00</td>\n",
       "    </tr>\n",
       "    <tr>\n",
       "      <th>cpi</th>\n",
       "      <td>3.925119e+00</td>\n",
       "    </tr>\n",
       "    <tr>\n",
       "      <th>yishun</th>\n",
       "      <td>3.578809e+00</td>\n",
       "    </tr>\n",
       "    <tr>\n",
       "      <th>sengkang</th>\n",
       "      <td>3.495530e+00</td>\n",
       "    </tr>\n",
       "    <tr>\n",
       "      <th>woodlands</th>\n",
       "      <td>3.021823e+00</td>\n",
       "    </tr>\n",
       "    <tr>\n",
       "      <th>jurong_west</th>\n",
       "      <td>2.882296e+00</td>\n",
       "    </tr>\n",
       "    <tr>\n",
       "      <th>tampines</th>\n",
       "      <td>2.607985e+00</td>\n",
       "    </tr>\n",
       "    <tr>\n",
       "      <th>sembawang</th>\n",
       "      <td>2.599023e+00</td>\n",
       "    </tr>\n",
       "    <tr>\n",
       "      <th>gdp_growth</th>\n",
       "      <td>2.490033e+00</td>\n",
       "    </tr>\n",
       "    <tr>\n",
       "      <th>choa_chu_kang</th>\n",
       "      <td>2.463934e+00</td>\n",
       "    </tr>\n",
       "    <tr>\n",
       "      <th>bedok</th>\n",
       "      <td>2.264745e+00</td>\n",
       "    </tr>\n",
       "    <tr>\n",
       "      <th>bukit_panjang</th>\n",
       "      <td>2.162709e+00</td>\n",
       "    </tr>\n",
       "    <tr>\n",
       "      <th>remaining_lease</th>\n",
       "      <td>2.144845e+00</td>\n",
       "    </tr>\n",
       "    <tr>\n",
       "      <th>hougang</th>\n",
       "      <td>2.107063e+00</td>\n",
       "    </tr>\n",
       "    <tr>\n",
       "      <th>bukit_merah</th>\n",
       "      <td>2.064032e+00</td>\n",
       "    </tr>\n",
       "  </tbody>\n",
       "</table>\n",
       "</div>"
      ],
      "text/plain": [
       "                     VIF_value\n",
       "new_flat_offered           inf\n",
       "total_residents            inf\n",
       "mth_income                 inf\n",
       "married                    inf\n",
       "dist_park         6.756079e+05\n",
       "dist_mrt          5.080632e+05\n",
       "dist_mall         6.118023e+04\n",
       "dist_attraction   4.845074e+04\n",
       "cli               1.483317e+01\n",
       "floor_area_sqm    1.187962e+01\n",
       "type_5_room       1.146839e+01\n",
       "type_executive    9.816533e+00\n",
       "sibor_3m          6.834706e+00\n",
       "type_4_room       5.931009e+00\n",
       "pmi               4.360074e+00\n",
       "punggol           4.119342e+00\n",
       "cpi               3.925119e+00\n",
       "yishun            3.578809e+00\n",
       "sengkang          3.495530e+00\n",
       "woodlands         3.021823e+00\n",
       "jurong_west       2.882296e+00\n",
       "tampines          2.607985e+00\n",
       "sembawang         2.599023e+00\n",
       "gdp_growth        2.490033e+00\n",
       "choa_chu_kang     2.463934e+00\n",
       "bedok             2.264745e+00\n",
       "bukit_panjang     2.162709e+00\n",
       "remaining_lease   2.144845e+00\n",
       "hougang           2.107063e+00\n",
       "bukit_merah       2.064032e+00"
      ]
     },
     "execution_count": 137,
     "metadata": {},
     "output_type": "execute_result"
    }
   ],
   "source": [
    "vif.sort_values(by=['VIF_value'],ascending=False).head(30)"
   ]
  },
  {
   "cell_type": "code",
   "execution_count": 139,
   "metadata": {},
   "outputs": [
    {
     "name": "stdout",
     "output_type": "stream",
     "text": [
      "Features that are highly positve correlated: cli pmi 0.781899351591748\n",
      "Features that are highly positve correlated: cli married 0.9170597173856827\n",
      "Features that are highly positve correlated: cli mth_income 0.9189507036096709\n",
      "Features that are highly positve correlated: married mth_income 0.9435676445598832\n",
      "Features that are highly positve correlated: married total_residents 0.9760573732865355\n",
      "Features that are highly positve correlated: mth_income total_residents 0.9887014992479315\n",
      "Features that are highly positve correlated: dist_mrt dist_mall 0.9999990569500034\n",
      "Features that are highly positve correlated: dist_mrt dist_park 0.9999990960597162\n",
      "Lowest negative correlation between features: -0.49820018564741436\n",
      "Highest positive correlation between features: 0.9999990960597162\n"
     ]
    }
   ],
   "source": [
    "high_corr_features(hdb_df,0.7,-0.7)"
   ]
  },
  {
   "cell_type": "code",
   "execution_count": null,
   "metadata": {},
   "outputs": [],
   "source": [
    "high_corr_features(X_,0.7,-0.7)"
   ]
  },
  {
   "cell_type": "code",
   "execution_count": 71,
   "metadata": {},
   "outputs": [],
   "source": [
    "hdb_df = pd.read_csv(\"../datasets/final/preprocessed.csv\")"
   ]
  },
  {
   "cell_type": "code",
   "execution_count": 72,
   "metadata": {},
   "outputs": [
    {
     "data": {
      "image/png": "[encoded data removed]",
      "text/plain": [
       "<Figure size 1008x576 with 2 Axes>"
      ]
     },
     "metadata": {},
     "output_type": "display_data"
    }
   ],
   "source": [
    "sns.set(style=\"white\")\n",
    "        \n",
    "corr = hdb_df.corr()\n",
    "fig,ax = plt.subplots(figsize=(14,8))\n",
    "\n",
    "mask = np.zeros_like(corr)\n",
    "mask[np.triu_indices_from(mask)] = True\n",
    "ax = sns.heatmap(corr,mask=mask,cbar=True,linewidths=0.5,square=False,vmax=.15, center=0)"
   ]
  },
  {
   "cell_type": "code",
   "execution_count": 140,
   "metadata": {},
   "outputs": [],
   "source": [
    "hdb_df.to_csv(\"../datasets/hdb/reduced_features.csv\",index=False)"
   ]
  },
  {
   "cell_type": "code",
   "execution_count": null,
   "metadata": {},
   "outputs": [],
   "source": []
  },
  {
   "cell_type": "code",
   "execution_count": null,
   "metadata": {},
   "outputs": [],
   "source": []
  },
  {
   "cell_type": "code",
   "execution_count": null,
   "metadata": {},
   "outputs": [],
   "source": []
  }
 ],
 "metadata": {
  "kernelspec": {
   "display_name": "Python 3",
   "language": "python",
   "name": "python3"
  },
  "language_info": {
   "codemirror_mode": {
    "name": "ipython",
    "version": 3
   },
   "file_extension": ".py",
   "mimetype": "text/x-python",
   "name": "python",
   "nbconvert_exporter": "python",
   "pygments_lexer": "ipython3",
   "version": "3.7.6"
  }
 },
 "nbformat": 4,
 "nbformat_minor": 4
}
