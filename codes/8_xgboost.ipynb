{
 "cells": [
  {
   "cell_type": "code",
   "execution_count": 1,
   "metadata": {},
   "outputs": [],
   "source": [
    "import pandas as pd\n",
    "import numpy as np\n",
    "import scipy.stats as sps\n",
    "import seaborn as sns\n",
    "import time\n",
    "import datetime\n",
    "import matplotlib.pyplot as plt\n",
    "import matplotlib.dates as mdates\n",
    "from sklearn.model_selection import cross_val_score\n",
    "from sklearn.model_selection import KFold\n",
    "from sklearn.linear_model import LinearRegression\n",
    "from sklearn.preprocessing import StandardScaler\n",
    "from sklearn.pipeline import Pipeline\n",
    "from sklearn.model_selection import train_test_split\n",
    "from sklearn.metrics import mean_squared_error\n",
    "from sklearn.model_selection import RandomizedSearchCV\n",
    "from sklearn.model_selection import StratifiedKFold\n",
    "import scipy.stats as sps\n",
    "from scipy.special import boxcox, inv_boxcox,inv_boxcox1p\n",
    "import pickle"
   ]
  },
  {
   "cell_type": "code",
   "execution_count": 2,
   "metadata": {
    "scrolled": true
   },
   "outputs": [],
   "source": [
    "import xgboost as xgb\n",
    "from xgboost import plot_tree"
   ]
  },
  {
   "cell_type": "code",
   "execution_count": 142,
   "metadata": {},
   "outputs": [],
   "source": [
    "# Retrieve stored variables from preprocessing notebook\n",
    "\n",
    "%store -r Xlog_train_ss\n",
    "%store -r Xlog_val_ss\n",
    "%store -r Xlog_test_ss \n",
    "\n",
    "%store -r Xlog_train\n",
    "%store -r Xlog_val\n",
    "%store -r Xlog_test\n",
    "\n",
    "%store -r ylog_train\n",
    "%store -r ylog_val\n",
    "%store -r ylog_test \n",
    "\n",
    "%store -r X_train\n",
    "%store -r X_val\n",
    "%store -r X_test\n",
    "\n",
    "%store -r y_train\n",
    "%store -r y_val\n",
    "%store -r y_test\n",
    "\n",
    "%store -r X_train_ss\n",
    "%store -r X_val_ss\n",
    "%store -r X_test_ss\n",
    "\n",
    "%store -r X\n",
    "%store -r y"
   ]
  },
  {
   "cell_type": "markdown",
   "metadata": {},
   "source": [
    "## XGBoost Hyper Parameter Optimization"
   ]
  },
  {
   "cell_type": "markdown",
   "metadata": {},
   "source": [
    "### Compare 4 different combinations\n",
    "I want to find out if the models work better with normalization and standardscaling and so I setup 4 different combinations: \n",
    "\n",
    "- Normalized X+y, No StandardScaling\n",
    "- Normalized y, No StandardScaling\n",
    "- Normalized y, StandardScaling for X\n",
    "- No Normalization, No StandardScaling"
   ]
  },
  {
   "cell_type": "markdown",
   "metadata": {},
   "source": [
    "### 1. Using cross_val_score R2 for comparison"
   ]
  },
  {
   "cell_type": "code",
   "execution_count": 4,
   "metadata": {},
   "outputs": [
    {
     "name": "stdout",
     "output_type": "stream",
     "text": [
      "Normalized X+y, No StandardScaling - CV average R2 score  : 0.8930412\n",
      "Normalized y, No StandardScaling - CV average R2 score    : 0.8930412\n",
      "Normalized y, StandardScaling for X - CV average R2 score : 0.8930412\n",
      "No Normalization, No StandardScaling - CV average R2 score: 0.9658989\n"
     ]
    }
   ],
   "source": [
    "# Use Cross Validation on 4 different regressors to compare their R2 scores\n",
    "\n",
    "xg_reg_1=xgb.XGBRegressor()\n",
    "results_1 = cross_val_score(xg_reg_1, Xlog_train, ylog_train, cv=KFold(n_splits=5))\n",
    "\n",
    "xg_reg_2=xgb.XGBRegressor()\n",
    "results_2 = cross_val_score(xg_reg_2, X_train, ylog_train, cv=KFold(n_splits=5))\n",
    "\n",
    "xg_reg_3=xgb.XGBRegressor()\n",
    "results_3 = cross_val_score(xg_reg_3, X_train_ss, ylog_train, cv=KFold(n_splits=5))\n",
    "\n",
    "xg_reg_4=xgb.XGBRegressor()\n",
    "results_4 = cross_val_score(xg_reg_4, X_train, y_train, cv=KFold(n_splits=5))\n",
    "\n",
    "print(\"Normalized X+y, No StandardScaling - CV average R2 score  : %.7f\" % results_1.mean())\n",
    "print(\"Normalized y, No StandardScaling - CV average R2 score    : %.7f\" % results_2.mean())\n",
    "print(\"Normalized y, StandardScaling for X - CV average R2 score : %.7f\" % results_3.mean())\n",
    "print(\"No Normalization, No StandardScaling - CV average R2 score: %.7f\" % results_4.mean())"
   ]
  },
  {
   "cell_type": "markdown",
   "metadata": {},
   "source": [
    "### 2. Using RMSE for comparison"
   ]
  },
  {
   "cell_type": "markdown",
   "metadata": {},
   "source": [
    "#### 2a Normalized X+y, No StandardScaling"
   ]
  },
  {
   "cell_type": "code",
   "execution_count": 9,
   "metadata": {},
   "outputs": [
    {
     "name": "stdout",
     "output_type": "stream",
     "text": [
      "Fitting 5 folds for each of 30 candidates, totalling 150 fits\n"
     ]
    },
    {
     "name": "stderr",
     "output_type": "stream",
     "text": [
      "[Parallel(n_jobs=4)]: Using backend LokyBackend with 4 concurrent workers.\n",
      "[Parallel(n_jobs=4)]: Done  10 tasks      | elapsed:  3.4min\n",
      "[Parallel(n_jobs=4)]: Done  64 tasks      | elapsed: 13.0min\n",
      "[Parallel(n_jobs=4)]: Done 150 out of 150 | elapsed: 29.2min finished\n"
     ]
    },
    {
     "data": {
      "text/plain": [
       "RandomizedSearchCV(cv=5, error_score=nan,\n",
       "                   estimator=XGBRegressor(base_score=None, booster=None,\n",
       "                                          colsample_bylevel=None,\n",
       "                                          colsample_bynode=None,\n",
       "                                          colsample_bytree=None, gamma=None,\n",
       "                                          gpu_id=None, importance_type='gain',\n",
       "                                          interaction_constraints=None,\n",
       "                                          learning_rate=None,\n",
       "                                          max_delta_step=None, max_depth=None,\n",
       "                                          min_child_weight=None, missing=nan,\n",
       "                                          monotone_constraints=None,\n",
       "                                          n_...\n",
       "                                          tree_method=None,\n",
       "                                          validate_parameters=None,\n",
       "                                          verbosity=None),\n",
       "                   iid='deprecated', n_iter=30, n_jobs=4,\n",
       "                   param_distributions={'base_score': [0.5, 0.75],\n",
       "                                        'booster': ['gbtree', 'dart'],\n",
       "                                        'learning_rate': [0.1, 0.3],\n",
       "                                        'max_depth': [2, 6],\n",
       "                                        'n_estimators': [100, 500]},\n",
       "                   pre_dispatch='2*n_jobs', random_state=42, refit=True,\n",
       "                   return_train_score=True, scoring='neg_mean_squared_error',\n",
       "                   verbose=5)"
      ]
     },
     "execution_count": 9,
     "metadata": {},
     "output_type": "execute_result"
    }
   ],
   "source": [
    "## Hyper Parameter Optimization for the first model\n",
    "xg_reg_1=xgb.XGBRegressor()\n",
    "n_estimators = [100, 500]\n",
    "max_depth = [2, 6]\n",
    "booster=['gbtree','dart']\n",
    "learning_rate=[0.1, 0.3]\n",
    "base_score=[0.5,0.75]\n",
    "\n",
    "# Define the grid of hyperparameters to search\n",
    "hyperparameter_grid = {\n",
    "    'n_estimators': n_estimators,\n",
    "    'max_depth':max_depth,\n",
    "    'booster':booster,\n",
    "    'learning_rate':learning_rate,\n",
    "    'base_score':base_score\n",
    "    }\n",
    "\n",
    "# Set up the random search with cross validation\n",
    "random_cv_1 = RandomizedSearchCV(estimator=xg_reg_1,\n",
    "            param_distributions=hyperparameter_grid,\n",
    "            cv=5, n_iter=30,\n",
    "            scoring = 'neg_mean_squared_error',n_jobs = 4,\n",
    "            verbose = 5, \n",
    "            return_train_score = True,\n",
    "            random_state=42)\n",
    "\n",
    "random_cv_1.fit(Xlog_train,ylog_train)"
   ]
  },
  {
   "cell_type": "code",
   "execution_count": 23,
   "metadata": {},
   "outputs": [
    {
     "name": "stdout",
     "output_type": "stream",
     "text": [
      "Normalized X+y, No StandardScaling\n",
      "----------------------------------\n",
      "Training RMSE: 47096.255119\n",
      "Validation RMSE: 47048.371842\n"
     ]
    }
   ],
   "source": [
    "log_train_pred_1 = random_cv_1.predict(Xlog_train)\n",
    "log_val_pred_1 = random_cv_1.predict(Xlog_val)\n",
    "\n",
    "train_pred_1 = inv_boxcox(log_train_pred_1,-0.6)\n",
    "val_pred_1 = inv_boxcox(log_val_pred_1,-0.6)\n",
    "\n",
    "rmse_train_1 = mean_squared_error(y_train, train_pred_1, squared=False)\n",
    "rmse_val_1 = mean_squared_error(y_val, val_pred_1, squared=False)\n",
    "\n",
    "print(\"Normalized X+y, No StandardScaling\")\n",
    "print(\"----------------------------------\")\n",
    "print(\"Training RMSE: %f\" % (rmse_train_1))\n",
    "print(\"Validation RMSE: %f\" % (rmse_val_1))"
   ]
  },
  {
   "cell_type": "code",
   "execution_count": 20,
   "metadata": {},
   "outputs": [],
   "source": [
    "# Save model 1\n",
    "with open('saved_models/xgb1.pkl', 'wb') as file:\n",
    "    pickle.dump(random_cv_1, file)"
   ]
  },
  {
   "cell_type": "markdown",
   "metadata": {},
   "source": [
    "#### 2b Normalized y, No StandardScaling"
   ]
  },
  {
   "cell_type": "code",
   "execution_count": 22,
   "metadata": {},
   "outputs": [
    {
     "name": "stdout",
     "output_type": "stream",
     "text": [
      "Fitting 5 folds for each of 30 candidates, totalling 150 fits\n"
     ]
    },
    {
     "name": "stderr",
     "output_type": "stream",
     "text": [
      "[Parallel(n_jobs=4)]: Using backend LokyBackend with 4 concurrent workers.\n",
      "[Parallel(n_jobs=4)]: Done  10 tasks      | elapsed:  3.5min\n",
      "[Parallel(n_jobs=4)]: Done  64 tasks      | elapsed: 13.6min\n",
      "[Parallel(n_jobs=4)]: Done 150 out of 150 | elapsed: 29.7min finished\n"
     ]
    },
    {
     "data": {
      "text/plain": [
       "RandomizedSearchCV(cv=5, error_score=nan,\n",
       "                   estimator=XGBRegressor(base_score=None, booster=None,\n",
       "                                          colsample_bylevel=None,\n",
       "                                          colsample_bynode=None,\n",
       "                                          colsample_bytree=None, gamma=None,\n",
       "                                          gpu_id=None, importance_type='gain',\n",
       "                                          interaction_constraints=None,\n",
       "                                          learning_rate=None,\n",
       "                                          max_delta_step=None, max_depth=None,\n",
       "                                          min_child_weight=None, missing=nan,\n",
       "                                          monotone_constraints=None,\n",
       "                                          n_...\n",
       "                                          tree_method=None,\n",
       "                                          validate_parameters=None,\n",
       "                                          verbosity=None),\n",
       "                   iid='deprecated', n_iter=30, n_jobs=4,\n",
       "                   param_distributions={'base_score': [0.5, 0.75],\n",
       "                                        'booster': ['gbtree', 'dart'],\n",
       "                                        'learning_rate': [0.1, 0.3],\n",
       "                                        'max_depth': [2, 6],\n",
       "                                        'n_estimators': [100, 500]},\n",
       "                   pre_dispatch='2*n_jobs', random_state=42, refit=True,\n",
       "                   return_train_score=True, scoring='neg_mean_squared_error',\n",
       "                   verbose=5)"
      ]
     },
     "execution_count": 22,
     "metadata": {},
     "output_type": "execute_result"
    }
   ],
   "source": [
    "## Hyper Parameter Optimization\n",
    "xg_reg_2=xgb.XGBRegressor()\n",
    "n_estimators = [100, 500]\n",
    "max_depth = [2, 6]\n",
    "booster=['gbtree','dart']\n",
    "learning_rate=[0.1, 0.3]\n",
    "base_score=[0.5,0.75]\n",
    "\n",
    "# Define the grid of hyperparameters to search\n",
    "hyperparameter_grid = {\n",
    "    'n_estimators': n_estimators,\n",
    "    'max_depth':max_depth,\n",
    "    'booster':booster,\n",
    "    'learning_rate':learning_rate,\n",
    "    'base_score':base_score\n",
    "    }\n",
    "\n",
    "# Set up the random search with cross validation\n",
    "random_cv_2 = RandomizedSearchCV(estimator=xg_reg_2,\n",
    "            param_distributions=hyperparameter_grid,\n",
    "            cv=5, n_iter=30,\n",
    "            scoring = 'neg_mean_squared_error',n_jobs = 4,\n",
    "            verbose = 5, \n",
    "            return_train_score = True,\n",
    "            random_state=42)\n",
    "\n",
    "random_cv_2.fit(X_train,ylog_train)"
   ]
  },
  {
   "cell_type": "code",
   "execution_count": 24,
   "metadata": {},
   "outputs": [
    {
     "name": "stdout",
     "output_type": "stream",
     "text": [
      "Normalized y, No StandardScaling\n",
      "----------------------------------\n",
      "Training RMSE: 47096.255119\n",
      "Validation RMSE: 47048.371842\n"
     ]
    }
   ],
   "source": [
    "log_train_pred_2 = random_cv_2.predict(X_train)\n",
    "log_val_pred_2 = random_cv_2.predict(X_val)\n",
    "\n",
    "train_pred_2 = inv_boxcox(log_train_pred_2,-0.6)\n",
    "val_pred_2 = inv_boxcox(log_val_pred_2,-0.6)\n",
    "\n",
    "\n",
    "rmse_train_2 = mean_squared_error(y_train, train_pred_2, squared=False)\n",
    "rmse_val_2 = mean_squared_error(y_val, val_pred_2, squared=False)\n",
    "\n",
    "print(\"Normalized y, No StandardScaling\")\n",
    "print(\"----------------------------------\")\n",
    "print(\"Training RMSE: %f\" % (rmse_train_2))\n",
    "print(\"Validation RMSE: %f\" % (rmse_val_2))"
   ]
  },
  {
   "cell_type": "code",
   "execution_count": null,
   "metadata": {},
   "outputs": [],
   "source": [
    "# Save model 2\n",
    "with open('saved_models/xgb2.pkl', 'wb') as file:\n",
    "    pickle.dump(random_cv_2, file)"
   ]
  },
  {
   "cell_type": "markdown",
   "metadata": {},
   "source": [
    "#### 2c Normalized y, StandardScaling for X"
   ]
  },
  {
   "cell_type": "code",
   "execution_count": null,
   "metadata": {},
   "outputs": [],
   "source": [
    "## Hyper Parameter Optimization\n",
    "xg_reg_3=xgb.XGBRegressor()\n",
    "n_estimators = [100, 500]\n",
    "max_depth = [2, 6]\n",
    "booster=['gbtree','dart']\n",
    "learning_rate=[0.1, 0.3]\n",
    "base_score=[0.5,0.75]\n",
    "\n",
    "# Define the grid of hyperparameters to search\n",
    "hyperparameter_grid = {\n",
    "    'n_estimators': n_estimators,\n",
    "    'max_depth':max_depth,\n",
    "    'booster':booster,\n",
    "    'learning_rate':learning_rate,\n",
    "    'base_score':base_score\n",
    "    }\n",
    "\n",
    "# Set up the random search with cross validation\n",
    "random_cv_3 = RandomizedSearchCV(estimator=xg_reg_3,\n",
    "            param_distributions=hyperparameter_grid,\n",
    "            cv=5, n_iter=30,\n",
    "            scoring = 'neg_mean_squared_error',n_jobs = 4,\n",
    "            verbose = 5, \n",
    "            return_train_score = True,\n",
    "            random_state=42)\n",
    "\n",
    "random_cv_3.fit(X_train_ss,ylog_train)"
   ]
  },
  {
   "cell_type": "code",
   "execution_count": null,
   "metadata": {},
   "outputs": [],
   "source": [
    "log_train_pred_3 = random_cv_3.predict(X_train_ss)\n",
    "log_val_pred_3 = random_cv_3.predict(X_val_ss)\n",
    "\n",
    "train_pred_3 = inv_boxcox(log_train_pred_3,-0.6)\n",
    "val_pred_3 = inv_boxcox(log_val_pred_3,-0.6)\n",
    "\n",
    "rmse_train_3 = mean_squared_error(y_train, train_pred_3, squared=False)\n",
    "rmse_val_3 = mean_squared_error(y_val, val_pred_3, squared=False)\n",
    "\n",
    "print(\"Training RMSE: %f\" % (rmse_train_3))\n",
    "print(\"Validation RMSE: %f\" % (rmse_val_3))"
   ]
  },
  {
   "cell_type": "code",
   "execution_count": null,
   "metadata": {},
   "outputs": [],
   "source": [
    "# Save model 3\n",
    "with open('saved_models/xgb3.pkl', 'wb') as file:\n",
    "    pickle.dump(random_cv_3, file)"
   ]
  },
  {
   "cell_type": "markdown",
   "metadata": {},
   "source": [
    "#### 2d No Normalization, No StandardScaling"
   ]
  },
  {
   "cell_type": "code",
   "execution_count": 150,
   "metadata": {},
   "outputs": [
    {
     "name": "stdout",
     "output_type": "stream",
     "text": [
      "Fitting 5 folds for each of 30 candidates, totalling 150 fits\n"
     ]
    },
    {
     "name": "stderr",
     "output_type": "stream",
     "text": [
      "[Parallel(n_jobs=4)]: Using backend LokyBackend with 4 concurrent workers.\n",
      "[Parallel(n_jobs=4)]: Done  10 tasks      | elapsed: 19.3min\n",
      "[Parallel(n_jobs=4)]: Done  64 tasks      | elapsed: 41.2min\n",
      "[Parallel(n_jobs=4)]: Done 150 out of 150 | elapsed: 125.1min finished\n"
     ]
    },
    {
     "data": {
      "text/plain": [
       "RandomizedSearchCV(cv=5, error_score=nan,\n",
       "                   estimator=XGBRegressor(base_score=None, booster=None,\n",
       "                                          colsample_bylevel=None,\n",
       "                                          colsample_bynode=None,\n",
       "                                          colsample_bytree=None, gamma=None,\n",
       "                                          gpu_id=None, importance_type='gain',\n",
       "                                          interaction_constraints=None,\n",
       "                                          learning_rate=None,\n",
       "                                          max_delta_step=None, max_depth=None,\n",
       "                                          min_child_weight=None, missing=nan,\n",
       "                                          monotone_constraints=None,\n",
       "                                          n_...\n",
       "                                          tree_method=None,\n",
       "                                          validate_parameters=None,\n",
       "                                          verbosity=None),\n",
       "                   iid='deprecated', n_iter=30, n_jobs=4,\n",
       "                   param_distributions={'base_score': [0.5, 0.75],\n",
       "                                        'booster': ['gbtree', 'dart'],\n",
       "                                        'learning_rate': [0.1, 0.3],\n",
       "                                        'max_depth': [2, 6],\n",
       "                                        'n_estimators': [100, 500]},\n",
       "                   pre_dispatch='2*n_jobs', random_state=42, refit=True,\n",
       "                   return_train_score=True, scoring='neg_mean_squared_error',\n",
       "                   verbose=5)"
      ]
     },
     "execution_count": 150,
     "metadata": {},
     "output_type": "execute_result"
    }
   ],
   "source": [
    "## Hyper Parameter Optimization\n",
    "xg_reg_4=xgb.XGBRegressor()\n",
    "n_estimators = [100, 500]\n",
    "max_depth = [2, 6]\n",
    "booster=['gbtree','dart']\n",
    "learning_rate=[0.1, 0.3]\n",
    "base_score=[0.5,0.75]\n",
    "\n",
    "# Define the grid of hyperparameters to search\n",
    "hyperparameter_grid = {\n",
    "    'n_estimators': n_estimators,\n",
    "    'max_depth':max_depth,\n",
    "    'booster':booster,\n",
    "    'learning_rate':learning_rate,\n",
    "    'base_score':base_score\n",
    "    }\n",
    "\n",
    "# Set up the random search with cross validation\n",
    "random_cv_4 = RandomizedSearchCV(estimator=xg_reg_4,\n",
    "            param_distributions=hyperparameter_grid,\n",
    "            cv=5, n_iter=30,\n",
    "            scoring = 'neg_mean_squared_error',n_jobs = 4,\n",
    "            verbose = 5, \n",
    "            return_train_score = True,\n",
    "            random_state=42)\n",
    "\n",
    "random_cv_4.fit(X_train,y_train)"
   ]
  },
  {
   "cell_type": "code",
   "execution_count": 151,
   "metadata": {},
   "outputs": [],
   "source": [
    "# Save model 4\n",
    "with open('saved_models/xgb4.pkl', 'wb') as file:\n",
    "    pickle.dump(random_cv_4, file)"
   ]
  },
  {
   "cell_type": "code",
   "execution_count": 152,
   "metadata": {},
   "outputs": [
    {
     "data": {
      "text/plain": [
       "{'n_estimators': 500,\n",
       " 'max_depth': 6,\n",
       " 'learning_rate': 0.1,\n",
       " 'booster': 'dart',\n",
       " 'base_score': 0.75}"
      ]
     },
     "execution_count": 152,
     "metadata": {},
     "output_type": "execute_result"
    }
   ],
   "source": [
    "random_cv_4.best_params_"
   ]
  },
  {
   "cell_type": "code",
   "execution_count": 153,
   "metadata": {},
   "outputs": [
    {
     "name": "stdout",
     "output_type": "stream",
     "text": [
      "No Normalization, No StandardScaling\n",
      "------------------------------------\n",
      "Training RMSE: 19957.662522\n",
      "Validation RMSE: 24319.594238\n"
     ]
    }
   ],
   "source": [
    "train_pred_4 = random_cv_4.predict(X_train)\n",
    "val_pred_4 = random_cv_4.predict(X_val)\n",
    "\n",
    "rmse_train_4 = mean_squared_error(y_train, train_pred_4, squared=False)\n",
    "rmse_val_4 = mean_squared_error(y_val, val_pred_4, squared=False)\n",
    "\n",
    "print(\"No Normalization, No StandardScaling\")\n",
    "print(\"------------------------------------\")\n",
    "print(\"Training RMSE: %f\" % (rmse_train_4))\n",
    "print(\"Validation RMSE: %f\" % (rmse_val_4))"
   ]
  },
  {
   "cell_type": "markdown",
   "metadata": {},
   "source": [
    "### Summary of Model Comparison\n",
    "|Model|Normalize X|Normalize y|Standardscaling|CV R2 Score|Training RMSE|Validation RMSE|\n",
    "|---|---|---|---|---|---|---|\n",
    "| 1 |Yes|Yes|No|0.87|53894.87|54211.4|\n",
    "| 2 |Yes|No |No|0.87|53894.87|54211.4|\n",
    "| 3 |Yes|No |Yes|0.87|53894.87|54211.4|\n",
    "| 4 |No |No |No |0.96|1997.66|24319.59|\n",
    "\n",
    "The RMSE score from Keras from notebook 7_keras : <br/>\n",
    "- RMSE Training :  45412.3960336\n",
    "- RMSE Validation : 45589.5989104\n",
    "- R2 Score: 0.9007644\n",
    "\n",
    "The baseline score from Ordinary Least Square (in preprocessing notebook) was: <br/>\n",
    "- RMSE training: 46408.234820<br/>\n",
    "- RMSE validation: 46987.788686<br />\n",
    "- CV R2 score: 0.8851190<br />\n",
    "\n",
    "The objective is to improve the baseline RMSE by at least 10%, so the first 3 XGBoost models and Keras don't meet the requirement. I choose XGBoost Model 4 for scoring better in R2 and RMSE."
   ]
  },
  {
   "cell_type": "markdown",
   "metadata": {},
   "source": [
    "### Combine Train and Validation as the new Train, and unseen 2020 dataset as Test"
   ]
  },
  {
   "cell_type": "code",
   "execution_count": 156,
   "metadata": {},
   "outputs": [
    {
     "name": "stdout",
     "output_type": "stream",
     "text": [
      "[0]\tvalidation_0-rmse:415490.84375\tvalidation_1-rmse:414846.18750\n",
      "[1]\tvalidation_0-rmse:374923.46875\tvalidation_1-rmse:374783.31250\n",
      "[2]\tvalidation_0-rmse:338429.68750\tvalidation_1-rmse:338317.00000\n",
      "[3]\tvalidation_0-rmse:305549.12500\tvalidation_1-rmse:305623.87500\n",
      "[4]\tvalidation_0-rmse:276109.78125\tvalidation_1-rmse:276429.40625\n",
      "[5]\tvalidation_0-rmse:249564.15625\tvalidation_1-rmse:250202.29688\n",
      "[6]\tvalidation_0-rmse:225764.98438\tvalidation_1-rmse:226510.34375\n",
      "[7]\tvalidation_0-rmse:204453.85938\tvalidation_1-rmse:205719.17188\n",
      "[8]\tvalidation_0-rmse:185402.40625\tvalidation_1-rmse:187163.67188\n",
      "[9]\tvalidation_0-rmse:168262.50000\tvalidation_1-rmse:170632.75000\n",
      "[10]\tvalidation_0-rmse:152914.62500\tvalidation_1-rmse:155689.43750\n",
      "[11]\tvalidation_0-rmse:139086.92188\tvalidation_1-rmse:142103.34375\n",
      "[12]\tvalidation_0-rmse:126830.51562\tvalidation_1-rmse:130262.97656\n",
      "[13]\tvalidation_0-rmse:115779.01562\tvalidation_1-rmse:119385.88281\n",
      "[14]\tvalidation_0-rmse:106009.87500\tvalidation_1-rmse:109930.14062\n",
      "[15]\tvalidation_0-rmse:97234.12500\tvalidation_1-rmse:101224.01562\n",
      "[16]\tvalidation_0-rmse:89459.95312\tvalidation_1-rmse:93706.19531\n",
      "[17]\tvalidation_0-rmse:82580.67969\tvalidation_1-rmse:87262.37500\n",
      "[18]\tvalidation_0-rmse:76504.21094\tvalidation_1-rmse:81679.16406\n",
      "[19]\tvalidation_0-rmse:71070.86719\tvalidation_1-rmse:76620.13281\n",
      "[20]\tvalidation_0-rmse:66274.38281\tvalidation_1-rmse:72256.23438\n",
      "[21]\tvalidation_0-rmse:62107.25781\tvalidation_1-rmse:68539.88281\n",
      "[22]\tvalidation_0-rmse:58445.23438\tvalidation_1-rmse:65034.01172\n",
      "[23]\tvalidation_0-rmse:55204.09375\tvalidation_1-rmse:62120.29297\n",
      "[24]\tvalidation_0-rmse:52345.67969\tvalidation_1-rmse:59476.76953\n",
      "[25]\tvalidation_0-rmse:49916.59375\tvalidation_1-rmse:57278.27344\n",
      "[26]\tvalidation_0-rmse:47633.71875\tvalidation_1-rmse:55289.30469\n",
      "[27]\tvalidation_0-rmse:45744.21875\tvalidation_1-rmse:53545.96094\n",
      "[28]\tvalidation_0-rmse:44196.53516\tvalidation_1-rmse:52155.75781\n",
      "[29]\tvalidation_0-rmse:42789.62109\tvalidation_1-rmse:50983.26953\n",
      "[30]\tvalidation_0-rmse:41580.58984\tvalidation_1-rmse:49754.92188\n",
      "[31]\tvalidation_0-rmse:40526.95312\tvalidation_1-rmse:48837.14453\n",
      "[32]\tvalidation_0-rmse:39554.21875\tvalidation_1-rmse:47902.50000\n",
      "[33]\tvalidation_0-rmse:38676.31250\tvalidation_1-rmse:46880.75391\n",
      "[34]\tvalidation_0-rmse:37874.93359\tvalidation_1-rmse:45981.17188\n",
      "[35]\tvalidation_0-rmse:37223.31641\tvalidation_1-rmse:45383.67969\n",
      "[36]\tvalidation_0-rmse:36557.41797\tvalidation_1-rmse:44728.55469\n",
      "[37]\tvalidation_0-rmse:36050.95312\tvalidation_1-rmse:44113.61719\n",
      "[38]\tvalidation_0-rmse:35511.99219\tvalidation_1-rmse:43596.92188\n",
      "[39]\tvalidation_0-rmse:35144.53906\tvalidation_1-rmse:43190.10156\n",
      "[40]\tvalidation_0-rmse:34816.20703\tvalidation_1-rmse:42905.02734\n",
      "[41]\tvalidation_0-rmse:34462.59375\tvalidation_1-rmse:42517.60938\n",
      "[42]\tvalidation_0-rmse:34143.11328\tvalidation_1-rmse:42236.60938\n",
      "[43]\tvalidation_0-rmse:33857.94922\tvalidation_1-rmse:41821.26953\n",
      "[44]\tvalidation_0-rmse:33581.81641\tvalidation_1-rmse:41442.75781\n",
      "[45]\tvalidation_0-rmse:33368.18750\tvalidation_1-rmse:41230.56250\n",
      "[46]\tvalidation_0-rmse:33108.90625\tvalidation_1-rmse:40884.01562\n",
      "[47]\tvalidation_0-rmse:32896.52734\tvalidation_1-rmse:40640.15234\n",
      "[48]\tvalidation_0-rmse:32705.44336\tvalidation_1-rmse:40412.55859\n",
      "[49]\tvalidation_0-rmse:32545.36914\tvalidation_1-rmse:40213.81250\n",
      "[50]\tvalidation_0-rmse:32340.17383\tvalidation_1-rmse:40030.50781\n",
      "[51]\tvalidation_0-rmse:32137.70117\tvalidation_1-rmse:39773.86328\n",
      "[52]\tvalidation_0-rmse:31999.06055\tvalidation_1-rmse:39642.65625\n",
      "[53]\tvalidation_0-rmse:31834.83984\tvalidation_1-rmse:39436.65625\n",
      "[54]\tvalidation_0-rmse:31697.35742\tvalidation_1-rmse:39234.07031\n",
      "[55]\tvalidation_0-rmse:31543.34375\tvalidation_1-rmse:39071.46484\n",
      "[56]\tvalidation_0-rmse:31338.42383\tvalidation_1-rmse:38781.07812\n",
      "[57]\tvalidation_0-rmse:31246.66602\tvalidation_1-rmse:38734.09375\n",
      "[58]\tvalidation_0-rmse:31129.57812\tvalidation_1-rmse:38603.92188\n",
      "[59]\tvalidation_0-rmse:31028.15625\tvalidation_1-rmse:38432.08984\n",
      "[60]\tvalidation_0-rmse:30929.10742\tvalidation_1-rmse:38313.91406\n",
      "[61]\tvalidation_0-rmse:30735.68359\tvalidation_1-rmse:38104.85156\n",
      "[62]\tvalidation_0-rmse:30610.65430\tvalidation_1-rmse:37995.05469\n",
      "[63]\tvalidation_0-rmse:30466.87891\tvalidation_1-rmse:37874.55078\n",
      "[64]\tvalidation_0-rmse:30399.67383\tvalidation_1-rmse:37718.71484\n",
      "[65]\tvalidation_0-rmse:30287.16406\tvalidation_1-rmse:37605.03906\n",
      "[66]\tvalidation_0-rmse:30141.05664\tvalidation_1-rmse:37511.55859\n",
      "[67]\tvalidation_0-rmse:30036.08984\tvalidation_1-rmse:37391.18750\n",
      "[68]\tvalidation_0-rmse:29912.04102\tvalidation_1-rmse:37303.69531\n",
      "[69]\tvalidation_0-rmse:29862.06836\tvalidation_1-rmse:37168.47656\n",
      "[70]\tvalidation_0-rmse:29700.78125\tvalidation_1-rmse:36979.65234\n",
      "[71]\tvalidation_0-rmse:29632.16016\tvalidation_1-rmse:36883.64844\n",
      "[72]\tvalidation_0-rmse:29539.73828\tvalidation_1-rmse:36832.42188\n",
      "[73]\tvalidation_0-rmse:29474.29492\tvalidation_1-rmse:36763.92188\n",
      "[74]\tvalidation_0-rmse:29403.95898\tvalidation_1-rmse:36698.83594\n",
      "[75]\tvalidation_0-rmse:29305.45312\tvalidation_1-rmse:36463.54688\n",
      "[76]\tvalidation_0-rmse:29240.25977\tvalidation_1-rmse:36418.28906\n",
      "[77]\tvalidation_0-rmse:29085.84375\tvalidation_1-rmse:36209.30078\n",
      "[78]\tvalidation_0-rmse:29021.23438\tvalidation_1-rmse:36072.08594\n",
      "[79]\tvalidation_0-rmse:28936.94922\tvalidation_1-rmse:35999.39062\n",
      "[80]\tvalidation_0-rmse:28819.67383\tvalidation_1-rmse:35900.75391\n",
      "[81]\tvalidation_0-rmse:28691.69922\tvalidation_1-rmse:35743.77734\n",
      "[82]\tvalidation_0-rmse:28648.15234\tvalidation_1-rmse:35622.62891\n",
      "[83]\tvalidation_0-rmse:28578.58398\tvalidation_1-rmse:35569.06250\n",
      "[84]\tvalidation_0-rmse:28505.33398\tvalidation_1-rmse:35460.05859\n",
      "[85]\tvalidation_0-rmse:28452.73047\tvalidation_1-rmse:35358.44141\n",
      "[86]\tvalidation_0-rmse:28390.47461\tvalidation_1-rmse:35314.04297\n",
      "[87]\tvalidation_0-rmse:28298.19141\tvalidation_1-rmse:35313.75391\n",
      "[88]\tvalidation_0-rmse:28220.95117\tvalidation_1-rmse:35226.01953\n",
      "[89]\tvalidation_0-rmse:28136.97266\tvalidation_1-rmse:35187.50781\n",
      "[90]\tvalidation_0-rmse:28074.05664\tvalidation_1-rmse:35125.30078\n",
      "[91]\tvalidation_0-rmse:28008.20703\tvalidation_1-rmse:35082.76172\n",
      "[92]\tvalidation_0-rmse:27915.13281\tvalidation_1-rmse:34973.76562\n",
      "[93]\tvalidation_0-rmse:27863.66602\tvalidation_1-rmse:34910.36719\n",
      "[94]\tvalidation_0-rmse:27773.00977\tvalidation_1-rmse:34897.12500\n",
      "[95]\tvalidation_0-rmse:27728.72266\tvalidation_1-rmse:34876.77344\n",
      "[96]\tvalidation_0-rmse:27676.98047\tvalidation_1-rmse:34842.23438\n",
      "[97]\tvalidation_0-rmse:27630.86523\tvalidation_1-rmse:34793.48828\n",
      "[98]\tvalidation_0-rmse:27593.38281\tvalidation_1-rmse:34764.53125\n",
      "[99]\tvalidation_0-rmse:27557.69141\tvalidation_1-rmse:34734.85156\n",
      "[100]\tvalidation_0-rmse:27491.97266\tvalidation_1-rmse:34687.85547\n",
      "[101]\tvalidation_0-rmse:27401.78125\tvalidation_1-rmse:34567.32422\n",
      "[102]\tvalidation_0-rmse:27328.81641\tvalidation_1-rmse:34524.09375\n",
      "[103]\tvalidation_0-rmse:27285.60156\tvalidation_1-rmse:34495.37891\n",
      "[104]\tvalidation_0-rmse:27215.30078\tvalidation_1-rmse:34431.10156\n",
      "[105]\tvalidation_0-rmse:27120.52344\tvalidation_1-rmse:34205.83203\n",
      "[106]\tvalidation_0-rmse:27041.52734\tvalidation_1-rmse:34104.54688\n",
      "[107]\tvalidation_0-rmse:26978.05078\tvalidation_1-rmse:34073.51562\n",
      "[108]\tvalidation_0-rmse:26907.59375\tvalidation_1-rmse:33992.07422\n",
      "[109]\tvalidation_0-rmse:26823.17969\tvalidation_1-rmse:33906.15234\n",
      "[110]\tvalidation_0-rmse:26788.90625\tvalidation_1-rmse:33824.87500\n",
      "[111]\tvalidation_0-rmse:26763.24414\tvalidation_1-rmse:33814.62500\n",
      "[112]\tvalidation_0-rmse:26736.42969\tvalidation_1-rmse:33787.59766\n",
      "[113]\tvalidation_0-rmse:26693.25000\tvalidation_1-rmse:33748.69141\n",
      "[114]\tvalidation_0-rmse:26629.35156\tvalidation_1-rmse:33698.57031\n",
      "[115]\tvalidation_0-rmse:26583.35547\tvalidation_1-rmse:33616.08984\n",
      "[116]\tvalidation_0-rmse:26545.82617\tvalidation_1-rmse:33588.66016\n",
      "[117]\tvalidation_0-rmse:26498.22461\tvalidation_1-rmse:33519.75781\n",
      "[118]\tvalidation_0-rmse:26482.45312\tvalidation_1-rmse:33504.64453\n",
      "[119]\tvalidation_0-rmse:26447.42578\tvalidation_1-rmse:33470.46484\n",
      "[120]\tvalidation_0-rmse:26393.45703\tvalidation_1-rmse:33402.63672\n",
      "[121]\tvalidation_0-rmse:26346.76758\tvalidation_1-rmse:33379.41406\n",
      "[122]\tvalidation_0-rmse:26280.75586\tvalidation_1-rmse:33323.21875\n",
      "[123]\tvalidation_0-rmse:26205.66406\tvalidation_1-rmse:33226.73047\n",
      "[124]\tvalidation_0-rmse:26191.73047\tvalidation_1-rmse:33207.27734\n",
      "[125]\tvalidation_0-rmse:26171.75195\tvalidation_1-rmse:33187.40625\n"
     ]
    },
    {
     "name": "stdout",
     "output_type": "stream",
     "text": [
      "[126]\tvalidation_0-rmse:26143.01758\tvalidation_1-rmse:33174.60156\n",
      "[127]\tvalidation_0-rmse:26065.78906\tvalidation_1-rmse:33089.20312\n",
      "[128]\tvalidation_0-rmse:26040.34766\tvalidation_1-rmse:33078.05078\n",
      "[129]\tvalidation_0-rmse:25991.24219\tvalidation_1-rmse:32982.66406\n",
      "[130]\tvalidation_0-rmse:25949.39062\tvalidation_1-rmse:32952.91406\n",
      "[131]\tvalidation_0-rmse:25918.13281\tvalidation_1-rmse:32915.75781\n",
      "[132]\tvalidation_0-rmse:25898.46680\tvalidation_1-rmse:32910.98438\n",
      "[133]\tvalidation_0-rmse:25786.55469\tvalidation_1-rmse:32762.57617\n",
      "[134]\tvalidation_0-rmse:25769.97461\tvalidation_1-rmse:32754.94727\n",
      "[135]\tvalidation_0-rmse:25719.27539\tvalidation_1-rmse:32685.47656\n",
      "[136]\tvalidation_0-rmse:25681.80859\tvalidation_1-rmse:32667.07031\n",
      "[137]\tvalidation_0-rmse:25626.04688\tvalidation_1-rmse:32622.89258\n",
      "[138]\tvalidation_0-rmse:25613.76562\tvalidation_1-rmse:32606.88672\n",
      "[139]\tvalidation_0-rmse:25584.32031\tvalidation_1-rmse:32575.49414\n",
      "[140]\tvalidation_0-rmse:25543.50586\tvalidation_1-rmse:32543.33984\n",
      "[141]\tvalidation_0-rmse:25523.04297\tvalidation_1-rmse:32492.99609\n",
      "[142]\tvalidation_0-rmse:25500.69141\tvalidation_1-rmse:32467.14844\n",
      "[143]\tvalidation_0-rmse:25459.23242\tvalidation_1-rmse:32404.41797\n",
      "[144]\tvalidation_0-rmse:25436.68555\tvalidation_1-rmse:32381.39258\n",
      "[145]\tvalidation_0-rmse:25355.68945\tvalidation_1-rmse:32294.79102\n",
      "[146]\tvalidation_0-rmse:25316.10742\tvalidation_1-rmse:32264.11133\n",
      "[147]\tvalidation_0-rmse:25277.11914\tvalidation_1-rmse:32236.35547\n",
      "[148]\tvalidation_0-rmse:25227.43750\tvalidation_1-rmse:32191.88477\n",
      "[149]\tvalidation_0-rmse:25218.98047\tvalidation_1-rmse:32182.02344\n",
      "[150]\tvalidation_0-rmse:25186.82617\tvalidation_1-rmse:32153.41602\n",
      "[151]\tvalidation_0-rmse:25157.99023\tvalidation_1-rmse:32122.60156\n",
      "[152]\tvalidation_0-rmse:25123.90820\tvalidation_1-rmse:32100.97461\n",
      "[153]\tvalidation_0-rmse:25103.94336\tvalidation_1-rmse:32066.62109\n",
      "[154]\tvalidation_0-rmse:25091.51172\tvalidation_1-rmse:32047.89258\n",
      "[155]\tvalidation_0-rmse:25077.32227\tvalidation_1-rmse:32031.72070\n",
      "[156]\tvalidation_0-rmse:25069.11328\tvalidation_1-rmse:32029.22461\n",
      "[157]\tvalidation_0-rmse:25036.42578\tvalidation_1-rmse:31995.24023\n",
      "[158]\tvalidation_0-rmse:25011.92383\tvalidation_1-rmse:32005.18555\n",
      "[159]\tvalidation_0-rmse:24992.41602\tvalidation_1-rmse:31996.59766\n",
      "[160]\tvalidation_0-rmse:24981.45508\tvalidation_1-rmse:31991.48633\n",
      "[161]\tvalidation_0-rmse:24929.81055\tvalidation_1-rmse:31961.16602\n",
      "[162]\tvalidation_0-rmse:24888.96875\tvalidation_1-rmse:31930.38672\n",
      "[163]\tvalidation_0-rmse:24853.88867\tvalidation_1-rmse:31885.74023\n",
      "[164]\tvalidation_0-rmse:24824.43750\tvalidation_1-rmse:31854.40234\n",
      "[165]\tvalidation_0-rmse:24801.75391\tvalidation_1-rmse:31839.40234\n",
      "[166]\tvalidation_0-rmse:24781.64648\tvalidation_1-rmse:31809.97656\n",
      "[167]\tvalidation_0-rmse:24734.18945\tvalidation_1-rmse:31817.84375\n",
      "[168]\tvalidation_0-rmse:24715.14844\tvalidation_1-rmse:31766.29297\n",
      "[169]\tvalidation_0-rmse:24701.66211\tvalidation_1-rmse:31751.39648\n",
      "[170]\tvalidation_0-rmse:24659.91797\tvalidation_1-rmse:31646.38086\n",
      "[171]\tvalidation_0-rmse:24646.09961\tvalidation_1-rmse:31645.58008\n",
      "[172]\tvalidation_0-rmse:24627.35352\tvalidation_1-rmse:31627.14844\n",
      "[173]\tvalidation_0-rmse:24596.44141\tvalidation_1-rmse:31618.59180\n",
      "[174]\tvalidation_0-rmse:24553.17578\tvalidation_1-rmse:31518.94531\n",
      "[175]\tvalidation_0-rmse:24540.86914\tvalidation_1-rmse:31498.41016\n",
      "[176]\tvalidation_0-rmse:24517.69336\tvalidation_1-rmse:31500.70898\n",
      "[177]\tvalidation_0-rmse:24478.27539\tvalidation_1-rmse:31374.15039\n",
      "[178]\tvalidation_0-rmse:24441.40820\tvalidation_1-rmse:31355.01367\n",
      "[179]\tvalidation_0-rmse:24360.16211\tvalidation_1-rmse:31291.21094\n",
      "[180]\tvalidation_0-rmse:24330.15625\tvalidation_1-rmse:31283.23828\n",
      "[181]\tvalidation_0-rmse:24295.45312\tvalidation_1-rmse:31256.24805\n",
      "[182]\tvalidation_0-rmse:24275.61523\tvalidation_1-rmse:31242.18945\n",
      "[183]\tvalidation_0-rmse:24254.35742\tvalidation_1-rmse:31222.74609\n",
      "[184]\tvalidation_0-rmse:24228.51562\tvalidation_1-rmse:31186.79492\n",
      "[185]\tvalidation_0-rmse:24196.64844\tvalidation_1-rmse:31135.81250\n",
      "[186]\tvalidation_0-rmse:24170.42578\tvalidation_1-rmse:31106.10547\n",
      "[187]\tvalidation_0-rmse:24156.34570\tvalidation_1-rmse:31089.44141\n",
      "[188]\tvalidation_0-rmse:24135.03125\tvalidation_1-rmse:31083.68750\n",
      "[189]\tvalidation_0-rmse:24121.84766\tvalidation_1-rmse:31076.93359\n",
      "[190]\tvalidation_0-rmse:24094.74805\tvalidation_1-rmse:31077.70508\n",
      "[191]\tvalidation_0-rmse:24067.29297\tvalidation_1-rmse:31054.38477\n",
      "[192]\tvalidation_0-rmse:24061.92188\tvalidation_1-rmse:31046.36523\n",
      "[193]\tvalidation_0-rmse:24047.72266\tvalidation_1-rmse:31024.64062\n",
      "[194]\tvalidation_0-rmse:24028.60742\tvalidation_1-rmse:30991.03906\n",
      "[195]\tvalidation_0-rmse:24020.54688\tvalidation_1-rmse:30979.95508\n",
      "[196]\tvalidation_0-rmse:24007.88477\tvalidation_1-rmse:30974.74609\n",
      "[197]\tvalidation_0-rmse:23993.46875\tvalidation_1-rmse:30965.62695\n",
      "[198]\tvalidation_0-rmse:23983.85938\tvalidation_1-rmse:30955.14844\n",
      "[199]\tvalidation_0-rmse:23967.66992\tvalidation_1-rmse:30930.50195\n",
      "[200]\tvalidation_0-rmse:23948.58984\tvalidation_1-rmse:30914.69336\n",
      "[201]\tvalidation_0-rmse:23925.43945\tvalidation_1-rmse:30903.75391\n",
      "[202]\tvalidation_0-rmse:23886.91016\tvalidation_1-rmse:30875.61328\n",
      "[203]\tvalidation_0-rmse:23863.71484\tvalidation_1-rmse:30841.22266\n",
      "[204]\tvalidation_0-rmse:23830.54102\tvalidation_1-rmse:30831.96875\n",
      "[205]\tvalidation_0-rmse:23823.25000\tvalidation_1-rmse:30827.88086\n",
      "[206]\tvalidation_0-rmse:23790.14062\tvalidation_1-rmse:30802.01172\n",
      "[207]\tvalidation_0-rmse:23778.90234\tvalidation_1-rmse:30788.07227\n",
      "[208]\tvalidation_0-rmse:23767.98633\tvalidation_1-rmse:30781.46094\n",
      "[209]\tvalidation_0-rmse:23742.68555\tvalidation_1-rmse:30764.95703\n",
      "[210]\tvalidation_0-rmse:23731.59570\tvalidation_1-rmse:30755.48242\n",
      "[211]\tvalidation_0-rmse:23712.02930\tvalidation_1-rmse:30738.29297\n",
      "[212]\tvalidation_0-rmse:23695.97656\tvalidation_1-rmse:30730.50000\n",
      "[213]\tvalidation_0-rmse:23687.14844\tvalidation_1-rmse:30727.32031\n",
      "[214]\tvalidation_0-rmse:23681.62109\tvalidation_1-rmse:30694.26367\n",
      "[215]\tvalidation_0-rmse:23632.11133\tvalidation_1-rmse:30647.07227\n",
      "[216]\tvalidation_0-rmse:23608.05273\tvalidation_1-rmse:30633.14844\n",
      "[217]\tvalidation_0-rmse:23565.42578\tvalidation_1-rmse:30647.25586\n",
      "[218]\tvalidation_0-rmse:23554.34570\tvalidation_1-rmse:30642.00195\n",
      "[219]\tvalidation_0-rmse:23536.52539\tvalidation_1-rmse:30614.12305\n",
      "[220]\tvalidation_0-rmse:23513.92578\tvalidation_1-rmse:30602.00000\n",
      "[221]\tvalidation_0-rmse:23488.36523\tvalidation_1-rmse:30587.41016\n",
      "[222]\tvalidation_0-rmse:23469.74219\tvalidation_1-rmse:30574.61914\n",
      "[223]\tvalidation_0-rmse:23454.48438\tvalidation_1-rmse:30576.52344\n",
      "[224]\tvalidation_0-rmse:23437.06836\tvalidation_1-rmse:30563.71680\n",
      "[225]\tvalidation_0-rmse:23426.61328\tvalidation_1-rmse:30543.43555\n",
      "[226]\tvalidation_0-rmse:23406.71289\tvalidation_1-rmse:30539.45117\n",
      "[227]\tvalidation_0-rmse:23375.19336\tvalidation_1-rmse:30489.17578\n",
      "[228]\tvalidation_0-rmse:23356.24023\tvalidation_1-rmse:30480.39062\n",
      "[229]\tvalidation_0-rmse:23334.08203\tvalidation_1-rmse:30467.20898\n",
      "[230]\tvalidation_0-rmse:23326.57812\tvalidation_1-rmse:30460.24609\n",
      "[231]\tvalidation_0-rmse:23313.91406\tvalidation_1-rmse:30451.20898\n",
      "[232]\tvalidation_0-rmse:23304.77734\tvalidation_1-rmse:30447.69141\n",
      "[233]\tvalidation_0-rmse:23266.02344\tvalidation_1-rmse:30403.64648\n",
      "[234]\tvalidation_0-rmse:23255.90234\tvalidation_1-rmse:30396.17773\n",
      "[235]\tvalidation_0-rmse:23222.87500\tvalidation_1-rmse:30293.59570\n",
      "[236]\tvalidation_0-rmse:23205.86133\tvalidation_1-rmse:30252.53906\n",
      "[237]\tvalidation_0-rmse:23170.78516\tvalidation_1-rmse:30209.02930\n",
      "[238]\tvalidation_0-rmse:23154.22852\tvalidation_1-rmse:30194.61133\n",
      "[239]\tvalidation_0-rmse:23145.08203\tvalidation_1-rmse:30186.83594\n",
      "[240]\tvalidation_0-rmse:23134.16992\tvalidation_1-rmse:30184.60938\n",
      "[241]\tvalidation_0-rmse:23115.90625\tvalidation_1-rmse:30178.67578\n",
      "[242]\tvalidation_0-rmse:23109.42578\tvalidation_1-rmse:30177.39844\n",
      "[243]\tvalidation_0-rmse:23081.83008\tvalidation_1-rmse:30166.14648\n",
      "[244]\tvalidation_0-rmse:23058.11719\tvalidation_1-rmse:30141.03906\n",
      "[245]\tvalidation_0-rmse:23031.61719\tvalidation_1-rmse:30165.38086\n",
      "[246]\tvalidation_0-rmse:22986.13086\tvalidation_1-rmse:30127.74219\n",
      "[247]\tvalidation_0-rmse:22961.30859\tvalidation_1-rmse:30110.98242\n",
      "[248]\tvalidation_0-rmse:22937.75977\tvalidation_1-rmse:30090.18555\n",
      "[249]\tvalidation_0-rmse:22909.41797\tvalidation_1-rmse:30071.47070\n",
      "[250]\tvalidation_0-rmse:22898.01562\tvalidation_1-rmse:30071.10547\n"
     ]
    },
    {
     "name": "stdout",
     "output_type": "stream",
     "text": [
      "[251]\tvalidation_0-rmse:22868.40820\tvalidation_1-rmse:30056.11328\n",
      "[252]\tvalidation_0-rmse:22828.06641\tvalidation_1-rmse:30020.15625\n",
      "[253]\tvalidation_0-rmse:22799.62891\tvalidation_1-rmse:30000.36523\n",
      "[254]\tvalidation_0-rmse:22782.50391\tvalidation_1-rmse:29986.86719\n",
      "[255]\tvalidation_0-rmse:22774.98828\tvalidation_1-rmse:29966.93359\n",
      "[256]\tvalidation_0-rmse:22754.42969\tvalidation_1-rmse:29943.56055\n",
      "[257]\tvalidation_0-rmse:22732.09570\tvalidation_1-rmse:29935.53906\n",
      "[258]\tvalidation_0-rmse:22724.93750\tvalidation_1-rmse:29927.02344\n",
      "[259]\tvalidation_0-rmse:22693.52539\tvalidation_1-rmse:29916.56641\n",
      "[260]\tvalidation_0-rmse:22672.63867\tvalidation_1-rmse:29897.87891\n",
      "[261]\tvalidation_0-rmse:22657.20898\tvalidation_1-rmse:29909.84766\n",
      "[262]\tvalidation_0-rmse:22648.23828\tvalidation_1-rmse:29924.87695\n",
      "[263]\tvalidation_0-rmse:22642.46680\tvalidation_1-rmse:29921.54297\n",
      "[264]\tvalidation_0-rmse:22630.86523\tvalidation_1-rmse:29910.42188\n",
      "[265]\tvalidation_0-rmse:22623.08398\tvalidation_1-rmse:29906.40820\n",
      "[266]\tvalidation_0-rmse:22615.32227\tvalidation_1-rmse:29905.96289\n",
      "[267]\tvalidation_0-rmse:22608.59570\tvalidation_1-rmse:29909.10156\n",
      "[268]\tvalidation_0-rmse:22583.70898\tvalidation_1-rmse:29903.09375\n",
      "[269]\tvalidation_0-rmse:22573.02734\tvalidation_1-rmse:29894.17188\n",
      "[270]\tvalidation_0-rmse:22558.15234\tvalidation_1-rmse:29918.94727\n",
      "[271]\tvalidation_0-rmse:22545.75000\tvalidation_1-rmse:29903.96875\n",
      "[272]\tvalidation_0-rmse:22529.91797\tvalidation_1-rmse:29906.17773\n",
      "[273]\tvalidation_0-rmse:22486.24023\tvalidation_1-rmse:29879.89453\n",
      "[274]\tvalidation_0-rmse:22478.55469\tvalidation_1-rmse:29895.02539\n",
      "[275]\tvalidation_0-rmse:22453.85547\tvalidation_1-rmse:29883.77148\n",
      "[276]\tvalidation_0-rmse:22444.71289\tvalidation_1-rmse:29880.95117\n",
      "[277]\tvalidation_0-rmse:22401.46875\tvalidation_1-rmse:29867.13477\n",
      "[278]\tvalidation_0-rmse:22390.46875\tvalidation_1-rmse:29866.09961\n",
      "[279]\tvalidation_0-rmse:22367.68555\tvalidation_1-rmse:29842.18359\n",
      "[280]\tvalidation_0-rmse:22356.60938\tvalidation_1-rmse:29837.51562\n",
      "[281]\tvalidation_0-rmse:22327.46484\tvalidation_1-rmse:29865.37500\n",
      "[282]\tvalidation_0-rmse:22300.89648\tvalidation_1-rmse:29844.01172\n",
      "[283]\tvalidation_0-rmse:22286.92383\tvalidation_1-rmse:29831.90234\n",
      "[284]\tvalidation_0-rmse:22260.79102\tvalidation_1-rmse:29822.71484\n",
      "[285]\tvalidation_0-rmse:22239.99805\tvalidation_1-rmse:29779.79883\n",
      "[286]\tvalidation_0-rmse:22223.96484\tvalidation_1-rmse:29764.07227\n",
      "[287]\tvalidation_0-rmse:22212.18359\tvalidation_1-rmse:29751.27344\n",
      "[288]\tvalidation_0-rmse:22203.16406\tvalidation_1-rmse:29751.40820\n",
      "[289]\tvalidation_0-rmse:22193.40234\tvalidation_1-rmse:29741.69531\n",
      "[290]\tvalidation_0-rmse:22165.26367\tvalidation_1-rmse:29732.39062\n",
      "[291]\tvalidation_0-rmse:22146.73633\tvalidation_1-rmse:29697.89453\n",
      "[292]\tvalidation_0-rmse:22139.90625\tvalidation_1-rmse:29695.49219\n",
      "[293]\tvalidation_0-rmse:22117.35156\tvalidation_1-rmse:29675.83594\n",
      "[294]\tvalidation_0-rmse:22097.86328\tvalidation_1-rmse:29684.99414\n",
      "[295]\tvalidation_0-rmse:22057.91211\tvalidation_1-rmse:29662.47070\n",
      "[296]\tvalidation_0-rmse:22049.14062\tvalidation_1-rmse:29664.81250\n",
      "[297]\tvalidation_0-rmse:22040.15039\tvalidation_1-rmse:29656.78711\n",
      "[298]\tvalidation_0-rmse:22029.32031\tvalidation_1-rmse:29651.42969\n",
      "[299]\tvalidation_0-rmse:22009.69531\tvalidation_1-rmse:29649.47852\n",
      "[300]\tvalidation_0-rmse:21998.33789\tvalidation_1-rmse:29646.63672\n",
      "[301]\tvalidation_0-rmse:21984.32617\tvalidation_1-rmse:29637.32812\n",
      "[302]\tvalidation_0-rmse:21971.96094\tvalidation_1-rmse:29636.06641\n",
      "[303]\tvalidation_0-rmse:21941.32617\tvalidation_1-rmse:29620.75977\n",
      "[304]\tvalidation_0-rmse:21936.27930\tvalidation_1-rmse:29616.26953\n",
      "[305]\tvalidation_0-rmse:21930.69727\tvalidation_1-rmse:29614.98438\n",
      "[306]\tvalidation_0-rmse:21920.33789\tvalidation_1-rmse:29611.67383\n",
      "[307]\tvalidation_0-rmse:21884.16797\tvalidation_1-rmse:29567.83594\n",
      "[308]\tvalidation_0-rmse:21857.21094\tvalidation_1-rmse:29547.19531\n",
      "[309]\tvalidation_0-rmse:21848.76367\tvalidation_1-rmse:29538.17578\n",
      "[310]\tvalidation_0-rmse:21826.17969\tvalidation_1-rmse:29526.97656\n",
      "[311]\tvalidation_0-rmse:21808.17188\tvalidation_1-rmse:29513.55664\n",
      "[312]\tvalidation_0-rmse:21806.33789\tvalidation_1-rmse:29504.55664\n",
      "[313]\tvalidation_0-rmse:21792.34766\tvalidation_1-rmse:29507.66211\n",
      "[314]\tvalidation_0-rmse:21773.92969\tvalidation_1-rmse:29500.35352\n",
      "[315]\tvalidation_0-rmse:21752.45117\tvalidation_1-rmse:29485.37305\n",
      "[316]\tvalidation_0-rmse:21732.94141\tvalidation_1-rmse:29466.47266\n",
      "[317]\tvalidation_0-rmse:21726.79688\tvalidation_1-rmse:29466.69922\n",
      "[318]\tvalidation_0-rmse:21716.86914\tvalidation_1-rmse:29466.12695\n",
      "[319]\tvalidation_0-rmse:21698.30664\tvalidation_1-rmse:29454.32422\n",
      "[320]\tvalidation_0-rmse:21680.64258\tvalidation_1-rmse:29452.26562\n",
      "[321]\tvalidation_0-rmse:21667.99023\tvalidation_1-rmse:29446.65625\n",
      "[322]\tvalidation_0-rmse:21654.85352\tvalidation_1-rmse:29445.24609\n",
      "[323]\tvalidation_0-rmse:21651.60938\tvalidation_1-rmse:29440.49219\n",
      "[324]\tvalidation_0-rmse:21648.34375\tvalidation_1-rmse:29433.69336\n",
      "[325]\tvalidation_0-rmse:21644.33984\tvalidation_1-rmse:29436.20898\n",
      "[326]\tvalidation_0-rmse:21629.63086\tvalidation_1-rmse:29432.50000\n",
      "[327]\tvalidation_0-rmse:21616.10938\tvalidation_1-rmse:29425.24609\n",
      "[328]\tvalidation_0-rmse:21598.54102\tvalidation_1-rmse:29408.03516\n",
      "[329]\tvalidation_0-rmse:21593.89062\tvalidation_1-rmse:29411.51758\n",
      "[330]\tvalidation_0-rmse:21583.54883\tvalidation_1-rmse:29392.30078\n",
      "[331]\tvalidation_0-rmse:21569.41016\tvalidation_1-rmse:29377.25195\n",
      "[332]\tvalidation_0-rmse:21548.43164\tvalidation_1-rmse:29358.98828\n",
      "[333]\tvalidation_0-rmse:21532.82227\tvalidation_1-rmse:29335.16211\n",
      "[334]\tvalidation_0-rmse:21518.77539\tvalidation_1-rmse:29322.75781\n",
      "[335]\tvalidation_0-rmse:21496.07227\tvalidation_1-rmse:29267.79102\n",
      "[336]\tvalidation_0-rmse:21484.55469\tvalidation_1-rmse:29245.38086\n",
      "[337]\tvalidation_0-rmse:21467.64258\tvalidation_1-rmse:29265.32812\n",
      "[338]\tvalidation_0-rmse:21454.81055\tvalidation_1-rmse:29262.71875\n",
      "[339]\tvalidation_0-rmse:21446.81836\tvalidation_1-rmse:29261.59375\n",
      "[340]\tvalidation_0-rmse:21436.86914\tvalidation_1-rmse:29257.95898\n",
      "[341]\tvalidation_0-rmse:21428.78125\tvalidation_1-rmse:29251.87695\n",
      "[342]\tvalidation_0-rmse:21414.84570\tvalidation_1-rmse:29246.22461\n",
      "[343]\tvalidation_0-rmse:21410.03125\tvalidation_1-rmse:29241.50391\n",
      "[344]\tvalidation_0-rmse:21388.55664\tvalidation_1-rmse:29241.53906\n",
      "[345]\tvalidation_0-rmse:21376.97070\tvalidation_1-rmse:29237.07227\n",
      "[346]\tvalidation_0-rmse:21373.99023\tvalidation_1-rmse:29235.96289\n",
      "[347]\tvalidation_0-rmse:21370.04297\tvalidation_1-rmse:29233.23828\n",
      "[348]\tvalidation_0-rmse:21358.38672\tvalidation_1-rmse:29221.66211\n",
      "[349]\tvalidation_0-rmse:21331.81836\tvalidation_1-rmse:29201.34180\n",
      "[350]\tvalidation_0-rmse:21316.51367\tvalidation_1-rmse:29189.83594\n",
      "[351]\tvalidation_0-rmse:21306.27539\tvalidation_1-rmse:29182.09766\n",
      "[352]\tvalidation_0-rmse:21304.79297\tvalidation_1-rmse:29178.38672\n",
      "[353]\tvalidation_0-rmse:21293.81836\tvalidation_1-rmse:29173.39648\n",
      "[354]\tvalidation_0-rmse:21282.58398\tvalidation_1-rmse:29169.33789\n",
      "[355]\tvalidation_0-rmse:21266.70508\tvalidation_1-rmse:29167.14648\n",
      "[356]\tvalidation_0-rmse:21261.65234\tvalidation_1-rmse:29163.46875\n",
      "[357]\tvalidation_0-rmse:21253.32031\tvalidation_1-rmse:29155.51953\n",
      "[358]\tvalidation_0-rmse:21243.59375\tvalidation_1-rmse:29159.62500\n",
      "[359]\tvalidation_0-rmse:21234.09766\tvalidation_1-rmse:29164.71875\n",
      "[360]\tvalidation_0-rmse:21223.38477\tvalidation_1-rmse:29162.96875\n",
      "[361]\tvalidation_0-rmse:21208.00391\tvalidation_1-rmse:29156.51172\n",
      "[362]\tvalidation_0-rmse:21192.32031\tvalidation_1-rmse:29145.58398\n",
      "[363]\tvalidation_0-rmse:21179.79492\tvalidation_1-rmse:29137.07031\n",
      "[364]\tvalidation_0-rmse:21176.89453\tvalidation_1-rmse:29134.98828\n",
      "[365]\tvalidation_0-rmse:21162.14844\tvalidation_1-rmse:29135.26367\n",
      "[366]\tvalidation_0-rmse:21151.18750\tvalidation_1-rmse:29111.26953\n",
      "[367]\tvalidation_0-rmse:21143.97266\tvalidation_1-rmse:29110.44336\n",
      "[368]\tvalidation_0-rmse:21131.62500\tvalidation_1-rmse:29110.32617\n",
      "[369]\tvalidation_0-rmse:21124.62891\tvalidation_1-rmse:29108.64258\n",
      "[370]\tvalidation_0-rmse:21115.07422\tvalidation_1-rmse:29098.59570\n",
      "[371]\tvalidation_0-rmse:21108.11719\tvalidation_1-rmse:29097.69922\n",
      "[372]\tvalidation_0-rmse:21103.39453\tvalidation_1-rmse:29095.70898\n",
      "[373]\tvalidation_0-rmse:21099.56836\tvalidation_1-rmse:29095.04688\n",
      "[374]\tvalidation_0-rmse:21087.84570\tvalidation_1-rmse:29092.82227\n",
      "[375]\tvalidation_0-rmse:21070.24219\tvalidation_1-rmse:29089.29297\n"
     ]
    },
    {
     "name": "stdout",
     "output_type": "stream",
     "text": [
      "[376]\tvalidation_0-rmse:21061.45898\tvalidation_1-rmse:29091.55273\n",
      "[377]\tvalidation_0-rmse:21058.50977\tvalidation_1-rmse:29089.49805\n",
      "[378]\tvalidation_0-rmse:21045.51172\tvalidation_1-rmse:29093.29102\n",
      "[379]\tvalidation_0-rmse:21042.75586\tvalidation_1-rmse:29090.83398\n",
      "[380]\tvalidation_0-rmse:21037.62109\tvalidation_1-rmse:29089.12891\n",
      "[381]\tvalidation_0-rmse:21020.39648\tvalidation_1-rmse:29067.50195\n",
      "[382]\tvalidation_0-rmse:21006.04102\tvalidation_1-rmse:29060.75000\n",
      "[383]\tvalidation_0-rmse:20995.74219\tvalidation_1-rmse:29048.54688\n",
      "[384]\tvalidation_0-rmse:20983.16016\tvalidation_1-rmse:29043.70898\n",
      "[385]\tvalidation_0-rmse:20969.33008\tvalidation_1-rmse:29048.28516\n",
      "[386]\tvalidation_0-rmse:20963.54492\tvalidation_1-rmse:29042.60742\n",
      "[387]\tvalidation_0-rmse:20952.22852\tvalidation_1-rmse:29038.76367\n",
      "[388]\tvalidation_0-rmse:20950.03516\tvalidation_1-rmse:29038.23438\n",
      "[389]\tvalidation_0-rmse:20941.04688\tvalidation_1-rmse:29031.51562\n",
      "[390]\tvalidation_0-rmse:20934.99414\tvalidation_1-rmse:29024.03125\n",
      "[391]\tvalidation_0-rmse:20918.31641\tvalidation_1-rmse:29012.14453\n",
      "[392]\tvalidation_0-rmse:20911.28906\tvalidation_1-rmse:29012.33203\n",
      "[393]\tvalidation_0-rmse:20906.46875\tvalidation_1-rmse:29012.41797\n",
      "[394]\tvalidation_0-rmse:20893.88867\tvalidation_1-rmse:29011.05469\n",
      "[395]\tvalidation_0-rmse:20891.14453\tvalidation_1-rmse:29011.93555\n",
      "[396]\tvalidation_0-rmse:20884.37109\tvalidation_1-rmse:29012.94336\n",
      "[397]\tvalidation_0-rmse:20879.52734\tvalidation_1-rmse:29013.99023\n",
      "[398]\tvalidation_0-rmse:20874.19531\tvalidation_1-rmse:29010.12695\n",
      "[399]\tvalidation_0-rmse:20870.89258\tvalidation_1-rmse:29009.61328\n",
      "[400]\tvalidation_0-rmse:20861.14453\tvalidation_1-rmse:29005.15625\n",
      "[401]\tvalidation_0-rmse:20846.07031\tvalidation_1-rmse:28989.80078\n",
      "[402]\tvalidation_0-rmse:20831.35156\tvalidation_1-rmse:28995.06641\n",
      "[403]\tvalidation_0-rmse:20824.83594\tvalidation_1-rmse:28992.36133\n",
      "[404]\tvalidation_0-rmse:20817.13867\tvalidation_1-rmse:28998.60156\n",
      "[405]\tvalidation_0-rmse:20815.67578\tvalidation_1-rmse:28994.39844\n",
      "[406]\tvalidation_0-rmse:20814.59375\tvalidation_1-rmse:28996.00391\n",
      "[407]\tvalidation_0-rmse:20801.98047\tvalidation_1-rmse:28960.00781\n",
      "[408]\tvalidation_0-rmse:20782.65039\tvalidation_1-rmse:28951.70898\n",
      "[409]\tvalidation_0-rmse:20776.61523\tvalidation_1-rmse:28951.61719\n",
      "[410]\tvalidation_0-rmse:20770.83203\tvalidation_1-rmse:28949.56641\n",
      "[411]\tvalidation_0-rmse:20752.27930\tvalidation_1-rmse:28944.59766\n",
      "[412]\tvalidation_0-rmse:20726.31836\tvalidation_1-rmse:28938.79688\n",
      "[413]\tvalidation_0-rmse:20705.76953\tvalidation_1-rmse:28933.57227\n",
      "[414]\tvalidation_0-rmse:20689.04688\tvalidation_1-rmse:28933.28516\n",
      "[415]\tvalidation_0-rmse:20673.55078\tvalidation_1-rmse:28922.25195\n",
      "[416]\tvalidation_0-rmse:20665.40234\tvalidation_1-rmse:28923.79297\n",
      "[417]\tvalidation_0-rmse:20661.83594\tvalidation_1-rmse:28919.63281\n",
      "[418]\tvalidation_0-rmse:20652.14844\tvalidation_1-rmse:28916.63086\n",
      "[419]\tvalidation_0-rmse:20650.92383\tvalidation_1-rmse:28912.33594\n",
      "[420]\tvalidation_0-rmse:20644.65625\tvalidation_1-rmse:28910.36133\n",
      "[421]\tvalidation_0-rmse:20632.51758\tvalidation_1-rmse:28900.48828\n",
      "[422]\tvalidation_0-rmse:20619.91211\tvalidation_1-rmse:28899.82031\n",
      "[423]\tvalidation_0-rmse:20598.40625\tvalidation_1-rmse:28896.33203\n",
      "[424]\tvalidation_0-rmse:20586.89453\tvalidation_1-rmse:28904.61328\n",
      "[425]\tvalidation_0-rmse:20572.03711\tvalidation_1-rmse:28897.35938\n",
      "[426]\tvalidation_0-rmse:20564.19922\tvalidation_1-rmse:28894.84180\n",
      "[427]\tvalidation_0-rmse:20554.78320\tvalidation_1-rmse:28896.91992\n",
      "[428]\tvalidation_0-rmse:20546.91016\tvalidation_1-rmse:28893.93945\n",
      "[429]\tvalidation_0-rmse:20529.72461\tvalidation_1-rmse:28888.52539\n",
      "[430]\tvalidation_0-rmse:20525.41602\tvalidation_1-rmse:28887.20312\n",
      "[431]\tvalidation_0-rmse:20511.28906\tvalidation_1-rmse:28881.65625\n",
      "[432]\tvalidation_0-rmse:20509.93750\tvalidation_1-rmse:28878.95703\n",
      "[433]\tvalidation_0-rmse:20500.40820\tvalidation_1-rmse:28876.11328\n",
      "[434]\tvalidation_0-rmse:20490.78125\tvalidation_1-rmse:28870.89258\n",
      "[435]\tvalidation_0-rmse:20484.08008\tvalidation_1-rmse:28859.03516\n",
      "[436]\tvalidation_0-rmse:20475.01367\tvalidation_1-rmse:28856.68164\n",
      "[437]\tvalidation_0-rmse:20465.83789\tvalidation_1-rmse:28850.79297\n",
      "[438]\tvalidation_0-rmse:20463.52930\tvalidation_1-rmse:28849.50391\n",
      "[439]\tvalidation_0-rmse:20459.94922\tvalidation_1-rmse:28848.28711\n",
      "[440]\tvalidation_0-rmse:20457.71289\tvalidation_1-rmse:28847.79102\n",
      "[441]\tvalidation_0-rmse:20446.02539\tvalidation_1-rmse:28840.43359\n",
      "[442]\tvalidation_0-rmse:20434.07812\tvalidation_1-rmse:28838.22461\n",
      "[443]\tvalidation_0-rmse:20420.49805\tvalidation_1-rmse:28825.60938\n",
      "[444]\tvalidation_0-rmse:20414.69531\tvalidation_1-rmse:28823.66602\n",
      "[445]\tvalidation_0-rmse:20397.36133\tvalidation_1-rmse:28813.74805\n",
      "[446]\tvalidation_0-rmse:20386.59570\tvalidation_1-rmse:28815.12109\n",
      "[447]\tvalidation_0-rmse:20381.08984\tvalidation_1-rmse:28809.89453\n",
      "[448]\tvalidation_0-rmse:20369.01953\tvalidation_1-rmse:28805.59961\n",
      "[449]\tvalidation_0-rmse:20355.46484\tvalidation_1-rmse:28801.08008\n",
      "[450]\tvalidation_0-rmse:20347.01758\tvalidation_1-rmse:28804.23047\n",
      "[451]\tvalidation_0-rmse:20335.65039\tvalidation_1-rmse:28782.86328\n",
      "[452]\tvalidation_0-rmse:20326.15430\tvalidation_1-rmse:28772.29492\n",
      "[453]\tvalidation_0-rmse:20322.63281\tvalidation_1-rmse:28758.68945\n",
      "[454]\tvalidation_0-rmse:20314.62891\tvalidation_1-rmse:28759.53125\n",
      "[455]\tvalidation_0-rmse:20309.42773\tvalidation_1-rmse:28757.46484\n",
      "[456]\tvalidation_0-rmse:20301.46875\tvalidation_1-rmse:28743.98047\n",
      "[457]\tvalidation_0-rmse:20298.66602\tvalidation_1-rmse:28746.27344\n",
      "[458]\tvalidation_0-rmse:20294.06445\tvalidation_1-rmse:28747.43555\n",
      "[459]\tvalidation_0-rmse:20286.76953\tvalidation_1-rmse:28750.49609\n",
      "[460]\tvalidation_0-rmse:20274.33984\tvalidation_1-rmse:28744.89648\n",
      "[461]\tvalidation_0-rmse:20269.87500\tvalidation_1-rmse:28746.59570\n",
      "[462]\tvalidation_0-rmse:20263.37500\tvalidation_1-rmse:28731.02148\n",
      "[463]\tvalidation_0-rmse:20255.53711\tvalidation_1-rmse:28725.66992\n",
      "[464]\tvalidation_0-rmse:20253.64062\tvalidation_1-rmse:28724.25195\n",
      "[465]\tvalidation_0-rmse:20247.04688\tvalidation_1-rmse:28721.74219\n",
      "[466]\tvalidation_0-rmse:20232.53906\tvalidation_1-rmse:28717.53516\n",
      "[467]\tvalidation_0-rmse:20224.61328\tvalidation_1-rmse:28713.53711\n",
      "[468]\tvalidation_0-rmse:20219.27148\tvalidation_1-rmse:28713.10742\n",
      "[469]\tvalidation_0-rmse:20208.22656\tvalidation_1-rmse:28715.79492\n",
      "[470]\tvalidation_0-rmse:20194.01172\tvalidation_1-rmse:28712.41992\n",
      "[471]\tvalidation_0-rmse:20182.17188\tvalidation_1-rmse:28702.47461\n",
      "[472]\tvalidation_0-rmse:20175.82031\tvalidation_1-rmse:28706.77539\n",
      "[473]\tvalidation_0-rmse:20173.19922\tvalidation_1-rmse:28707.56641\n",
      "[474]\tvalidation_0-rmse:20166.77539\tvalidation_1-rmse:28708.08203\n",
      "[475]\tvalidation_0-rmse:20161.27734\tvalidation_1-rmse:28696.19922\n",
      "[476]\tvalidation_0-rmse:20145.00391\tvalidation_1-rmse:28692.00000\n",
      "[477]\tvalidation_0-rmse:20129.87695\tvalidation_1-rmse:28684.29883\n",
      "[478]\tvalidation_0-rmse:20124.10938\tvalidation_1-rmse:28670.46289\n",
      "[479]\tvalidation_0-rmse:20120.93359\tvalidation_1-rmse:28668.33398\n",
      "[480]\tvalidation_0-rmse:20106.07227\tvalidation_1-rmse:28666.57031\n",
      "[481]\tvalidation_0-rmse:20105.16992\tvalidation_1-rmse:28659.61914\n",
      "[482]\tvalidation_0-rmse:20086.67383\tvalidation_1-rmse:28656.60547\n",
      "[483]\tvalidation_0-rmse:20074.57617\tvalidation_1-rmse:28655.60156\n",
      "[484]\tvalidation_0-rmse:20071.31641\tvalidation_1-rmse:28656.68164\n",
      "[485]\tvalidation_0-rmse:20063.51953\tvalidation_1-rmse:28652.71484\n",
      "[486]\tvalidation_0-rmse:20056.97461\tvalidation_1-rmse:28649.71094\n",
      "[487]\tvalidation_0-rmse:20046.97656\tvalidation_1-rmse:28639.41602\n",
      "[488]\tvalidation_0-rmse:20043.00391\tvalidation_1-rmse:28640.58008\n",
      "[489]\tvalidation_0-rmse:20027.20508\tvalidation_1-rmse:28638.08984\n",
      "[490]\tvalidation_0-rmse:20023.51367\tvalidation_1-rmse:28637.04492\n",
      "[491]\tvalidation_0-rmse:20019.82031\tvalidation_1-rmse:28639.12891\n",
      "[492]\tvalidation_0-rmse:20010.18945\tvalidation_1-rmse:28639.65234\n",
      "[493]\tvalidation_0-rmse:20001.85352\tvalidation_1-rmse:28634.72852\n",
      "[494]\tvalidation_0-rmse:20000.95508\tvalidation_1-rmse:28630.84375\n",
      "[495]\tvalidation_0-rmse:19993.26172\tvalidation_1-rmse:28631.27344\n",
      "[496]\tvalidation_0-rmse:19984.26172\tvalidation_1-rmse:28634.99219\n",
      "[497]\tvalidation_0-rmse:19978.64258\tvalidation_1-rmse:28632.95312\n",
      "[498]\tvalidation_0-rmse:19967.53125\tvalidation_1-rmse:28608.12500\n",
      "[499]\tvalidation_0-rmse:19957.64648\tvalidation_1-rmse:28599.82812\n"
     ]
    },
    {
     "data": {
      "text/plain": [
       "XGBRegressor(base_score=0.75, booster='dart', colsample_bylevel=1,\n",
       "             colsample_bynode=1, colsample_bytree=1, gamma=0, gpu_id=-1,\n",
       "             importance_type='gain', interaction_constraints='',\n",
       "             learning_rate=0.1, max_delta_step=0, max_depth=6,\n",
       "             min_child_weight=1, missing=nan, monotone_constraints='()',\n",
       "             n_estimators=500, n_jobs=0, num_parallel_tree=1,\n",
       "             objective='reg:squarederror', random_state=0, reg_alpha=0,\n",
       "             reg_lambda=1, scale_pos_weight=1, subsample=1, tree_method='exact',\n",
       "             validate_parameters=1, verbosity=None)"
      ]
     },
     "execution_count": 156,
     "metadata": {},
     "output_type": "execute_result"
    }
   ],
   "source": [
    "xg_reg_4a=xgb.XGBRegressor(base_score=0.75, booster='dart', max_depth=6,\n",
    "                            learning_rate=0.1, n_estimators=500,\n",
    "                           objective='reg:squarederror')\n",
    "\n",
    "\n",
    "eval_set = [(X_train, y_train), (X_val, y_val)]\n",
    "xg_reg_4a.fit(X_train, y_train, eval_metric=\"rmse\", eval_set=eval_set, verbose=True)"
   ]
  },
  {
   "cell_type": "code",
   "execution_count": 157,
   "metadata": {},
   "outputs": [
    {
     "name": "stdout",
     "output_type": "stream",
     "text": [
      "Training RMSE: 19957.662522\n",
      "Val RMSE: 24319.594238\n"
     ]
    }
   ],
   "source": [
    "pred_4a = xg_reg_4a.predict(X_train)\n",
    "val_pred_4a = xg_reg_4a.predict(X_val)\n",
    "\n",
    "rmse_4a = mean_squared_error(y_train, pred_4a, squared=False)\n",
    "rmse_val_4a = mean_squared_error(y_val, val_pred_4a, squared=False)\n",
    "\n",
    "print(\"Training RMSE: %f\" % (rmse_4a))\n",
    "print(\"Val RMSE: %f\" % (rmse_val_4a))"
   ]
  },
  {
   "cell_type": "code",
   "execution_count": 159,
   "metadata": {},
   "outputs": [
    {
     "data": {
      "image/png": "[encoded data removed]",
      "text/plain": [
       "<Figure size 1080x576 with 1 Axes>"
      ]
     },
     "metadata": {
      "needs_background": "light"
     },
     "output_type": "display_data"
    }
   ],
   "source": [
    "### retrieve performance metrics\n",
    "history_4 = xg_reg_4a.evals_result()\n",
    "epochs = len(history_4['validation_0']['rmse'])\n",
    "x_axis = range(0, epochs)\n",
    "\n",
    "# plot RMSE\n",
    "fig, ax = plt.subplots(figsize=(15,8))\n",
    "plt.ylim(18000,50000)\n",
    "plt.xlim(0,500)\n",
    "ax.plot(x_axis, history_4['validation_0']['rmse'], label='Training')\n",
    "ax.plot(x_axis, history_4['validation_1']['rmse'], label='Validation')\n",
    "ax.legend()\n",
    "plt.ylabel('RMSE')\n",
    "plt.xlabel('Epoch/iteration')\n",
    "plt.title('XGBoost RMSE')\n",
    "\n",
    "# Show the major grid lines with dark grey lines\n",
    "plt.grid(b=True, which='major', color='#666666', linestyle='-')\n",
    "\n",
    "# Show the minor grid lines with very faint and almost transparent grey lines\n",
    "plt.minorticks_on()\n",
    "plt.grid(b=True, which='minor', color='#999999', linestyle='-', alpha=0.2)\n",
    "         \n",
    "plt.show()"
   ]
  },
  {
   "cell_type": "markdown",
   "metadata": {},
   "source": [
    "This plot shows how the train and test RMSE change over hundreds of iteractions. Their gap will get bigger if I allow more than iteration, which I do not wish to avoid too much of overfitting."
   ]
  },
  {
   "cell_type": "markdown",
   "metadata": {},
   "source": [
    "### Important Features that influenced the results"
   ]
  },
  {
   "cell_type": "code",
   "execution_count": 160,
   "metadata": {
    "scrolled": false
   },
   "outputs": [
    {
     "data": {
      "text/plain": [
       "Index(['floor_area_sqm', 'remaining_lease', 'floor_range', 'bedok', 'bishan',\n",
       "       'bukit_batok', 'bukit_merah', 'bukit_panjang', 'bukit_timah',\n",
       "       'central_area', 'choa_chu_kang', 'clementi', 'geylang', 'hougang',\n",
       "       'jurong_east', 'jurong_west', 'kallang_whampoa', 'marine_parade',\n",
       "       'pasir_ris', 'punggol', 'queenstown', 'sembawang', 'sengkang',\n",
       "       'serangoon', 'tampines', 'toa_payoh', 'woodlands', 'yishun',\n",
       "       'model_dbss', 'model_maisonette', 'model_terrace', 'type_2_room',\n",
       "       'type_3_room', 'type_4_room', 'type_5_room', 'type_executive',\n",
       "       'type_multi_generation', 'cli', 'pmi', 'cpi', 'gdp_growth',\n",
       "       'unemployed_rate', 'dist_mrt', 'dist_mall', 'dist_market', 'dist_park',\n",
       "       'dist_attraction', 'dist_sport', 'dist_core'],\n",
       "      dtype='object')"
      ]
     },
     "execution_count": 160,
     "metadata": {},
     "output_type": "execute_result"
    }
   ],
   "source": [
    "X_train.columns"
   ]
  },
  {
   "cell_type": "code",
   "execution_count": 148,
   "metadata": {
    "scrolled": false
   },
   "outputs": [
    {
     "data": {
      "image/png": "[encoded data removed]",
      "text/plain": [
       "<Figure size 1440x1080 with 1 Axes>"
      ]
     },
     "metadata": {
      "needs_background": "light"
     },
     "output_type": "display_data"
    }
   ],
   "source": [
    "features =['floor_area_sqm', 'remaining_lease', 'floor_range', 'bedok', 'bishan',\n",
    "       'bukit_batok', 'bukit_merah', 'bukit_panjang', 'bukit_timah',\n",
    "       'central_area', 'choa_chu_kang', 'clementi', 'geylang', 'hougang',\n",
    "       'jurong_east', 'jurong_west', 'kallang_whampoa', 'marine_parade',\n",
    "       'pasir_ris', 'punggol', 'queenstown', 'sembawang', 'sengkang',\n",
    "       'serangoon', 'tampines', 'toa_payoh', 'woodlands', 'yishun',\n",
    "       'model_dbss', 'model_maisonette', 'model_terrace', 'type_2_room',\n",
    "       'type_3_room', 'type_4_room', 'type_5_room', 'type_executive',\n",
    "       'type_multi_generation', 'cli', 'pmi', 'cpi', 'gdp_growth',\n",
    "       'unemployed_rate', 'dist_mrt', 'dist_mall', 'dist_market', 'dist_park',\n",
    "       'dist_attraction', 'dist_sport', 'dist_core']\n",
    "\n",
    "plt.rcParams['figure.figsize'] = (20, 15)\n",
    "\n",
    "xg_reg_4a.get_booster().feature_names = features\n",
    "xgb.plot_importance(xg_reg_4a.get_booster(),height=0.8)\n",
    "\n",
    "plt.title('Order of Importance selected by model', fontsize=22)\n",
    "plt.xlabel('Score', fontsize = 18)\n",
    "plt.ylabel('Features', fontsize = 18)\n",
    "plt.yticks(fontsize=13)\n",
    "plt.show()\n"
   ]
  },
  {
   "cell_type": "markdown",
   "metadata": {},
   "source": [
    "This plot shows which are the features that influenced the predictions, with the most important features at the top. It is not surprising that Floor Area is the most important feature, but it is also important to note that this is not the only feature that affects the price of a property.\n",
    "\n",
    "Next is the Remaining Lease, which is important for HDB flats because all of them are 99 years leasehold properties, which means that at the end of 99 years the property will be returned to the state at zero value. That is why older flats fetch lower prices, assuming all other factors being equal.\n",
    "\n",
    "The location of a flat means its proximities to points of interest, including the Downtown Core. Buyers are willing to pay more if the flats are near to Downtown Core, which is the economic and cultural heart of Singapore. In private residential market the government maintain indices for three different regions, and downtown core belongs to the region with the most expensive private properties.\n",
    "\n",
    "Other Points of Interests also influence the price of a flat, such as nature parks, shopping malls, markets, sport facilities and attractions. But the one that most buyers look for is MRT station. With 60% of the population traveling to work/school in public transport, proximity to MRT station became an important price predictor.\n",
    "\n",
    "Flats at higher floors are getting lesser noise from the street and offer better views, so it is shown here as an important factor.\n",
    "\n",
    "Marcoeconomic factors also play a part in determining flat prices, such as CPI (consumer price index), PMI (purchasing manager index), CLI (composite index) and GDP growth rate. Buying a home is a big investment. During a recession people are worried about their jobs and their ability to service the loan, and that would put downward pressure on price."
   ]
  },
  {
   "cell_type": "code",
   "execution_count": 162,
   "metadata": {},
   "outputs": [],
   "source": [
    "# Save the model for deployment with flask\n",
    "\n",
    "import pickle\n",
    "with open('../webapp/model/xg_reg_4a.pkl', 'wb') as file:\n",
    "    pickle.dump(xg_reg_4a, file)"
   ]
  },
  {
   "cell_type": "markdown",
   "metadata": {},
   "source": [
    "I will be using the web interface to verify the predictions for 2020 dataset"
   ]
  }
 ],
 "metadata": {
  "kernelspec": {
   "display_name": "Python 3",
   "language": "python",
   "name": "python3"
  },
  "language_info": {
   "codemirror_mode": {
    "name": "ipython",
    "version": 3
   },
   "file_extension": ".py",
   "mimetype": "text/x-python",
   "name": "python",
   "nbconvert_exporter": "python",
   "pygments_lexer": "ipython3",
   "version": "3.7.6"
  }
 },
 "nbformat": 4,
 "nbformat_minor": 4
}
