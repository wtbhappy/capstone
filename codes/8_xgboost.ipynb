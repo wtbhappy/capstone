{
 "cells": [
  {
   "cell_type": "code",
   "execution_count": 1,
   "metadata": {},
   "outputs": [],
   "source": [
    "import pandas as pd\n",
    "import numpy as np\n",
    "import scipy.stats as sps\n",
    "import seaborn as sns\n",
    "import time\n",
    "import datetime\n",
    "import matplotlib.pyplot as plt\n",
    "import matplotlib.dates as mdates\n",
    "from sklearn.model_selection import cross_val_score\n",
    "from sklearn.model_selection import KFold\n",
    "from sklearn.linear_model import LinearRegression\n",
    "from sklearn.preprocessing import StandardScaler\n",
    "from sklearn.pipeline import Pipeline\n",
    "from sklearn.model_selection import train_test_split\n",
    "from sklearn.metrics import mean_squared_error\n",
    "from sklearn.model_selection import RandomizedSearchCV\n",
    "from sklearn.model_selection import StratifiedKFold\n",
    "import scipy.stats as sps\n",
    "from scipy.special import boxcox, inv_boxcox,inv_boxcox1p\n",
    "import pickle"
   ]
  },
  {
   "cell_type": "code",
   "execution_count": 2,
   "metadata": {
    "scrolled": true
   },
   "outputs": [],
   "source": [
    "import xgboost as xgb\n",
    "from xgboost import plot_tree"
   ]
  },
  {
   "cell_type": "code",
   "execution_count": 163,
   "metadata": {},
   "outputs": [],
   "source": [
    "# Retrieve stored variables from preprocessing notebook\n",
    "\n",
    "%store -r Xlog_train_ss\n",
    "%store -r Xlog_val_ss\n",
    "%store -r Xlog_test_ss \n",
    "\n",
    "%store -r Xlog_train\n",
    "%store -r Xlog_val\n",
    "%store -r Xlog_test\n",
    "\n",
    "%store -r ylog_train\n",
    "%store -r ylog_val\n",
    "%store -r ylog_test \n",
    "\n",
    "%store -r X_train\n",
    "%store -r X_val\n",
    "%store -r X_test\n",
    "\n",
    "%store -r y_train\n",
    "%store -r y_val\n",
    "%store -r y_test\n",
    "\n",
    "%store -r X_train_ss\n",
    "%store -r X_val_ss\n",
    "%store -r X_test_ss\n",
    "\n",
    "%store -r X\n",
    "%store -r y"
   ]
  },
  {
   "cell_type": "markdown",
   "metadata": {},
   "source": [
    "## XGBoost Hyper Parameter Optimization"
   ]
  },
  {
   "cell_type": "markdown",
   "metadata": {},
   "source": [
    "### Compare 4 different combinations\n",
    "I want to find out if the models work better with normalization and standardscaling and so I setup 4 different combinations: \n",
    "\n",
    "- Normalized X+y, No StandardScaling\n",
    "- Normalized y, No StandardScaling\n",
    "- Normalized y, StandardScaling for X\n",
    "- No Normalization, No StandardScaling"
   ]
  },
  {
   "cell_type": "markdown",
   "metadata": {},
   "source": [
    "### 1. Using cross_val_score R2 for comparison"
   ]
  },
  {
   "cell_type": "code",
   "execution_count": 4,
   "metadata": {},
   "outputs": [
    {
     "name": "stdout",
     "output_type": "stream",
     "text": [
      "Normalized X+y, No StandardScaling - CV average R2 score  : 0.8930412\n",
      "Normalized y, No StandardScaling - CV average R2 score    : 0.8930412\n",
      "Normalized y, StandardScaling for X - CV average R2 score : 0.8930412\n",
      "No Normalization, No StandardScaling - CV average R2 score: 0.9658989\n"
     ]
    }
   ],
   "source": [
    "# Use Cross Validation on 4 different regressors to compare their R2 scores\n",
    "\n",
    "xg_reg_1=xgb.XGBRegressor()\n",
    "results_1 = cross_val_score(xg_reg_1, Xlog_train, ylog_train, cv=KFold(n_splits=5))\n",
    "\n",
    "xg_reg_2=xgb.XGBRegressor()\n",
    "results_2 = cross_val_score(xg_reg_2, X_train, ylog_train, cv=KFold(n_splits=5))\n",
    "\n",
    "xg_reg_3=xgb.XGBRegressor()\n",
    "results_3 = cross_val_score(xg_reg_3, X_train_ss, ylog_train, cv=KFold(n_splits=5))\n",
    "\n",
    "xg_reg_4=xgb.XGBRegressor()\n",
    "results_4 = cross_val_score(xg_reg_4, X_train, y_train, cv=KFold(n_splits=5))\n",
    "\n",
    "print(\"Normalized X+y, No StandardScaling - CV average R2 score  : %.7f\" % results_1.mean())\n",
    "print(\"Normalized y, No StandardScaling - CV average R2 score    : %.7f\" % results_2.mean())\n",
    "print(\"Normalized y, StandardScaling for X - CV average R2 score : %.7f\" % results_3.mean())\n",
    "print(\"No Normalization, No StandardScaling - CV average R2 score: %.7f\" % results_4.mean())"
   ]
  },
  {
   "cell_type": "code",
   "execution_count": 166,
   "metadata": {
    "scrolled": true
   },
   "outputs": [
    {
     "data": {
      "text/html": [
       "<div>\n",
       "<style scoped>\n",
       "    .dataframe tbody tr th:only-of-type {\n",
       "        vertical-align: middle;\n",
       "    }\n",
       "\n",
       "    .dataframe tbody tr th {\n",
       "        vertical-align: top;\n",
       "    }\n",
       "\n",
       "    .dataframe thead th {\n",
       "        text-align: right;\n",
       "    }\n",
       "</style>\n",
       "<table border=\"1\" class=\"dataframe\">\n",
       "  <thead>\n",
       "    <tr style=\"text-align: right;\">\n",
       "      <th></th>\n",
       "      <th>model_type_s1</th>\n",
       "      <th>model_type_s2</th>\n",
       "    </tr>\n",
       "  </thead>\n",
       "  <tbody>\n",
       "    <tr>\n",
       "      <th>0</th>\n",
       "      <td>0</td>\n",
       "      <td>0</td>\n",
       "    </tr>\n",
       "    <tr>\n",
       "      <th>1</th>\n",
       "      <td>0</td>\n",
       "      <td>0</td>\n",
       "    </tr>\n",
       "    <tr>\n",
       "      <th>2</th>\n",
       "      <td>0</td>\n",
       "      <td>0</td>\n",
       "    </tr>\n",
       "    <tr>\n",
       "      <th>3</th>\n",
       "      <td>0</td>\n",
       "      <td>0</td>\n",
       "    </tr>\n",
       "    <tr>\n",
       "      <th>4</th>\n",
       "      <td>0</td>\n",
       "      <td>0</td>\n",
       "    </tr>\n",
       "    <tr>\n",
       "      <th>...</th>\n",
       "      <td>...</td>\n",
       "      <td>...</td>\n",
       "    </tr>\n",
       "    <tr>\n",
       "      <th>80892</th>\n",
       "      <td>0</td>\n",
       "      <td>0</td>\n",
       "    </tr>\n",
       "    <tr>\n",
       "      <th>80893</th>\n",
       "      <td>0</td>\n",
       "      <td>0</td>\n",
       "    </tr>\n",
       "    <tr>\n",
       "      <th>80894</th>\n",
       "      <td>0</td>\n",
       "      <td>0</td>\n",
       "    </tr>\n",
       "    <tr>\n",
       "      <th>80895</th>\n",
       "      <td>0</td>\n",
       "      <td>0</td>\n",
       "    </tr>\n",
       "    <tr>\n",
       "      <th>80896</th>\n",
       "      <td>0</td>\n",
       "      <td>0</td>\n",
       "    </tr>\n",
       "  </tbody>\n",
       "</table>\n",
       "<p>80897 rows × 2 columns</p>\n",
       "</div>"
      ],
      "text/plain": [
       "       model_type_s1  model_type_s2\n",
       "0                  0              0\n",
       "1                  0              0\n",
       "2                  0              0\n",
       "3                  0              0\n",
       "4                  0              0\n",
       "...              ...            ...\n",
       "80892              0              0\n",
       "80893              0              0\n",
       "80894              0              0\n",
       "80895              0              0\n",
       "80896              0              0\n",
       "\n",
       "[80897 rows x 2 columns]"
      ]
     },
     "execution_count": 166,
     "metadata": {},
     "output_type": "execute_result"
    }
   ],
   "source": [
    "X[['model_type_s1','model_type_s2']]"
   ]
  },
  {
   "cell_type": "markdown",
   "metadata": {},
   "source": [
    "### 2. Using RMSE for comparison"
   ]
  },
  {
   "cell_type": "markdown",
   "metadata": {},
   "source": [
    "#### 2a Normalized X+y, No StandardScaling"
   ]
  },
  {
   "cell_type": "code",
   "execution_count": 9,
   "metadata": {},
   "outputs": [
    {
     "name": "stdout",
     "output_type": "stream",
     "text": [
      "Fitting 5 folds for each of 30 candidates, totalling 150 fits\n"
     ]
    },
    {
     "name": "stderr",
     "output_type": "stream",
     "text": [
      "[Parallel(n_jobs=4)]: Using backend LokyBackend with 4 concurrent workers.\n",
      "[Parallel(n_jobs=4)]: Done  10 tasks      | elapsed:  3.4min\n",
      "[Parallel(n_jobs=4)]: Done  64 tasks      | elapsed: 13.0min\n",
      "[Parallel(n_jobs=4)]: Done 150 out of 150 | elapsed: 29.2min finished\n"
     ]
    },
    {
     "data": {
      "text/plain": [
       "RandomizedSearchCV(cv=5, error_score=nan,\n",
       "                   estimator=XGBRegressor(base_score=None, booster=None,\n",
       "                                          colsample_bylevel=None,\n",
       "                                          colsample_bynode=None,\n",
       "                                          colsample_bytree=None, gamma=None,\n",
       "                                          gpu_id=None, importance_type='gain',\n",
       "                                          interaction_constraints=None,\n",
       "                                          learning_rate=None,\n",
       "                                          max_delta_step=None, max_depth=None,\n",
       "                                          min_child_weight=None, missing=nan,\n",
       "                                          monotone_constraints=None,\n",
       "                                          n_...\n",
       "                                          tree_method=None,\n",
       "                                          validate_parameters=None,\n",
       "                                          verbosity=None),\n",
       "                   iid='deprecated', n_iter=30, n_jobs=4,\n",
       "                   param_distributions={'base_score': [0.5, 0.75],\n",
       "                                        'booster': ['gbtree', 'dart'],\n",
       "                                        'learning_rate': [0.1, 0.3],\n",
       "                                        'max_depth': [2, 6],\n",
       "                                        'n_estimators': [100, 500]},\n",
       "                   pre_dispatch='2*n_jobs', random_state=42, refit=True,\n",
       "                   return_train_score=True, scoring='neg_mean_squared_error',\n",
       "                   verbose=5)"
      ]
     },
     "execution_count": 9,
     "metadata": {},
     "output_type": "execute_result"
    }
   ],
   "source": [
    "## Hyper Parameter Optimization for the first model\n",
    "xg_reg_1=xgb.XGBRegressor()\n",
    "n_estimators = [100, 500]\n",
    "max_depth = [2, 6]\n",
    "booster=['gbtree','dart']\n",
    "learning_rate=[0.1, 0.3]\n",
    "base_score=[0.5,0.75]\n",
    "\n",
    "# Define the grid of hyperparameters to search\n",
    "hyperparameter_grid = {\n",
    "    'n_estimators': n_estimators,\n",
    "    'max_depth':max_depth,\n",
    "    'booster':booster,\n",
    "    'learning_rate':learning_rate,\n",
    "    'base_score':base_score\n",
    "    }\n",
    "\n",
    "# Set up the random search with cross validation\n",
    "random_cv_1 = RandomizedSearchCV(estimator=xg_reg_1,\n",
    "            param_distributions=hyperparameter_grid,\n",
    "            cv=5, n_iter=30,\n",
    "            scoring = 'neg_mean_squared_error',n_jobs = 4,\n",
    "            verbose = 5, \n",
    "            return_train_score = True,\n",
    "            random_state=42)\n",
    "\n",
    "random_cv_1.fit(Xlog_train,ylog_train)"
   ]
  },
  {
   "cell_type": "code",
   "execution_count": 23,
   "metadata": {},
   "outputs": [
    {
     "name": "stdout",
     "output_type": "stream",
     "text": [
      "Normalized X+y, No StandardScaling\n",
      "----------------------------------\n",
      "Training RMSE: 47096.255119\n",
      "Validation RMSE: 47048.371842\n"
     ]
    }
   ],
   "source": [
    "log_train_pred_1 = random_cv_1.predict(Xlog_train)\n",
    "log_val_pred_1 = random_cv_1.predict(Xlog_val)\n",
    "\n",
    "train_pred_1 = inv_boxcox(log_train_pred_1,-0.6)\n",
    "val_pred_1 = inv_boxcox(log_val_pred_1,-0.6)\n",
    "\n",
    "rmse_train_1 = mean_squared_error(y_train, train_pred_1, squared=False)\n",
    "rmse_val_1 = mean_squared_error(y_val, val_pred_1, squared=False)\n",
    "\n",
    "print(\"Normalized X+y, No StandardScaling\")\n",
    "print(\"----------------------------------\")\n",
    "print(\"Training RMSE: %f\" % (rmse_train_1))\n",
    "print(\"Validation RMSE: %f\" % (rmse_val_1))"
   ]
  },
  {
   "cell_type": "code",
   "execution_count": 20,
   "metadata": {},
   "outputs": [],
   "source": [
    "# Save model 1\n",
    "with open('saved_models/xgb1.pkl', 'wb') as file:\n",
    "    pickle.dump(random_cv_1, file)"
   ]
  },
  {
   "cell_type": "markdown",
   "metadata": {},
   "source": [
    "#### 2b Normalized y, No StandardScaling"
   ]
  },
  {
   "cell_type": "code",
   "execution_count": 22,
   "metadata": {},
   "outputs": [
    {
     "name": "stdout",
     "output_type": "stream",
     "text": [
      "Fitting 5 folds for each of 30 candidates, totalling 150 fits\n"
     ]
    },
    {
     "name": "stderr",
     "output_type": "stream",
     "text": [
      "[Parallel(n_jobs=4)]: Using backend LokyBackend with 4 concurrent workers.\n",
      "[Parallel(n_jobs=4)]: Done  10 tasks      | elapsed:  3.5min\n",
      "[Parallel(n_jobs=4)]: Done  64 tasks      | elapsed: 13.6min\n",
      "[Parallel(n_jobs=4)]: Done 150 out of 150 | elapsed: 29.7min finished\n"
     ]
    },
    {
     "data": {
      "text/plain": [
       "RandomizedSearchCV(cv=5, error_score=nan,\n",
       "                   estimator=XGBRegressor(base_score=None, booster=None,\n",
       "                                          colsample_bylevel=None,\n",
       "                                          colsample_bynode=None,\n",
       "                                          colsample_bytree=None, gamma=None,\n",
       "                                          gpu_id=None, importance_type='gain',\n",
       "                                          interaction_constraints=None,\n",
       "                                          learning_rate=None,\n",
       "                                          max_delta_step=None, max_depth=None,\n",
       "                                          min_child_weight=None, missing=nan,\n",
       "                                          monotone_constraints=None,\n",
       "                                          n_...\n",
       "                                          tree_method=None,\n",
       "                                          validate_parameters=None,\n",
       "                                          verbosity=None),\n",
       "                   iid='deprecated', n_iter=30, n_jobs=4,\n",
       "                   param_distributions={'base_score': [0.5, 0.75],\n",
       "                                        'booster': ['gbtree', 'dart'],\n",
       "                                        'learning_rate': [0.1, 0.3],\n",
       "                                        'max_depth': [2, 6],\n",
       "                                        'n_estimators': [100, 500]},\n",
       "                   pre_dispatch='2*n_jobs', random_state=42, refit=True,\n",
       "                   return_train_score=True, scoring='neg_mean_squared_error',\n",
       "                   verbose=5)"
      ]
     },
     "execution_count": 22,
     "metadata": {},
     "output_type": "execute_result"
    }
   ],
   "source": [
    "## Hyper Parameter Optimization\n",
    "xg_reg_2=xgb.XGBRegressor()\n",
    "n_estimators = [100, 500]\n",
    "max_depth = [2, 6]\n",
    "booster=['gbtree','dart']\n",
    "learning_rate=[0.1, 0.3]\n",
    "base_score=[0.5,0.75]\n",
    "\n",
    "# Define the grid of hyperparameters to search\n",
    "hyperparameter_grid = {\n",
    "    'n_estimators': n_estimators,\n",
    "    'max_depth':max_depth,\n",
    "    'booster':booster,\n",
    "    'learning_rate':learning_rate,\n",
    "    'base_score':base_score\n",
    "    }\n",
    "\n",
    "# Set up the random search with cross validation\n",
    "random_cv_2 = RandomizedSearchCV(estimator=xg_reg_2,\n",
    "            param_distributions=hyperparameter_grid,\n",
    "            cv=5, n_iter=30,\n",
    "            scoring = 'neg_mean_squared_error',n_jobs = 4,\n",
    "            verbose = 5, \n",
    "            return_train_score = True,\n",
    "            random_state=42)\n",
    "\n",
    "random_cv_2.fit(X_train,ylog_train)"
   ]
  },
  {
   "cell_type": "code",
   "execution_count": 24,
   "metadata": {},
   "outputs": [
    {
     "name": "stdout",
     "output_type": "stream",
     "text": [
      "Normalized y, No StandardScaling\n",
      "----------------------------------\n",
      "Training RMSE: 47096.255119\n",
      "Validation RMSE: 47048.371842\n"
     ]
    }
   ],
   "source": [
    "log_train_pred_2 = random_cv_2.predict(X_train)\n",
    "log_val_pred_2 = random_cv_2.predict(X_val)\n",
    "\n",
    "train_pred_2 = inv_boxcox(log_train_pred_2,-0.6)\n",
    "val_pred_2 = inv_boxcox(log_val_pred_2,-0.6)\n",
    "\n",
    "\n",
    "rmse_train_2 = mean_squared_error(y_train, train_pred_2, squared=False)\n",
    "rmse_val_2 = mean_squared_error(y_val, val_pred_2, squared=False)\n",
    "\n",
    "print(\"Normalized y, No StandardScaling\")\n",
    "print(\"----------------------------------\")\n",
    "print(\"Training RMSE: %f\" % (rmse_train_2))\n",
    "print(\"Validation RMSE: %f\" % (rmse_val_2))"
   ]
  },
  {
   "cell_type": "code",
   "execution_count": null,
   "metadata": {},
   "outputs": [],
   "source": [
    "# Save model 2\n",
    "with open('saved_models/xgb2.pkl', 'wb') as file:\n",
    "    pickle.dump(random_cv_2, file)"
   ]
  },
  {
   "cell_type": "markdown",
   "metadata": {},
   "source": [
    "#### 2c Normalized y, StandardScaling for X"
   ]
  },
  {
   "cell_type": "code",
   "execution_count": null,
   "metadata": {},
   "outputs": [],
   "source": [
    "## Hyper Parameter Optimization\n",
    "xg_reg_3=xgb.XGBRegressor()\n",
    "n_estimators = [100, 500]\n",
    "max_depth = [2, 6]\n",
    "booster=['gbtree','dart']\n",
    "learning_rate=[0.1, 0.3]\n",
    "base_score=[0.5,0.75]\n",
    "\n",
    "# Define the grid of hyperparameters to search\n",
    "hyperparameter_grid = {\n",
    "    'n_estimators': n_estimators,\n",
    "    'max_depth':max_depth,\n",
    "    'booster':booster,\n",
    "    'learning_rate':learning_rate,\n",
    "    'base_score':base_score\n",
    "    }\n",
    "\n",
    "# Set up the random search with cross validation\n",
    "random_cv_3 = RandomizedSearchCV(estimator=xg_reg_3,\n",
    "            param_distributions=hyperparameter_grid,\n",
    "            cv=5, n_iter=30,\n",
    "            scoring = 'neg_mean_squared_error',n_jobs = 4,\n",
    "            verbose = 5, \n",
    "            return_train_score = True,\n",
    "            random_state=42)\n",
    "\n",
    "random_cv_3.fit(X_train_ss,ylog_train)"
   ]
  },
  {
   "cell_type": "code",
   "execution_count": null,
   "metadata": {},
   "outputs": [],
   "source": [
    "log_train_pred_3 = random_cv_3.predict(X_train_ss)\n",
    "log_val_pred_3 = random_cv_3.predict(X_val_ss)\n",
    "\n",
    "train_pred_3 = inv_boxcox(log_train_pred_3,-0.6)\n",
    "val_pred_3 = inv_boxcox(log_val_pred_3,-0.6)\n",
    "\n",
    "rmse_train_3 = mean_squared_error(y_train, train_pred_3, squared=False)\n",
    "rmse_val_3 = mean_squared_error(y_val, val_pred_3, squared=False)\n",
    "\n",
    "print(\"Training RMSE: %f\" % (rmse_train_3))\n",
    "print(\"Validation RMSE: %f\" % (rmse_val_3))"
   ]
  },
  {
   "cell_type": "code",
   "execution_count": null,
   "metadata": {},
   "outputs": [],
   "source": [
    "# Save model 3\n",
    "with open('saved_models/xgb3.pkl', 'wb') as file:\n",
    "    pickle.dump(random_cv_3, file)"
   ]
  },
  {
   "cell_type": "markdown",
   "metadata": {},
   "source": [
    "#### 2d No Normalization, No StandardScaling"
   ]
  },
  {
   "cell_type": "code",
   "execution_count": 150,
   "metadata": {},
   "outputs": [
    {
     "name": "stdout",
     "output_type": "stream",
     "text": [
      "Fitting 5 folds for each of 30 candidates, totalling 150 fits\n"
     ]
    },
    {
     "name": "stderr",
     "output_type": "stream",
     "text": [
      "[Parallel(n_jobs=4)]: Using backend LokyBackend with 4 concurrent workers.\n",
      "[Parallel(n_jobs=4)]: Done  10 tasks      | elapsed: 19.3min\n",
      "[Parallel(n_jobs=4)]: Done  64 tasks      | elapsed: 41.2min\n",
      "[Parallel(n_jobs=4)]: Done 150 out of 150 | elapsed: 125.1min finished\n"
     ]
    },
    {
     "data": {
      "text/plain": [
       "RandomizedSearchCV(cv=5, error_score=nan,\n",
       "                   estimator=XGBRegressor(base_score=None, booster=None,\n",
       "                                          colsample_bylevel=None,\n",
       "                                          colsample_bynode=None,\n",
       "                                          colsample_bytree=None, gamma=None,\n",
       "                                          gpu_id=None, importance_type='gain',\n",
       "                                          interaction_constraints=None,\n",
       "                                          learning_rate=None,\n",
       "                                          max_delta_step=None, max_depth=None,\n",
       "                                          min_child_weight=None, missing=nan,\n",
       "                                          monotone_constraints=None,\n",
       "                                          n_...\n",
       "                                          tree_method=None,\n",
       "                                          validate_parameters=None,\n",
       "                                          verbosity=None),\n",
       "                   iid='deprecated', n_iter=30, n_jobs=4,\n",
       "                   param_distributions={'base_score': [0.5, 0.75],\n",
       "                                        'booster': ['gbtree', 'dart'],\n",
       "                                        'learning_rate': [0.1, 0.3],\n",
       "                                        'max_depth': [2, 6],\n",
       "                                        'n_estimators': [100, 500]},\n",
       "                   pre_dispatch='2*n_jobs', random_state=42, refit=True,\n",
       "                   return_train_score=True, scoring='neg_mean_squared_error',\n",
       "                   verbose=5)"
      ]
     },
     "execution_count": 150,
     "metadata": {},
     "output_type": "execute_result"
    }
   ],
   "source": [
    "## Hyper Parameter Optimization\n",
    "xg_reg_4=xgb.XGBRegressor()\n",
    "n_estimators = [100, 500]\n",
    "max_depth = [2, 6]\n",
    "booster=['gbtree','dart']\n",
    "learning_rate=[0.1, 0.3]\n",
    "base_score=[0.5,0.75]\n",
    "\n",
    "# Define the grid of hyperparameters to search\n",
    "hyperparameter_grid = {\n",
    "    'n_estimators': n_estimators,\n",
    "    'max_depth':max_depth,\n",
    "    'booster':booster,\n",
    "    'learning_rate':learning_rate,\n",
    "    'base_score':base_score\n",
    "    }\n",
    "\n",
    "# Set up the random search with cross validation\n",
    "random_cv_4 = RandomizedSearchCV(estimator=xg_reg_4,\n",
    "            param_distributions=hyperparameter_grid,\n",
    "            cv=5, n_iter=30,\n",
    "            scoring = 'neg_mean_squared_error',n_jobs = 4,\n",
    "            verbose = 5, \n",
    "            return_train_score = True,\n",
    "            random_state=42)\n",
    "\n",
    "random_cv_4.fit(X_train,y_train)"
   ]
  },
  {
   "cell_type": "code",
   "execution_count": 151,
   "metadata": {},
   "outputs": [],
   "source": [
    "# Save model 4\n",
    "with open('saved_models/xgb4.pkl', 'wb') as file:\n",
    "    pickle.dump(random_cv_4, file)"
   ]
  },
  {
   "cell_type": "code",
   "execution_count": 153,
   "metadata": {},
   "outputs": [
    {
     "name": "stdout",
     "output_type": "stream",
     "text": [
      "No Normalization, No StandardScaling\n",
      "------------------------------------\n",
      "Training RMSE: 19957.662522\n",
      "Validation RMSE: 24319.594238\n"
     ]
    }
   ],
   "source": [
    "train_pred_4 = random_cv_4.predict(X_train)\n",
    "val_pred_4 = random_cv_4.predict(X_val)\n",
    "\n",
    "rmse_train_4 = mean_squared_error(y_train, train_pred_4, squared=False)\n",
    "rmse_val_4 = mean_squared_error(y_val, val_pred_4, squared=False)\n",
    "\n",
    "print(\"No Normalization, No StandardScaling\")\n",
    "print(\"------------------------------------\")\n",
    "print(\"Training RMSE: %f\" % (rmse_train_4))\n",
    "print(\"Validation RMSE: %f\" % (rmse_val_4))"
   ]
  },
  {
   "cell_type": "markdown",
   "metadata": {},
   "source": [
    "### Summary of Model Comparison\n",
    "|Model|Normalize X|Normalize y|Standardscaling|CV R2 Score|Training RMSE|Validation RMSE|\n",
    "|---|---|---|---|---|---|---|\n",
    "| 1 |Yes|Yes|No|0.87|53894.87|54211.4|\n",
    "| 2 |Yes|No |No|0.87|53894.87|54211.4|\n",
    "| 3 |Yes|No |Yes|0.87|53894.87|54211.4|\n",
    "| 4 |No |No |No |0.96|1997.66|24319.59|\n",
    "\n",
    "The RMSE score from Keras from notebook 7_keras : <br/>\n",
    "- RMSE Training :  45412.3960336\n",
    "- RMSE Validation : 45589.5989104\n",
    "- R2 Score: 0.9007644\n",
    "\n",
    "The baseline score from Ordinary Least Square (in preprocessing notebook) was: <br/>\n",
    "- RMSE training: 46408.234820<br/>\n",
    "- RMSE validation: 46987.788686<br />\n",
    "- CV R2 score: 0.8851190<br />\n",
    "\n",
    "The objective is to improve the baseline RMSE by at least 10%, so the first 3 XGBoost models and Keras don't meet the requirement. I choose XGBoost Model 4 for scoring better in R2 and RMSE."
   ]
  },
  {
   "cell_type": "code",
   "execution_count": 152,
   "metadata": {},
   "outputs": [
    {
     "data": {
      "text/plain": [
       "{'n_estimators': 500,\n",
       " 'max_depth': 6,\n",
       " 'learning_rate': 0.1,\n",
       " 'booster': 'dart',\n",
       " 'base_score': 0.75}"
      ]
     },
     "execution_count": 152,
     "metadata": {},
     "output_type": "execute_result"
    }
   ],
   "source": [
    "random_cv_4.best_params_"
   ]
  },
  {
   "cell_type": "code",
   "execution_count": 167,
   "metadata": {},
   "outputs": [
    {
     "name": "stdout",
     "output_type": "stream",
     "text": [
      "[0]\tvalidation_0-rmse:415424.03125\tvalidation_1-rmse:415665.78125\n",
      "[1]\tvalidation_0-rmse:374852.59375\tvalidation_1-rmse:375106.25000\n",
      "[2]\tvalidation_0-rmse:338362.37500\tvalidation_1-rmse:338636.43750\n",
      "[3]\tvalidation_0-rmse:305478.12500\tvalidation_1-rmse:305796.18750\n",
      "[4]\tvalidation_0-rmse:275945.78125\tvalidation_1-rmse:276308.09375\n",
      "[5]\tvalidation_0-rmse:249517.53125\tvalidation_1-rmse:249947.32812\n",
      "[6]\tvalidation_0-rmse:225713.45312\tvalidation_1-rmse:226150.20312\n",
      "[7]\tvalidation_0-rmse:204399.09375\tvalidation_1-rmse:204881.07812\n",
      "[8]\tvalidation_0-rmse:185316.23438\tvalidation_1-rmse:185824.56250\n",
      "[9]\tvalidation_0-rmse:168232.40625\tvalidation_1-rmse:168793.04688\n",
      "[10]\tvalidation_0-rmse:152854.92188\tvalidation_1-rmse:153438.54688\n",
      "[11]\tvalidation_0-rmse:139075.67188\tvalidation_1-rmse:139671.96875\n",
      "[12]\tvalidation_0-rmse:126809.83594\tvalidation_1-rmse:127390.46875\n",
      "[13]\tvalidation_0-rmse:115852.55469\tvalidation_1-rmse:116463.47656\n",
      "[14]\tvalidation_0-rmse:105993.71094\tvalidation_1-rmse:106652.57812\n",
      "[15]\tvalidation_0-rmse:97283.58594\tvalidation_1-rmse:97963.34375\n",
      "[16]\tvalidation_0-rmse:89527.09375\tvalidation_1-rmse:90210.58594\n",
      "[17]\tvalidation_0-rmse:82605.68750\tvalidation_1-rmse:83352.29688\n",
      "[18]\tvalidation_0-rmse:76522.72656\tvalidation_1-rmse:77298.51562\n",
      "[19]\tvalidation_0-rmse:71102.83594\tvalidation_1-rmse:71904.68750\n",
      "[20]\tvalidation_0-rmse:66363.06250\tvalidation_1-rmse:67184.21094\n",
      "[21]\tvalidation_0-rmse:62234.13281\tvalidation_1-rmse:63090.12891\n",
      "[22]\tvalidation_0-rmse:58554.40234\tvalidation_1-rmse:59449.53516\n",
      "[23]\tvalidation_0-rmse:55252.62500\tvalidation_1-rmse:56195.26562\n",
      "[24]\tvalidation_0-rmse:52485.59375\tvalidation_1-rmse:53503.44922\n",
      "[25]\tvalidation_0-rmse:49978.07031\tvalidation_1-rmse:51002.87109\n",
      "[26]\tvalidation_0-rmse:47752.51562\tvalidation_1-rmse:48808.36328\n",
      "[27]\tvalidation_0-rmse:45883.25391\tvalidation_1-rmse:46966.57031\n",
      "[28]\tvalidation_0-rmse:44255.49609\tvalidation_1-rmse:45415.55859\n",
      "[29]\tvalidation_0-rmse:42865.51562\tvalidation_1-rmse:44076.80469\n",
      "[30]\tvalidation_0-rmse:41664.36328\tvalidation_1-rmse:42918.64844\n",
      "[31]\tvalidation_0-rmse:40421.98828\tvalidation_1-rmse:41695.41797\n",
      "[32]\tvalidation_0-rmse:39484.51953\tvalidation_1-rmse:40798.47656\n",
      "[33]\tvalidation_0-rmse:38706.94922\tvalidation_1-rmse:40069.71094\n",
      "[34]\tvalidation_0-rmse:37986.72656\tvalidation_1-rmse:39365.94922\n",
      "[35]\tvalidation_0-rmse:37296.17578\tvalidation_1-rmse:38701.36719\n",
      "[36]\tvalidation_0-rmse:36725.48438\tvalidation_1-rmse:38155.87891\n",
      "[37]\tvalidation_0-rmse:36151.24219\tvalidation_1-rmse:37598.52734\n",
      "[38]\tvalidation_0-rmse:35605.26953\tvalidation_1-rmse:37085.38672\n",
      "[39]\tvalidation_0-rmse:35214.08203\tvalidation_1-rmse:36695.91406\n",
      "[40]\tvalidation_0-rmse:34901.23828\tvalidation_1-rmse:36398.44141\n",
      "[41]\tvalidation_0-rmse:34587.76172\tvalidation_1-rmse:36077.11719\n",
      "[42]\tvalidation_0-rmse:34213.75391\tvalidation_1-rmse:35715.40234\n",
      "[43]\tvalidation_0-rmse:33902.52734\tvalidation_1-rmse:35410.14062\n",
      "[44]\tvalidation_0-rmse:33638.18359\tvalidation_1-rmse:35178.66016\n",
      "[45]\tvalidation_0-rmse:33384.57031\tvalidation_1-rmse:34955.56641\n",
      "[46]\tvalidation_0-rmse:33073.35156\tvalidation_1-rmse:34638.25781\n",
      "[47]\tvalidation_0-rmse:32787.80859\tvalidation_1-rmse:34355.03516\n",
      "[48]\tvalidation_0-rmse:32646.85547\tvalidation_1-rmse:34212.69531\n",
      "[49]\tvalidation_0-rmse:32431.31250\tvalidation_1-rmse:34001.10938\n",
      "[50]\tvalidation_0-rmse:32236.17188\tvalidation_1-rmse:33807.22266\n",
      "[51]\tvalidation_0-rmse:32103.14258\tvalidation_1-rmse:33689.69141\n",
      "[52]\tvalidation_0-rmse:31943.81641\tvalidation_1-rmse:33518.14844\n",
      "[53]\tvalidation_0-rmse:31766.63867\tvalidation_1-rmse:33345.78516\n",
      "[54]\tvalidation_0-rmse:31609.96680\tvalidation_1-rmse:33208.67969\n",
      "[55]\tvalidation_0-rmse:31469.46680\tvalidation_1-rmse:33092.04297\n",
      "[56]\tvalidation_0-rmse:31368.52148\tvalidation_1-rmse:32988.49219\n",
      "[57]\tvalidation_0-rmse:31274.80273\tvalidation_1-rmse:32911.51562\n",
      "[58]\tvalidation_0-rmse:31097.16016\tvalidation_1-rmse:32744.13867\n",
      "[59]\tvalidation_0-rmse:30955.61133\tvalidation_1-rmse:32612.41211\n",
      "[60]\tvalidation_0-rmse:30846.79102\tvalidation_1-rmse:32513.17773\n",
      "[61]\tvalidation_0-rmse:30751.28906\tvalidation_1-rmse:32428.45312\n",
      "[62]\tvalidation_0-rmse:30547.07422\tvalidation_1-rmse:32232.95312\n",
      "[63]\tvalidation_0-rmse:30409.43164\tvalidation_1-rmse:32115.92969\n",
      "[64]\tvalidation_0-rmse:30280.42773\tvalidation_1-rmse:32011.44727\n",
      "[65]\tvalidation_0-rmse:30195.74609\tvalidation_1-rmse:31941.53125\n",
      "[66]\tvalidation_0-rmse:30118.81250\tvalidation_1-rmse:31877.15625\n",
      "[67]\tvalidation_0-rmse:30007.69141\tvalidation_1-rmse:31781.14648\n",
      "[68]\tvalidation_0-rmse:29927.59570\tvalidation_1-rmse:31672.77539\n",
      "[69]\tvalidation_0-rmse:29789.42383\tvalidation_1-rmse:31555.90820\n",
      "[70]\tvalidation_0-rmse:29675.77930\tvalidation_1-rmse:31452.78711\n",
      "[71]\tvalidation_0-rmse:29579.51953\tvalidation_1-rmse:31352.93164\n",
      "[72]\tvalidation_0-rmse:29431.08203\tvalidation_1-rmse:31212.60352\n",
      "[73]\tvalidation_0-rmse:29358.44336\tvalidation_1-rmse:31146.38281\n",
      "[74]\tvalidation_0-rmse:29300.85547\tvalidation_1-rmse:31093.17773\n",
      "[75]\tvalidation_0-rmse:29236.04688\tvalidation_1-rmse:31037.78320\n",
      "[76]\tvalidation_0-rmse:29141.31055\tvalidation_1-rmse:30934.93359\n",
      "[77]\tvalidation_0-rmse:29042.72852\tvalidation_1-rmse:30855.18750\n",
      "[78]\tvalidation_0-rmse:28973.76172\tvalidation_1-rmse:30800.57617\n",
      "[79]\tvalidation_0-rmse:28931.73242\tvalidation_1-rmse:30766.69141\n",
      "[80]\tvalidation_0-rmse:28865.07617\tvalidation_1-rmse:30701.54297\n",
      "[81]\tvalidation_0-rmse:28801.33594\tvalidation_1-rmse:30646.69336\n",
      "[82]\tvalidation_0-rmse:28666.62891\tvalidation_1-rmse:30518.15234\n",
      "[83]\tvalidation_0-rmse:28593.86719\tvalidation_1-rmse:30453.08594\n",
      "[84]\tvalidation_0-rmse:28520.34766\tvalidation_1-rmse:30386.99219\n",
      "[85]\tvalidation_0-rmse:28400.15820\tvalidation_1-rmse:30292.53125\n",
      "[86]\tvalidation_0-rmse:28330.84961\tvalidation_1-rmse:30234.32617\n",
      "[87]\tvalidation_0-rmse:28243.60352\tvalidation_1-rmse:30160.94336\n",
      "[88]\tvalidation_0-rmse:28176.40625\tvalidation_1-rmse:30114.81445\n",
      "[89]\tvalidation_0-rmse:28111.73633\tvalidation_1-rmse:30053.16797\n",
      "[90]\tvalidation_0-rmse:28060.98242\tvalidation_1-rmse:30012.76172\n",
      "[91]\tvalidation_0-rmse:27980.35938\tvalidation_1-rmse:29931.96484\n",
      "[92]\tvalidation_0-rmse:27904.51367\tvalidation_1-rmse:29872.49609\n",
      "[93]\tvalidation_0-rmse:27865.02930\tvalidation_1-rmse:29833.12500\n",
      "[94]\tvalidation_0-rmse:27821.57031\tvalidation_1-rmse:29807.11523\n",
      "[95]\tvalidation_0-rmse:27776.65039\tvalidation_1-rmse:29768.39648\n",
      "[96]\tvalidation_0-rmse:27691.79688\tvalidation_1-rmse:29686.69922\n",
      "[97]\tvalidation_0-rmse:27589.23438\tvalidation_1-rmse:29603.23633\n",
      "[98]\tvalidation_0-rmse:27486.41992\tvalidation_1-rmse:29500.94727\n",
      "[99]\tvalidation_0-rmse:27453.01562\tvalidation_1-rmse:29471.34375\n",
      "[100]\tvalidation_0-rmse:27376.94531\tvalidation_1-rmse:29402.80078\n",
      "[101]\tvalidation_0-rmse:27340.53516\tvalidation_1-rmse:29372.58203\n",
      "[102]\tvalidation_0-rmse:27256.52539\tvalidation_1-rmse:29285.06250\n",
      "[103]\tvalidation_0-rmse:27228.08203\tvalidation_1-rmse:29259.94727\n",
      "[104]\tvalidation_0-rmse:27160.50391\tvalidation_1-rmse:29187.01562\n",
      "[105]\tvalidation_0-rmse:27107.82617\tvalidation_1-rmse:29146.62891\n",
      "[106]\tvalidation_0-rmse:27019.87695\tvalidation_1-rmse:29059.08984\n",
      "[107]\tvalidation_0-rmse:26986.17773\tvalidation_1-rmse:29038.73828\n",
      "[108]\tvalidation_0-rmse:26931.27148\tvalidation_1-rmse:28999.60742\n",
      "[109]\tvalidation_0-rmse:26902.04492\tvalidation_1-rmse:28970.90820\n",
      "[110]\tvalidation_0-rmse:26834.56641\tvalidation_1-rmse:28898.58984\n",
      "[111]\tvalidation_0-rmse:26787.87305\tvalidation_1-rmse:28864.24609\n",
      "[112]\tvalidation_0-rmse:26693.94922\tvalidation_1-rmse:28787.95508\n",
      "[113]\tvalidation_0-rmse:26591.94141\tvalidation_1-rmse:28689.35156\n",
      "[114]\tvalidation_0-rmse:26565.27148\tvalidation_1-rmse:28667.80273\n",
      "[115]\tvalidation_0-rmse:26520.74023\tvalidation_1-rmse:28630.35938\n",
      "[116]\tvalidation_0-rmse:26469.32227\tvalidation_1-rmse:28593.19922\n",
      "[117]\tvalidation_0-rmse:26401.75781\tvalidation_1-rmse:28532.53125\n",
      "[118]\tvalidation_0-rmse:26323.61523\tvalidation_1-rmse:28475.54297\n",
      "[119]\tvalidation_0-rmse:26304.40820\tvalidation_1-rmse:28461.81055\n",
      "[120]\tvalidation_0-rmse:26261.80664\tvalidation_1-rmse:28425.68750\n",
      "[121]\tvalidation_0-rmse:26210.94336\tvalidation_1-rmse:28372.64844\n",
      "[122]\tvalidation_0-rmse:26172.29492\tvalidation_1-rmse:28340.05859\n",
      "[123]\tvalidation_0-rmse:26125.95312\tvalidation_1-rmse:28300.75195\n",
      "[124]\tvalidation_0-rmse:26082.77344\tvalidation_1-rmse:28267.48828\n",
      "[125]\tvalidation_0-rmse:26059.29297\tvalidation_1-rmse:28252.19141\n"
     ]
    },
    {
     "name": "stdout",
     "output_type": "stream",
     "text": [
      "[126]\tvalidation_0-rmse:26017.03711\tvalidation_1-rmse:28219.18750\n",
      "[127]\tvalidation_0-rmse:25947.85742\tvalidation_1-rmse:28161.58398\n",
      "[128]\tvalidation_0-rmse:25926.46289\tvalidation_1-rmse:28138.53516\n",
      "[129]\tvalidation_0-rmse:25877.81836\tvalidation_1-rmse:28104.60742\n",
      "[130]\tvalidation_0-rmse:25848.11914\tvalidation_1-rmse:28086.53906\n",
      "[131]\tvalidation_0-rmse:25804.97656\tvalidation_1-rmse:28065.56055\n",
      "[132]\tvalidation_0-rmse:25777.53125\tvalidation_1-rmse:28046.89258\n",
      "[133]\tvalidation_0-rmse:25765.32031\tvalidation_1-rmse:28035.29492\n",
      "[134]\tvalidation_0-rmse:25717.93750\tvalidation_1-rmse:27999.83008\n",
      "[135]\tvalidation_0-rmse:25679.34375\tvalidation_1-rmse:27969.13672\n",
      "[136]\tvalidation_0-rmse:25637.02539\tvalidation_1-rmse:27937.98047\n",
      "[137]\tvalidation_0-rmse:25594.22461\tvalidation_1-rmse:27898.05078\n",
      "[138]\tvalidation_0-rmse:25571.38867\tvalidation_1-rmse:27881.95117\n",
      "[139]\tvalidation_0-rmse:25521.57812\tvalidation_1-rmse:27839.08398\n",
      "[140]\tvalidation_0-rmse:25508.12695\tvalidation_1-rmse:27831.11523\n",
      "[141]\tvalidation_0-rmse:25433.21875\tvalidation_1-rmse:27766.62891\n",
      "[142]\tvalidation_0-rmse:25384.44336\tvalidation_1-rmse:27714.61328\n",
      "[143]\tvalidation_0-rmse:25368.70703\tvalidation_1-rmse:27695.42969\n",
      "[144]\tvalidation_0-rmse:25331.50586\tvalidation_1-rmse:27668.40820\n",
      "[145]\tvalidation_0-rmse:25290.14453\tvalidation_1-rmse:27634.07031\n",
      "[146]\tvalidation_0-rmse:25269.86133\tvalidation_1-rmse:27618.85742\n",
      "[147]\tvalidation_0-rmse:25239.11719\tvalidation_1-rmse:27595.39258\n",
      "[148]\tvalidation_0-rmse:25205.61719\tvalidation_1-rmse:27568.33984\n",
      "[149]\tvalidation_0-rmse:25190.66602\tvalidation_1-rmse:27561.23828\n",
      "[150]\tvalidation_0-rmse:25178.88477\tvalidation_1-rmse:27558.94141\n",
      "[151]\tvalidation_0-rmse:25159.56445\tvalidation_1-rmse:27539.77734\n",
      "[152]\tvalidation_0-rmse:25130.35156\tvalidation_1-rmse:27517.60547\n",
      "[153]\tvalidation_0-rmse:25094.60547\tvalidation_1-rmse:27491.41016\n",
      "[154]\tvalidation_0-rmse:25059.32227\tvalidation_1-rmse:27464.05859\n",
      "[155]\tvalidation_0-rmse:25028.04102\tvalidation_1-rmse:27439.94922\n",
      "[156]\tvalidation_0-rmse:24977.43945\tvalidation_1-rmse:27405.26953\n",
      "[157]\tvalidation_0-rmse:24952.62109\tvalidation_1-rmse:27389.92578\n",
      "[158]\tvalidation_0-rmse:24919.37500\tvalidation_1-rmse:27366.28906\n",
      "[159]\tvalidation_0-rmse:24902.86133\tvalidation_1-rmse:27358.45312\n",
      "[160]\tvalidation_0-rmse:24873.38672\tvalidation_1-rmse:27337.59570\n",
      "[161]\tvalidation_0-rmse:24862.85547\tvalidation_1-rmse:27331.41602\n",
      "[162]\tvalidation_0-rmse:24826.62891\tvalidation_1-rmse:27306.27734\n",
      "[163]\tvalidation_0-rmse:24783.76953\tvalidation_1-rmse:27263.35352\n",
      "[164]\tvalidation_0-rmse:24742.04883\tvalidation_1-rmse:27235.77344\n",
      "[165]\tvalidation_0-rmse:24689.27734\tvalidation_1-rmse:27193.94727\n",
      "[166]\tvalidation_0-rmse:24663.74414\tvalidation_1-rmse:27175.03711\n",
      "[167]\tvalidation_0-rmse:24631.07617\tvalidation_1-rmse:27145.66016\n",
      "[168]\tvalidation_0-rmse:24610.92773\tvalidation_1-rmse:27130.49805\n",
      "[169]\tvalidation_0-rmse:24591.90820\tvalidation_1-rmse:27116.80469\n",
      "[170]\tvalidation_0-rmse:24563.35938\tvalidation_1-rmse:27098.26953\n",
      "[171]\tvalidation_0-rmse:24543.12305\tvalidation_1-rmse:27082.77539\n",
      "[172]\tvalidation_0-rmse:24513.25391\tvalidation_1-rmse:27063.50977\n",
      "[173]\tvalidation_0-rmse:24492.11133\tvalidation_1-rmse:27045.65625\n",
      "[174]\tvalidation_0-rmse:24470.42383\tvalidation_1-rmse:27032.68750\n",
      "[175]\tvalidation_0-rmse:24460.62695\tvalidation_1-rmse:27027.35156\n",
      "[176]\tvalidation_0-rmse:24411.07227\tvalidation_1-rmse:26991.19141\n",
      "[177]\tvalidation_0-rmse:24375.93555\tvalidation_1-rmse:26959.89258\n",
      "[178]\tvalidation_0-rmse:24359.86914\tvalidation_1-rmse:26949.75195\n",
      "[179]\tvalidation_0-rmse:24324.67578\tvalidation_1-rmse:26924.17969\n",
      "[180]\tvalidation_0-rmse:24306.89258\tvalidation_1-rmse:26911.82031\n",
      "[181]\tvalidation_0-rmse:24280.93555\tvalidation_1-rmse:26887.11133\n",
      "[182]\tvalidation_0-rmse:24257.17188\tvalidation_1-rmse:26876.01953\n",
      "[183]\tvalidation_0-rmse:24242.87305\tvalidation_1-rmse:26867.41602\n",
      "[184]\tvalidation_0-rmse:24232.18164\tvalidation_1-rmse:26860.75781\n",
      "[185]\tvalidation_0-rmse:24206.80859\tvalidation_1-rmse:26843.52930\n",
      "[186]\tvalidation_0-rmse:24158.58594\tvalidation_1-rmse:26799.64258\n",
      "[187]\tvalidation_0-rmse:24088.19531\tvalidation_1-rmse:26741.97070\n",
      "[188]\tvalidation_0-rmse:24054.00391\tvalidation_1-rmse:26724.20312\n",
      "[189]\tvalidation_0-rmse:24033.07227\tvalidation_1-rmse:26707.91602\n",
      "[190]\tvalidation_0-rmse:23990.98828\tvalidation_1-rmse:26672.10547\n",
      "[191]\tvalidation_0-rmse:23972.57031\tvalidation_1-rmse:26663.21484\n",
      "[192]\tvalidation_0-rmse:23941.54688\tvalidation_1-rmse:26636.63281\n",
      "[193]\tvalidation_0-rmse:23928.68945\tvalidation_1-rmse:26628.11328\n",
      "[194]\tvalidation_0-rmse:23920.80469\tvalidation_1-rmse:26619.64062\n",
      "[195]\tvalidation_0-rmse:23889.01758\tvalidation_1-rmse:26601.48242\n",
      "[196]\tvalidation_0-rmse:23876.14648\tvalidation_1-rmse:26589.10742\n",
      "[197]\tvalidation_0-rmse:23862.62891\tvalidation_1-rmse:26583.25586\n",
      "[198]\tvalidation_0-rmse:23833.75586\tvalidation_1-rmse:26559.05273\n",
      "[199]\tvalidation_0-rmse:23810.90234\tvalidation_1-rmse:26542.03125\n",
      "[200]\tvalidation_0-rmse:23763.58398\tvalidation_1-rmse:26516.17188\n",
      "[201]\tvalidation_0-rmse:23736.19336\tvalidation_1-rmse:26499.60547\n",
      "[202]\tvalidation_0-rmse:23696.43359\tvalidation_1-rmse:26474.10742\n",
      "[203]\tvalidation_0-rmse:23682.91797\tvalidation_1-rmse:26469.92188\n",
      "[204]\tvalidation_0-rmse:23657.56836\tvalidation_1-rmse:26455.09961\n",
      "[205]\tvalidation_0-rmse:23639.81836\tvalidation_1-rmse:26441.14648\n",
      "[206]\tvalidation_0-rmse:23629.51562\tvalidation_1-rmse:26437.00977\n",
      "[207]\tvalidation_0-rmse:23606.67969\tvalidation_1-rmse:26418.53711\n",
      "[208]\tvalidation_0-rmse:23581.90430\tvalidation_1-rmse:26401.37891\n",
      "[209]\tvalidation_0-rmse:23566.07617\tvalidation_1-rmse:26394.56641\n",
      "[210]\tvalidation_0-rmse:23547.80859\tvalidation_1-rmse:26384.94531\n",
      "[211]\tvalidation_0-rmse:23515.04492\tvalidation_1-rmse:26360.15820\n",
      "[212]\tvalidation_0-rmse:23502.01758\tvalidation_1-rmse:26345.83594\n",
      "[213]\tvalidation_0-rmse:23465.86719\tvalidation_1-rmse:26316.15234\n",
      "[214]\tvalidation_0-rmse:23441.94141\tvalidation_1-rmse:26299.93945\n",
      "[215]\tvalidation_0-rmse:23424.76953\tvalidation_1-rmse:26295.76758\n",
      "[216]\tvalidation_0-rmse:23405.36914\tvalidation_1-rmse:26284.51562\n",
      "[217]\tvalidation_0-rmse:23374.16602\tvalidation_1-rmse:26270.37109\n",
      "[218]\tvalidation_0-rmse:23361.02148\tvalidation_1-rmse:26265.43945\n",
      "[219]\tvalidation_0-rmse:23319.39648\tvalidation_1-rmse:26236.96094\n",
      "[220]\tvalidation_0-rmse:23305.46484\tvalidation_1-rmse:26231.10352\n",
      "[221]\tvalidation_0-rmse:23280.63086\tvalidation_1-rmse:26213.54492\n",
      "[222]\tvalidation_0-rmse:23267.89648\tvalidation_1-rmse:26208.08594\n",
      "[223]\tvalidation_0-rmse:23257.94336\tvalidation_1-rmse:26199.13867\n",
      "[224]\tvalidation_0-rmse:23250.83594\tvalidation_1-rmse:26192.21094\n",
      "[225]\tvalidation_0-rmse:23235.06641\tvalidation_1-rmse:26185.53711\n",
      "[226]\tvalidation_0-rmse:23221.18750\tvalidation_1-rmse:26179.25000\n",
      "[227]\tvalidation_0-rmse:23210.17578\tvalidation_1-rmse:26176.34180\n",
      "[228]\tvalidation_0-rmse:23184.32227\tvalidation_1-rmse:26157.38867\n",
      "[229]\tvalidation_0-rmse:23170.03906\tvalidation_1-rmse:26142.85742\n",
      "[230]\tvalidation_0-rmse:23154.85547\tvalidation_1-rmse:26131.77148\n",
      "[231]\tvalidation_0-rmse:23118.99805\tvalidation_1-rmse:26114.84570\n",
      "[232]\tvalidation_0-rmse:23110.03516\tvalidation_1-rmse:26109.57422\n",
      "[233]\tvalidation_0-rmse:23078.24805\tvalidation_1-rmse:26085.26758\n",
      "[234]\tvalidation_0-rmse:23059.54883\tvalidation_1-rmse:26079.24023\n",
      "[235]\tvalidation_0-rmse:23033.93750\tvalidation_1-rmse:26056.32227\n",
      "[236]\tvalidation_0-rmse:23013.42188\tvalidation_1-rmse:26050.67383\n",
      "[237]\tvalidation_0-rmse:23001.49805\tvalidation_1-rmse:26049.23633\n",
      "[238]\tvalidation_0-rmse:22990.94336\tvalidation_1-rmse:26042.59961\n",
      "[239]\tvalidation_0-rmse:22972.96484\tvalidation_1-rmse:26030.41992\n",
      "[240]\tvalidation_0-rmse:22963.16016\tvalidation_1-rmse:26023.13867\n",
      "[241]\tvalidation_0-rmse:22960.26953\tvalidation_1-rmse:26021.70898\n",
      "[242]\tvalidation_0-rmse:22953.01953\tvalidation_1-rmse:26017.80859\n",
      "[243]\tvalidation_0-rmse:22937.80859\tvalidation_1-rmse:26009.10938\n",
      "[244]\tvalidation_0-rmse:22914.90430\tvalidation_1-rmse:25998.13281\n",
      "[245]\tvalidation_0-rmse:22906.77930\tvalidation_1-rmse:25996.34961\n",
      "[246]\tvalidation_0-rmse:22896.21484\tvalidation_1-rmse:25991.66602\n",
      "[247]\tvalidation_0-rmse:22873.49805\tvalidation_1-rmse:25980.90039\n",
      "[248]\tvalidation_0-rmse:22860.99414\tvalidation_1-rmse:25972.85938\n",
      "[249]\tvalidation_0-rmse:22841.99414\tvalidation_1-rmse:25958.47070\n",
      "[250]\tvalidation_0-rmse:22828.72461\tvalidation_1-rmse:25949.78320\n"
     ]
    },
    {
     "name": "stdout",
     "output_type": "stream",
     "text": [
      "[251]\tvalidation_0-rmse:22817.74805\tvalidation_1-rmse:25938.80469\n",
      "[252]\tvalidation_0-rmse:22775.81836\tvalidation_1-rmse:25906.08789\n",
      "[253]\tvalidation_0-rmse:22767.13477\tvalidation_1-rmse:25903.00000\n",
      "[254]\tvalidation_0-rmse:22755.64453\tvalidation_1-rmse:25897.99219\n",
      "[255]\tvalidation_0-rmse:22734.42773\tvalidation_1-rmse:25882.23242\n",
      "[256]\tvalidation_0-rmse:22715.08594\tvalidation_1-rmse:25869.36133\n",
      "[257]\tvalidation_0-rmse:22685.88086\tvalidation_1-rmse:25843.06055\n",
      "[258]\tvalidation_0-rmse:22671.85156\tvalidation_1-rmse:25836.05859\n",
      "[259]\tvalidation_0-rmse:22649.06250\tvalidation_1-rmse:25829.25781\n",
      "[260]\tvalidation_0-rmse:22620.19141\tvalidation_1-rmse:25811.32227\n",
      "[261]\tvalidation_0-rmse:22610.64062\tvalidation_1-rmse:25812.46094\n",
      "[262]\tvalidation_0-rmse:22595.20508\tvalidation_1-rmse:25803.01758\n",
      "[263]\tvalidation_0-rmse:22583.25977\tvalidation_1-rmse:25794.76562\n",
      "[264]\tvalidation_0-rmse:22566.98438\tvalidation_1-rmse:25783.59375\n",
      "[265]\tvalidation_0-rmse:22541.89062\tvalidation_1-rmse:25762.91016\n",
      "[266]\tvalidation_0-rmse:22537.23828\tvalidation_1-rmse:25761.34375\n",
      "[267]\tvalidation_0-rmse:22508.29492\tvalidation_1-rmse:25739.13281\n",
      "[268]\tvalidation_0-rmse:22487.33594\tvalidation_1-rmse:25729.25781\n",
      "[269]\tvalidation_0-rmse:22460.01562\tvalidation_1-rmse:25710.02148\n",
      "[270]\tvalidation_0-rmse:22438.16016\tvalidation_1-rmse:25691.78516\n",
      "[271]\tvalidation_0-rmse:22423.94336\tvalidation_1-rmse:25686.47266\n",
      "[272]\tvalidation_0-rmse:22406.69727\tvalidation_1-rmse:25678.21484\n",
      "[273]\tvalidation_0-rmse:22386.84375\tvalidation_1-rmse:25667.42969\n",
      "[274]\tvalidation_0-rmse:22363.12500\tvalidation_1-rmse:25652.29297\n",
      "[275]\tvalidation_0-rmse:22349.17969\tvalidation_1-rmse:25641.00781\n",
      "[276]\tvalidation_0-rmse:22343.26367\tvalidation_1-rmse:25637.17188\n",
      "[277]\tvalidation_0-rmse:22338.48242\tvalidation_1-rmse:25634.79492\n",
      "[278]\tvalidation_0-rmse:22333.23242\tvalidation_1-rmse:25633.71875\n",
      "[279]\tvalidation_0-rmse:22328.80469\tvalidation_1-rmse:25632.36133\n",
      "[280]\tvalidation_0-rmse:22315.57422\tvalidation_1-rmse:25625.16602\n",
      "[281]\tvalidation_0-rmse:22299.58203\tvalidation_1-rmse:25619.41602\n",
      "[282]\tvalidation_0-rmse:22292.66602\tvalidation_1-rmse:25613.67188\n",
      "[283]\tvalidation_0-rmse:22283.16992\tvalidation_1-rmse:25611.82812\n",
      "[284]\tvalidation_0-rmse:22261.91211\tvalidation_1-rmse:25603.38477\n",
      "[285]\tvalidation_0-rmse:22255.91602\tvalidation_1-rmse:25599.56445\n",
      "[286]\tvalidation_0-rmse:22247.84570\tvalidation_1-rmse:25595.09570\n",
      "[287]\tvalidation_0-rmse:22238.54102\tvalidation_1-rmse:25589.58594\n",
      "[288]\tvalidation_0-rmse:22228.20117\tvalidation_1-rmse:25581.69922\n",
      "[289]\tvalidation_0-rmse:22225.66602\tvalidation_1-rmse:25580.57617\n",
      "[290]\tvalidation_0-rmse:22216.16797\tvalidation_1-rmse:25578.31055\n",
      "[291]\tvalidation_0-rmse:22212.09375\tvalidation_1-rmse:25576.78125\n",
      "[292]\tvalidation_0-rmse:22193.53711\tvalidation_1-rmse:25558.68359\n",
      "[293]\tvalidation_0-rmse:22183.84766\tvalidation_1-rmse:25555.86133\n",
      "[294]\tvalidation_0-rmse:22168.99023\tvalidation_1-rmse:25553.33984\n",
      "[295]\tvalidation_0-rmse:22160.93359\tvalidation_1-rmse:25548.99023\n",
      "[296]\tvalidation_0-rmse:22149.62695\tvalidation_1-rmse:25545.10547\n",
      "[297]\tvalidation_0-rmse:22134.99219\tvalidation_1-rmse:25533.42773\n",
      "[298]\tvalidation_0-rmse:22123.74805\tvalidation_1-rmse:25528.58008\n",
      "[299]\tvalidation_0-rmse:22113.40430\tvalidation_1-rmse:25520.10742\n",
      "[300]\tvalidation_0-rmse:22087.56055\tvalidation_1-rmse:25503.99414\n",
      "[301]\tvalidation_0-rmse:22078.63281\tvalidation_1-rmse:25499.74023\n",
      "[302]\tvalidation_0-rmse:22060.96875\tvalidation_1-rmse:25483.91602\n",
      "[303]\tvalidation_0-rmse:22045.42578\tvalidation_1-rmse:25481.05664\n",
      "[304]\tvalidation_0-rmse:22025.74023\tvalidation_1-rmse:25468.26562\n",
      "[305]\tvalidation_0-rmse:22008.22266\tvalidation_1-rmse:25462.21680\n",
      "[306]\tvalidation_0-rmse:21995.63086\tvalidation_1-rmse:25461.50391\n",
      "[307]\tvalidation_0-rmse:21958.83984\tvalidation_1-rmse:25440.57422\n",
      "[308]\tvalidation_0-rmse:21954.04492\tvalidation_1-rmse:25439.28711\n",
      "[309]\tvalidation_0-rmse:21948.81250\tvalidation_1-rmse:25438.24609\n",
      "[310]\tvalidation_0-rmse:21932.38477\tvalidation_1-rmse:25429.32031\n",
      "[311]\tvalidation_0-rmse:21926.86914\tvalidation_1-rmse:25424.47070\n",
      "[312]\tvalidation_0-rmse:21917.35156\tvalidation_1-rmse:25421.70898\n",
      "[313]\tvalidation_0-rmse:21912.75000\tvalidation_1-rmse:25419.49023\n",
      "[314]\tvalidation_0-rmse:21882.35156\tvalidation_1-rmse:25402.63086\n",
      "[315]\tvalidation_0-rmse:21869.57031\tvalidation_1-rmse:25399.86719\n",
      "[316]\tvalidation_0-rmse:21856.93945\tvalidation_1-rmse:25394.80078\n",
      "[317]\tvalidation_0-rmse:21844.71289\tvalidation_1-rmse:25386.47656\n",
      "[318]\tvalidation_0-rmse:21825.72852\tvalidation_1-rmse:25373.47266\n",
      "[319]\tvalidation_0-rmse:21801.96680\tvalidation_1-rmse:25359.52148\n",
      "[320]\tvalidation_0-rmse:21758.80664\tvalidation_1-rmse:25325.35938\n",
      "[321]\tvalidation_0-rmse:21724.87695\tvalidation_1-rmse:25298.50000\n",
      "[322]\tvalidation_0-rmse:21701.30859\tvalidation_1-rmse:25278.35742\n",
      "[323]\tvalidation_0-rmse:21682.61523\tvalidation_1-rmse:25265.49609\n",
      "[324]\tvalidation_0-rmse:21677.28906\tvalidation_1-rmse:25263.69336\n",
      "[325]\tvalidation_0-rmse:21663.80664\tvalidation_1-rmse:25258.80078\n",
      "[326]\tvalidation_0-rmse:21650.62109\tvalidation_1-rmse:25250.37305\n",
      "[327]\tvalidation_0-rmse:21642.01367\tvalidation_1-rmse:25248.25195\n",
      "[328]\tvalidation_0-rmse:21627.84961\tvalidation_1-rmse:25242.85938\n",
      "[329]\tvalidation_0-rmse:21602.80859\tvalidation_1-rmse:25227.74023\n",
      "[330]\tvalidation_0-rmse:21593.61523\tvalidation_1-rmse:25223.34375\n",
      "[331]\tvalidation_0-rmse:21582.53516\tvalidation_1-rmse:25219.58398\n",
      "[332]\tvalidation_0-rmse:21574.49414\tvalidation_1-rmse:25215.55078\n",
      "[333]\tvalidation_0-rmse:21557.51367\tvalidation_1-rmse:25207.82812\n",
      "[334]\tvalidation_0-rmse:21540.06250\tvalidation_1-rmse:25203.19727\n",
      "[335]\tvalidation_0-rmse:21530.12695\tvalidation_1-rmse:25196.56641\n",
      "[336]\tvalidation_0-rmse:21518.75586\tvalidation_1-rmse:25188.60156\n",
      "[337]\tvalidation_0-rmse:21501.69336\tvalidation_1-rmse:25180.35742\n",
      "[338]\tvalidation_0-rmse:21497.24219\tvalidation_1-rmse:25178.28711\n",
      "[339]\tvalidation_0-rmse:21492.34961\tvalidation_1-rmse:25178.03125\n",
      "[340]\tvalidation_0-rmse:21488.31836\tvalidation_1-rmse:25175.72852\n",
      "[341]\tvalidation_0-rmse:21474.01758\tvalidation_1-rmse:25167.93555\n",
      "[342]\tvalidation_0-rmse:21461.54883\tvalidation_1-rmse:25165.20312\n",
      "[343]\tvalidation_0-rmse:21447.76758\tvalidation_1-rmse:25158.66016\n",
      "[344]\tvalidation_0-rmse:21439.25195\tvalidation_1-rmse:25155.90234\n",
      "[345]\tvalidation_0-rmse:21435.08984\tvalidation_1-rmse:25153.87305\n",
      "[346]\tvalidation_0-rmse:21430.62109\tvalidation_1-rmse:25147.98438\n",
      "[347]\tvalidation_0-rmse:21424.72461\tvalidation_1-rmse:25145.19922\n",
      "[348]\tvalidation_0-rmse:21414.91211\tvalidation_1-rmse:25143.73633\n",
      "[349]\tvalidation_0-rmse:21405.55078\tvalidation_1-rmse:25142.54688\n",
      "[350]\tvalidation_0-rmse:21400.17578\tvalidation_1-rmse:25140.53125\n",
      "[351]\tvalidation_0-rmse:21384.83984\tvalidation_1-rmse:25131.48242\n",
      "[352]\tvalidation_0-rmse:21381.85938\tvalidation_1-rmse:25130.75391\n",
      "[353]\tvalidation_0-rmse:21370.33008\tvalidation_1-rmse:25126.77539\n",
      "[354]\tvalidation_0-rmse:21352.11328\tvalidation_1-rmse:25117.70312\n",
      "[355]\tvalidation_0-rmse:21348.76172\tvalidation_1-rmse:25112.84180\n",
      "[356]\tvalidation_0-rmse:21345.76758\tvalidation_1-rmse:25109.77148\n",
      "[357]\tvalidation_0-rmse:21338.40234\tvalidation_1-rmse:25107.74414\n",
      "[358]\tvalidation_0-rmse:21334.85352\tvalidation_1-rmse:25108.40039\n",
      "[359]\tvalidation_0-rmse:21329.35156\tvalidation_1-rmse:25105.83398\n",
      "[360]\tvalidation_0-rmse:21322.85547\tvalidation_1-rmse:25103.93164\n",
      "[361]\tvalidation_0-rmse:21313.21094\tvalidation_1-rmse:25102.56055\n",
      "[362]\tvalidation_0-rmse:21306.55664\tvalidation_1-rmse:25100.03711\n",
      "[363]\tvalidation_0-rmse:21300.80469\tvalidation_1-rmse:25099.01367\n",
      "[364]\tvalidation_0-rmse:21298.82812\tvalidation_1-rmse:25098.01367\n",
      "[365]\tvalidation_0-rmse:21296.25391\tvalidation_1-rmse:25097.26562\n",
      "[366]\tvalidation_0-rmse:21292.35742\tvalidation_1-rmse:25095.21680\n",
      "[367]\tvalidation_0-rmse:21284.85938\tvalidation_1-rmse:25092.77539\n",
      "[368]\tvalidation_0-rmse:21277.35156\tvalidation_1-rmse:25089.11914\n",
      "[369]\tvalidation_0-rmse:21261.70508\tvalidation_1-rmse:25082.00195\n",
      "[370]\tvalidation_0-rmse:21239.31641\tvalidation_1-rmse:25063.67383\n",
      "[371]\tvalidation_0-rmse:21231.48242\tvalidation_1-rmse:25060.54297\n",
      "[372]\tvalidation_0-rmse:21218.53516\tvalidation_1-rmse:25056.55859\n",
      "[373]\tvalidation_0-rmse:21207.03125\tvalidation_1-rmse:25047.80078\n",
      "[374]\tvalidation_0-rmse:21196.79883\tvalidation_1-rmse:25045.31250\n",
      "[375]\tvalidation_0-rmse:21178.18164\tvalidation_1-rmse:25038.66016\n"
     ]
    },
    {
     "name": "stdout",
     "output_type": "stream",
     "text": [
      "[376]\tvalidation_0-rmse:21164.83594\tvalidation_1-rmse:25033.85547\n",
      "[377]\tvalidation_0-rmse:21145.94336\tvalidation_1-rmse:25019.64453\n",
      "[378]\tvalidation_0-rmse:21133.81445\tvalidation_1-rmse:25013.23828\n",
      "[379]\tvalidation_0-rmse:21129.63477\tvalidation_1-rmse:25011.89648\n",
      "[380]\tvalidation_0-rmse:21119.08789\tvalidation_1-rmse:25006.81055\n",
      "[381]\tvalidation_0-rmse:21105.33984\tvalidation_1-rmse:25001.35742\n",
      "[382]\tvalidation_0-rmse:21088.19531\tvalidation_1-rmse:24991.23828\n",
      "[383]\tvalidation_0-rmse:21075.15234\tvalidation_1-rmse:24985.79102\n",
      "[384]\tvalidation_0-rmse:21062.08984\tvalidation_1-rmse:24982.46094\n",
      "[385]\tvalidation_0-rmse:21040.41602\tvalidation_1-rmse:24971.87305\n",
      "[386]\tvalidation_0-rmse:21030.48633\tvalidation_1-rmse:24967.83203\n",
      "[387]\tvalidation_0-rmse:21025.47070\tvalidation_1-rmse:24965.65234\n",
      "[388]\tvalidation_0-rmse:21022.39062\tvalidation_1-rmse:24964.88086\n",
      "[389]\tvalidation_0-rmse:21013.71289\tvalidation_1-rmse:24965.31641\n",
      "[390]\tvalidation_0-rmse:21001.08984\tvalidation_1-rmse:24961.39648\n",
      "[391]\tvalidation_0-rmse:20988.41211\tvalidation_1-rmse:24959.19727\n",
      "[392]\tvalidation_0-rmse:20975.69531\tvalidation_1-rmse:24956.38672\n",
      "[393]\tvalidation_0-rmse:20962.32227\tvalidation_1-rmse:24949.38086\n",
      "[394]\tvalidation_0-rmse:20944.34375\tvalidation_1-rmse:24940.34180\n",
      "[395]\tvalidation_0-rmse:20942.36133\tvalidation_1-rmse:24940.47070\n",
      "[396]\tvalidation_0-rmse:20933.34570\tvalidation_1-rmse:24932.35938\n",
      "[397]\tvalidation_0-rmse:20925.91602\tvalidation_1-rmse:24931.77930\n",
      "[398]\tvalidation_0-rmse:20914.19727\tvalidation_1-rmse:24928.24414\n",
      "[399]\tvalidation_0-rmse:20911.38867\tvalidation_1-rmse:24927.67969\n",
      "[400]\tvalidation_0-rmse:20904.17383\tvalidation_1-rmse:24924.21875\n",
      "[401]\tvalidation_0-rmse:20892.42969\tvalidation_1-rmse:24916.21484\n",
      "[402]\tvalidation_0-rmse:20882.75000\tvalidation_1-rmse:24912.09375\n",
      "[403]\tvalidation_0-rmse:20876.93945\tvalidation_1-rmse:24909.44531\n",
      "[404]\tvalidation_0-rmse:20873.95312\tvalidation_1-rmse:24908.93164\n",
      "[405]\tvalidation_0-rmse:20861.69531\tvalidation_1-rmse:24901.14844\n",
      "[406]\tvalidation_0-rmse:20846.78125\tvalidation_1-rmse:24894.50781\n",
      "[407]\tvalidation_0-rmse:20842.72461\tvalidation_1-rmse:24892.57422\n",
      "[408]\tvalidation_0-rmse:20834.01953\tvalidation_1-rmse:24894.85938\n",
      "[409]\tvalidation_0-rmse:20832.45703\tvalidation_1-rmse:24894.59570\n",
      "[410]\tvalidation_0-rmse:20824.82422\tvalidation_1-rmse:24889.95898\n",
      "[411]\tvalidation_0-rmse:20821.11914\tvalidation_1-rmse:24889.48438\n",
      "[412]\tvalidation_0-rmse:20814.38672\tvalidation_1-rmse:24887.17773\n",
      "[413]\tvalidation_0-rmse:20796.39453\tvalidation_1-rmse:24877.31641\n",
      "[414]\tvalidation_0-rmse:20782.47266\tvalidation_1-rmse:24866.66992\n",
      "[415]\tvalidation_0-rmse:20778.97070\tvalidation_1-rmse:24865.83789\n",
      "[416]\tvalidation_0-rmse:20765.07227\tvalidation_1-rmse:24861.90039\n",
      "[417]\tvalidation_0-rmse:20762.09375\tvalidation_1-rmse:24861.68164\n",
      "[418]\tvalidation_0-rmse:20754.88672\tvalidation_1-rmse:24858.73633\n",
      "[419]\tvalidation_0-rmse:20738.07227\tvalidation_1-rmse:24852.07812\n",
      "[420]\tvalidation_0-rmse:20732.14844\tvalidation_1-rmse:24852.53711\n",
      "[421]\tvalidation_0-rmse:20707.76953\tvalidation_1-rmse:24838.98242\n",
      "[422]\tvalidation_0-rmse:20696.89844\tvalidation_1-rmse:24835.08789\n",
      "[423]\tvalidation_0-rmse:20683.22266\tvalidation_1-rmse:24827.17969\n",
      "[424]\tvalidation_0-rmse:20672.18945\tvalidation_1-rmse:24822.38672\n",
      "[425]\tvalidation_0-rmse:20667.33398\tvalidation_1-rmse:24818.88867\n",
      "[426]\tvalidation_0-rmse:20651.03516\tvalidation_1-rmse:24809.61914\n",
      "[427]\tvalidation_0-rmse:20637.19922\tvalidation_1-rmse:24805.97656\n",
      "[428]\tvalidation_0-rmse:20620.33008\tvalidation_1-rmse:24800.83789\n",
      "[429]\tvalidation_0-rmse:20613.19336\tvalidation_1-rmse:24797.87500\n",
      "[430]\tvalidation_0-rmse:20606.59570\tvalidation_1-rmse:24796.27344\n",
      "[431]\tvalidation_0-rmse:20604.94922\tvalidation_1-rmse:24795.92773\n",
      "[432]\tvalidation_0-rmse:20601.63477\tvalidation_1-rmse:24794.90234\n",
      "[433]\tvalidation_0-rmse:20600.23438\tvalidation_1-rmse:24794.69141\n",
      "[434]\tvalidation_0-rmse:20596.36719\tvalidation_1-rmse:24793.00781\n",
      "[435]\tvalidation_0-rmse:20590.80664\tvalidation_1-rmse:24792.33203\n",
      "[436]\tvalidation_0-rmse:20575.63867\tvalidation_1-rmse:24782.59570\n",
      "[437]\tvalidation_0-rmse:20567.03125\tvalidation_1-rmse:24781.65039\n",
      "[438]\tvalidation_0-rmse:20552.34570\tvalidation_1-rmse:24773.12695\n",
      "[439]\tvalidation_0-rmse:20540.47070\tvalidation_1-rmse:24767.26562\n",
      "[440]\tvalidation_0-rmse:20533.96094\tvalidation_1-rmse:24767.81055\n",
      "[441]\tvalidation_0-rmse:20528.01562\tvalidation_1-rmse:24766.22266\n",
      "[442]\tvalidation_0-rmse:20522.34766\tvalidation_1-rmse:24766.75586\n",
      "[443]\tvalidation_0-rmse:20518.96875\tvalidation_1-rmse:24765.51367\n",
      "[444]\tvalidation_0-rmse:20509.27930\tvalidation_1-rmse:24762.72266\n",
      "[445]\tvalidation_0-rmse:20504.45898\tvalidation_1-rmse:24761.29688\n",
      "[446]\tvalidation_0-rmse:20496.70508\tvalidation_1-rmse:24758.32812\n",
      "[447]\tvalidation_0-rmse:20484.66016\tvalidation_1-rmse:24752.62500\n",
      "[448]\tvalidation_0-rmse:20467.75977\tvalidation_1-rmse:24742.37305\n",
      "[449]\tvalidation_0-rmse:20462.76562\tvalidation_1-rmse:24740.51562\n",
      "[450]\tvalidation_0-rmse:20447.23242\tvalidation_1-rmse:24736.54492\n",
      "[451]\tvalidation_0-rmse:20432.18945\tvalidation_1-rmse:24727.98242\n",
      "[452]\tvalidation_0-rmse:20419.48828\tvalidation_1-rmse:24724.32422\n",
      "[453]\tvalidation_0-rmse:20406.54688\tvalidation_1-rmse:24718.03125\n",
      "[454]\tvalidation_0-rmse:20399.62500\tvalidation_1-rmse:24715.85547\n",
      "[455]\tvalidation_0-rmse:20390.05273\tvalidation_1-rmse:24711.04883\n",
      "[456]\tvalidation_0-rmse:20370.80664\tvalidation_1-rmse:24699.36914\n",
      "[457]\tvalidation_0-rmse:20358.60742\tvalidation_1-rmse:24692.81445\n",
      "[458]\tvalidation_0-rmse:20350.56641\tvalidation_1-rmse:24691.71289\n",
      "[459]\tvalidation_0-rmse:20344.39258\tvalidation_1-rmse:24689.31445\n",
      "[460]\tvalidation_0-rmse:20331.90039\tvalidation_1-rmse:24685.79688\n",
      "[461]\tvalidation_0-rmse:20323.02539\tvalidation_1-rmse:24681.86523\n",
      "[462]\tvalidation_0-rmse:20312.82812\tvalidation_1-rmse:24677.45508\n",
      "[463]\tvalidation_0-rmse:20299.00586\tvalidation_1-rmse:24668.38281\n",
      "[464]\tvalidation_0-rmse:20287.07812\tvalidation_1-rmse:24658.52539\n",
      "[465]\tvalidation_0-rmse:20277.76367\tvalidation_1-rmse:24653.24609\n",
      "[466]\tvalidation_0-rmse:20271.38672\tvalidation_1-rmse:24649.96484\n",
      "[467]\tvalidation_0-rmse:20270.13281\tvalidation_1-rmse:24648.72852\n",
      "[468]\tvalidation_0-rmse:20260.65234\tvalidation_1-rmse:24645.42578\n",
      "[469]\tvalidation_0-rmse:20255.46875\tvalidation_1-rmse:24644.99805\n",
      "[470]\tvalidation_0-rmse:20253.36328\tvalidation_1-rmse:24644.59766\n",
      "[471]\tvalidation_0-rmse:20241.91602\tvalidation_1-rmse:24638.81250\n",
      "[472]\tvalidation_0-rmse:20222.98242\tvalidation_1-rmse:24626.28711\n",
      "[473]\tvalidation_0-rmse:20222.35547\tvalidation_1-rmse:24626.42773\n",
      "[474]\tvalidation_0-rmse:20218.55469\tvalidation_1-rmse:24624.06836\n",
      "[475]\tvalidation_0-rmse:20205.06055\tvalidation_1-rmse:24619.13867\n",
      "[476]\tvalidation_0-rmse:20195.01367\tvalidation_1-rmse:24617.79688\n",
      "[477]\tvalidation_0-rmse:20191.14648\tvalidation_1-rmse:24616.59961\n",
      "[478]\tvalidation_0-rmse:20178.94336\tvalidation_1-rmse:24611.20703\n",
      "[479]\tvalidation_0-rmse:20171.60938\tvalidation_1-rmse:24607.90820\n",
      "[480]\tvalidation_0-rmse:20156.19727\tvalidation_1-rmse:24602.42383\n",
      "[481]\tvalidation_0-rmse:20150.05664\tvalidation_1-rmse:24602.34766\n",
      "[482]\tvalidation_0-rmse:20128.41797\tvalidation_1-rmse:24592.27539\n",
      "[483]\tvalidation_0-rmse:20116.40820\tvalidation_1-rmse:24588.65039\n",
      "[484]\tvalidation_0-rmse:20101.44727\tvalidation_1-rmse:24581.56641\n",
      "[485]\tvalidation_0-rmse:20092.20898\tvalidation_1-rmse:24579.09375\n",
      "[486]\tvalidation_0-rmse:20073.18164\tvalidation_1-rmse:24572.36914\n",
      "[487]\tvalidation_0-rmse:20061.97852\tvalidation_1-rmse:24568.47070\n",
      "[488]\tvalidation_0-rmse:20056.47852\tvalidation_1-rmse:24565.99219\n",
      "[489]\tvalidation_0-rmse:20046.25781\tvalidation_1-rmse:24561.27344\n",
      "[490]\tvalidation_0-rmse:20043.79688\tvalidation_1-rmse:24560.76562\n",
      "[491]\tvalidation_0-rmse:20040.90234\tvalidation_1-rmse:24560.05664\n",
      "[492]\tvalidation_0-rmse:20032.72070\tvalidation_1-rmse:24559.30078\n",
      "[493]\tvalidation_0-rmse:20022.61328\tvalidation_1-rmse:24555.43359\n",
      "[494]\tvalidation_0-rmse:20013.64844\tvalidation_1-rmse:24550.12891\n",
      "[495]\tvalidation_0-rmse:20007.60547\tvalidation_1-rmse:24548.71484\n",
      "[496]\tvalidation_0-rmse:20004.08008\tvalidation_1-rmse:24548.29492\n",
      "[497]\tvalidation_0-rmse:19997.02734\tvalidation_1-rmse:24543.53711\n",
      "[498]\tvalidation_0-rmse:19991.58203\tvalidation_1-rmse:24542.41602\n",
      "[499]\tvalidation_0-rmse:19982.94141\tvalidation_1-rmse:24540.83203\n"
     ]
    },
    {
     "data": {
      "text/plain": [
       "XGBRegressor(base_score=0.75, booster='dart', colsample_bylevel=1,\n",
       "             colsample_bynode=1, colsample_bytree=1, gamma=0, gpu_id=-1,\n",
       "             importance_type='gain', interaction_constraints='',\n",
       "             learning_rate=0.1, max_delta_step=0, max_depth=6,\n",
       "             min_child_weight=1, missing=nan, monotone_constraints='()',\n",
       "             n_estimators=500, n_jobs=0, num_parallel_tree=1,\n",
       "             objective='reg:squarederror', random_state=0, reg_alpha=0,\n",
       "             reg_lambda=1, scale_pos_weight=1, subsample=1, tree_method='exact',\n",
       "             validate_parameters=1, verbosity=None)"
      ]
     },
     "execution_count": 167,
     "metadata": {},
     "output_type": "execute_result"
    }
   ],
   "source": [
    "# create a regressor based on the best parameters\n",
    "\n",
    "xg_reg_4a=xgb.XGBRegressor(base_score=0.75, booster='dart', max_depth=6,\n",
    "                            learning_rate=0.1, n_estimators=500,\n",
    "                           objective='reg:squarederror')\n",
    "\n",
    "\n",
    "eval_set = [(X_train, y_train), (X_val, y_val)]\n",
    "xg_reg_4a.fit(X_train, y_train, eval_metric=\"rmse\", eval_set=eval_set, verbose=True)"
   ]
  },
  {
   "cell_type": "code",
   "execution_count": 157,
   "metadata": {},
   "outputs": [
    {
     "name": "stdout",
     "output_type": "stream",
     "text": [
      "Training RMSE: 19957.662522\n",
      "Val RMSE: 24319.594238\n"
     ]
    }
   ],
   "source": [
    "pred_4a = xg_reg_4a.predict(X_train)\n",
    "val_pred_4a = xg_reg_4a.predict(X_val)\n",
    "\n",
    "rmse_4a = mean_squared_error(y_train, pred_4a, squared=False)\n",
    "rmse_val_4a = mean_squared_error(y_val, val_pred_4a, squared=False)\n",
    "\n",
    "print(\"Training RMSE: %f\" % (rmse_4a))\n",
    "print(\"Val RMSE: %f\" % (rmse_val_4a))"
   ]
  },
  {
   "cell_type": "code",
   "execution_count": 159,
   "metadata": {},
   "outputs": [
    {
     "data": {
      "image/png": "[encoded data removed]",
      "text/plain": [
       "<Figure size 1080x576 with 1 Axes>"
      ]
     },
     "metadata": {
      "needs_background": "light"
     },
     "output_type": "display_data"
    }
   ],
   "source": [
    "### retrieve performance metrics\n",
    "history_4 = xg_reg_4a.evals_result()\n",
    "epochs = len(history_4['validation_0']['rmse'])\n",
    "x_axis = range(0, epochs)\n",
    "\n",
    "# plot RMSE\n",
    "fig, ax = plt.subplots(figsize=(15,8))\n",
    "plt.ylim(18000,50000)\n",
    "plt.xlim(0,500)\n",
    "ax.plot(x_axis, history_4['validation_0']['rmse'], label='Training')\n",
    "ax.plot(x_axis, history_4['validation_1']['rmse'], label='Validation')\n",
    "ax.legend()\n",
    "plt.ylabel('RMSE')\n",
    "plt.xlabel('Epoch/iteration')\n",
    "plt.title('XGBoost RMSE')\n",
    "\n",
    "# Show the major grid lines with dark grey lines\n",
    "plt.grid(b=True, which='major', color='#666666', linestyle='-')\n",
    "\n",
    "# Show the minor grid lines with very faint and almost transparent grey lines\n",
    "plt.minorticks_on()\n",
    "plt.grid(b=True, which='minor', color='#999999', linestyle='-', alpha=0.2)\n",
    "         \n",
    "plt.show()"
   ]
  },
  {
   "cell_type": "markdown",
   "metadata": {},
   "source": [
    "This plot shows how the train and test RMSE change over hundreds of iteractions. Their gap will get bigger if I allow more than iteration, which I do not wish to avoid too much of overfitting."
   ]
  },
  {
   "cell_type": "markdown",
   "metadata": {},
   "source": [
    "### Important Features that influenced the results"
   ]
  },
  {
   "cell_type": "code",
   "execution_count": 168,
   "metadata": {
    "scrolled": true
   },
   "outputs": [
    {
     "data": {
      "text/plain": [
       "Index(['floor_area_sqm', 'remaining_lease', 'floor_range', 'bedok', 'bishan',\n",
       "       'bukit_batok', 'bukit_merah', 'bukit_panjang', 'bukit_timah',\n",
       "       'central_area', 'choa_chu_kang', 'clementi', 'geylang', 'hougang',\n",
       "       'jurong_east', 'jurong_west', 'kallang_whampoa', 'marine_parade',\n",
       "       'pasir_ris', 'punggol', 'queenstown', 'sembawang', 'sengkang',\n",
       "       'serangoon', 'tampines', 'toa_payoh', 'woodlands', 'yishun',\n",
       "       'model_dbss', 'model_maisonette', 'model_terrace', 'model_type_s1',\n",
       "       'model_type_s2', 'type_2_room', 'type_3_room', 'type_4_room',\n",
       "       'type_5_room', 'type_executive', 'type_multi_generation', 'cli', 'pmi',\n",
       "       'cpi', 'gdp_growth', 'unemployed_rate', 'dist_mrt', 'dist_mall',\n",
       "       'dist_market', 'dist_park', 'dist_attraction', 'dist_sport',\n",
       "       'dist_core'],\n",
       "      dtype='object')"
      ]
     },
     "execution_count": 168,
     "metadata": {},
     "output_type": "execute_result"
    }
   ],
   "source": [
    "X_train.columns"
   ]
  },
  {
   "cell_type": "code",
   "execution_count": 169,
   "metadata": {
    "scrolled": false
   },
   "outputs": [
    {
     "data": {
      "image/png": "[encoded data removed]",
      "text/plain": [
       "<Figure size 1440x1080 with 1 Axes>"
      ]
     },
     "metadata": {
      "needs_background": "light"
     },
     "output_type": "display_data"
    }
   ],
   "source": [
    "features =['floor_area_sqm', 'remaining_lease', 'floor_range', 'bedok', 'bishan',\n",
    "       'bukit_batok', 'bukit_merah', 'bukit_panjang', 'bukit_timah',\n",
    "       'central_area', 'choa_chu_kang', 'clementi', 'geylang', 'hougang',\n",
    "       'jurong_east', 'jurong_west', 'kallang_whampoa', 'marine_parade',\n",
    "       'pasir_ris', 'punggol', 'queenstown', 'sembawang', 'sengkang',\n",
    "       'serangoon', 'tampines', 'toa_payoh', 'woodlands', 'yishun',\n",
    "       'model_dbss', 'model_maisonette', 'model_terrace', 'model_type_s1',\n",
    "       'model_type_s2', 'type_2_room', 'type_3_room', 'type_4_room',\n",
    "       'type_5_room', 'type_executive', 'type_multi_generation', 'cli', 'pmi',\n",
    "       'cpi', 'gdp_growth', 'unemployed_rate', 'dist_mrt', 'dist_mall',\n",
    "       'dist_market', 'dist_park', 'dist_attraction', 'dist_sport',\n",
    "       'dist_core']\n",
    "\n",
    "plt.rcParams['figure.figsize'] = (20, 15)\n",
    "\n",
    "xg_reg_4a.get_booster().feature_names = features\n",
    "xgb.plot_importance(xg_reg_4a.get_booster(),height=0.8)\n",
    "\n",
    "plt.title('Order of Importance selected by model', fontsize=22)\n",
    "plt.xlabel('Score', fontsize = 18)\n",
    "plt.ylabel('Features', fontsize = 18)\n",
    "plt.yticks(fontsize=13)\n",
    "plt.show()\n"
   ]
  },
  {
   "cell_type": "markdown",
   "metadata": {},
   "source": [
    "This plot shows which are the features that influenced the predictions, with the most important features at the top. It is not surprising that Floor Area is the most important feature, but it is also important to note that this is not the only feature that affects the price of a property.\n",
    "\n",
    "Next is the Remaining Lease, which is important for HDB flats because all of them are 99 years leasehold properties, which means that at the end of 99 years the property will be returned to the state at zero value. That is why older flats fetch lower prices, assuming all other factors being equal.\n",
    "\n",
    "The location of a flat means its proximities to points of interest, including the Downtown Core. Buyers are willing to pay more if the flats are near to Downtown Core, which is the economic and cultural heart of Singapore. In private residential market the government maintain indices for three different regions, and downtown core belongs to the region with the most expensive private properties.\n",
    "\n",
    "Other Points of Interests also influence the price of a flat, such as nature parks, shopping malls, markets, sport facilities and attractions. But the one that most buyers look for is MRT station. With 60% of the population traveling to work/school in public transport, proximity to MRT station became an important price predictor.\n",
    "\n",
    "Flats at higher floors are getting lesser noise from the street and offer better views, so it is shown here as an important factor.\n",
    "\n",
    "Marcoeconomic factors also play a part in determining flat prices, such as CPI (consumer price index), PMI (purchasing manager index), CLI (composite index) and GDP growth rate. Buying a home is a big investment. During a recession people are worried about their jobs and their ability to service the loan, and that would put downward pressure on price."
   ]
  },
  {
   "cell_type": "code",
   "execution_count": 170,
   "metadata": {},
   "outputs": [],
   "source": [
    "# Save the model for deployment with flask\n",
    "\n",
    "import pickle\n",
    "with open('../webapp/model/xg_reg_4a.pkl', 'wb') as file:\n",
    "    pickle.dump(xg_reg_4a, file)"
   ]
  },
  {
   "cell_type": "markdown",
   "metadata": {},
   "source": [
    "I will be using the web interface to verify the predictions for 2020 dataset"
   ]
  }
 ],
 "metadata": {
  "kernelspec": {
   "display_name": "Python 3",
   "language": "python",
   "name": "python3"
  },
  "language_info": {
   "codemirror_mode": {
    "name": "ipython",
    "version": 3
   },
   "file_extension": ".py",
   "mimetype": "text/x-python",
   "name": "python",
   "nbconvert_exporter": "python",
   "pygments_lexer": "ipython3",
   "version": "3.7.6"
  }
 },
 "nbformat": 4,
 "nbformat_minor": 4
}
