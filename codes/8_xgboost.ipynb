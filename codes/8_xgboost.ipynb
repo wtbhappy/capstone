{
 "cells": [
  {
   "cell_type": "code",
   "execution_count": 1,
   "metadata": {},
   "outputs": [],
   "source": [
    "import pandas as pd\n",
    "import numpy as np\n",
    "import scipy.stats as sps\n",
    "import seaborn as sns\n",
    "import time\n",
    "import datetime\n",
    "import matplotlib.pyplot as plt\n",
    "import matplotlib.dates as mdates\n",
    "from sklearn.model_selection import cross_val_score\n",
    "from sklearn.model_selection import KFold\n",
    "from sklearn.linear_model import LinearRegression\n",
    "from sklearn.preprocessing import StandardScaler\n",
    "from sklearn.pipeline import Pipeline\n",
    "from sklearn.model_selection import train_test_split\n",
    "from sklearn.metrics import mean_squared_error\n",
    "from sklearn.model_selection import RandomizedSearchCV\n",
    "from sklearn.model_selection import StratifiedKFold\n",
    "import scipy.stats as sps\n",
    "from scipy.special import boxcox, inv_boxcox,inv_boxcox1p\n",
    "import pickle"
   ]
  },
  {
   "cell_type": "code",
   "execution_count": 4,
   "metadata": {
    "scrolled": true
   },
   "outputs": [],
   "source": [
    "import xgboost as xgb\n",
    "from xgboost import plot_tree"
   ]
  },
  {
   "cell_type": "code",
   "execution_count": 19,
   "metadata": {},
   "outputs": [],
   "source": [
    "# Retrieve stored variables from preprocessing notebook\n",
    "\n",
    "%store -r Xlog_train_ss\n",
    "%store -r Xlog_val_ss\n",
    "%store -r Xlog_test_ss \n",
    "\n",
    "%store -r Xlog_train\n",
    "%store -r Xlog_val\n",
    "%store -r Xlog_test\n",
    "\n",
    "%store -r ylog_train\n",
    "%store -r ylog_val\n",
    "%store -r ylog_test \n",
    "\n",
    "%store -r X_train\n",
    "%store -r X_val\n",
    "%store -r X_test\n",
    "\n",
    "%store -r y_train\n",
    "%store -r y_val\n",
    "%store -r y_test\n",
    "\n",
    "%store -r X_train_ss\n",
    "%store -r X_val_ss\n",
    "%store -r X_test_ss\n",
    "\n",
    "%store -r X\n",
    "%store -r y"
   ]
  },
  {
   "cell_type": "markdown",
   "metadata": {},
   "source": [
    "## XGBoost Hyper Parameter Optimization"
   ]
  },
  {
   "cell_type": "markdown",
   "metadata": {},
   "source": [
    "### Compare 4 different combinations\n",
    "I want to find out if the models work better with normalization and standardscaling and so I setup 4 different combinations: \n",
    "\n",
    "- Normalized X+y, No StandardScaling\n",
    "- Normalized y, No StandardScaling\n",
    "- Normalized y, StandardScaling for X\n",
    "- No Normalization, No StandardScaling"
   ]
  },
  {
   "cell_type": "markdown",
   "metadata": {},
   "source": [
    "### 1. Using cross_val_score R2 for comparison"
   ]
  },
  {
   "cell_type": "code",
   "execution_count": 4,
   "metadata": {},
   "outputs": [
    {
     "name": "stdout",
     "output_type": "stream",
     "text": [
      "Normalized X+y, No StandardScaling - CV average R2 score  : 0.8930412\n",
      "Normalized y, No StandardScaling - CV average R2 score    : 0.8930412\n",
      "Normalized y, StandardScaling for X - CV average R2 score : 0.8930412\n",
      "No Normalization, No StandardScaling - CV average R2 score: 0.9658989\n"
     ]
    }
   ],
   "source": [
    "# Use Cross Validation on 4 different regressors to compare their R2 scores\n",
    "\n",
    "xg_reg_1=xgb.XGBRegressor()\n",
    "results_1 = cross_val_score(xg_reg_1, Xlog_train, ylog_train, cv=KFold(n_splits=5))\n",
    "\n",
    "xg_reg_2=xgb.XGBRegressor()\n",
    "results_2 = cross_val_score(xg_reg_2, X_train, ylog_train, cv=KFold(n_splits=5))\n",
    "\n",
    "xg_reg_3=xgb.XGBRegressor()\n",
    "results_3 = cross_val_score(xg_reg_3, X_train_ss, ylog_train, cv=KFold(n_splits=5))\n",
    "\n",
    "xg_reg_4=xgb.XGBRegressor()\n",
    "results_4 = cross_val_score(xg_reg_4, X_train, y_train, cv=KFold(n_splits=5))\n",
    "\n",
    "print(\"Normalized X+y, No StandardScaling - CV average R2 score  : %.7f\" % results_1.mean())\n",
    "print(\"Normalized y, No StandardScaling - CV average R2 score    : %.7f\" % results_2.mean())\n",
    "print(\"Normalized y, StandardScaling for X - CV average R2 score : %.7f\" % results_3.mean())\n",
    "print(\"No Normalization, No StandardScaling - CV average R2 score: %.7f\" % results_4.mean())"
   ]
  },
  {
   "cell_type": "code",
   "execution_count": 166,
   "metadata": {
    "scrolled": true
   },
   "outputs": [
    {
     "data": {
      "text/html": [
       "<div>\n",
       "<style scoped>\n",
       "    .dataframe tbody tr th:only-of-type {\n",
       "        vertical-align: middle;\n",
       "    }\n",
       "\n",
       "    .dataframe tbody tr th {\n",
       "        vertical-align: top;\n",
       "    }\n",
       "\n",
       "    .dataframe thead th {\n",
       "        text-align: right;\n",
       "    }\n",
       "</style>\n",
       "<table border=\"1\" class=\"dataframe\">\n",
       "  <thead>\n",
       "    <tr style=\"text-align: right;\">\n",
       "      <th></th>\n",
       "      <th>model_type_s1</th>\n",
       "      <th>model_type_s2</th>\n",
       "    </tr>\n",
       "  </thead>\n",
       "  <tbody>\n",
       "    <tr>\n",
       "      <th>0</th>\n",
       "      <td>0</td>\n",
       "      <td>0</td>\n",
       "    </tr>\n",
       "    <tr>\n",
       "      <th>1</th>\n",
       "      <td>0</td>\n",
       "      <td>0</td>\n",
       "    </tr>\n",
       "    <tr>\n",
       "      <th>2</th>\n",
       "      <td>0</td>\n",
       "      <td>0</td>\n",
       "    </tr>\n",
       "    <tr>\n",
       "      <th>3</th>\n",
       "      <td>0</td>\n",
       "      <td>0</td>\n",
       "    </tr>\n",
       "    <tr>\n",
       "      <th>4</th>\n",
       "      <td>0</td>\n",
       "      <td>0</td>\n",
       "    </tr>\n",
       "    <tr>\n",
       "      <th>...</th>\n",
       "      <td>...</td>\n",
       "      <td>...</td>\n",
       "    </tr>\n",
       "    <tr>\n",
       "      <th>80892</th>\n",
       "      <td>0</td>\n",
       "      <td>0</td>\n",
       "    </tr>\n",
       "    <tr>\n",
       "      <th>80893</th>\n",
       "      <td>0</td>\n",
       "      <td>0</td>\n",
       "    </tr>\n",
       "    <tr>\n",
       "      <th>80894</th>\n",
       "      <td>0</td>\n",
       "      <td>0</td>\n",
       "    </tr>\n",
       "    <tr>\n",
       "      <th>80895</th>\n",
       "      <td>0</td>\n",
       "      <td>0</td>\n",
       "    </tr>\n",
       "    <tr>\n",
       "      <th>80896</th>\n",
       "      <td>0</td>\n",
       "      <td>0</td>\n",
       "    </tr>\n",
       "  </tbody>\n",
       "</table>\n",
       "<p>80897 rows × 2 columns</p>\n",
       "</div>"
      ],
      "text/plain": [
       "       model_type_s1  model_type_s2\n",
       "0                  0              0\n",
       "1                  0              0\n",
       "2                  0              0\n",
       "3                  0              0\n",
       "4                  0              0\n",
       "...              ...            ...\n",
       "80892              0              0\n",
       "80893              0              0\n",
       "80894              0              0\n",
       "80895              0              0\n",
       "80896              0              0\n",
       "\n",
       "[80897 rows x 2 columns]"
      ]
     },
     "execution_count": 166,
     "metadata": {},
     "output_type": "execute_result"
    }
   ],
   "source": [
    "X[['model_type_s1','model_type_s2']]"
   ]
  },
  {
   "cell_type": "markdown",
   "metadata": {},
   "source": [
    "### 2. Using RMSE for comparison"
   ]
  },
  {
   "cell_type": "markdown",
   "metadata": {},
   "source": [
    "#### 2a Normalized X+y, No StandardScaling"
   ]
  },
  {
   "cell_type": "code",
   "execution_count": 9,
   "metadata": {},
   "outputs": [
    {
     "name": "stdout",
     "output_type": "stream",
     "text": [
      "Fitting 5 folds for each of 30 candidates, totalling 150 fits\n"
     ]
    },
    {
     "name": "stderr",
     "output_type": "stream",
     "text": [
      "[Parallel(n_jobs=4)]: Using backend LokyBackend with 4 concurrent workers.\n",
      "[Parallel(n_jobs=4)]: Done  10 tasks      | elapsed:  3.4min\n",
      "[Parallel(n_jobs=4)]: Done  64 tasks      | elapsed: 13.0min\n",
      "[Parallel(n_jobs=4)]: Done 150 out of 150 | elapsed: 29.2min finished\n"
     ]
    },
    {
     "data": {
      "text/plain": [
       "RandomizedSearchCV(cv=5, error_score=nan,\n",
       "                   estimator=XGBRegressor(base_score=None, booster=None,\n",
       "                                          colsample_bylevel=None,\n",
       "                                          colsample_bynode=None,\n",
       "                                          colsample_bytree=None, gamma=None,\n",
       "                                          gpu_id=None, importance_type='gain',\n",
       "                                          interaction_constraints=None,\n",
       "                                          learning_rate=None,\n",
       "                                          max_delta_step=None, max_depth=None,\n",
       "                                          min_child_weight=None, missing=nan,\n",
       "                                          monotone_constraints=None,\n",
       "                                          n_...\n",
       "                                          tree_method=None,\n",
       "                                          validate_parameters=None,\n",
       "                                          verbosity=None),\n",
       "                   iid='deprecated', n_iter=30, n_jobs=4,\n",
       "                   param_distributions={'base_score': [0.5, 0.75],\n",
       "                                        'booster': ['gbtree', 'dart'],\n",
       "                                        'learning_rate': [0.1, 0.3],\n",
       "                                        'max_depth': [2, 6],\n",
       "                                        'n_estimators': [100, 500]},\n",
       "                   pre_dispatch='2*n_jobs', random_state=42, refit=True,\n",
       "                   return_train_score=True, scoring='neg_mean_squared_error',\n",
       "                   verbose=5)"
      ]
     },
     "execution_count": 9,
     "metadata": {},
     "output_type": "execute_result"
    }
   ],
   "source": [
    "## Hyper Parameter Optimization for the first model\n",
    "xg_reg_1=xgb.XGBRegressor()\n",
    "n_estimators = [100, 500]\n",
    "max_depth = [2, 6]\n",
    "booster=['gbtree','dart']\n",
    "learning_rate=[0.1, 0.3]\n",
    "base_score=[0.5,0.75]\n",
    "\n",
    "# Define the grid of hyperparameters to search\n",
    "hyperparameter_grid = {\n",
    "    'n_estimators': n_estimators,\n",
    "    'max_depth':max_depth,\n",
    "    'booster':booster,\n",
    "    'learning_rate':learning_rate,\n",
    "    'base_score':base_score\n",
    "    }\n",
    "\n",
    "# Set up the random search with cross validation\n",
    "random_cv_1 = RandomizedSearchCV(estimator=xg_reg_1,\n",
    "            param_distributions=hyperparameter_grid,\n",
    "            cv=5, n_iter=30,\n",
    "            scoring = 'neg_mean_squared_error',n_jobs = 4,\n",
    "            verbose = 5, \n",
    "            return_train_score = True,\n",
    "            random_state=42)\n",
    "\n",
    "random_cv_1.fit(Xlog_train,ylog_train)"
   ]
  },
  {
   "cell_type": "code",
   "execution_count": 23,
   "metadata": {},
   "outputs": [
    {
     "name": "stdout",
     "output_type": "stream",
     "text": [
      "Normalized X+y, No StandardScaling\n",
      "----------------------------------\n",
      "Training RMSE: 47096.255119\n",
      "Validation RMSE: 47048.371842\n"
     ]
    }
   ],
   "source": [
    "log_train_pred_1 = random_cv_1.predict(Xlog_train)\n",
    "log_val_pred_1 = random_cv_1.predict(Xlog_val)\n",
    "\n",
    "train_pred_1 = inv_boxcox(log_train_pred_1,-0.6)\n",
    "val_pred_1 = inv_boxcox(log_val_pred_1,-0.6)\n",
    "\n",
    "rmse_train_1 = mean_squared_error(y_train, train_pred_1, squared=False)\n",
    "rmse_val_1 = mean_squared_error(y_val, val_pred_1, squared=False)\n",
    "\n",
    "print(\"Normalized X+y, No StandardScaling\")\n",
    "print(\"----------------------------------\")\n",
    "print(\"Training RMSE: %f\" % (rmse_train_1))\n",
    "print(\"Validation RMSE: %f\" % (rmse_val_1))"
   ]
  },
  {
   "cell_type": "code",
   "execution_count": 20,
   "metadata": {},
   "outputs": [],
   "source": [
    "# Save model 1\n",
    "with open('saved_models/xgb1.pkl', 'wb') as file:\n",
    "    pickle.dump(random_cv_1, file)"
   ]
  },
  {
   "cell_type": "markdown",
   "metadata": {},
   "source": [
    "#### 2b Normalized y, No StandardScaling"
   ]
  },
  {
   "cell_type": "code",
   "execution_count": 22,
   "metadata": {},
   "outputs": [
    {
     "name": "stdout",
     "output_type": "stream",
     "text": [
      "Fitting 5 folds for each of 30 candidates, totalling 150 fits\n"
     ]
    },
    {
     "name": "stderr",
     "output_type": "stream",
     "text": [
      "[Parallel(n_jobs=4)]: Using backend LokyBackend with 4 concurrent workers.\n",
      "[Parallel(n_jobs=4)]: Done  10 tasks      | elapsed:  3.5min\n",
      "[Parallel(n_jobs=4)]: Done  64 tasks      | elapsed: 13.6min\n",
      "[Parallel(n_jobs=4)]: Done 150 out of 150 | elapsed: 29.7min finished\n"
     ]
    },
    {
     "data": {
      "text/plain": [
       "RandomizedSearchCV(cv=5, error_score=nan,\n",
       "                   estimator=XGBRegressor(base_score=None, booster=None,\n",
       "                                          colsample_bylevel=None,\n",
       "                                          colsample_bynode=None,\n",
       "                                          colsample_bytree=None, gamma=None,\n",
       "                                          gpu_id=None, importance_type='gain',\n",
       "                                          interaction_constraints=None,\n",
       "                                          learning_rate=None,\n",
       "                                          max_delta_step=None, max_depth=None,\n",
       "                                          min_child_weight=None, missing=nan,\n",
       "                                          monotone_constraints=None,\n",
       "                                          n_...\n",
       "                                          tree_method=None,\n",
       "                                          validate_parameters=None,\n",
       "                                          verbosity=None),\n",
       "                   iid='deprecated', n_iter=30, n_jobs=4,\n",
       "                   param_distributions={'base_score': [0.5, 0.75],\n",
       "                                        'booster': ['gbtree', 'dart'],\n",
       "                                        'learning_rate': [0.1, 0.3],\n",
       "                                        'max_depth': [2, 6],\n",
       "                                        'n_estimators': [100, 500]},\n",
       "                   pre_dispatch='2*n_jobs', random_state=42, refit=True,\n",
       "                   return_train_score=True, scoring='neg_mean_squared_error',\n",
       "                   verbose=5)"
      ]
     },
     "execution_count": 22,
     "metadata": {},
     "output_type": "execute_result"
    }
   ],
   "source": [
    "## Hyper Parameter Optimization\n",
    "xg_reg_2=xgb.XGBRegressor()\n",
    "n_estimators = [100, 500]\n",
    "max_depth = [2, 6]\n",
    "booster=['gbtree','dart']\n",
    "learning_rate=[0.1, 0.3]\n",
    "base_score=[0.5,0.75]\n",
    "\n",
    "# Define the grid of hyperparameters to search\n",
    "hyperparameter_grid = {\n",
    "    'n_estimators': n_estimators,\n",
    "    'max_depth':max_depth,\n",
    "    'booster':booster,\n",
    "    'learning_rate':learning_rate,\n",
    "    'base_score':base_score\n",
    "    }\n",
    "\n",
    "# Set up the random search with cross validation\n",
    "random_cv_2 = RandomizedSearchCV(estimator=xg_reg_2,\n",
    "            param_distributions=hyperparameter_grid,\n",
    "            cv=5, n_iter=30,\n",
    "            scoring = 'neg_mean_squared_error',n_jobs = 4,\n",
    "            verbose = 5, \n",
    "            return_train_score = True,\n",
    "            random_state=42)\n",
    "\n",
    "random_cv_2.fit(X_train,ylog_train)"
   ]
  },
  {
   "cell_type": "code",
   "execution_count": 24,
   "metadata": {},
   "outputs": [
    {
     "name": "stdout",
     "output_type": "stream",
     "text": [
      "Normalized y, No StandardScaling\n",
      "----------------------------------\n",
      "Training RMSE: 47096.255119\n",
      "Validation RMSE: 47048.371842\n"
     ]
    }
   ],
   "source": [
    "log_train_pred_2 = random_cv_2.predict(X_train)\n",
    "log_val_pred_2 = random_cv_2.predict(X_val)\n",
    "\n",
    "train_pred_2 = inv_boxcox(log_train_pred_2,-0.6)\n",
    "val_pred_2 = inv_boxcox(log_val_pred_2,-0.6)\n",
    "\n",
    "\n",
    "rmse_train_2 = mean_squared_error(y_train, train_pred_2, squared=False)\n",
    "rmse_val_2 = mean_squared_error(y_val, val_pred_2, squared=False)\n",
    "\n",
    "print(\"Normalized y, No StandardScaling\")\n",
    "print(\"----------------------------------\")\n",
    "print(\"Training RMSE: %f\" % (rmse_train_2))\n",
    "print(\"Validation RMSE: %f\" % (rmse_val_2))"
   ]
  },
  {
   "cell_type": "code",
   "execution_count": null,
   "metadata": {},
   "outputs": [],
   "source": [
    "# Save model 2\n",
    "with open('saved_models/xgb2.pkl', 'wb') as file:\n",
    "    pickle.dump(random_cv_2, file)"
   ]
  },
  {
   "cell_type": "markdown",
   "metadata": {},
   "source": [
    "#### 2c Normalized y, StandardScaling for X"
   ]
  },
  {
   "cell_type": "code",
   "execution_count": null,
   "metadata": {},
   "outputs": [],
   "source": [
    "## Hyper Parameter Optimization\n",
    "xg_reg_3=xgb.XGBRegressor()\n",
    "n_estimators = [100, 500]\n",
    "max_depth = [2, 6]\n",
    "booster=['gbtree','dart']\n",
    "learning_rate=[0.1, 0.3]\n",
    "base_score=[0.5,0.75]\n",
    "\n",
    "# Define the grid of hyperparameters to search\n",
    "hyperparameter_grid = {\n",
    "    'n_estimators': n_estimators,\n",
    "    'max_depth':max_depth,\n",
    "    'booster':booster,\n",
    "    'learning_rate':learning_rate,\n",
    "    'base_score':base_score\n",
    "    }\n",
    "\n",
    "# Set up the random search with cross validation\n",
    "random_cv_3 = RandomizedSearchCV(estimator=xg_reg_3,\n",
    "            param_distributions=hyperparameter_grid,\n",
    "            cv=5, n_iter=30,\n",
    "            scoring = 'neg_mean_squared_error',n_jobs = 4,\n",
    "            verbose = 5, \n",
    "            return_train_score = True,\n",
    "            random_state=42)\n",
    "\n",
    "random_cv_3.fit(X_train_ss,ylog_train)"
   ]
  },
  {
   "cell_type": "code",
   "execution_count": null,
   "metadata": {},
   "outputs": [],
   "source": [
    "log_train_pred_3 = random_cv_3.predict(X_train_ss)\n",
    "log_val_pred_3 = random_cv_3.predict(X_val_ss)\n",
    "\n",
    "train_pred_3 = inv_boxcox(log_train_pred_3,-0.6)\n",
    "val_pred_3 = inv_boxcox(log_val_pred_3,-0.6)\n",
    "\n",
    "rmse_train_3 = mean_squared_error(y_train, train_pred_3, squared=False)\n",
    "rmse_val_3 = mean_squared_error(y_val, val_pred_3, squared=False)\n",
    "\n",
    "print(\"Training RMSE: %f\" % (rmse_train_3))\n",
    "print(\"Validation RMSE: %f\" % (rmse_val_3))"
   ]
  },
  {
   "cell_type": "code",
   "execution_count": null,
   "metadata": {},
   "outputs": [],
   "source": [
    "# Save model 3\n",
    "with open('saved_models/xgb3.pkl', 'wb') as file:\n",
    "    pickle.dump(random_cv_3, file)"
   ]
  },
  {
   "cell_type": "markdown",
   "metadata": {},
   "source": [
    "#### 2d No Normalization, No StandardScaling"
   ]
  },
  {
   "cell_type": "code",
   "execution_count": 150,
   "metadata": {},
   "outputs": [
    {
     "name": "stdout",
     "output_type": "stream",
     "text": [
      "Fitting 5 folds for each of 30 candidates, totalling 150 fits\n"
     ]
    },
    {
     "name": "stderr",
     "output_type": "stream",
     "text": [
      "[Parallel(n_jobs=4)]: Using backend LokyBackend with 4 concurrent workers.\n",
      "[Parallel(n_jobs=4)]: Done  10 tasks      | elapsed: 19.3min\n",
      "[Parallel(n_jobs=4)]: Done  64 tasks      | elapsed: 41.2min\n",
      "[Parallel(n_jobs=4)]: Done 150 out of 150 | elapsed: 125.1min finished\n"
     ]
    },
    {
     "data": {
      "text/plain": [
       "RandomizedSearchCV(cv=5, error_score=nan,\n",
       "                   estimator=XGBRegressor(base_score=None, booster=None,\n",
       "                                          colsample_bylevel=None,\n",
       "                                          colsample_bynode=None,\n",
       "                                          colsample_bytree=None, gamma=None,\n",
       "                                          gpu_id=None, importance_type='gain',\n",
       "                                          interaction_constraints=None,\n",
       "                                          learning_rate=None,\n",
       "                                          max_delta_step=None, max_depth=None,\n",
       "                                          min_child_weight=None, missing=nan,\n",
       "                                          monotone_constraints=None,\n",
       "                                          n_...\n",
       "                                          tree_method=None,\n",
       "                                          validate_parameters=None,\n",
       "                                          verbosity=None),\n",
       "                   iid='deprecated', n_iter=30, n_jobs=4,\n",
       "                   param_distributions={'base_score': [0.5, 0.75],\n",
       "                                        'booster': ['gbtree', 'dart'],\n",
       "                                        'learning_rate': [0.1, 0.3],\n",
       "                                        'max_depth': [2, 6],\n",
       "                                        'n_estimators': [100, 500]},\n",
       "                   pre_dispatch='2*n_jobs', random_state=42, refit=True,\n",
       "                   return_train_score=True, scoring='neg_mean_squared_error',\n",
       "                   verbose=5)"
      ]
     },
     "execution_count": 150,
     "metadata": {},
     "output_type": "execute_result"
    }
   ],
   "source": [
    "## Hyper Parameter Optimization\n",
    "xg_reg_4=xgb.XGBRegressor()\n",
    "n_estimators = [100, 500]\n",
    "max_depth = [2, 6]\n",
    "booster=['gbtree','dart']\n",
    "learning_rate=[0.1, 0.3]\n",
    "base_score=[0.5,0.75]\n",
    "\n",
    "# Define the grid of hyperparameters to search\n",
    "hyperparameter_grid = {\n",
    "    'n_estimators': n_estimators,\n",
    "    'max_depth':max_depth,\n",
    "    'booster':booster,\n",
    "    'learning_rate':learning_rate,\n",
    "    'base_score':base_score\n",
    "    }\n",
    "\n",
    "# Set up the random search with cross validation\n",
    "random_cv_4 = RandomizedSearchCV(estimator=xg_reg_4,\n",
    "            param_distributions=hyperparameter_grid,\n",
    "            cv=5, n_iter=30,\n",
    "            scoring = 'neg_mean_squared_error',n_jobs = 4,\n",
    "            verbose = 5, \n",
    "            return_train_score = True,\n",
    "            random_state=42)\n",
    "\n",
    "random_cv_4.fit(X_train,y_train)"
   ]
  },
  {
   "cell_type": "code",
   "execution_count": 151,
   "metadata": {},
   "outputs": [],
   "source": [
    "# Save model 4\n",
    "with open('saved_models/xgb4.pkl', 'wb') as file:\n",
    "    pickle.dump(random_cv_4, file)"
   ]
  },
  {
   "cell_type": "code",
   "execution_count": 153,
   "metadata": {},
   "outputs": [
    {
     "name": "stdout",
     "output_type": "stream",
     "text": [
      "No Normalization, No StandardScaling\n",
      "------------------------------------\n",
      "Training RMSE: 19957.662522\n",
      "Validation RMSE: 24319.594238\n"
     ]
    }
   ],
   "source": [
    "train_pred_4 = random_cv_4.predict(X_train)\n",
    "val_pred_4 = random_cv_4.predict(X_val)\n",
    "\n",
    "rmse_train_4 = mean_squared_error(y_train, train_pred_4, squared=False)\n",
    "rmse_val_4 = mean_squared_error(y_val, val_pred_4, squared=False)\n",
    "\n",
    "print(\"No Normalization, No StandardScaling\")\n",
    "print(\"------------------------------------\")\n",
    "print(\"Training RMSE: %f\" % (rmse_train_4))\n",
    "print(\"Validation RMSE: %f\" % (rmse_val_4))"
   ]
  },
  {
   "cell_type": "markdown",
   "metadata": {},
   "source": [
    "### Summary of Model Comparison\n",
    "|Model|Normalize X|Normalize y|Standardscaling|CV R2 Score|Training RMSE|Validation RMSE|\n",
    "|---|---|---|---|---|---|---|\n",
    "| 1 |Yes|Yes|No|0.87|47096.255119|47048.371842|\n",
    "| 2 |Yes|No |No|0.87|47096.255119|47048.371842|\n",
    "| 3 |Yes|No |Yes|0.87|47096.255119|47048.371842|\n",
    "| 4 |No |No |No |0.96|1997.66|24319.59|\n",
    "\n",
    "The RMSE score from Keras from notebook 7_keras : <br/>\n",
    "- RMSE Training :  45412.3960336\n",
    "- RMSE Validation : 45589.5989104\n",
    "- R2 Score: 0.9007644\n",
    "\n",
    "The baseline score from Ordinary Least Square (in preprocessing notebook) was: <br/>\n",
    "- RMSE training: 46408.234820<br/>\n",
    "- RMSE validation: 46987.788686<br />\n",
    "- CV R2 score: 0.8851190<br />\n",
    "\n",
    "The objective is to improve the baseline RMSE by at least 10%, so the first 3 XGBoost models and Keras don't meet the requirement. I choose XGBoost Model 4 for scoring better in R2 and RMSE.\n",
    "\n",
    "https://stats.stackexchange.com/questions/204489/discussion-about-overfit-in-xgboost"
   ]
  },
  {
   "cell_type": "code",
   "execution_count": 152,
   "metadata": {},
   "outputs": [
    {
     "data": {
      "text/plain": [
       "{'n_estimators': 500,\n",
       " 'max_depth': 6,\n",
       " 'learning_rate': 0.1,\n",
       " 'booster': 'dart',\n",
       " 'base_score': 0.75}"
      ]
     },
     "execution_count": 152,
     "metadata": {},
     "output_type": "execute_result"
    }
   ],
   "source": [
    "random_cv_4.best_params_"
   ]
  },
  {
   "cell_type": "code",
   "execution_count": 36,
   "metadata": {},
   "outputs": [
    {
     "name": "stdout",
     "output_type": "stream",
     "text": [
      "[0]\tvalidation_0-rmse:447099.15625\tvalidation_1-rmse:447341.31250\n",
      "Multiple eval metrics have been passed: 'validation_1-rmse' will be used for early stopping.\n",
      "\n",
      "Will train until validation_1-rmse hasn't improved in 5 rounds.\n",
      "[1]\tvalidation_0-rmse:434014.06250\tvalidation_1-rmse:434258.56250\n",
      "[2]\tvalidation_0-rmse:421310.59375\tvalidation_1-rmse:421555.62500\n",
      "[3]\tvalidation_0-rmse:408999.78125\tvalidation_1-rmse:409260.34375\n",
      "[4]\tvalidation_0-rmse:397086.21875\tvalidation_1-rmse:397358.50000\n",
      "[5]\tvalidation_0-rmse:385497.31250\tvalidation_1-rmse:385764.09375\n",
      "[6]\tvalidation_0-rmse:374269.34375\tvalidation_1-rmse:374548.25000\n",
      "[7]\tvalidation_0-rmse:363400.93750\tvalidation_1-rmse:363682.34375\n",
      "[8]\tvalidation_0-rmse:352797.71875\tvalidation_1-rmse:353094.59375\n",
      "[9]\tvalidation_0-rmse:342568.96875\tvalidation_1-rmse:342887.90625\n",
      "[10]\tvalidation_0-rmse:332646.93750\tvalidation_1-rmse:332971.84375\n",
      "[11]\tvalidation_0-rmse:323019.81250\tvalidation_1-rmse:323354.62500\n",
      "[12]\tvalidation_0-rmse:313671.34375\tvalidation_1-rmse:314024.68750\n",
      "[13]\tvalidation_0-rmse:304588.71875\tvalidation_1-rmse:304942.31250\n",
      "[14]\tvalidation_0-rmse:295769.81250\tvalidation_1-rmse:296150.90625\n",
      "[15]\tvalidation_0-rmse:287303.71875\tvalidation_1-rmse:287696.68750\n",
      "[16]\tvalidation_0-rmse:279034.15625\tvalidation_1-rmse:279444.31250\n",
      "[17]\tvalidation_0-rmse:271079.87500\tvalidation_1-rmse:271489.56250\n",
      "[18]\tvalidation_0-rmse:263313.81250\tvalidation_1-rmse:263726.09375\n",
      "[19]\tvalidation_0-rmse:255795.65625\tvalidation_1-rmse:256216.70312\n",
      "[20]\tvalidation_0-rmse:248479.14062\tvalidation_1-rmse:248913.00000\n",
      "[21]\tvalidation_0-rmse:241371.96875\tvalidation_1-rmse:241817.79688\n",
      "[22]\tvalidation_0-rmse:234505.98438\tvalidation_1-rmse:234962.50000\n",
      "[23]\tvalidation_0-rmse:227845.15625\tvalidation_1-rmse:228318.29688\n",
      "[24]\tvalidation_0-rmse:221412.90625\tvalidation_1-rmse:221881.89062\n",
      "[25]\tvalidation_0-rmse:215153.23438\tvalidation_1-rmse:215646.40625\n",
      "[26]\tvalidation_0-rmse:209140.00000\tvalidation_1-rmse:209641.03125\n",
      "[27]\tvalidation_0-rmse:203304.65625\tvalidation_1-rmse:203819.71875\n",
      "[28]\tvalidation_0-rmse:197647.31250\tvalidation_1-rmse:198166.76562\n",
      "[29]\tvalidation_0-rmse:192115.46875\tvalidation_1-rmse:192647.82812\n",
      "[30]\tvalidation_0-rmse:186790.32812\tvalidation_1-rmse:187336.56250\n",
      "[31]\tvalidation_0-rmse:181636.96875\tvalidation_1-rmse:182194.09375\n",
      "[32]\tvalidation_0-rmse:176618.06250\tvalidation_1-rmse:177193.26562\n",
      "[33]\tvalidation_0-rmse:171778.73438\tvalidation_1-rmse:172349.75000\n",
      "[34]\tvalidation_0-rmse:167099.60938\tvalidation_1-rmse:167668.23438\n",
      "[35]\tvalidation_0-rmse:162533.62500\tvalidation_1-rmse:163110.09375\n",
      "[36]\tvalidation_0-rmse:158125.15625\tvalidation_1-rmse:158710.93750\n",
      "[37]\tvalidation_0-rmse:153856.18750\tvalidation_1-rmse:154445.25000\n",
      "[38]\tvalidation_0-rmse:149710.95312\tvalidation_1-rmse:150315.20312\n",
      "[39]\tvalidation_0-rmse:145687.35938\tvalidation_1-rmse:146292.18750\n",
      "[40]\tvalidation_0-rmse:141831.70312\tvalidation_1-rmse:142448.51562\n",
      "[41]\tvalidation_0-rmse:138056.54688\tvalidation_1-rmse:138680.00000\n",
      "[42]\tvalidation_0-rmse:134397.09375\tvalidation_1-rmse:135028.48438\n",
      "[43]\tvalidation_0-rmse:130855.09375\tvalidation_1-rmse:131498.04688\n",
      "[44]\tvalidation_0-rmse:127470.98438\tvalidation_1-rmse:128126.99219\n",
      "[45]\tvalidation_0-rmse:124189.95312\tvalidation_1-rmse:124853.96094\n",
      "[46]\tvalidation_0-rmse:121010.70312\tvalidation_1-rmse:121687.39062\n",
      "[47]\tvalidation_0-rmse:117930.09375\tvalidation_1-rmse:118619.68750\n",
      "[48]\tvalidation_0-rmse:114932.21094\tvalidation_1-rmse:115632.60156\n",
      "[49]\tvalidation_0-rmse:112041.32812\tvalidation_1-rmse:112736.96875\n",
      "[50]\tvalidation_0-rmse:109252.10156\tvalidation_1-rmse:109957.78906\n",
      "[51]\tvalidation_0-rmse:106541.25781\tvalidation_1-rmse:107257.96094\n",
      "[52]\tvalidation_0-rmse:103917.19531\tvalidation_1-rmse:104635.91406\n",
      "[53]\tvalidation_0-rmse:101387.86719\tvalidation_1-rmse:102120.76562\n",
      "[54]\tvalidation_0-rmse:98957.28906\tvalidation_1-rmse:99692.00781\n",
      "[55]\tvalidation_0-rmse:96619.39844\tvalidation_1-rmse:97373.55469\n",
      "[56]\tvalidation_0-rmse:94375.73438\tvalidation_1-rmse:95143.51562\n",
      "[57]\tvalidation_0-rmse:92182.35938\tvalidation_1-rmse:92964.06250\n",
      "[58]\tvalidation_0-rmse:90036.93750\tvalidation_1-rmse:90823.05469\n",
      "[59]\tvalidation_0-rmse:87962.66406\tvalidation_1-rmse:88767.74219\n",
      "[60]\tvalidation_0-rmse:85994.39062\tvalidation_1-rmse:86823.50000\n",
      "[61]\tvalidation_0-rmse:84100.33594\tvalidation_1-rmse:84944.92188\n",
      "[62]\tvalidation_0-rmse:82241.10156\tvalidation_1-rmse:83096.82812\n",
      "[63]\tvalidation_0-rmse:80450.36719\tvalidation_1-rmse:81332.77344\n",
      "[64]\tvalidation_0-rmse:78732.67188\tvalidation_1-rmse:79630.23438\n",
      "[65]\tvalidation_0-rmse:77041.65625\tvalidation_1-rmse:77950.17969\n",
      "[66]\tvalidation_0-rmse:75445.42188\tvalidation_1-rmse:76362.19531\n",
      "[67]\tvalidation_0-rmse:73918.17969\tvalidation_1-rmse:74850.03125\n",
      "[68]\tvalidation_0-rmse:72407.04688\tvalidation_1-rmse:73350.50781\n",
      "[69]\tvalidation_0-rmse:70964.21875\tvalidation_1-rmse:71925.24219\n",
      "[70]\tvalidation_0-rmse:69592.82031\tvalidation_1-rmse:70568.99219\n",
      "[71]\tvalidation_0-rmse:68260.57812\tvalidation_1-rmse:69248.53906\n",
      "[72]\tvalidation_0-rmse:66990.48438\tvalidation_1-rmse:67986.31250\n",
      "[73]\tvalidation_0-rmse:65741.30469\tvalidation_1-rmse:66752.90625\n",
      "[74]\tvalidation_0-rmse:64567.64062\tvalidation_1-rmse:65582.38281\n",
      "[75]\tvalidation_0-rmse:63412.89453\tvalidation_1-rmse:64437.85938\n",
      "[76]\tvalidation_0-rmse:62291.55078\tvalidation_1-rmse:63331.37109\n",
      "[77]\tvalidation_0-rmse:61237.13281\tvalidation_1-rmse:62285.80078\n",
      "[78]\tvalidation_0-rmse:60204.11719\tvalidation_1-rmse:61261.91406\n",
      "[79]\tvalidation_0-rmse:59219.94531\tvalidation_1-rmse:60285.00391\n",
      "[80]\tvalidation_0-rmse:58251.11719\tvalidation_1-rmse:59331.28516\n",
      "[81]\tvalidation_0-rmse:57354.92578\tvalidation_1-rmse:58439.27734\n",
      "[82]\tvalidation_0-rmse:56505.31250\tvalidation_1-rmse:57597.23828\n",
      "[83]\tvalidation_0-rmse:55661.97656\tvalidation_1-rmse:56757.44531\n",
      "[84]\tvalidation_0-rmse:54869.92578\tvalidation_1-rmse:55970.09766\n",
      "[85]\tvalidation_0-rmse:54058.54297\tvalidation_1-rmse:55170.39844\n",
      "[86]\tvalidation_0-rmse:53299.55859\tvalidation_1-rmse:54421.20703\n",
      "[87]\tvalidation_0-rmse:52602.13672\tvalidation_1-rmse:53742.97266\n",
      "[88]\tvalidation_0-rmse:51925.84375\tvalidation_1-rmse:53073.64062\n",
      "[89]\tvalidation_0-rmse:51262.32031\tvalidation_1-rmse:52419.32812\n",
      "[90]\tvalidation_0-rmse:50599.10547\tvalidation_1-rmse:51765.76562\n",
      "[91]\tvalidation_0-rmse:49954.67188\tvalidation_1-rmse:51143.40234\n",
      "[92]\tvalidation_0-rmse:49368.76562\tvalidation_1-rmse:50569.17578\n",
      "[93]\tvalidation_0-rmse:48807.46094\tvalidation_1-rmse:50014.87109\n",
      "[94]\tvalidation_0-rmse:48253.38281\tvalidation_1-rmse:49478.10156\n",
      "[95]\tvalidation_0-rmse:47707.71094\tvalidation_1-rmse:48939.00391\n",
      "[96]\tvalidation_0-rmse:47188.22266\tvalidation_1-rmse:48419.89062\n",
      "[97]\tvalidation_0-rmse:46701.33203\tvalidation_1-rmse:47947.45312\n",
      "[98]\tvalidation_0-rmse:46224.55078\tvalidation_1-rmse:47491.12500\n",
      "[99]\tvalidation_0-rmse:45810.80859\tvalidation_1-rmse:47089.39062\n",
      "[100]\tvalidation_0-rmse:45384.08203\tvalidation_1-rmse:46675.98828\n",
      "[101]\tvalidation_0-rmse:44972.08594\tvalidation_1-rmse:46268.83984\n",
      "[102]\tvalidation_0-rmse:44577.73438\tvalidation_1-rmse:45885.93750\n",
      "[103]\tvalidation_0-rmse:44172.75781\tvalidation_1-rmse:45482.90234\n",
      "[104]\tvalidation_0-rmse:43818.11719\tvalidation_1-rmse:45132.30078\n",
      "[105]\tvalidation_0-rmse:43477.91406\tvalidation_1-rmse:44803.26562\n",
      "[106]\tvalidation_0-rmse:43156.62109\tvalidation_1-rmse:44476.92969\n",
      "[107]\tvalidation_0-rmse:42820.17578\tvalidation_1-rmse:44146.94531\n",
      "[108]\tvalidation_0-rmse:42481.91797\tvalidation_1-rmse:43815.69922\n",
      "[109]\tvalidation_0-rmse:42197.76172\tvalidation_1-rmse:43538.57031\n",
      "[110]\tvalidation_0-rmse:41894.51562\tvalidation_1-rmse:43240.97656\n",
      "[111]\tvalidation_0-rmse:41611.30469\tvalidation_1-rmse:42959.37891\n",
      "[112]\tvalidation_0-rmse:41328.89062\tvalidation_1-rmse:42679.04688\n",
      "[113]\tvalidation_0-rmse:41079.75000\tvalidation_1-rmse:42426.19922\n",
      "[114]\tvalidation_0-rmse:40824.79688\tvalidation_1-rmse:42177.79297\n",
      "[115]\tvalidation_0-rmse:40594.77344\tvalidation_1-rmse:41962.36328\n",
      "[116]\tvalidation_0-rmse:40403.64844\tvalidation_1-rmse:41777.65625\n",
      "[117]\tvalidation_0-rmse:40200.63281\tvalidation_1-rmse:41579.02734\n",
      "[118]\tvalidation_0-rmse:40007.74219\tvalidation_1-rmse:41394.07031\n",
      "[119]\tvalidation_0-rmse:39830.05469\tvalidation_1-rmse:41218.63281\n",
      "[120]\tvalidation_0-rmse:39641.26562\tvalidation_1-rmse:41033.75391\n",
      "[121]\tvalidation_0-rmse:39453.24609\tvalidation_1-rmse:40850.60547\n"
     ]
    },
    {
     "name": "stdout",
     "output_type": "stream",
     "text": [
      "[122]\tvalidation_0-rmse:39272.67188\tvalidation_1-rmse:40678.41406\n",
      "[123]\tvalidation_0-rmse:39116.67969\tvalidation_1-rmse:40524.89453\n",
      "[124]\tvalidation_0-rmse:38933.08594\tvalidation_1-rmse:40335.20312\n",
      "[125]\tvalidation_0-rmse:38769.60938\tvalidation_1-rmse:40169.77734\n",
      "[126]\tvalidation_0-rmse:38622.17188\tvalidation_1-rmse:40026.60547\n",
      "[127]\tvalidation_0-rmse:38454.63281\tvalidation_1-rmse:39860.24609\n",
      "[128]\tvalidation_0-rmse:38276.64062\tvalidation_1-rmse:39690.71875\n",
      "[129]\tvalidation_0-rmse:38164.36719\tvalidation_1-rmse:39579.42969\n",
      "[130]\tvalidation_0-rmse:38039.73438\tvalidation_1-rmse:39463.90234\n",
      "[131]\tvalidation_0-rmse:37869.91406\tvalidation_1-rmse:39309.23047\n",
      "[132]\tvalidation_0-rmse:37763.38281\tvalidation_1-rmse:39206.66016\n",
      "[133]\tvalidation_0-rmse:37661.55469\tvalidation_1-rmse:39106.54688\n",
      "[134]\tvalidation_0-rmse:37519.68359\tvalidation_1-rmse:38964.39844\n",
      "[135]\tvalidation_0-rmse:37426.44531\tvalidation_1-rmse:38874.73828\n",
      "[136]\tvalidation_0-rmse:37297.04688\tvalidation_1-rmse:38756.15625\n",
      "[137]\tvalidation_0-rmse:37201.47656\tvalidation_1-rmse:38657.72656\n",
      "[138]\tvalidation_0-rmse:37078.66016\tvalidation_1-rmse:38542.21484\n",
      "[139]\tvalidation_0-rmse:36979.08594\tvalidation_1-rmse:38454.37891\n",
      "[140]\tvalidation_0-rmse:36892.72656\tvalidation_1-rmse:38378.27344\n",
      "[141]\tvalidation_0-rmse:36759.26562\tvalidation_1-rmse:38251.66016\n",
      "[142]\tvalidation_0-rmse:36684.56641\tvalidation_1-rmse:38187.16797\n",
      "[143]\tvalidation_0-rmse:36576.28125\tvalidation_1-rmse:38078.17578\n",
      "[144]\tvalidation_0-rmse:36470.37500\tvalidation_1-rmse:37981.25000\n",
      "[145]\tvalidation_0-rmse:36343.16797\tvalidation_1-rmse:37852.33594\n",
      "[146]\tvalidation_0-rmse:36264.33984\tvalidation_1-rmse:37782.71484\n",
      "[147]\tvalidation_0-rmse:36145.54688\tvalidation_1-rmse:37673.20703\n",
      "[148]\tvalidation_0-rmse:36028.19141\tvalidation_1-rmse:37564.63672\n",
      "[149]\tvalidation_0-rmse:35929.88672\tvalidation_1-rmse:37465.94922\n",
      "[150]\tvalidation_0-rmse:35862.56250\tvalidation_1-rmse:37408.85156\n",
      "[151]\tvalidation_0-rmse:35781.54297\tvalidation_1-rmse:37329.84375\n",
      "[152]\tvalidation_0-rmse:35722.93359\tvalidation_1-rmse:37270.32422\n",
      "[153]\tvalidation_0-rmse:35663.69922\tvalidation_1-rmse:37217.75781\n",
      "[154]\tvalidation_0-rmse:35599.48828\tvalidation_1-rmse:37158.47266\n",
      "[155]\tvalidation_0-rmse:35520.15625\tvalidation_1-rmse:37090.50391\n",
      "[156]\tvalidation_0-rmse:35448.62500\tvalidation_1-rmse:37026.83594\n",
      "[157]\tvalidation_0-rmse:35389.46875\tvalidation_1-rmse:36971.71875\n",
      "[158]\tvalidation_0-rmse:35286.97266\tvalidation_1-rmse:36866.39062\n",
      "[159]\tvalidation_0-rmse:35238.76172\tvalidation_1-rmse:36823.78125\n",
      "[160]\tvalidation_0-rmse:35190.20703\tvalidation_1-rmse:36777.48828\n",
      "[161]\tvalidation_0-rmse:35139.02734\tvalidation_1-rmse:36729.26562\n",
      "[162]\tvalidation_0-rmse:35069.47266\tvalidation_1-rmse:36664.55078\n",
      "[163]\tvalidation_0-rmse:35032.46875\tvalidation_1-rmse:36630.28516\n",
      "[164]\tvalidation_0-rmse:34967.20312\tvalidation_1-rmse:36568.95312\n",
      "[165]\tvalidation_0-rmse:34920.94141\tvalidation_1-rmse:36520.48047\n",
      "[166]\tvalidation_0-rmse:34846.56250\tvalidation_1-rmse:36453.44922\n",
      "[167]\tvalidation_0-rmse:34784.48438\tvalidation_1-rmse:36388.20703\n",
      "[168]\tvalidation_0-rmse:34679.32422\tvalidation_1-rmse:36277.69531\n",
      "[169]\tvalidation_0-rmse:34636.47656\tvalidation_1-rmse:36237.10938\n",
      "[170]\tvalidation_0-rmse:34598.24219\tvalidation_1-rmse:36201.01953\n",
      "[171]\tvalidation_0-rmse:34567.87500\tvalidation_1-rmse:36171.33984\n",
      "[172]\tvalidation_0-rmse:34527.25000\tvalidation_1-rmse:36135.86719\n",
      "[173]\tvalidation_0-rmse:34483.66797\tvalidation_1-rmse:36099.44141\n",
      "[174]\tvalidation_0-rmse:34404.45312\tvalidation_1-rmse:36030.98047\n",
      "[175]\tvalidation_0-rmse:34340.53906\tvalidation_1-rmse:35973.03516\n",
      "[176]\tvalidation_0-rmse:34288.62109\tvalidation_1-rmse:35918.41406\n",
      "[177]\tvalidation_0-rmse:34243.77734\tvalidation_1-rmse:35876.22656\n",
      "[178]\tvalidation_0-rmse:34176.15625\tvalidation_1-rmse:35815.86719\n",
      "[179]\tvalidation_0-rmse:34115.35938\tvalidation_1-rmse:35751.28516\n",
      "[180]\tvalidation_0-rmse:34032.55078\tvalidation_1-rmse:35665.40234\n",
      "[181]\tvalidation_0-rmse:33997.53125\tvalidation_1-rmse:35628.33984\n",
      "[182]\tvalidation_0-rmse:33940.50781\tvalidation_1-rmse:35565.89453\n",
      "[183]\tvalidation_0-rmse:33921.62500\tvalidation_1-rmse:35551.68359\n",
      "[184]\tvalidation_0-rmse:33879.88281\tvalidation_1-rmse:35512.10938\n",
      "[185]\tvalidation_0-rmse:33816.07422\tvalidation_1-rmse:35452.72656\n",
      "[186]\tvalidation_0-rmse:33763.09375\tvalidation_1-rmse:35409.90234\n",
      "[187]\tvalidation_0-rmse:33724.53125\tvalidation_1-rmse:35374.89453\n",
      "[188]\tvalidation_0-rmse:33696.31641\tvalidation_1-rmse:35349.41406\n",
      "[189]\tvalidation_0-rmse:33672.87109\tvalidation_1-rmse:35329.69922\n",
      "[190]\tvalidation_0-rmse:33635.25781\tvalidation_1-rmse:35294.87109\n",
      "[191]\tvalidation_0-rmse:33575.79688\tvalidation_1-rmse:35239.39844\n",
      "[192]\tvalidation_0-rmse:33547.54688\tvalidation_1-rmse:35212.66406\n",
      "[193]\tvalidation_0-rmse:33513.77734\tvalidation_1-rmse:35185.27344\n",
      "[194]\tvalidation_0-rmse:33485.83203\tvalidation_1-rmse:35162.56641\n",
      "[195]\tvalidation_0-rmse:33454.48438\tvalidation_1-rmse:35136.57031\n",
      "[196]\tvalidation_0-rmse:33435.12500\tvalidation_1-rmse:35120.71094\n",
      "[197]\tvalidation_0-rmse:33416.78906\tvalidation_1-rmse:35103.45312\n",
      "[198]\tvalidation_0-rmse:33386.80078\tvalidation_1-rmse:35076.07031\n",
      "[199]\tvalidation_0-rmse:33311.75391\tvalidation_1-rmse:35006.30859\n",
      "[200]\tvalidation_0-rmse:33289.85156\tvalidation_1-rmse:34986.93750\n",
      "[201]\tvalidation_0-rmse:33265.13281\tvalidation_1-rmse:34968.26172\n",
      "[202]\tvalidation_0-rmse:33238.75391\tvalidation_1-rmse:34945.87891\n",
      "[203]\tvalidation_0-rmse:33184.53125\tvalidation_1-rmse:34893.02344\n",
      "[204]\tvalidation_0-rmse:33156.88672\tvalidation_1-rmse:34872.97656\n",
      "[205]\tvalidation_0-rmse:33103.79297\tvalidation_1-rmse:34824.59375\n",
      "[206]\tvalidation_0-rmse:33045.48828\tvalidation_1-rmse:34767.89062\n",
      "[207]\tvalidation_0-rmse:33015.54297\tvalidation_1-rmse:34738.98047\n",
      "[208]\tvalidation_0-rmse:32992.53125\tvalidation_1-rmse:34717.99609\n",
      "[209]\tvalidation_0-rmse:32967.39844\tvalidation_1-rmse:34692.31250\n",
      "[210]\tvalidation_0-rmse:32945.36328\tvalidation_1-rmse:34667.32422\n",
      "[211]\tvalidation_0-rmse:32932.59375\tvalidation_1-rmse:34654.24219\n",
      "[212]\tvalidation_0-rmse:32920.12891\tvalidation_1-rmse:34642.86328\n",
      "[213]\tvalidation_0-rmse:32885.92188\tvalidation_1-rmse:34613.16406\n",
      "[214]\tvalidation_0-rmse:32854.33984\tvalidation_1-rmse:34581.57812\n",
      "[215]\tvalidation_0-rmse:32820.45312\tvalidation_1-rmse:34554.80859\n",
      "[216]\tvalidation_0-rmse:32790.57031\tvalidation_1-rmse:34530.25391\n",
      "[217]\tvalidation_0-rmse:32775.21484\tvalidation_1-rmse:34517.97266\n",
      "[218]\tvalidation_0-rmse:32758.93945\tvalidation_1-rmse:34501.85156\n",
      "[219]\tvalidation_0-rmse:32747.69141\tvalidation_1-rmse:34487.93750\n",
      "[220]\tvalidation_0-rmse:32718.54492\tvalidation_1-rmse:34466.64062\n",
      "[221]\tvalidation_0-rmse:32695.38086\tvalidation_1-rmse:34448.14062\n",
      "[222]\tvalidation_0-rmse:32670.33398\tvalidation_1-rmse:34430.01562\n",
      "[223]\tvalidation_0-rmse:32643.53320\tvalidation_1-rmse:34399.60547\n",
      "[224]\tvalidation_0-rmse:32619.54688\tvalidation_1-rmse:34375.25000\n",
      "[225]\tvalidation_0-rmse:32599.50586\tvalidation_1-rmse:34361.47656\n",
      "[226]\tvalidation_0-rmse:32560.63086\tvalidation_1-rmse:34325.06250\n",
      "[227]\tvalidation_0-rmse:32540.28125\tvalidation_1-rmse:34307.91016\n",
      "[228]\tvalidation_0-rmse:32525.00391\tvalidation_1-rmse:34297.39453\n",
      "[229]\tvalidation_0-rmse:32494.19336\tvalidation_1-rmse:34265.53906\n",
      "[230]\tvalidation_0-rmse:32461.04102\tvalidation_1-rmse:34242.80859\n",
      "[231]\tvalidation_0-rmse:32441.27539\tvalidation_1-rmse:34225.71484\n",
      "[232]\tvalidation_0-rmse:32423.45117\tvalidation_1-rmse:34209.75391\n",
      "[233]\tvalidation_0-rmse:32396.48828\tvalidation_1-rmse:34184.07031\n",
      "[234]\tvalidation_0-rmse:32378.71094\tvalidation_1-rmse:34169.77734\n",
      "[235]\tvalidation_0-rmse:32359.63672\tvalidation_1-rmse:34152.33984\n",
      "[236]\tvalidation_0-rmse:32297.77344\tvalidation_1-rmse:34095.70312\n",
      "[237]\tvalidation_0-rmse:32267.83203\tvalidation_1-rmse:34069.23047\n",
      "[238]\tvalidation_0-rmse:32260.29492\tvalidation_1-rmse:34062.73828\n",
      "[239]\tvalidation_0-rmse:32234.92969\tvalidation_1-rmse:34042.80078\n",
      "[240]\tvalidation_0-rmse:32220.41797\tvalidation_1-rmse:34032.16797\n",
      "[241]\tvalidation_0-rmse:32192.53320\tvalidation_1-rmse:34004.00391\n",
      "[242]\tvalidation_0-rmse:32174.76758\tvalidation_1-rmse:33983.96875\n",
      "[243]\tvalidation_0-rmse:32164.19141\tvalidation_1-rmse:33972.93750\n",
      "[244]\tvalidation_0-rmse:32148.75391\tvalidation_1-rmse:33957.64453\n",
      "[245]\tvalidation_0-rmse:32086.93555\tvalidation_1-rmse:33894.94531\n",
      "[246]\tvalidation_0-rmse:32069.68750\tvalidation_1-rmse:33875.73828\n"
     ]
    },
    {
     "name": "stdout",
     "output_type": "stream",
     "text": [
      "[247]\tvalidation_0-rmse:32052.78125\tvalidation_1-rmse:33862.45312\n",
      "[248]\tvalidation_0-rmse:32032.48828\tvalidation_1-rmse:33846.82812\n",
      "[249]\tvalidation_0-rmse:32006.55859\tvalidation_1-rmse:33822.29688\n",
      "[250]\tvalidation_0-rmse:31951.15234\tvalidation_1-rmse:33774.15625\n",
      "[251]\tvalidation_0-rmse:31945.08398\tvalidation_1-rmse:33769.33984\n",
      "[252]\tvalidation_0-rmse:31916.98438\tvalidation_1-rmse:33744.81641\n",
      "[253]\tvalidation_0-rmse:31906.33984\tvalidation_1-rmse:33734.59375\n",
      "[254]\tvalidation_0-rmse:31890.25195\tvalidation_1-rmse:33721.39844\n",
      "[255]\tvalidation_0-rmse:31873.35156\tvalidation_1-rmse:33713.07812\n",
      "[256]\tvalidation_0-rmse:31843.30664\tvalidation_1-rmse:33685.17969\n",
      "[257]\tvalidation_0-rmse:31835.48633\tvalidation_1-rmse:33676.20312\n",
      "[258]\tvalidation_0-rmse:31810.66797\tvalidation_1-rmse:33656.41406\n",
      "[259]\tvalidation_0-rmse:31793.87891\tvalidation_1-rmse:33640.00391\n",
      "[260]\tvalidation_0-rmse:31764.84180\tvalidation_1-rmse:33614.07031\n",
      "[261]\tvalidation_0-rmse:31730.07617\tvalidation_1-rmse:33581.67969\n",
      "[262]\tvalidation_0-rmse:31722.62109\tvalidation_1-rmse:33573.23047\n",
      "[263]\tvalidation_0-rmse:31681.79883\tvalidation_1-rmse:33533.54688\n",
      "[264]\tvalidation_0-rmse:31675.08203\tvalidation_1-rmse:33526.37109\n",
      "[265]\tvalidation_0-rmse:31641.72852\tvalidation_1-rmse:33488.67578\n",
      "[266]\tvalidation_0-rmse:31637.85938\tvalidation_1-rmse:33486.49609\n",
      "[267]\tvalidation_0-rmse:31603.65430\tvalidation_1-rmse:33453.17969\n",
      "[268]\tvalidation_0-rmse:31556.48242\tvalidation_1-rmse:33413.25391\n",
      "[269]\tvalidation_0-rmse:31521.78711\tvalidation_1-rmse:33372.62891\n",
      "[270]\tvalidation_0-rmse:31493.22852\tvalidation_1-rmse:33350.48828\n",
      "[271]\tvalidation_0-rmse:31471.22852\tvalidation_1-rmse:33333.48828\n",
      "[272]\tvalidation_0-rmse:31446.25977\tvalidation_1-rmse:33314.21094\n",
      "[273]\tvalidation_0-rmse:31435.18164\tvalidation_1-rmse:33301.54297\n",
      "[274]\tvalidation_0-rmse:31387.77148\tvalidation_1-rmse:33261.88281\n",
      "[275]\tvalidation_0-rmse:31378.32812\tvalidation_1-rmse:33250.30469\n",
      "[276]\tvalidation_0-rmse:31353.47656\tvalidation_1-rmse:33232.27734\n",
      "[277]\tvalidation_0-rmse:31343.44727\tvalidation_1-rmse:33224.46875\n",
      "[278]\tvalidation_0-rmse:31307.13086\tvalidation_1-rmse:33192.17578\n",
      "[279]\tvalidation_0-rmse:31289.07812\tvalidation_1-rmse:33179.83984\n",
      "[280]\tvalidation_0-rmse:31251.78320\tvalidation_1-rmse:33143.86328\n",
      "[281]\tvalidation_0-rmse:31244.00195\tvalidation_1-rmse:33137.96484\n",
      "[282]\tvalidation_0-rmse:31200.96289\tvalidation_1-rmse:33098.06250\n",
      "[283]\tvalidation_0-rmse:31173.48047\tvalidation_1-rmse:33069.69922\n",
      "[284]\tvalidation_0-rmse:31163.92188\tvalidation_1-rmse:33059.49219\n",
      "[285]\tvalidation_0-rmse:31150.08203\tvalidation_1-rmse:33046.66406\n",
      "[286]\tvalidation_0-rmse:31141.57422\tvalidation_1-rmse:33041.98438\n",
      "[287]\tvalidation_0-rmse:31104.56641\tvalidation_1-rmse:33009.23438\n",
      "[288]\tvalidation_0-rmse:31097.10742\tvalidation_1-rmse:33003.11328\n",
      "[289]\tvalidation_0-rmse:31077.56641\tvalidation_1-rmse:32986.45703\n",
      "[290]\tvalidation_0-rmse:31064.13672\tvalidation_1-rmse:32979.82031\n",
      "[291]\tvalidation_0-rmse:31052.14258\tvalidation_1-rmse:32969.58594\n",
      "[292]\tvalidation_0-rmse:31036.73438\tvalidation_1-rmse:32953.81641\n",
      "[293]\tvalidation_0-rmse:31021.43164\tvalidation_1-rmse:32937.89844\n",
      "[294]\tvalidation_0-rmse:30965.79102\tvalidation_1-rmse:32879.55078\n",
      "[295]\tvalidation_0-rmse:30954.07617\tvalidation_1-rmse:32868.55859\n",
      "[296]\tvalidation_0-rmse:30923.11719\tvalidation_1-rmse:32834.94141\n",
      "[297]\tvalidation_0-rmse:30898.81250\tvalidation_1-rmse:32812.90625\n",
      "[298]\tvalidation_0-rmse:30882.23242\tvalidation_1-rmse:32795.82031\n",
      "[299]\tvalidation_0-rmse:30868.34766\tvalidation_1-rmse:32785.39844\n",
      "[300]\tvalidation_0-rmse:30832.20117\tvalidation_1-rmse:32753.07422\n",
      "[301]\tvalidation_0-rmse:30768.74219\tvalidation_1-rmse:32688.92188\n",
      "[302]\tvalidation_0-rmse:30753.08594\tvalidation_1-rmse:32673.51562\n",
      "[303]\tvalidation_0-rmse:30741.92578\tvalidation_1-rmse:32662.14453\n",
      "[304]\tvalidation_0-rmse:30700.33789\tvalidation_1-rmse:32623.33203\n",
      "[305]\tvalidation_0-rmse:30662.01172\tvalidation_1-rmse:32590.67188\n",
      "[306]\tvalidation_0-rmse:30604.17969\tvalidation_1-rmse:32534.91992\n",
      "[307]\tvalidation_0-rmse:30593.93945\tvalidation_1-rmse:32528.57422\n",
      "[308]\tvalidation_0-rmse:30583.40820\tvalidation_1-rmse:32516.91992\n",
      "[309]\tvalidation_0-rmse:30551.17578\tvalidation_1-rmse:32486.33203\n",
      "[310]\tvalidation_0-rmse:30537.40430\tvalidation_1-rmse:32470.80664\n",
      "[311]\tvalidation_0-rmse:30517.51562\tvalidation_1-rmse:32456.22461\n",
      "[312]\tvalidation_0-rmse:30508.18164\tvalidation_1-rmse:32449.42969\n",
      "[313]\tvalidation_0-rmse:30494.07031\tvalidation_1-rmse:32438.22461\n",
      "[314]\tvalidation_0-rmse:30471.91797\tvalidation_1-rmse:32422.81250\n",
      "[315]\tvalidation_0-rmse:30454.42578\tvalidation_1-rmse:32407.19336\n",
      "[316]\tvalidation_0-rmse:30442.45703\tvalidation_1-rmse:32401.24023\n",
      "[317]\tvalidation_0-rmse:30415.07422\tvalidation_1-rmse:32373.34570\n",
      "[318]\tvalidation_0-rmse:30379.25195\tvalidation_1-rmse:32339.80859\n",
      "[319]\tvalidation_0-rmse:30366.55273\tvalidation_1-rmse:32332.91797\n",
      "[320]\tvalidation_0-rmse:30351.96289\tvalidation_1-rmse:32323.84961\n",
      "[321]\tvalidation_0-rmse:30327.79883\tvalidation_1-rmse:32300.28516\n",
      "[322]\tvalidation_0-rmse:30316.32227\tvalidation_1-rmse:32289.59570\n",
      "[323]\tvalidation_0-rmse:30309.47266\tvalidation_1-rmse:32284.47852\n",
      "[324]\tvalidation_0-rmse:30262.70703\tvalidation_1-rmse:32245.35938\n",
      "[325]\tvalidation_0-rmse:30256.31445\tvalidation_1-rmse:32239.34570\n",
      "[326]\tvalidation_0-rmse:30243.90234\tvalidation_1-rmse:32231.55078\n",
      "[327]\tvalidation_0-rmse:30235.41992\tvalidation_1-rmse:32223.14062\n",
      "[328]\tvalidation_0-rmse:30194.66602\tvalidation_1-rmse:32184.85156\n",
      "[329]\tvalidation_0-rmse:30185.40820\tvalidation_1-rmse:32178.43555\n",
      "[330]\tvalidation_0-rmse:30139.73828\tvalidation_1-rmse:32138.58008\n",
      "[331]\tvalidation_0-rmse:30129.85547\tvalidation_1-rmse:32130.15820\n",
      "[332]\tvalidation_0-rmse:30072.14453\tvalidation_1-rmse:32072.87695\n",
      "[333]\tvalidation_0-rmse:30046.14062\tvalidation_1-rmse:32046.33008\n",
      "[334]\tvalidation_0-rmse:30008.94727\tvalidation_1-rmse:32013.50781\n",
      "[335]\tvalidation_0-rmse:30003.50977\tvalidation_1-rmse:32010.54688\n",
      "[336]\tvalidation_0-rmse:29996.24219\tvalidation_1-rmse:32008.76758\n",
      "[337]\tvalidation_0-rmse:29977.51758\tvalidation_1-rmse:31996.68750\n",
      "[338]\tvalidation_0-rmse:29958.57227\tvalidation_1-rmse:31981.52734\n",
      "[339]\tvalidation_0-rmse:29944.99609\tvalidation_1-rmse:31969.88477\n",
      "[340]\tvalidation_0-rmse:29934.26367\tvalidation_1-rmse:31961.56250\n",
      "[341]\tvalidation_0-rmse:29899.56836\tvalidation_1-rmse:31929.04883\n",
      "[342]\tvalidation_0-rmse:29883.16797\tvalidation_1-rmse:31919.24805\n",
      "[343]\tvalidation_0-rmse:29861.00000\tvalidation_1-rmse:31898.89453\n",
      "[344]\tvalidation_0-rmse:29855.46289\tvalidation_1-rmse:31894.38477\n",
      "[345]\tvalidation_0-rmse:29834.99023\tvalidation_1-rmse:31871.55664\n",
      "[346]\tvalidation_0-rmse:29795.41016\tvalidation_1-rmse:31830.49023\n",
      "[347]\tvalidation_0-rmse:29775.75000\tvalidation_1-rmse:31810.63867\n",
      "[348]\tvalidation_0-rmse:29763.88867\tvalidation_1-rmse:31799.97852\n",
      "[349]\tvalidation_0-rmse:29738.02148\tvalidation_1-rmse:31778.92383\n",
      "[350]\tvalidation_0-rmse:29717.70898\tvalidation_1-rmse:31764.98242\n",
      "[351]\tvalidation_0-rmse:29704.44922\tvalidation_1-rmse:31753.47266\n",
      "[352]\tvalidation_0-rmse:29694.67773\tvalidation_1-rmse:31743.35938\n",
      "[353]\tvalidation_0-rmse:29679.33594\tvalidation_1-rmse:31730.60742\n",
      "[354]\tvalidation_0-rmse:29668.93945\tvalidation_1-rmse:31721.73047\n",
      "[355]\tvalidation_0-rmse:29633.96680\tvalidation_1-rmse:31689.25781\n",
      "[356]\tvalidation_0-rmse:29619.09570\tvalidation_1-rmse:31680.00781\n",
      "[357]\tvalidation_0-rmse:29614.63086\tvalidation_1-rmse:31676.24023\n",
      "[358]\tvalidation_0-rmse:29609.92578\tvalidation_1-rmse:31670.25391\n",
      "[359]\tvalidation_0-rmse:29592.03711\tvalidation_1-rmse:31655.89062\n",
      "[360]\tvalidation_0-rmse:29560.39258\tvalidation_1-rmse:31627.52734\n",
      "[361]\tvalidation_0-rmse:29554.68359\tvalidation_1-rmse:31624.42773\n",
      "[362]\tvalidation_0-rmse:29537.07617\tvalidation_1-rmse:31610.61719\n",
      "[363]\tvalidation_0-rmse:29529.67188\tvalidation_1-rmse:31600.99609\n",
      "[364]\tvalidation_0-rmse:29524.66211\tvalidation_1-rmse:31597.82422\n",
      "[365]\tvalidation_0-rmse:29502.50586\tvalidation_1-rmse:31579.59570\n",
      "[366]\tvalidation_0-rmse:29454.43359\tvalidation_1-rmse:31539.40820\n",
      "[367]\tvalidation_0-rmse:29438.55469\tvalidation_1-rmse:31524.58203\n",
      "[368]\tvalidation_0-rmse:29396.91016\tvalidation_1-rmse:31483.50977\n",
      "[369]\tvalidation_0-rmse:29377.06250\tvalidation_1-rmse:31467.97070\n",
      "[370]\tvalidation_0-rmse:29359.14062\tvalidation_1-rmse:31452.36914\n",
      "[371]\tvalidation_0-rmse:29336.77539\tvalidation_1-rmse:31436.82422\n"
     ]
    },
    {
     "name": "stdout",
     "output_type": "stream",
     "text": [
      "[372]\tvalidation_0-rmse:29321.38477\tvalidation_1-rmse:31423.43750\n",
      "[373]\tvalidation_0-rmse:29310.17969\tvalidation_1-rmse:31417.69336\n",
      "[374]\tvalidation_0-rmse:29280.91602\tvalidation_1-rmse:31391.89648\n",
      "[375]\tvalidation_0-rmse:29277.02734\tvalidation_1-rmse:31390.34766\n",
      "[376]\tvalidation_0-rmse:29266.50781\tvalidation_1-rmse:31379.67773\n",
      "[377]\tvalidation_0-rmse:29263.19141\tvalidation_1-rmse:31379.34766\n",
      "[378]\tvalidation_0-rmse:29257.08594\tvalidation_1-rmse:31373.49023\n",
      "[379]\tvalidation_0-rmse:29238.41797\tvalidation_1-rmse:31351.82031\n",
      "[380]\tvalidation_0-rmse:29226.43359\tvalidation_1-rmse:31341.18750\n",
      "[381]\tvalidation_0-rmse:29217.41797\tvalidation_1-rmse:31334.22656\n",
      "[382]\tvalidation_0-rmse:29198.11914\tvalidation_1-rmse:31319.47070\n",
      "[383]\tvalidation_0-rmse:29177.47266\tvalidation_1-rmse:31299.03125\n",
      "[384]\tvalidation_0-rmse:29153.13086\tvalidation_1-rmse:31278.13477\n",
      "[385]\tvalidation_0-rmse:29147.45312\tvalidation_1-rmse:31276.64844\n",
      "[386]\tvalidation_0-rmse:29142.93359\tvalidation_1-rmse:31272.19336\n",
      "[387]\tvalidation_0-rmse:29116.65820\tvalidation_1-rmse:31244.24219\n",
      "[388]\tvalidation_0-rmse:29088.99609\tvalidation_1-rmse:31222.96484\n",
      "[389]\tvalidation_0-rmse:29073.57031\tvalidation_1-rmse:31211.37891\n",
      "[390]\tvalidation_0-rmse:29042.45508\tvalidation_1-rmse:31180.37500\n",
      "[391]\tvalidation_0-rmse:29037.57617\tvalidation_1-rmse:31176.91602\n",
      "[392]\tvalidation_0-rmse:29015.95117\tvalidation_1-rmse:31155.80859\n",
      "[393]\tvalidation_0-rmse:28993.58789\tvalidation_1-rmse:31138.24805\n",
      "[394]\tvalidation_0-rmse:28979.04102\tvalidation_1-rmse:31123.90234\n",
      "[395]\tvalidation_0-rmse:28963.17578\tvalidation_1-rmse:31109.66016\n",
      "[396]\tvalidation_0-rmse:28950.19922\tvalidation_1-rmse:31100.86328\n",
      "[397]\tvalidation_0-rmse:28933.85742\tvalidation_1-rmse:31084.61719\n",
      "[398]\tvalidation_0-rmse:28931.35547\tvalidation_1-rmse:31082.22070\n",
      "[399]\tvalidation_0-rmse:28925.55273\tvalidation_1-rmse:31075.59375\n",
      "[400]\tvalidation_0-rmse:28888.36133\tvalidation_1-rmse:31037.20508\n",
      "[401]\tvalidation_0-rmse:28857.43750\tvalidation_1-rmse:31007.36133\n",
      "[402]\tvalidation_0-rmse:28845.15234\tvalidation_1-rmse:30995.69531\n",
      "[403]\tvalidation_0-rmse:28825.51172\tvalidation_1-rmse:30977.59570\n",
      "[404]\tvalidation_0-rmse:28767.82617\tvalidation_1-rmse:30911.91016\n",
      "[405]\tvalidation_0-rmse:28757.26953\tvalidation_1-rmse:30902.70898\n",
      "[406]\tvalidation_0-rmse:28722.12500\tvalidation_1-rmse:30863.86719\n",
      "[407]\tvalidation_0-rmse:28702.00781\tvalidation_1-rmse:30850.50000\n",
      "[408]\tvalidation_0-rmse:28697.96680\tvalidation_1-rmse:30847.23047\n",
      "[409]\tvalidation_0-rmse:28668.29297\tvalidation_1-rmse:30818.28125\n",
      "[410]\tvalidation_0-rmse:28648.42383\tvalidation_1-rmse:30799.13672\n",
      "[411]\tvalidation_0-rmse:28640.07031\tvalidation_1-rmse:30791.73633\n",
      "[412]\tvalidation_0-rmse:28623.59180\tvalidation_1-rmse:30779.73633\n",
      "[413]\tvalidation_0-rmse:28615.42383\tvalidation_1-rmse:30777.35156\n",
      "[414]\tvalidation_0-rmse:28585.53516\tvalidation_1-rmse:30749.21094\n",
      "[415]\tvalidation_0-rmse:28566.37891\tvalidation_1-rmse:30731.70312\n",
      "[416]\tvalidation_0-rmse:28552.66992\tvalidation_1-rmse:30722.31641\n",
      "[417]\tvalidation_0-rmse:28543.50977\tvalidation_1-rmse:30715.35352\n",
      "[418]\tvalidation_0-rmse:28535.25000\tvalidation_1-rmse:30708.33984\n",
      "[419]\tvalidation_0-rmse:28499.24023\tvalidation_1-rmse:30674.51367\n",
      "[420]\tvalidation_0-rmse:28469.47852\tvalidation_1-rmse:30647.01172\n",
      "[421]\tvalidation_0-rmse:28461.29688\tvalidation_1-rmse:30639.78516\n",
      "[422]\tvalidation_0-rmse:28451.85156\tvalidation_1-rmse:30632.58984\n",
      "[423]\tvalidation_0-rmse:28439.29688\tvalidation_1-rmse:30619.30078\n",
      "[424]\tvalidation_0-rmse:28436.94531\tvalidation_1-rmse:30617.60938\n",
      "[425]\tvalidation_0-rmse:28407.00195\tvalidation_1-rmse:30592.03125\n",
      "[426]\tvalidation_0-rmse:28376.18750\tvalidation_1-rmse:30562.13672\n",
      "[427]\tvalidation_0-rmse:28358.52734\tvalidation_1-rmse:30545.87891\n",
      "[428]\tvalidation_0-rmse:28345.23242\tvalidation_1-rmse:30534.27148\n",
      "[429]\tvalidation_0-rmse:28335.97461\tvalidation_1-rmse:30527.32617\n",
      "[430]\tvalidation_0-rmse:28321.42578\tvalidation_1-rmse:30512.01758\n",
      "[431]\tvalidation_0-rmse:28305.04102\tvalidation_1-rmse:30496.27344\n",
      "[432]\tvalidation_0-rmse:28290.28320\tvalidation_1-rmse:30484.74219\n",
      "[433]\tvalidation_0-rmse:28266.49609\tvalidation_1-rmse:30464.47461\n",
      "[434]\tvalidation_0-rmse:28257.27148\tvalidation_1-rmse:30455.36523\n",
      "[435]\tvalidation_0-rmse:28251.48047\tvalidation_1-rmse:30451.73828\n",
      "[436]\tvalidation_0-rmse:28241.11328\tvalidation_1-rmse:30442.24805\n",
      "[437]\tvalidation_0-rmse:28228.71875\tvalidation_1-rmse:30435.53711\n",
      "[438]\tvalidation_0-rmse:28215.49023\tvalidation_1-rmse:30426.24805\n",
      "[439]\tvalidation_0-rmse:28204.75000\tvalidation_1-rmse:30420.61328\n",
      "[440]\tvalidation_0-rmse:28193.67773\tvalidation_1-rmse:30412.60547\n",
      "[441]\tvalidation_0-rmse:28181.48242\tvalidation_1-rmse:30403.38086\n",
      "[442]\tvalidation_0-rmse:28173.39844\tvalidation_1-rmse:30398.49805\n",
      "[443]\tvalidation_0-rmse:28160.99414\tvalidation_1-rmse:30388.16211\n",
      "[444]\tvalidation_0-rmse:28157.86719\tvalidation_1-rmse:30386.55273\n",
      "[445]\tvalidation_0-rmse:28154.13672\tvalidation_1-rmse:30382.12891\n",
      "[446]\tvalidation_0-rmse:28147.05859\tvalidation_1-rmse:30375.98242\n",
      "[447]\tvalidation_0-rmse:28143.58984\tvalidation_1-rmse:30372.45312\n",
      "[448]\tvalidation_0-rmse:28121.89062\tvalidation_1-rmse:30353.11133\n",
      "[449]\tvalidation_0-rmse:28105.67773\tvalidation_1-rmse:30340.04492\n",
      "[450]\tvalidation_0-rmse:28090.86328\tvalidation_1-rmse:30325.74414\n",
      "[451]\tvalidation_0-rmse:28077.46484\tvalidation_1-rmse:30313.04492\n",
      "[452]\tvalidation_0-rmse:28070.71680\tvalidation_1-rmse:30305.88867\n",
      "[453]\tvalidation_0-rmse:28050.98242\tvalidation_1-rmse:30283.13672\n",
      "[454]\tvalidation_0-rmse:28035.16406\tvalidation_1-rmse:30270.18164\n",
      "[455]\tvalidation_0-rmse:28019.78125\tvalidation_1-rmse:30258.31055\n",
      "[456]\tvalidation_0-rmse:28016.70508\tvalidation_1-rmse:30254.65039\n",
      "[457]\tvalidation_0-rmse:28010.97852\tvalidation_1-rmse:30248.31250\n",
      "[458]\tvalidation_0-rmse:28001.68164\tvalidation_1-rmse:30243.17969\n",
      "[459]\tvalidation_0-rmse:27990.82617\tvalidation_1-rmse:30237.22852\n",
      "[460]\tvalidation_0-rmse:27976.98242\tvalidation_1-rmse:30226.15234\n",
      "[461]\tvalidation_0-rmse:27962.79883\tvalidation_1-rmse:30217.56250\n",
      "[462]\tvalidation_0-rmse:27925.85352\tvalidation_1-rmse:30186.62500\n",
      "[463]\tvalidation_0-rmse:27908.35742\tvalidation_1-rmse:30175.37500\n",
      "[464]\tvalidation_0-rmse:27897.37109\tvalidation_1-rmse:30165.34766\n",
      "[465]\tvalidation_0-rmse:27872.72852\tvalidation_1-rmse:30143.29492\n",
      "[466]\tvalidation_0-rmse:27863.87891\tvalidation_1-rmse:30139.70898\n",
      "[467]\tvalidation_0-rmse:27849.91992\tvalidation_1-rmse:30125.54492\n",
      "[468]\tvalidation_0-rmse:27810.27539\tvalidation_1-rmse:30092.14844\n",
      "[469]\tvalidation_0-rmse:27786.58203\tvalidation_1-rmse:30070.61719\n",
      "[470]\tvalidation_0-rmse:27768.56641\tvalidation_1-rmse:30058.68359\n",
      "[471]\tvalidation_0-rmse:27755.71680\tvalidation_1-rmse:30047.12305\n",
      "[472]\tvalidation_0-rmse:27736.57031\tvalidation_1-rmse:30035.08789\n",
      "[473]\tvalidation_0-rmse:27728.09766\tvalidation_1-rmse:30027.62109\n",
      "[474]\tvalidation_0-rmse:27711.18164\tvalidation_1-rmse:30013.04492\n",
      "[475]\tvalidation_0-rmse:27704.46289\tvalidation_1-rmse:30006.56445\n",
      "[476]\tvalidation_0-rmse:27693.39844\tvalidation_1-rmse:29997.66016\n",
      "[477]\tvalidation_0-rmse:27679.84570\tvalidation_1-rmse:29985.49219\n",
      "[478]\tvalidation_0-rmse:27672.39648\tvalidation_1-rmse:29977.93945\n",
      "[479]\tvalidation_0-rmse:27665.30469\tvalidation_1-rmse:29971.43945\n",
      "[480]\tvalidation_0-rmse:27654.28125\tvalidation_1-rmse:29958.53711\n",
      "[481]\tvalidation_0-rmse:27644.22266\tvalidation_1-rmse:29950.57031\n",
      "[482]\tvalidation_0-rmse:27631.04297\tvalidation_1-rmse:29934.54688\n",
      "[483]\tvalidation_0-rmse:27616.41797\tvalidation_1-rmse:29925.38086\n",
      "[484]\tvalidation_0-rmse:27610.93164\tvalidation_1-rmse:29922.50977\n",
      "[485]\tvalidation_0-rmse:27602.08984\tvalidation_1-rmse:29914.00781\n",
      "[486]\tvalidation_0-rmse:27584.80664\tvalidation_1-rmse:29900.13477\n",
      "[487]\tvalidation_0-rmse:27578.31641\tvalidation_1-rmse:29895.52930\n",
      "[488]\tvalidation_0-rmse:27567.43555\tvalidation_1-rmse:29883.76562\n",
      "[489]\tvalidation_0-rmse:27559.34180\tvalidation_1-rmse:29877.81250\n",
      "[490]\tvalidation_0-rmse:27556.30273\tvalidation_1-rmse:29871.83203\n",
      "[491]\tvalidation_0-rmse:27549.99609\tvalidation_1-rmse:29867.07227\n",
      "[492]\tvalidation_0-rmse:27539.56250\tvalidation_1-rmse:29859.92773\n",
      "[493]\tvalidation_0-rmse:27521.11328\tvalidation_1-rmse:29840.80273\n",
      "[494]\tvalidation_0-rmse:27503.93164\tvalidation_1-rmse:29830.80859\n",
      "[495]\tvalidation_0-rmse:27489.66797\tvalidation_1-rmse:29820.98438\n",
      "[496]\tvalidation_0-rmse:27483.75000\tvalidation_1-rmse:29817.31055\n"
     ]
    },
    {
     "name": "stdout",
     "output_type": "stream",
     "text": [
      "[497]\tvalidation_0-rmse:27471.37109\tvalidation_1-rmse:29803.41211\n",
      "[498]\tvalidation_0-rmse:27466.24219\tvalidation_1-rmse:29799.10352\n",
      "[499]\tvalidation_0-rmse:27456.80859\tvalidation_1-rmse:29790.44727\n"
     ]
    },
    {
     "data": {
      "text/plain": [
       "XGBRegressor(base_score=0.75, booster='dart', colsample_bylevel=1,\n",
       "             colsample_bynode=1, colsample_bytree=1, gamma=0, gpu_id=-1,\n",
       "             importance_type='gain', interaction_constraints='',\n",
       "             learning_rate=0.03, max_delta_step=0, max_depth=6,\n",
       "             min_child_weight=1, missing=nan, monotone_constraints='()',\n",
       "             n_estimators=500, n_jobs=0, num_parallel_tree=1, random_state=0,\n",
       "             reg_alpha=0, reg_lambda=1, scale_pos_weight=1, subsample=0.2,\n",
       "             tree_method='exact', validate_parameters=1, verbosity=None)"
      ]
     },
     "execution_count": 36,
     "metadata": {},
     "output_type": "execute_result"
    }
   ],
   "source": [
    "# create a regressor. Using the RandomizedSearchCV's best params as reference, \n",
    "# the objective is to reduce overfitting\n",
    "\n",
    "xg_reg_4a=xgb.XGBRegressor(base_score=0.75, booster='dart', max_depth=6,\n",
    "                            learning_rate=0.03, n_estimators=500, subsample=0.2,\n",
    "                           objective='reg:squarederror')\n",
    "\n",
    "\n",
    "eval_set = [(X_train, y_train), (X_val, y_val)]\n",
    "xg_reg_4a.fit(X_train, y_train, eval_metric=\"rmse\", early_stopping_rounds=5, eval_set=eval_set, verbose=True)"
   ]
  },
  {
   "cell_type": "code",
   "execution_count": 37,
   "metadata": {},
   "outputs": [
    {
     "name": "stdout",
     "output_type": "stream",
     "text": [
      "Training RMSE: 27456.821996\n",
      "Val RMSE: 29790.452648\n"
     ]
    }
   ],
   "source": [
    "pred_4a = xg_reg_4a.predict(X_train)\n",
    "val_pred_4a = xg_reg_4a.predict(X_val)\n",
    "\n",
    "rmse_4a = mean_squared_error(y_train, pred_4a, squared=False)\n",
    "rmse_val_4a = mean_squared_error(y_val, val_pred_4a, squared=False)\n",
    "\n",
    "print(\"Training RMSE: %f\" % (rmse_4a))\n",
    "print(\"Val RMSE: %f\" % (rmse_val_4a))"
   ]
  },
  {
   "cell_type": "code",
   "execution_count": 25,
   "metadata": {},
   "outputs": [
    {
     "data": {
      "image/png": "[encoded data removed]",
      "text/plain": [
       "<Figure size 1080x576 with 1 Axes>"
      ]
     },
     "metadata": {
      "needs_background": "light"
     },
     "output_type": "display_data"
    }
   ],
   "source": [
    "### retrieve performance metrics\n",
    "history_4 = xg_reg_4a.evals_result()\n",
    "epochs = len(history_4['validation_0']['rmse'])\n",
    "x_axis = range(0, epochs)\n",
    "\n",
    "# plot RMSE\n",
    "fig, ax = plt.subplots(figsize=(15,8))\n",
    "plt.ylim(18000,50000)\n",
    "plt.xlim(0,500)\n",
    "ax.plot(x_axis, history_4['validation_0']['rmse'], label='Training')\n",
    "ax.plot(x_axis, history_4['validation_1']['rmse'], label='Validation')\n",
    "ax.legend()\n",
    "plt.ylabel('RMSE')\n",
    "plt.xlabel('Epoch/iteration')\n",
    "plt.title('XGBoost RMSE')\n",
    "\n",
    "# Show the major grid lines with dark grey lines\n",
    "plt.grid(b=True, which='major', color='#666666', linestyle='-')\n",
    "\n",
    "# Show the minor grid lines with very faint and almost transparent grey lines\n",
    "plt.minorticks_on()\n",
    "plt.grid(b=True, which='minor', color='#999999', linestyle='-', alpha=0.2)\n",
    "         \n",
    "plt.show()"
   ]
  },
  {
   "cell_type": "markdown",
   "metadata": {},
   "source": [
    "This plot shows how the train and test RMSE change over hundreds of iteractions. Their gap will get bigger if I allow more than iteration, which I do not wish to avoid too much of overfitting."
   ]
  },
  {
   "cell_type": "markdown",
   "metadata": {},
   "source": [
    "### Important Features that influenced the results"
   ]
  },
  {
   "cell_type": "code",
   "execution_count": 9,
   "metadata": {
    "scrolled": true
   },
   "outputs": [
    {
     "data": {
      "text/plain": [
       "Index(['floor_area_sqm', 'remaining_lease', 'floor_range', 'model_dbss',\n",
       "       'model_maisonette', 'model_terrace', 'model_type_s1', 'model_type_s2',\n",
       "       'type_2_room', 'type_3_room', 'type_4_room', 'type_5_room',\n",
       "       'type_executive', 'type_multi_generation', 'cli', 'pmi', 'cpi',\n",
       "       'gdp_growth', 'unemployed_rate', 'dist_mrt', 'dist_mall', 'dist_market',\n",
       "       'dist_park', 'dist_attraction', 'dist_sport', 'dist_core'],\n",
       "      dtype='object')"
      ]
     },
     "execution_count": 9,
     "metadata": {},
     "output_type": "execute_result"
    }
   ],
   "source": [
    "X_train.columns"
   ]
  },
  {
   "cell_type": "code",
   "execution_count": 38,
   "metadata": {
    "scrolled": false
   },
   "outputs": [
    {
     "data": {
      "image/png": "[encoded data removed]",
      "text/plain": [
       "<Figure size 1440x1080 with 1 Axes>"
      ]
     },
     "metadata": {
      "needs_background": "light"
     },
     "output_type": "display_data"
    }
   ],
   "source": [
    "features =['floor_area_sqm', 'remaining_lease', 'floor_range', 'model_dbss',\n",
    "       'model_maisonette', 'model_terrace', 'model_type_s1', 'model_type_s2',\n",
    "       'type_2_room', 'type_3_room', 'type_4_room', 'type_5_room',\n",
    "       'type_executive', 'type_multi_generation', 'cli', 'pmi', 'cpi',\n",
    "       'gdp_growth', 'unemployed_rate', 'dist_mrt', 'dist_mall', 'dist_market',\n",
    "       'dist_park', 'dist_sport', 'dist_core']\n",
    "\n",
    "plt.rcParams['figure.figsize'] = (20, 15)\n",
    "\n",
    "xg_reg_4a.get_booster().feature_names = features\n",
    "xgb.plot_importance(xg_reg_4a.get_booster(),height=0.8)\n",
    "\n",
    "plt.title('Order of Importance selected by model', fontsize=22)\n",
    "plt.xlabel('Score', fontsize = 18)\n",
    "plt.ylabel('Features', fontsize = 18)\n",
    "plt.yticks(fontsize=13)\n",
    "plt.show()\n"
   ]
  },
  {
   "cell_type": "markdown",
   "metadata": {},
   "source": [
    "This plot shows which are the features that influenced the predictions, with the most important features at the top. It is not surprising that Floor Area is the most important feature, but it is also important to note that this is not the only feature that affects the price of a property.\n",
    "\n",
    "Next is the Remaining Lease, which is important for HDB flats because all of them are 99 years leasehold properties, which means that at the end of 99 years the property will be returned to the state at zero value. That is why older flats fetch lower prices, assuming all other factors being equal.\n",
    "\n",
    "The location of a flat means its proximities to points of interest, including the Downtown Core. Buyers are willing to pay more if the flats are near to Downtown Core, which is the economic and cultural heart of Singapore. In private residential market the government maintain indices for three different regions, and downtown core belongs to the region with the most expensive private properties.\n",
    "\n",
    "Other Points of Interests also influence the price of a flat, such as nature parks, shopping malls, markets, sport facilities and attractions. But the one that most buyers look for is MRT station. With 60% of the population traveling to work/school in public transport, proximity to MRT station became an important price predictor.\n",
    "\n",
    "Flats at higher floors are getting lesser noise from the street and offer better views, so it is shown here as an important factor.\n",
    "\n",
    "Marcoeconomic factors also play a part in determining flat prices, such as CPI (consumer price index), PMI (purchasing manager index), CLI (composite index) and GDP growth rate. Buying a home is a big investment. During a recession people are worried about their jobs and their ability to service the loan, and that would put downward pressure on price."
   ]
  },
  {
   "cell_type": "code",
   "execution_count": 56,
   "metadata": {},
   "outputs": [],
   "source": [
    "# Save the model for deployment with flask\n",
    "\n",
    "import pickle\n",
    "with open('../webapp/model/xg_reg_4a.pkl', 'wb') as file:\n",
    "    pickle.dump(xg_reg_4a, file)"
   ]
  },
  {
   "cell_type": "markdown",
   "metadata": {},
   "source": [
    "I will be using the web interface to verify the predictions for 2020 dataset"
   ]
  },
  {
   "cell_type": "code",
   "execution_count": 57,
   "metadata": {},
   "outputs": [],
   "source": [
    "xg_reg_4a = pickle.load(open('../webapp/model/xg_reg_4a.pkl', 'rb'))"
   ]
  },
  {
   "cell_type": "code",
   "execution_count": 58,
   "metadata": {},
   "outputs": [],
   "source": [
    "pred = xg_reg_4a.predict(X_test)"
   ]
  },
  {
   "cell_type": "code",
   "execution_count": 61,
   "metadata": {},
   "outputs": [
    {
     "data": {
      "image/png": "[encoded data removed]",
      "text/plain": [
       "<Figure size 864x432 with 2 Axes>"
      ]
     },
     "metadata": {
      "needs_background": "light"
     },
     "output_type": "display_data"
    }
   ],
   "source": [
    "# specify the plot size\n",
    "fig = plt.figure(figsize=(12, 6))\n",
    "\n",
    "# Predictions vs Residuals\n",
    "plt.subplot(1,2,1)\n",
    "sns.regplot(pred, y_test-pred,ci=None, scatter_kws={\"color\": \"blue\"}, line_kws={\"color\": \"red\"})\n",
    "plt.xlabel('Predicted Prices',fontsize=18)\n",
    "plt.ylabel('Residuals',fontsize=18)\n",
    "plt.xticks(fontsize=10,rotation=45)\n",
    "plt.title('Predictions vs Residuals for Model 4',fontsize=18)\n",
    "plt.yticks(fontsize=10);\n",
    "\n",
    "# Residual Distribution\n",
    "plt.subplot(1,2,2)\n",
    "plt.hist(y_test-pred,bins=200);\n",
    "plt.xlabel('Residuals',fontsize=18)\n",
    "plt.ylabel('Frequency',fontsize=18)\n",
    "plt.xticks(fontsize=10,rotation=45)\n",
    "plt.title('Distribution of Residuals for model 4',fontsize=18)\n",
    "plt.yticks(fontsize=10);"
   ]
  },
  {
   "cell_type": "markdown",
   "metadata": {},
   "source": [
    "The residuals are found to be normally distributed"
   ]
  },
  {
   "cell_type": "code",
   "execution_count": 62,
   "metadata": {},
   "outputs": [],
   "source": [
    "import scipy.stats as stats\n",
    "\n",
    "normal_distr_values = y_test-pred\n",
    "plus_one_std_dev = np.mean(normal_distr_values) + np.std(normal_distr_values)\n",
    "minus_one_std_dev = np.mean(normal_distr_values) - np.std(normal_distr_values)"
   ]
  },
  {
   "cell_type": "code",
   "execution_count": 73,
   "metadata": {
    "scrolled": false
   },
   "outputs": [
    {
     "data": {
      "image/png": "[encoded data removed]",
      "text/plain": [
       "<Figure size 1440x1080 with 1 Axes>"
      ]
     },
     "metadata": {
      "needs_background": "light"
     },
     "output_type": "display_data"
    }
   ],
   "source": [
    "kde = stats.gaussian_kde(normal_distr_values)\n",
    "pos = np.linspace(min(normal_distr_values), max(normal_distr_values), 50000)\n",
    "plt.plot(pos, kde(pos), color='purple')\n",
    "shade = np.linspace(minus_one_std_dev, plus_one_std_dev, 300)\n",
    "plt.fill_between(shade, kde(shade), alpha=0.5, color='purple',)\n",
    "# plt.text(horizontalalignment='center', fontsize=16, \n",
    "#          s=\"68% of values fall within\\n this shaded area of\\n plus or minus 1 standard\\n deviation from the mean\", \n",
    "#          bbox=dict(facecolor='whitesmoke', boxstyle=\"round, pad=0.25\"))\n",
    "plt.title(\"KDE Plot of Normal Distribution of Values\", fontsize=20)\n",
    "plt.xlabel(\"values\", labelpad=15)\n",
    "plt.ylabel(\"probability\", labelpad=15);"
   ]
  },
  {
   "cell_type": "code",
   "execution_count": 74,
   "metadata": {},
   "outputs": [
    {
     "name": "stdout",
     "output_type": "stream",
     "text": [
      "-104176.8 is -3 standard deviations from the mean\n",
      "-69447.2 is -2 standard deviations from the mean\n",
      "-34717.7 is -1 standard deviations from the mean\n",
      "34741.5 is 1 standard deviations from the mean\n",
      "69471.0 is 2 standard deviations from the mean\n",
      "104200.6 is 3 standard deviations from the mean\n"
     ]
    }
   ],
   "source": [
    "for number_deviations in [-3, -2, -1, 1, 2, 3]:\n",
    "    value = round(np.mean(normal_distr_values) + number_deviations * np.std(normal_distr_values), 1)\n",
    "    print(\"{0} is {1} standard deviations from the mean\".format(value, number_deviations))"
   ]
  },
  {
   "cell_type": "markdown",
   "metadata": {},
   "source": [
    "Using the 68-95-99.7 empirical rule,\n",
    "\n",
    "68% of the residuals are between -34,741 and 34,741\n",
    "95% of the residuals are between -69,447 and 69,447\n",
    "99.7% of the residuals are between -104,176.8 and 104,176.8"
   ]
  }
 ],
 "metadata": {
  "kernelspec": {
   "display_name": "Python 3",
   "language": "python",
   "name": "python3"
  },
  "language_info": {
   "codemirror_mode": {
    "name": "ipython",
    "version": 3
   },
   "file_extension": ".py",
   "mimetype": "text/x-python",
   "name": "python",
   "nbconvert_exporter": "python",
   "pygments_lexer": "ipython3",
   "version": "3.7.6"
  }
 },
 "nbformat": 4,
 "nbformat_minor": 4
}
